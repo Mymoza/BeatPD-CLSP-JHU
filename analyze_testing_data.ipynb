{
 "cells": [
  {
   "cell_type": "code",
   "execution_count": null,
   "metadata": {},
   "outputs": [],
   "source": [
    "# Import required libraries\n",
    "\n",
    "%matplotlib inline\n",
    "import matplotlib.pyplot as plt\n",
    "import numpy as np\n",
    "import pandas as pd\n",
    "from IPython.display import HTML, display\n",
    "\n",
    "# Imports for the high pass signal\n",
    "from scipy.signal import butter, freqz, lfilter\n",
    "\n",
    "# KFold\n",
    "from sklearn.model_selection import KFold\n",
    "\n",
    "# Import required modules\n",
    "from sklearn.preprocessing import StandardScaler\n",
    "\n",
    "import os.path\n",
    "\n",
    "# To write WAV File\n",
    "from scipy.io.wavfile import write\n",
    "\n",
    "# To make derivative work on multiple CPUs\n",
    "from concurrent.futures import ProcessPoolExecutor\n",
    "from functools import partial\n",
    "\n",
    "import sys\n",
    "\n",
    "from sklearn.model_selection import StratifiedKFold\n",
    "\n",
    "%load_ext autoreload\n",
    "%autoreload 2"
   ]
  },
  {
   "cell_type": "code",
   "execution_count": null,
   "metadata": {},
   "outputs": [],
   "source": [
    "# import transform_data\n",
    "from transform_data import *\n",
    "from create_graphs import *\n"
   ]
  },
  {
   "cell_type": "code",
   "execution_count": null,
   "metadata": {},
   "outputs": [],
   "source": [
    "# Data paths\n",
    "data_dir = \"/home/sjoshi/codes/python/BeatPD/data/BeatPD/\"\n",
    "\n",
    "# FIXME : Move this to data?\n",
    "path_save_accelerometer_plots = \"/home/sjoshi/codes/python/BeatPD/code/accelerometer_plots/\""
   ]
  },
  {
   "cell_type": "markdown",
   "metadata": {},
   "source": [
    "### CIS-PD Masks for Testing Data "
   ]
  },
  {
   "cell_type": "code",
   "execution_count": null,
   "metadata": {},
   "outputs": [],
   "source": [
    "data_type = \"cis\"\n",
    "# This is only to switch between training_data or ancillary_data which is additional data provided \n",
    "data_subset='testing_data' #training_data ancillary_data\n",
    "\n",
    "path_train_data, df_train_label = define_data_type(data_type, data_dir, data_subset)\n",
    "\n",
    "\n",
    "remove_inactivity_highpass(\n",
    "    df_train_label,\n",
    "    path_train_data,\n",
    "    data_type,\n",
    "    energy_threshold=5,\n",
    "    duration_threshold=3000,\n",
    "    plot_frequency_response=False,\n",
    "    mask_path='/home/sjoshi/codes/python/BeatPD/data/BeatPD/cis-pd.'+\n",
    "    data_subset+'.high_pass_mask/')"
   ]
  },
  {
   "cell_type": "code",
   "execution_count": null,
   "metadata": {},
   "outputs": [],
   "source": [
    "data_dir = \"/home/sjoshi/codes/python/BeatPD/data/BeatPD/\"\n",
    "create_cis_wav_files(data_subset=\"testing_data\", data_dir=data_dir, sAxis=\"X\", data_type=\"cis\")"
   ]
  },
  {
   "cell_type": "code",
   "execution_count": null,
   "metadata": {},
   "outputs": [],
   "source": [
    "data_dir = \"/home/sjoshi/codes/python/BeatPD/data/BeatPD/\"\n",
    "create_cis_wav_files(data_subset=\"testing_data\", data_dir=data_dir, sAxis=\"Y\", data_type=\"cis\")"
   ]
  },
  {
   "cell_type": "code",
   "execution_count": null,
   "metadata": {},
   "outputs": [],
   "source": [
    "data_dir = \"/home/sjoshi/codes/python/BeatPD/data/BeatPD/\"\n",
    "create_cis_wav_files(data_subset=\"testing_data\", data_dir=data_dir, sAxis=\"Z\", data_type=\"cis\")"
   ]
  },
  {
   "cell_type": "markdown",
   "metadata": {},
   "source": [
    "# REAL-PD High Pass Masks "
   ]
  },
  {
   "cell_type": "code",
   "execution_count": null,
   "metadata": {},
   "outputs": [],
   "source": [
    "data_type = \"real\"\n",
    "# This is only to switch between training_data or ancillary_data which is additional data provided \n",
    "data_subset='testing_data' #training_data ancillary_data\n",
    "\n",
    "for data_real_subtype in ['smartphone_accelerometer','smartwatch_accelerometer','smartwatch_gyroscope']:\n",
    "    path_train_data, df_train_label = define_data_type(data_type,\n",
    "                                                       data_dir,\n",
    "                                                       data_subset,\n",
    "                                                       data_real_subtype)\n",
    "    remove_inactivity_highpass(\n",
    "        df_train_label,\n",
    "        path_train_data,\n",
    "        data_type,\n",
    "        energy_threshold=5,\n",
    "        duration_threshold=3000,\n",
    "        plot_frequency_response=False,\n",
    "        mask_path='/home/sjoshi/codes/python/BeatPD/data/BeatPD/real-pd.'+\n",
    "        data_subset+\n",
    "        '.high_pass_mask/'+data_real_subtype+'/')"
   ]
  },
  {
   "cell_type": "code",
   "execution_count": null,
   "metadata": {
    "scrolled": true
   },
   "outputs": [],
   "source": [
    "data_dir = \"/home/sjoshi/codes/python/BeatPD/data/BeatPD/\"\n",
    "create_real_wav_files(data_subset=\"testing_data\", data_dir=data_dir, sAxis=\"X\", data_type=\"real\")"
   ]
  },
  {
   "cell_type": "code",
   "execution_count": null,
   "metadata": {},
   "outputs": [],
   "source": [
    "data_dir = \"/home/sjoshi/codes/python/BeatPD/data/BeatPD/\"\n",
    "create_real_wav_files(data_subset=\"testing_data\", data_dir=data_dir, sAxis=\"Y\", data_type=\"real\")\n"
   ]
  },
  {
   "cell_type": "code",
   "execution_count": null,
   "metadata": {},
   "outputs": [],
   "source": [
    "data_dir = \"/home/sjoshi/codes/python/BeatPD/data/BeatPD/\"\n",
    "create_real_wav_files(data_subset=\"testing_data\", data_dir=data_dir, sAxis=\"Z\", data_type=\"real\")"
   ]
  },
  {
   "cell_type": "code",
   "execution_count": 1,
   "metadata": {},
   "outputs": [
    {
     "name": "stdout",
     "output_type": "stream",
     "text": [
      "/bin/sh: 1: cd: can't cd to /home/sjoshi/codes/python/BeatPD/data/BeatPD/real-pd.testing_data.wav_X/smartphone_accelerometer/\n",
      "48\n",
      "/bin/sh: 1: cd: can't cd to /home/sjoshi/codes/python/BeatPD/data/BeatPD/real-pd.testing_data.wav_X/smartwatch_accelerometer/\n",
      "48\n",
      "/bin/sh: 1: cd: can't cd to /home/sjoshi/codes/python/BeatPD/data/BeatPD/real-pd.testing_data.wav_X/smartwatch_gyroscope/\n",
      "48\n"
     ]
    }
   ],
   "source": [
    "!cd /home/sjoshi/codes/python/BeatPD/data/BeatPD/real-pd.testing_data.wav_X/smartphone_accelerometer/; ls -1 | wc -l\n",
    "!cd /home/sjoshi/codes/python/BeatPD/data/BeatPD/real-pd.testing_data.wav_X/smartwatch_accelerometer/; ls -1 | wc -l\n",
    "!cd /home/sjoshi/codes/python/BeatPD/data/BeatPD/real-pd.testing_data.wav_X/smartwatch_gyroscope/; ls -1 | wc -l\n"
   ]
  },
  {
   "cell_type": "code",
   "execution_count": 2,
   "metadata": {},
   "outputs": [
    {
     "name": "stdout",
     "output_type": "stream",
     "text": [
      "/bin/sh: 1: cd: can't cd to /home/sjoshi/codes/python/BeatPD/data/BeatPD/real-pd.testing_data.wav_Y/smartphone_accelerometer/\n",
      "48\n",
      "/bin/sh: 1: cd: can't cd to /home/sjoshi/codes/python/BeatPD/data/BeatPD/real-pd.testing_data.wav_Y/smartwatch_accelerometer/\n",
      "48\n",
      "/bin/sh: 1: cd: can't cd to /home/sjoshi/codes/python/BeatPD/data/BeatPD/real-pd.testing_data.wav_Y/smartwatch_gyroscope/\n",
      "48\n"
     ]
    }
   ],
   "source": [
    "!cd /home/sjoshi/codes/python/BeatPD/data/BeatPD/real-pd.testing_data.wav_Y/smartphone_accelerometer/; ls -1 | wc -l\n",
    "!cd /home/sjoshi/codes/python/BeatPD/data/BeatPD/real-pd.testing_data.wav_Y/smartwatch_accelerometer/; ls -1 | wc -l\n",
    "!cd /home/sjoshi/codes/python/BeatPD/data/BeatPD/real-pd.testing_data.wav_Y/smartwatch_gyroscope/; ls -1 | wc -l\n"
   ]
  },
  {
   "cell_type": "code",
   "execution_count": 3,
   "metadata": {},
   "outputs": [
    {
     "name": "stdout",
     "output_type": "stream",
     "text": [
      "169\n",
      "172\n",
      "172\n"
     ]
    }
   ],
   "source": [
    "!cd /home/sjoshi/codes/python/BeatPD/data/BeatPD/real-pd.testing_data/smartphone_accelerometer/; ls -1 | wc -l\n",
    "!cd /home/sjoshi/codes/python/BeatPD/data/BeatPD/real-pd.testing_data/smartwatch_accelerometer/; ls -1 | wc -l\n",
    "!cd /home/sjoshi/codes/python/BeatPD/data/BeatPD/real-pd.testing_data/smartwatch_gyroscope/; ls -1 | wc -l\n"
   ]
  },
  {
   "cell_type": "code",
   "execution_count": 5,
   "metadata": {},
   "outputs": [
    {
     "name": "stdout",
     "output_type": "stream",
     "text": [
      "526\n",
      "535\n",
      "535\n"
     ]
    }
   ],
   "source": [
    "!cd /home/sjoshi/codes/python/BeatPD/data/BeatPD/real-pd.training_data/smartphone_accelerometer/; ls -1 | wc -l\n",
    "!cd /home/sjoshi/codes/python/BeatPD/data/BeatPD/real-pd.training_data/smartwatch_accelerometer/; ls -1 | wc -l\n",
    "!cd /home/sjoshi/codes/python/BeatPD/data/BeatPD/real-pd.training_data/smartwatch_gyroscope/; ls -1 | wc -l\n"
   ]
  },
  {
   "cell_type": "code",
   "execution_count": 4,
   "metadata": {},
   "outputs": [],
   "source": [
    "!cd /home/sjoshi/codes/python/BeatPD/data/BeatPD/; find . -empty -type f"
   ]
  },
  {
   "cell_type": "code",
   "execution_count": 23,
   "metadata": {},
   "outputs": [
    {
     "name": "stdout",
     "output_type": "stream",
     "text": [
      "618\n",
      "618\n",
      "618\n",
      "618\n",
      "618\n",
      "618\n",
      "618\n",
      "618\n",
      "618\n"
     ]
    }
   ],
   "source": [
    "!cd /home/sjoshi/codes/python/BeatPD/data/BeatPD/cis-pd.testing_data.wav_X/; ls -1 | wc -l\n",
    "!cd /home/sjoshi/codes/python/BeatPD/data/BeatPD/cis-pd.testing_data.wav_X/; ls -1 | wc -l\n",
    "!cd /home/sjoshi/codes/python/BeatPD/data/BeatPD/cis-pd.testing_data.wav_X/; ls -1 | wc -l\n",
    "\n",
    "!cd /home/sjoshi/codes/python/BeatPD/data/BeatPD/cis-pd.testing_data.wav_Y/; ls -1 | wc -l\n",
    "!cd /home/sjoshi/codes/python/BeatPD/data/BeatPD/cis-pd.testing_data.wav_Y/; ls -1 | wc -l\n",
    "!cd /home/sjoshi/codes/python/BeatPD/data/BeatPD/cis-pd.testing_data.wav_Y/; ls -1 | wc -l\n",
    "\n",
    "!cd /home/sjoshi/codes/python/BeatPD/data/BeatPD/cis-pd.testing_data.wav_Z/; ls -1 | wc -l\n",
    "!cd /home/sjoshi/codes/python/BeatPD/data/BeatPD/cis-pd.testing_data.wav_Z/; ls -1 | wc -l\n",
    "!cd /home/sjoshi/codes/python/BeatPD/data/BeatPD/cis-pd.testing_data.wav_Z/; ls -1 | wc -l\n"
   ]
  },
  {
   "cell_type": "code",
   "execution_count": null,
   "metadata": {},
   "outputs": [],
   "source": []
  }
 ],
 "metadata": {
  "kernelspec": {
   "display_name": "Python 3",
   "language": "python",
   "name": "python3"
  },
  "language_info": {
   "codemirror_mode": {
    "name": "ipython",
    "version": 3
   },
   "file_extension": ".py",
   "mimetype": "text/x-python",
   "name": "python",
   "nbconvert_exporter": "python",
   "pygments_lexer": "ipython3",
   "version": "3.7.3"
  }
 },
 "nbformat": 4,
 "nbformat_minor": 2
}
