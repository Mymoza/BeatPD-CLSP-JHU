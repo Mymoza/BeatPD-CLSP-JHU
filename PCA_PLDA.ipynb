{
 "cells": [
  {
   "cell_type": "markdown",
   "metadata": {},
   "source": [
    "# Trains and Tests PLDA"
   ]
  },
  {
   "cell_type": "code",
   "execution_count": 155,
   "metadata": {},
   "outputs": [],
   "source": [
    "#!/usr/bin/env python3.7\n",
    "import os\n",
    "import sys\n",
    "sys.path.insert(0, \"/export/c10/lmorove1/PythonLibs/plda\")\n",
    "import plda\n",
    "import numpy as np\n",
    "import matplotlib.pyplot as plt\n",
    "import kaldi_io\n",
    "import argparse\n",
    "import pickle\n",
    "from sklearn.decomposition import PCA\n",
    "\n",
    "import pandas as pd \n",
    "\n",
    "from sklearn.neighbors import NearestNeighbors\n",
    "\n",
    "\n",
    "#PCA\n",
    "import matplotlib.pyplot as plt\n",
    "from mpl_toolkits.mplot3d import Axes3D\n",
    "from sklearn import decomposition"
   ]
  },
  {
   "cell_type": "code",
   "execution_count": 118,
   "metadata": {},
   "outputs": [
    {
     "name": "stdout",
     "output_type": "stream",
     "text": [
      "/export/c08/lmorove1/kaldi/egs/beatPDivec/v1\n",
      "cmd.sh\t conf  exp    mfcc     README.txt  run.sh   sid    utils\n",
      "cmd.sh~  data  local  path.sh  runFor.sh   run.sh~  steps\n",
      "/export/c08/lmorove1/kaldi/egs/beatPDivec/v1\n",
      "cmd.sh\t conf  exp    mfcc     README.txt  run.sh   sid    utils\n",
      "cmd.sh~  data  local  path.sh  runFor.sh   run.sh~  steps\n"
     ]
    }
   ],
   "source": [
    "DATA_PATH = '/export/c08/lmorove1/kaldi/egs/beatPDivec/v1/'\n",
    "\n",
    "!pwd && ls\n",
    "os.chdir(DATA_PATH)\n",
    "!pwd && ls"
   ]
  },
  {
   "cell_type": "code",
   "execution_count": 404,
   "metadata": {},
   "outputs": [],
   "source": [
    "def pca(sFileTrai, sFileTest, iComponents):\n",
    "# os.chdir(\"/export/c10/lmorove1/kaldi/egs/xVecPD/v2_NeuroConc16k\")\n",
    "# sFileTrai=\"/export/c10/lmorove1/kaldi/egs/xVecPD/v2_NeuroConc16k/exp/sre18nn/xvectors_Training_Fold1/xvector.scp\"\n",
    "# sOut = Folder where to store results \n",
    "# iComponents = nb of classes (nb of measurements_id? or nb of subject_ids?)\n",
    "    dIvecTrai = { key:mat for key,mat in kaldi_io.read_vec_flt_scp(sFileTrai) }\n",
    "    vTrai= pd.DataFrame((list(dIvecTrai.values())))\n",
    "    vLTrai = np.array([x[-1] for x in np.array(list(dIvecTrai.keys()))])\n",
    "    \n",
    "    # FIXME : For realPD, we need more than -5 (CIS-PD subject_id is 4 characters long)\n",
    "    # FIXME REAL-PD it's not only int \n",
    "    vTraiSubjectId = np.array(([int(x[-5:-1]) for x in np.array(list(dIvecTrai.keys()))]))\n",
    "\n",
    "    dIvecTest = { key:mat for key,mat in kaldi_io.read_vec_flt_scp(sFileTest) }\n",
    "    vTest=np.array(list(dIvecTest.values()), dtype=float)\n",
    "    vLTest=np.array([x[-1] for x in np.array(list(dIvecTest.keys()))])\n",
    "    vTestSubjectId = np.array([int(x[-5:-1]) for x in np.array(list(dIvecTest.keys()))])\n",
    "    \n",
    "    \n",
    "    # I don't know why i need to reshape. is it normal that I have a 1D array?\n",
    "    print('before transform : ', vTrai.shape)\n",
    "    print('before transform : ', vTest.shape)\n",
    "    #vTrai = vTrai.reshape(-1, 1)\n",
    "    #vTest = vTrai.reshape(-1, 1)\n",
    "    #iComponents=60;\n",
    "\n",
    "    if isinstance(iComponents, str):\n",
    "            iComponents=int(iComponents)\n",
    "\n",
    "\n",
    "    pca = PCA(n_components=iComponents, svd_solver='randomized', whiten=True)\n",
    "    pca.fit(vTrai)\n",
    "\n",
    "\n",
    "    vTraiPCA=pca.transform(vTrai)\n",
    "    vTestPCA=pca.transform(vTest)\n",
    "\n",
    "    print('after transform : ', vTraiPCA.shape)\n",
    "    print('after transform : ', vTestPCA.shape)\n",
    "    return vTraiPCA, vLTrai, vTraiSubjectId, vTestPCA, vLTest, vTestSubjectId"
   ]
  },
  {
   "cell_type": "code",
   "execution_count": 405,
   "metadata": {},
   "outputs": [],
   "source": [
    "sFileTrai = '/export/c08/lmorove1/kaldi/egs/beatPDivec/v1/exp/ivectors_Training_Fold0/ivector.scp'\n",
    "sFileTest = '/export/c08/lmorove1/kaldi/egs/beatPDivec/v1/exp/ivectors_Testing_Fold0/ivector.scp'\n",
    "iComponents = 50 \n"
   ]
  },
  {
   "cell_type": "code",
   "execution_count": 408,
   "metadata": {},
   "outputs": [
    {
     "name": "stdout",
     "output_type": "stream",
     "text": [
      "before transform :  (1403, 300)\n",
      "before transform :  (364, 300)\n",
      "after transform :  (1403, 50)\n",
      "after transform :  (364, 50)\n"
     ]
    }
   ],
   "source": [
    "vTraiPCA, vLTrai, vTraiSubjectId, vTestPCA, vLTest, vTestSubjectId = pca(sFileTrai, sFileTest, iComponents)\n"
   ]
  },
  {
   "cell_type": "code",
   "execution_count": 409,
   "metadata": {},
   "outputs": [
    {
     "name": "stdout",
     "output_type": "stream",
     "text": [
      "----- 1004----- \n",
      "Training accuracy:  0.5384615384615384\n",
      "Testing accuracy:  0.17647058823529413\n",
      "----- 1006----- \n",
      "Training accuracy:  0.7586206896551724\n",
      "Testing accuracy:  0.625\n",
      "----- 1007----- \n",
      "Training accuracy:  0.5972222222222222\n",
      "Testing accuracy:  0.5166666666666667\n",
      "----- 1019----- \n",
      "Training accuracy:  0.4166666666666667\n",
      "Testing accuracy:  0.8888888888888888\n",
      "----- 1020----- \n",
      "Training accuracy:  0.782051282051282\n",
      "Testing accuracy:  0.9743589743589743\n",
      "----- 1023----- \n",
      "Training accuracy:  0.36904761904761907\n",
      "Testing accuracy:  0.5\n",
      "----- 1032----- \n",
      "Training accuracy:  0.524822695035461\n",
      "Testing accuracy:  0.2777777777777778\n",
      "----- 1034----- \n",
      "Training accuracy:  0.53125\n",
      "Testing accuracy:  0.0\n",
      "----- 1038----- \n",
      "Training accuracy:  0.7151515151515152\n",
      "Testing accuracy:  0.6904761904761905\n",
      "----- 1039----- \n",
      "Training accuracy:  0.5769230769230769\n",
      "Testing accuracy:  0.6153846153846154\n",
      "----- 1043----- \n",
      "Training accuracy:  0.5185185185185185\n",
      "Testing accuracy:  0.14285714285714285\n",
      "----- 1044----- \n",
      "Training accuracy:  0.6666666666666666\n",
      "Testing accuracy:  1.0\n",
      "----- 1048----- \n",
      "Training accuracy:  0.5555555555555556\n",
      "Testing accuracy:  0.3157894736842105\n",
      "----- 1049----- \n",
      "Training accuracy:  0.4307692307692308\n",
      "Testing accuracy:  0.17647058823529413\n",
      "----- 1051----- \n",
      "Training accuracy:  0.7467532467532467\n",
      "Testing accuracy:  0.5897435897435898\n",
      "global_training_accuracy :  0.5818987015651849\n",
      "global_testing_accuracy :  0.49932563308724304\n"
     ]
    }
   ],
   "source": [
    "# Divide vTrainPCA by patient \n",
    "\n",
    "#from sklearn.neighbors import NeighborhoodComponentsAnalysis\n",
    "from sklearn.neighbors import KNeighborsClassifier\n",
    "from sklearn.datasets import load_iris\n",
    "from sklearn.model_selection import train_test_split\n",
    "from sklearn.pipeline import Pipeline\n",
    "\n",
    "# KNN \n",
    "# AND MEANs cosine distance \n",
    "\n",
    "\n",
    "global_training_accuracy=[]\n",
    "global_testing_accuracy=[]\n",
    "\n",
    "for subject_id in np.unique(vTraiSubjectId):\n",
    "    print('----- ' + str(subject_id) + '----- ')\n",
    "    knn = KNeighborsClassifier(n_neighbors=6)\n",
    "    \n",
    "    # Filter vTraiPCA and vLTraiPCA for one subject_id\n",
    "    indices_subject_id = np.where(vTraiSubjectId == subject_id) # HAPPY\n",
    "    vTraiPCA_subjectid = vTraiPCA[indices_subject_id]\n",
    "    vLTrai_subjectid = vLTrai[indices_subject_id]\n",
    "    \n",
    "    # Filter vTestPCA and vLTestPCA for one subject_id\n",
    "    indices_subject_id = np.where(vTestSubjectId == subject_id)\n",
    "    vTestPCA_subjectid = vTestPCA[indices_subject_id]\n",
    "    vLTest_subjectid = vLTest[indices_subject_id]\n",
    "\n",
    "    knn.fit(vTraiPCA_subjectid, vLTrai_subjectid)\n",
    "    \n",
    "#     y_labels = knn.predict(vTraiPCA_subjectid)\n",
    "#     display(y_labels)\n",
    "    print('Training accuracy: ', knn.score(vTraiPCA_subjectid, vLTrai_subjectid))\n",
    "    global_training_accuracy.append(knn.score(vTraiPCA_subjectid, vLTrai_subjectid))\n",
    "    print('Testing accuracy: ', knn.score(vTestPCA_subjectid, vLTest_subjectid))\n",
    "    global_testing_accuracy.append(knn.score(vTestPCA_subjectid, vLTest_subjectid))\n",
    "\n",
    "print('global_training_accuracy : ', pd.DataFrame(global_training_accuracy).mean()[0])\n",
    "print('global_testing_accuracy : ', pd.DataFrame(global_testing_accuracy).mean()[0])\n",
    "\n",
    "# find mean accuracy\n",
    "# use their scoring function "
   ]
  },
  {
   "cell_type": "code",
   "execution_count": 373,
   "metadata": {},
   "outputs": [],
   "source": [
    "parameters = {'n_neighbors':[1,3,10,15,25,35,50]}"
   ]
  }
 ],
 "metadata": {
  "kernelspec": {
   "display_name": "BeatPD",
   "language": "python",
   "name": "beatpd"
  },
  "language_info": {
   "codemirror_mode": {
    "name": "ipython",
    "version": 3
   },
   "file_extension": ".py",
   "mimetype": "text/x-python",
   "name": "python",
   "nbconvert_exporter": "python",
   "pygments_lexer": "ipython3",
   "version": "3.5.6"
  }
 },
 "nbformat": 4,
 "nbformat_minor": 2
}
