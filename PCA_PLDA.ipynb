{
 "cells": [
  {
   "cell_type": "markdown",
   "metadata": {},
   "source": [
    "# Trains and Tests PLDA"
   ]
  },
  {
   "cell_type": "code",
   "execution_count": 155,
   "metadata": {},
   "outputs": [],
   "source": [
    "#!/usr/bin/env python3.7\n",
    "import os\n",
    "import sys\n",
    "sys.path.insert(0, \"/export/c10/lmorove1/PythonLibs/plda\")\n",
    "import plda\n",
    "import numpy as np\n",
    "import matplotlib.pyplot as plt\n",
    "import kaldi_io\n",
    "import argparse\n",
    "import pickle\n",
    "from sklearn.decomposition import PCA\n",
    "\n",
    "import pandas as pd \n",
    "\n",
    "from sklearn.neighbors import NearestNeighbors\n",
    "\n",
    "\n",
    "#PCA\n",
    "import matplotlib.pyplot as plt\n",
    "from mpl_toolkits.mplot3d import Axes3D\n",
    "from sklearn import decomposition"
   ]
  },
  {
   "cell_type": "code",
   "execution_count": 118,
   "metadata": {},
   "outputs": [
    {
     "name": "stdout",
     "output_type": "stream",
     "text": [
      "/export/c08/lmorove1/kaldi/egs/beatPDivec/v1\n",
      "cmd.sh\t conf  exp    mfcc     README.txt  run.sh   sid    utils\n",
      "cmd.sh~  data  local  path.sh  runFor.sh   run.sh~  steps\n",
      "/export/c08/lmorove1/kaldi/egs/beatPDivec/v1\n",
      "cmd.sh\t conf  exp    mfcc     README.txt  run.sh   sid    utils\n",
      "cmd.sh~  data  local  path.sh  runFor.sh   run.sh~  steps\n"
     ]
    }
   ],
   "source": [
    "DATA_PATH = '/export/c08/lmorove1/kaldi/egs/beatPDivec/v1/'\n",
    "\n",
    "!pwd && ls\n",
    "os.chdir(DATA_PATH)\n",
    "!pwd && ls"
   ]
  },
  {
   "cell_type": "code",
   "execution_count": 119,
   "metadata": {},
   "outputs": [],
   "source": [
    "# def be_pca_pldax(sFileTrai, sFileTest, sOut, iComponents):\n",
    "# # os.chdir(\"/export/c10/lmorove1/kaldi/egs/xVecPD/v2_NeuroConc16k\")\n",
    "# # sFileTrai=\"/export/c10/lmorove1/kaldi/egs/xVecPD/v2_NeuroConc16k/exp/sre18nn/xvectors_Training_Fold1/xvector.scp\"\n",
    "# # sOut = Folder where to store results \n",
    "# # iComponents = nb of classes (nb of measurements_id? or nb of subject_ids?)\n",
    "        \n",
    "#         dIvecTrai = { key:mat for key,mat in kaldi_io.read_vec_flt_scp(sFileTrai) }\n",
    "#         dTraiPD= dict()\n",
    "#         dTraiHC= dict()\n",
    "#         for key, value in dIvecTrai.items():\n",
    "#             print(key)\n",
    "#             if '1007' in str(key):\n",
    "#                 dTraiPD[key] = value\n",
    "#             else:\n",
    "#                 dTraiHC[key]=value\n",
    "        \n",
    "#         print('len(dTraiPD) : ', len(dTraiPD))\n",
    "#         print('len(dTraiHC) : ', len(dTraiHC))\n",
    "#         vTrai=np.concatenate((np.array(list(dTraiPD.values()), dtype=float), np.array(list(dTraiHC.values()), dtype=float)))  \n",
    "#         vLTrai=np.concatenate((np.zeros(len(dTraiPD)), np.ones(len(dTraiHC))))\n",
    "\n",
    "# # sFileTest=\"/export/c10/lmorove1/kaldi/egs/xVecPD/v2_NeuroConc16k/exp/sre18nn/xvectors_Test_Fold1/xvector.scp\"\n",
    "\n",
    "        \n",
    "#         dIvecTest = { key:mat for key,mat in kaldi_io.read_vec_flt_scp(sFileTest) }\n",
    "#         dTestPD= dict()\n",
    "#         dTestHC= dict()\n",
    "\n",
    "#         for key, value in dIvecTest.items():\n",
    "#             if 'PD' in str(key):\n",
    "#                 dTestPD[key] = value\n",
    "#             else:\n",
    "#                 dTestHC[key]=value\n",
    "\n",
    "#         print('len(dTestPD) : ', len(dTestPD))\n",
    "#         print('len(dTestHC) : ', len(dTestHC))\n",
    "#         vTest=np.concatenate((np.array(list(dTestPD.values()), dtype=float), np.array(list(dTestHC.values()), dtype=float)))\n",
    "#         vLTest=np.concatenate((np.zeros(len(dTestPD)), np.ones(len(dTestHC))))\n",
    "        \n",
    "#         #iComponents=60;\n",
    "\n",
    "#         if isinstance(iComponents, str):\n",
    "#                 iComponents=int(iComponents)\n",
    "\n",
    "                \n",
    "#         pca = PCA(n_components=iComponents, svd_solver='randomized',\n",
    "#                             whiten=True).fit(vTrai)\n",
    "\n",
    "#         vTraiPCA=pca.transform(vTrai)\n",
    "#         vTestPCA=pca.transform(vTest)\n",
    "        \n",
    "# #         classifier = plda.Classifier()\n",
    "# #         classifier.fit_model(vTraiPCA, vLTrai)\n",
    "\n",
    "# #         predictions, log_p_predictions = classifier.predict(vTestPCA)\n",
    "# #         predictionsTrai, log_p_predictionsTrai = classifier.predict(vTraiPCA)\n",
    "        \n",
    "# #         print('Accuracy: {}'.format((vLTest == predictions).mean()))\n",
    "# #         print('NumObs: {}'.format((len(vLTest))))\n",
    "# #         print('PCAComponents: {}'.format((iComponents)))\n",
    "# #         print('iNumPDTrai: {}'.format((len(dTraiPD))))\n",
    "# #         print('iNumHCTrai: {}'.format((len(dTraiHC))))\n",
    "# #         print('ScoresTrai:')\n",
    "# #         print(log_p_predictionsTrai)\n",
    "# #         print('#')\n",
    "# #         print('#')\n",
    "# #         print('iNumPDTest: {}'.format((len(dTestPD))))\n",
    "# #         print('iNumHCTest: {}'.format((len(dTestHC))))\n",
    "# #         print('ScoresTest:')\n",
    "# #         print(log_p_predictions)\n",
    "        \n",
    "# #         if not  os.path.isdir(sOut):\n",
    "# #                 os.mkdir(sOut)\n",
    "        \n",
    "# #         with open(os.path.join(sOut,'objs.pkl'), 'wb') as f:  # Python 3: open(..., 'wb')\n",
    "# #             pickle.dump([predictions,log_p_predictions,vLTest], f)\n"
   ]
  },
  {
   "cell_type": "code",
   "execution_count": 311,
   "metadata": {},
   "outputs": [],
   "source": [
    "def be_pca_pldax(sFileTrai, sFileTest, sOut, iComponents):\n",
    "# os.chdir(\"/export/c10/lmorove1/kaldi/egs/xVecPD/v2_NeuroConc16k\")\n",
    "# sFileTrai=\"/export/c10/lmorove1/kaldi/egs/xVecPD/v2_NeuroConc16k/exp/sre18nn/xvectors_Training_Fold1/xvector.scp\"\n",
    "# sOut = Folder where to store results \n",
    "# iComponents = nb of classes (nb of measurements_id? or nb of subject_ids?)\n",
    "    dIvecTrai = { key:mat for key,mat in kaldi_io.read_vec_flt_scp(sFileTrai) }\n",
    "    vTrai= pd.DataFrame((list(dIvecTrai.values())))\n",
    "    vLTrai = np.array([x[-1] for x in np.array(list(dIvecTrai.keys()))])\n",
    "    \n",
    "    # FIXME : For realPD, we need more than -5 (CIS-PD subject_id is 4 characters long)\n",
    "    # FIXME REAL-PD it's not only int \n",
    "    vTraiSubjectId = np.array(([int(x[-5:-1]) for x in np.array(list(dIvecTrai.keys()))]))\n",
    "\n",
    "    dIvecTest = { key:mat for key,mat in kaldi_io.read_vec_flt_scp(sFileTest) }\n",
    "    vTest=np.array(list(dIvecTest.values()), dtype=float)\n",
    "    vLTest=np.array([x[-1] for x in np.array(list(dIvecTest.keys()))])\n",
    "    vTestSubjectId = np.array([int(x[-5:-1]) for x in np.array(list(dIvecTest.keys()))])\n",
    "    \n",
    "    \n",
    "    # I don't know why i need to reshape. is it normal that I have a 1D array?\n",
    "    print('before transform : ', vTrai.shape)\n",
    "    print('before transform : ', vTest.shape)\n",
    "    #vTrai = vTrai.reshape(-1, 1)\n",
    "    #vTest = vTrai.reshape(-1, 1)\n",
    "    #iComponents=60;\n",
    "\n",
    "    if isinstance(iComponents, str):\n",
    "            iComponents=int(iComponents)\n",
    "\n",
    "\n",
    "    pca = PCA(n_components=iComponents, svd_solver='randomized', whiten=True)\n",
    "    pca.fit(vTrai)\n",
    "\n",
    "\n",
    "    vTraiPCA=pca.transform(vTrai)\n",
    "    vTestPCA=pca.transform(vTest)\n",
    "\n",
    "    print(vTraiPCA.shape)\n",
    "    print(vTestPCA.shape)\n",
    "    return vTraiPCA, vLTrai, vTraiSubjectId, vTestPCA, vLTest, vTestSubjectId\n",
    "#         classifier = plda.Classifier()\n",
    "#         classifier.fit_model(vTraiPCA, vLTrai)\n",
    "\n",
    "#         predictions, log_p_predictions = classifier.predict(vTestPCA)\n",
    "#         predictionsTrai, log_p_predictionsTrai = classifier.predict(vTraiPCA)\n",
    "        \n",
    "#         print('Accuracy: {}'.format((vLTest == predictions).mean()))\n",
    "#         print('NumObs: {}'.format((len(vLTest))))\n",
    "#         print('PCAComponents: {}'.format((iComponents)))\n",
    "#         print('iNumPDTrai: {}'.format((len(dTraiPD))))\n",
    "#         print('iNumHCTrai: {}'.format((len(dTraiHC))))\n",
    "#         print('ScoresTrai:')\n",
    "#         print(log_p_predictionsTrai)\n",
    "#         print('#')\n",
    "#         print('#')\n",
    "#         print('iNumPDTest: {}'.format((len(dTestPD))))\n",
    "#         print('iNumHCTest: {}'.format((len(dTestHC))))\n",
    "#         print('ScoresTest:')\n",
    "#         print(log_p_predictions)\n",
    "        \n",
    "#         if not  os.path.isdir(sOut):\n",
    "#                 os.mkdir(sOut)\n",
    "        \n",
    "#         with open(os.path.join(sOut,'objs.pkl'), 'wb') as f:  # Python 3: open(..., 'wb')\n",
    "#             pickle.dump([predictions,log_p_predictions,vLTest], f)\n"
   ]
  },
  {
   "cell_type": "code",
   "execution_count": 344,
   "metadata": {},
   "outputs": [
    {
     "name": "stdout",
     "output_type": "stream",
     "text": [
      "before transform :  (1403, 300)\n",
      "before transform :  (364, 300)\n",
      "(1403, 5)\n",
      "(364, 5)\n"
     ]
    }
   ],
   "source": [
    "sFileTrai = '/export/c08/lmorove1/kaldi/egs/beatPDivec/v1/exp/ivectors_Training_Fold0/ivector.scp'\n",
    "sFileTest = '/export/c08/lmorove1/kaldi/egs/beatPDivec/v1/exp/ivectors_Testing_Fold0/ivector.scp'\n",
    "sOut = '' #None because it's only needed for PLDA \n",
    "iComponents = 5 # FIXME : should be 5 ????? from 0 to 4 for on/off\n",
    "\n",
    "vTraiPCA, vLTrai, vTraiSubjectId, vTestPCA, vLTest, vTestSubjectId = be_pca_pldax(sFileTrai, sFileTest, sOut, iComponents)"
   ]
  },
  {
   "cell_type": "code",
   "execution_count": 227,
   "metadata": {},
   "outputs": [
    {
     "name": "stdout",
     "output_type": "stream",
     "text": [
      "<class 'numpy.int64'>\n"
     ]
    }
   ],
   "source": [
    "print(type(vTraiSubjectId[0]))"
   ]
  },
  {
   "cell_type": "code",
   "execution_count": 313,
   "metadata": {},
   "outputs": [
    {
     "name": "stdout",
     "output_type": "stream",
     "text": [
      "(array([0, 3, 6]),)\n",
      "[10 13 16]\n"
     ]
    }
   ],
   "source": [
    "a=np.array([1,2,3,1,2,3,1,2,3])\n",
    "b=np.array([1])\n",
    "c = np.where(a == b)\n",
    "d = np.array([10,11,12,13,14,15,16,17,18,19])\n",
    "print(c)\n",
    "\n",
    "print(d[c])\n",
    "\n",
    "# print(c[0])\n",
    "# print(d)\n",
    "# print(np.isin(d, c[0]))\n",
    "# d = d[np.isin(d, c[0])]\n",
    "# print(d)\n",
    "# d[np.isin(d[:,0],m)]"
   ]
  },
  {
   "cell_type": "code",
   "execution_count": 257,
   "metadata": {},
   "outputs": [
    {
     "data": {
      "text/plain": [
       "(array([0, 3, 6]),)"
      ]
     },
     "execution_count": 257,
     "metadata": {},
     "output_type": "execute_result"
    }
   ],
   "source": [
    "c"
   ]
  },
  {
   "cell_type": "code",
   "execution_count": 248,
   "metadata": {},
   "outputs": [
    {
     "data": {
      "text/plain": [
       "(array([], dtype=int64),)"
      ]
     },
     "execution_count": 248,
     "metadata": {},
     "output_type": "execute_result"
    }
   ],
   "source": [
    "indices_subject_id"
   ]
  },
  {
   "cell_type": "code",
   "execution_count": 308,
   "metadata": {},
   "outputs": [
    {
     "name": "stdout",
     "output_type": "stream",
     "text": [
      "1004\n",
      "1006\n",
      "1007\n",
      "1019\n",
      "1020\n",
      "1023\n",
      "1032\n",
      "1034\n",
      "1038\n",
      "1039\n",
      "1043\n",
      "1044\n",
      "1048\n",
      "1049\n",
      "1051\n"
     ]
    }
   ],
   "source": [
    "for subject_id in np.unique(vTraiSubjectId):\n",
    "    print(subject_id)"
   ]
  },
  {
   "cell_type": "code",
   "execution_count": 309,
   "metadata": {},
   "outputs": [
    {
     "name": "stdout",
     "output_type": "stream",
     "text": [
      "1004\n",
      "1006\n",
      "1007\n",
      "1019\n",
      "1020\n",
      "1023\n",
      "1032\n",
      "1034\n",
      "1038\n",
      "1039\n",
      "1043\n",
      "1044\n",
      "1048\n",
      "1049\n",
      "1051\n"
     ]
    }
   ],
   "source": [
    "for subject_id in np.unique(vTestSubjectId):\n",
    "    print(subject_id)"
   ]
  },
  {
   "cell_type": "code",
   "execution_count": 346,
   "metadata": {},
   "outputs": [
    {
     "name": "stdout",
     "output_type": "stream",
     "text": [
      "----- 1004----- \n",
      "Training KNN Train Scores\n",
      "0.5230769230769231\n",
      "Testing KNN Train Scores\n",
      "0.11764705882352941\n",
      "----- 1006----- \n",
      "Training KNN Train Scores\n",
      "0.7931034482758621\n",
      "Testing KNN Train Scores\n",
      "0.625\n",
      "----- 1007----- \n",
      "Training KNN Train Scores\n",
      "0.6388888888888888\n",
      "Testing KNN Train Scores\n",
      "0.48333333333333334\n",
      "----- 1019----- \n",
      "Training KNN Train Scores\n",
      "0.6666666666666666\n",
      "Testing KNN Train Scores\n",
      "0.0\n",
      "----- 1020----- \n",
      "Training KNN Train Scores\n",
      "0.8012820512820513\n",
      "Testing KNN Train Scores\n",
      "0.9743589743589743\n",
      "----- 1023----- \n",
      "Training KNN Train Scores\n",
      "0.5\n",
      "Testing KNN Train Scores\n",
      "0.2727272727272727\n",
      "----- 1032----- \n",
      "Training KNN Train Scores\n",
      "0.6170212765957447\n",
      "Testing KNN Train Scores\n",
      "0.2777777777777778\n",
      "----- 1034----- \n",
      "Training KNN Train Scores\n",
      "0.6875\n",
      "Testing KNN Train Scores\n",
      "0.375\n",
      "----- 1038----- \n",
      "Training KNN Train Scores\n",
      "0.7333333333333333\n",
      "Testing KNN Train Scores\n",
      "0.7142857142857143\n",
      "----- 1039----- \n",
      "Training KNN Train Scores\n",
      "0.5961538461538461\n",
      "Testing KNN Train Scores\n",
      "0.34615384615384615\n",
      "----- 1043----- \n",
      "Training KNN Train Scores\n",
      "0.48148148148148145\n",
      "Testing KNN Train Scores\n",
      "0.14285714285714285\n",
      "----- 1044----- \n",
      "Training KNN Train Scores\n",
      "0.7192982456140351\n",
      "Testing KNN Train Scores\n",
      "0.6666666666666666\n",
      "----- 1048----- \n",
      "Training KNN Train Scores\n",
      "0.6111111111111112\n",
      "Testing KNN Train Scores\n",
      "0.47368421052631576\n",
      "----- 1049----- \n",
      "Training KNN Train Scores\n",
      "0.676923076923077\n",
      "Testing KNN Train Scores\n",
      "0.11764705882352941\n",
      "----- 1051----- \n",
      "Training KNN Train Scores\n",
      "0.7727272727272727\n",
      "Testing KNN Train Scores\n",
      "0.6666666666666666\n"
     ]
    }
   ],
   "source": [
    "# Divide vTrainPCA by patient \n",
    "\n",
    "#from sklearn.neighbors import NeighborhoodComponentsAnalysis\n",
    "from sklearn.neighbors import KNeighborsClassifier\n",
    "from sklearn.datasets import load_iris\n",
    "from sklearn.model_selection import train_test_split\n",
    "from sklearn.pipeline import Pipeline\n",
    "\n",
    "# KNN \n",
    "# AND MEANs cosine distance \n",
    "\n",
    "\n",
    "for subject_id in np.unique(vTraiSubjectId):\n",
    "    print('----- ' + str(subject_id) + '----- ')\n",
    "    knn = KNeighborsClassifier(n_neighbors=3)\n",
    "    \n",
    "    # Filter vTraiPCA and vLTraiPCA for one subject_id\n",
    "    indices_subject_id = np.where(vTraiSubjectId == subject_id) # HAPPY\n",
    "#     print('indices_subject_id : ', indices_subject_id)\n",
    "#     print(type(vTraiPCA))\n",
    "#     print(type(vLTrai))\n",
    "    vTraiPCA_subjectid = vTraiPCA[indices_subject_id]\n",
    "    vLTrai_subjectid = vLTrai[indices_subject_id]\n",
    "#     print('len(vTraiPCA_subjectid) : ', len(vTraiPCA_subjectid))\n",
    "#     print('len(vLTrai_subjectid) : ', len(vLTrai_subjectid))\n",
    "    \n",
    "    # Filter vTestPCA and vLTestPCA for one subject_id\n",
    "    indices_subject_id = np.where(vTestSubjectId == subject_id)\n",
    "#     print('TEST indices_subject_id : ', indices_subject_id)\n",
    "    vTestPCA_subjectid = vTestPCA[indices_subject_id]\n",
    "    vLTest_subjectid = vLTest[indices_subject_id]\n",
    "#     print('len(vTestPCA_subjectid) : ', len(vTestPCA_subjectid))\n",
    "#     print('len(vLTest_subjectid) : ', len(vLTest_subjectid))\n",
    "\n",
    "    knn.fit(vTraiPCA_subjectid, vLTrai_subjectid)\n",
    "    \n",
    "    print('Training KNN Train Scores')\n",
    "    print(knn.score(vTraiPCA_subjectid, vLTrai_subjectid))\n",
    "    print('Testing KNN Train Scores')\n",
    "    print(knn.score(vTestPCA_subjectid, vLTest_subjectid))\n",
    "\n",
    "#vTraiPCA, vLTrai, "
   ]
  },
  {
   "cell_type": "code",
   "execution_count": 333,
   "metadata": {},
   "outputs": [
    {
     "name": "stdout",
     "output_type": "stream",
     "text": [
      "Tuple of arrays returned :  (array([ 4,  7, 11]),)\n",
      "Elements with value 15 exists at following indices\n",
      "[ 4  7 11]\n"
     ]
    }
   ],
   "source": [
    "arr = np.array(['11', '12', '13', '14', '15', '16', '17', '15', '11', '12', '14', '15', '16', '17'])\n",
    "\n",
    "result = np.where(arr == '15')\n",
    " \n",
    "print('Tuple of arrays returned : ', result)\n",
    "print(\"Elements with value 15 exists at following indices\", result[0], sep='\\n')"
   ]
  },
  {
   "cell_type": "code",
   "execution_count": null,
   "metadata": {},
   "outputs": [],
   "source": [
    "#from sklearn.neighbors import NeighborhoodComponentsAnalysis\n",
    "from sklearn.neighbors import KNeighborsClassifier\n",
    "from sklearn.datasets import load_iris\n",
    "from sklearn.model_selection import train_test_split\n",
    "from sklearn.pipeline import Pipeline\n",
    "\n",
    "# KNN \n",
    "# AND MEANs cosine distance \n",
    "knn = KNeighborsClassifier(n_neighbors=3)\n",
    "\n",
    "#nca = NeighborhoodComponentsAnalysis(random_state=42)\n",
    "\n",
    "#nca_pipe = Pipeline([('nca', nca), ('knn', knn)])\n",
    "\n",
    "\n",
    "knn.fit(vTraiPCA, vLTrai)\n",
    "\n",
    "print(knn.score(vTraiPCA, vLTrai))\n",
    "print(knn.score(vTestPCA, vLTest))\n",
    "\n",
    "# nbrs = NearestNeighbors(n_neighbors=2, algorithm='ball_tree').fit(vTraiPCA)\n",
    "# distances, indices = nbrs.kneighbors(vTraiPCA)\n",
    "# indices"
   ]
  },
  {
   "cell_type": "code",
   "execution_count": 102,
   "metadata": {},
   "outputs": [
    {
     "name": "stdout",
     "output_type": "stream",
     "text": [
      "0.6436208125445474\n",
      "0.41208791208791207\n"
     ]
    }
   ],
   "source": [
    "knn = KNeighborsClassifier(n_neighbors=2)\n",
    "\n",
    "#nca = NeighborhoodComponentsAnalysis(random_state=42)\n",
    "\n",
    "#nca_pipe = Pipeline([('nca', nca), ('knn', knn)])\n",
    "\n",
    "knn.fit(vTraiPCA, vLTrai)\n",
    "\n",
    "print(knn.score(vTraiPCA, vLTrai))\n",
    "print(knn.score(vTestPCA, vLTest))"
   ]
  },
  {
   "cell_type": "code",
   "execution_count": null,
   "metadata": {},
   "outputs": [],
   "source": [
    ">>> from sklearn.neighbors import (NeighborhoodComponentsAnalysis,\n",
    "... KNeighborsClassifier)\n",
    ">>> from sklearn.datasets import load_iris\n",
    ">>> from sklearn.model_selection import train_test_split\n",
    ">>> from sklearn.pipeline import Pipeline\n",
    ">>> X, y = load_iris(return_X_y=True)\n",
    ">>> X_train, X_test, y_train, y_test = train_test_split(X, y,\n",
    "... stratify=y, test_size=0.7, random_state=42)\n",
    ">>> nca = NeighborhoodComponentsAnalysis(random_state=42)\n",
    ">>> knn = KNeighborsClassifier(n_neighbors=3)\n",
    ">>> nca_pipe = Pipeline([('nca', nca), ('knn', knn)])\n",
    ">>> nca_pipe.fit(X_train, y_train)\n",
    "Pipeline(...)\n",
    ">>> print(nca_pipe.score(X_test, y_test))\n",
    "0.96190476..."
   ]
  }
 ],
 "metadata": {
  "kernelspec": {
   "display_name": "BeatPD",
   "language": "python",
   "name": "beatpd"
  },
  "language_info": {
   "codemirror_mode": {
    "name": "ipython",
    "version": 3
   },
   "file_extension": ".py",
   "mimetype": "text/x-python",
   "name": "python",
   "nbconvert_exporter": "python",
   "pygments_lexer": "ipython3",
   "version": "3.5.6"
  }
 },
 "nbformat": 4,
 "nbformat_minor": 2
}
