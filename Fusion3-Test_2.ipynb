{
 "cells": [
  {
   "cell_type": "markdown",
   "metadata": {},
   "source": [
    "# Fusion"
   ]
  },
  {
   "cell_type": "markdown",
   "metadata": {},
   "source": [
    "Submission 2:\n",
    "    - Tremor : Gradient Boosting Regression\n",
    "    - Dyskinesia : Gradient Boosting Regression\n",
    "    \n",
    "Submission 4: \n",
    "    - Dyskinesia : Average of predictions "
   ]
  },
  {
   "cell_type": "code",
   "execution_count": 6,
   "metadata": {},
   "outputs": [
    {
     "name": "stdout",
     "output_type": "stream",
     "text": [
      "The autoreload extension is already loaded. To reload it, use:\n",
      "  %reload_ext autoreload\n"
     ]
    }
   ],
   "source": [
    "import numpy as np\n",
    "import os\n",
    "from sklearn.ensemble import RandomForestClassifier\n",
    "import csv\n",
    "from sklearn.model_selection import cross_val_score\n",
    "from sklearn.datasets import make_blobs\n",
    "from sklearn.ensemble import RandomForestRegressor\n",
    "from sklearn.ensemble import ExtraTreesClassifier\n",
    "from sklearn.tree import DecisionTreeClassifier\n",
    "from random import random\n",
    "from sklearn.metrics import mean_squared_error\n",
    "import pickle\n",
    "import pandas as pd\n",
    "from sklearn.metrics import mean_squared_error\n",
    "from sklearn.ensemble import GradientBoostingRegressor\n",
    "\n",
    "%load_ext autoreload\n",
    "%autoreload 2\n",
    "\n",
    "from transform_data import *\n",
    "from create_graphs import *\n",
    "from local.get_final_scores_accuracy import *"
   ]
  },
  {
   "cell_type": "code",
   "execution_count": 2,
   "metadata": {},
   "outputs": [],
   "source": [
    "# def final_score(mse_per_subjectid, nb_files_per_subject_id, training_or_test=''):\n",
    "#     \"\"\"\n",
    "#     Compute the final score for the challenge given the arguments \n",
    "    \n",
    "#     Keyword arguments:\n",
    "#     - mse_per_subjectid: list of the mse per subject_id \n",
    "#     - nb_files_per_subject_id: list of the number of files per subject_id \n",
    "#     - training_or_test: string just for the purpose of printing the result \n",
    "#     \"\"\"\n",
    "#     numerator = np.sum([nb_file * mse for nb_file, mse in zip(np.sqrt(nb_files_per_subject_id), mse_per_subjectid)])\n",
    "#     denominator = np.sum(np.sqrt(nb_files_per_subject_id))\n",
    "#     #FIXME : Refactor so it's not printing by default \n",
    "#     print(training_or_test+'Final score : ', np.divide(numerator, denominator))\n",
    "#     return np.divide(numerator, denominator)"
   ]
  },
  {
   "cell_type": "code",
   "execution_count": 3,
   "metadata": {},
   "outputs": [],
   "source": [
    "# def get_final_score(vPredictions, vParID, vTrueLabels):\n",
    "#     \"\"\"\n",
    "#     Compute the final score from the challenge and print the result\n",
    "#     Keyword arguments: \n",
    "#     - vPredictions: Numpy array containing the predictions \n",
    "#     - VParID: list containing the subject_id \n",
    "#     - vTrueLabels: list containing the true labels \n",
    "#     \"\"\"\n",
    "#     mse_per_subjectId = []\n",
    "#     nb_files_per_subjectId = []\n",
    "#     for subject_id in np.unique(vParID):\n",
    "#         #print('--- SUBJECT ID ', subject_id, '---')\n",
    "#         vSubjectId = (vParID == subject_id)\n",
    "#         #print(vSubjectId)\n",
    "#         vPredictions_subjectId = vPredictions[vSubjectId]\n",
    "#         vTrueLabels_subjectId = np.array(vTrueLabels)[vSubjectId]\n",
    "#         mse_per_subjectId.append(mean_squared_error(vTrueLabels_subjectId, vPredictions_subjectId))\n",
    "#         nb_files_per_subjectId.append(len(vPredictions_subjectId))\n",
    "#         #print('MSE : ', mean_squared_error(vTrueLabels_subjectId, vPredictions_subjectId))\n",
    "#     print('--- MSEscore ---')\n",
    "#     final_score(mse_per_subjectId, nb_files_per_subjectId)\n"
   ]
  },
  {
   "cell_type": "code",
   "execution_count": 4,
   "metadata": {},
   "outputs": [],
   "source": [
    "sDirOut = \"/export/b19/mpgill/BeatPD_predictions_tryingout\""
   ]
  },
  {
   "cell_type": "markdown",
   "metadata": {},
   "source": [
    "## Submission 2 - Gradient Boosting Regression"
   ]
  },
  {
   "cell_type": "code",
   "execution_count": 7,
   "metadata": {},
   "outputs": [],
   "source": [
    "def RandomForest_fusion(lFilesPred, sFileLabels, iEstimators, sTypeLabel, nudge, rLR, iMD,iRS):\n",
    "    # Read file labels (true labels)\n",
    "    with open(sFileLabels, mode='r') as infile:\n",
    "        reader = csv.reader(infile)\n",
    "        dID = {rows[0]:rows[1] for rows in reader} #participant ID\n",
    "    with open(sFileLabels, mode='r') as infile:\n",
    "        reader = csv.reader(infile)\n",
    "        dOnOff= {rows[0]:rows[2] for rows in reader} #on-off label\n",
    "    with open(sFileLabels, mode='r') as infile:\n",
    "        reader = csv.reader(infile)\n",
    "        dDys={rows[0]:rows[3] for rows in reader} #dyskinesia label\n",
    "    with open(sFileLabels, mode='r') as infile:\n",
    "        reader = csv.reader(infile)\n",
    "        dTrem={rows[0]:rows[4] for rows in reader} #tremor label\n",
    "#mydict = dict((rows[0],rows[1]) for rows in reader)\n",
    "    \n",
    "    # Training-testing data\n",
    "    iNumFiles=len(lFilesPred)\n",
    "#mPredictions=[] #np.zeros((1,iNumFiles))\n",
    "#mPredictions=np.asarray(mPredictions)\n",
    "    vPredIter=np.zeros((1,iNumFiles))\n",
    "    vLabels=[] #true label\n",
    "    vParID=[] # participant ID\n",
    "    lDicts=[] \n",
    "\n",
    "\n",
    "    for sFilePred in lFilesPred:\n",
    "        with open(sFilePred, mode='r') as infile:\n",
    "            reader = csv.reader(infile)\n",
    "            dPred = {rows[0]:rows[1] for rows in reader} #Prediction from the different classifiers (ivec-svr, boost...)\n",
    "        lDicts.append(dPred)\n",
    "      \n",
    "    #label selection\n",
    "    if sTypeLabel=='on_off':\n",
    "        dLabels=dOnOff\n",
    "    elif sTypeLabel=='tremor':\n",
    "        dLabels=dTrem\n",
    "    elif sTypeLabel=='dyskinesia':\n",
    "        dLabels=dDys\n",
    "    else:\n",
    "        print('sTypeLabel undefined')\n",
    "    \n",
    "    \n",
    "    #creation of the matrix containing prediction from all classifiers\n",
    "    bEnter=1\n",
    "    for k in lDicts[0]: #first dictionary will be the lead\n",
    "        if k!='measurement_id':\n",
    "            #print(k)\n",
    "            #print(dID[k])\n",
    "            if dLabels[k]!='NA':\n",
    "                vLabels.append(float(np.asarray(dLabels[k]))) #true labels\n",
    "                vParID.append(float(np.asarray(dID[k]))) #participant ID\n",
    "                vPredIter[0,0]=float(np.asarray(lDicts[0][k])) #first predicted value\n",
    "                for j in range(1, iNumFiles):\n",
    "                    fPred=lDicts[j].get(k)\n",
    "                if fPred:\n",
    "                    vPredIter[0,j]=float(np.asarray(fPred))\n",
    "                else:\n",
    "                    print(['Unkwnown key:' + k])\n",
    "                    vPredIter[0,j]=float(np.asarray(lDicts[0][k]))\n",
    "                    \n",
    "            if bEnter==1:\n",
    "                mPredictions=vPredIter\n",
    "                bEnter=0\n",
    "            else:\n",
    "                mPredictions=np.append(mPredictions,vPredIter,axis=0)\n",
    "         \n",
    "    print('mPredictions and vLabels')\n",
    "    print(mPredictions.shape)\n",
    "    print(len(vLabels))\n",
    "    # Random forest training - regression\n",
    "    \n",
    "    #scores = cross_val_score(clf, mPredictions, vLabels, cv=15)\n",
    "    #print('Cross-validation score:')\n",
    "    #print(scores.mean())\n",
    "\n",
    "    clf=GradientBoostingRegressor(n_estimators=iEstimators, learning_rate=rLR, max_depth=iMD,\\\n",
    "                                      random_state=iRS, loss='ls').fit(mPredictions, vLabels)\n",
    "    vNewPred=clf.predict(mPredictions)\n",
    "    vRes1=mPredictions[:,[0]]\n",
    "    vRes2=mPredictions[:,[1]]\n",
    "    \n",
    "    # we will include the testing data here\n",
    "    return (vNewPred, vParID, vLabels, vRes1, vRes2, clf)\n",
    "#print(mPredictions)"
   ]
  },
  {
   "cell_type": "code",
   "execution_count": 8,
   "metadata": {},
   "outputs": [],
   "source": [
    "def randomForest_predTest(lTestPred, clf, sDirOut,sName):\n",
    "    \n",
    "    lDicts=[] #Will contain the two test predictions\n",
    "    lmesID=[]\n",
    "    iNumFiles=len(lTestPred)\n",
    "    vPredIter=np.zeros((1,iNumFiles))\n",
    "\n",
    "    for sFilePred in lTestPred:\n",
    "        with open(sFilePred, mode='r') as infile:\n",
    "            reader = csv.reader(infile)\n",
    "            dPred = {rows[0]:rows[1] for rows in reader} #Prediction from the different classifiers (ivec-svr, boost...)\n",
    "        lDicts.append(dPred)\n",
    "      \n",
    "    bEnter=1\n",
    "    for k in lDicts[0]: #first dictionary will be the lead\n",
    "        if k!='measurement_id':\n",
    "            #print(k)\n",
    "            #print(dID[k])\n",
    "            lmesID.append(k)\n",
    "            #vParID.append(float(np.asarray(dID[k]))) #participant ID\n",
    "            vPredIter[0,0]=float(np.asarray(lDicts[0][k])) #first predicted value\n",
    "            for j in range(1, iNumFiles):\n",
    "                fPred=lDicts[j].get(k)\n",
    "            if fPred:\n",
    "                vPredIter[0,j]=float(np.asarray(fPred))\n",
    "            else:\n",
    "                print(['Unkwnown key:' + k])\n",
    "                vPredIter[0,j]=float(np.asarray(lDicts[0][k]))\n",
    "\n",
    "            if bEnter==1:\n",
    "                mPredictions=vPredIter\n",
    "                bEnter=0\n",
    "            else:\n",
    "                mPredictions=np.append(mPredictions,vPredIter,axis=0)\n",
    "         \n",
    "    \n",
    "    vTestPred=clf.predict(mPredictions)\n",
    "    df = pd.DataFrame({'measurement_id': lmesID, sName:vTestPred})\n",
    "    df.to_csv(sDirOut+'submissionCisPD'+sName+'.csv', index=False)\n",
    "    return(lmesID, vTestPred)\n",
    "\n"
   ]
  },
  {
   "cell_type": "markdown",
   "metadata": {},
   "source": [
    "### Dyskinesia"
   ]
  },
  {
   "cell_type": "code",
   "execution_count": 8,
   "metadata": {},
   "outputs": [
    {
     "ename": "IndexError",
     "evalue": "list index out of range",
     "output_type": "error",
     "traceback": [
      "\u001b[0;31m---------------------------------------------------------------------------\u001b[0m",
      "\u001b[0;31mIndexError\u001b[0m                                Traceback (most recent call last)",
      "\u001b[0;32m<ipython-input-8-38a61a8929b8>\u001b[0m in \u001b[0;36m<module>\u001b[0;34m()\u001b[0m\n\u001b[1;32m     13\u001b[0m \u001b[0mlFilesPred\u001b[0m\u001b[0;34m=\u001b[0m\u001b[0;34m[\u001b[0m\u001b[0msFilePred1\u001b[0m\u001b[0;34m,\u001b[0m\u001b[0msFilePred2\u001b[0m\u001b[0;34m]\u001b[0m\u001b[0;34m;\u001b[0m\u001b[0;34m\u001b[0m\u001b[0m\n\u001b[1;32m     14\u001b[0m \u001b[0;34m\u001b[0m\u001b[0m\n\u001b[0;32m---> 15\u001b[0;31m \u001b[0mvPredictions\u001b[0m\u001b[0;34m,\u001b[0m \u001b[0mvParID\u001b[0m\u001b[0;34m,\u001b[0m \u001b[0mvTrueLabels\u001b[0m\u001b[0;34m,\u001b[0m \u001b[0mvRes1\u001b[0m\u001b[0;34m,\u001b[0m\u001b[0mvRes2\u001b[0m\u001b[0;34m,\u001b[0m \u001b[0mclf\u001b[0m \u001b[0;34m=\u001b[0m \u001b[0mRandomForest_fusion\u001b[0m \u001b[0;34m(\u001b[0m\u001b[0mlFilesPred\u001b[0m\u001b[0;34m,\u001b[0m \u001b[0msFileLabels\u001b[0m\u001b[0;34m,\u001b[0m \u001b[0mn_estimators\u001b[0m\u001b[0;34m,\u001b[0m \u001b[0msTypeLabel\u001b[0m\u001b[0;34m,\u001b[0m \u001b[0mnudge\u001b[0m\u001b[0;34m,\u001b[0m \u001b[0mrLR\u001b[0m\u001b[0;34m,\u001b[0m \u001b[0miMD\u001b[0m\u001b[0;34m,\u001b[0m\u001b[0miRS\u001b[0m\u001b[0;34m)\u001b[0m\u001b[0;34m\u001b[0m\u001b[0m\n\u001b[0m\u001b[1;32m     16\u001b[0m \u001b[0;34m\u001b[0m\u001b[0m\n\u001b[1;32m     17\u001b[0m \u001b[0mprint\u001b[0m\u001b[0;34m(\u001b[0m\u001b[0;34m'Overall MSE Classif. 1 : '\u001b[0m\u001b[0;34m,\u001b[0m \u001b[0mget_final_score\u001b[0m\u001b[0;34m(\u001b[0m\u001b[0mvTrueLabels\u001b[0m\u001b[0;34m,\u001b[0m\u001b[0mnp\u001b[0m\u001b[0;34m.\u001b[0m\u001b[0marray\u001b[0m\u001b[0;34m(\u001b[0m\u001b[0mvParID\u001b[0m\u001b[0;34m)\u001b[0m\u001b[0;34m.\u001b[0m\u001b[0mastype\u001b[0m\u001b[0;34m(\u001b[0m\u001b[0mint\u001b[0m\u001b[0;34m)\u001b[0m\u001b[0;34m,\u001b[0m \u001b[0mvRes1\u001b[0m\u001b[0;34m)\u001b[0m\u001b[0;34m)\u001b[0m\u001b[0;34m\u001b[0m\u001b[0m\n",
      "\u001b[0;32m<ipython-input-4-2c88a3772096>\u001b[0m in \u001b[0;36mRandomForest_fusion\u001b[0;34m(lFilesPred, sFileLabels, iEstimators, sTypeLabel, nudge, rLR, iMD, iRS)\u001b[0m\n\u001b[1;32m      7\u001b[0m     \u001b[0;32mwith\u001b[0m \u001b[0mopen\u001b[0m\u001b[0;34m(\u001b[0m\u001b[0msFileLabels\u001b[0m\u001b[0;34m,\u001b[0m \u001b[0mmode\u001b[0m\u001b[0;34m=\u001b[0m\u001b[0;34m'r'\u001b[0m\u001b[0;34m)\u001b[0m \u001b[0;32mas\u001b[0m \u001b[0minfile\u001b[0m\u001b[0;34m:\u001b[0m\u001b[0;34m\u001b[0m\u001b[0m\n\u001b[1;32m      8\u001b[0m         \u001b[0mreader\u001b[0m \u001b[0;34m=\u001b[0m \u001b[0mcsv\u001b[0m\u001b[0;34m.\u001b[0m\u001b[0mreader\u001b[0m\u001b[0;34m(\u001b[0m\u001b[0minfile\u001b[0m\u001b[0;34m)\u001b[0m\u001b[0;34m\u001b[0m\u001b[0m\n\u001b[0;32m----> 9\u001b[0;31m         \u001b[0mdOnOff\u001b[0m\u001b[0;34m=\u001b[0m \u001b[0;34m{\u001b[0m\u001b[0mrows\u001b[0m\u001b[0;34m[\u001b[0m\u001b[0;36m0\u001b[0m\u001b[0;34m]\u001b[0m\u001b[0;34m:\u001b[0m\u001b[0mrows\u001b[0m\u001b[0;34m[\u001b[0m\u001b[0;36m2\u001b[0m\u001b[0;34m]\u001b[0m \u001b[0;32mfor\u001b[0m \u001b[0mrows\u001b[0m \u001b[0;32min\u001b[0m \u001b[0mreader\u001b[0m\u001b[0;34m}\u001b[0m \u001b[0;31m#on-off label\u001b[0m\u001b[0;34m\u001b[0m\u001b[0m\n\u001b[0m\u001b[1;32m     10\u001b[0m     \u001b[0;32mwith\u001b[0m \u001b[0mopen\u001b[0m\u001b[0;34m(\u001b[0m\u001b[0msFileLabels\u001b[0m\u001b[0;34m,\u001b[0m \u001b[0mmode\u001b[0m\u001b[0;34m=\u001b[0m\u001b[0;34m'r'\u001b[0m\u001b[0;34m)\u001b[0m \u001b[0;32mas\u001b[0m \u001b[0minfile\u001b[0m\u001b[0;34m:\u001b[0m\u001b[0;34m\u001b[0m\u001b[0m\n\u001b[1;32m     11\u001b[0m         \u001b[0mreader\u001b[0m \u001b[0;34m=\u001b[0m \u001b[0mcsv\u001b[0m\u001b[0;34m.\u001b[0m\u001b[0mreader\u001b[0m\u001b[0;34m(\u001b[0m\u001b[0minfile\u001b[0m\u001b[0;34m)\u001b[0m\u001b[0;34m\u001b[0m\u001b[0m\n",
      "\u001b[0;32m<ipython-input-4-2c88a3772096>\u001b[0m in \u001b[0;36m<dictcomp>\u001b[0;34m(.0)\u001b[0m\n\u001b[1;32m      7\u001b[0m     \u001b[0;32mwith\u001b[0m \u001b[0mopen\u001b[0m\u001b[0;34m(\u001b[0m\u001b[0msFileLabels\u001b[0m\u001b[0;34m,\u001b[0m \u001b[0mmode\u001b[0m\u001b[0;34m=\u001b[0m\u001b[0;34m'r'\u001b[0m\u001b[0;34m)\u001b[0m \u001b[0;32mas\u001b[0m \u001b[0minfile\u001b[0m\u001b[0;34m:\u001b[0m\u001b[0;34m\u001b[0m\u001b[0m\n\u001b[1;32m      8\u001b[0m         \u001b[0mreader\u001b[0m \u001b[0;34m=\u001b[0m \u001b[0mcsv\u001b[0m\u001b[0;34m.\u001b[0m\u001b[0mreader\u001b[0m\u001b[0;34m(\u001b[0m\u001b[0minfile\u001b[0m\u001b[0;34m)\u001b[0m\u001b[0;34m\u001b[0m\u001b[0m\n\u001b[0;32m----> 9\u001b[0;31m         \u001b[0mdOnOff\u001b[0m\u001b[0;34m=\u001b[0m \u001b[0;34m{\u001b[0m\u001b[0mrows\u001b[0m\u001b[0;34m[\u001b[0m\u001b[0;36m0\u001b[0m\u001b[0;34m]\u001b[0m\u001b[0;34m:\u001b[0m\u001b[0mrows\u001b[0m\u001b[0;34m[\u001b[0m\u001b[0;36m2\u001b[0m\u001b[0;34m]\u001b[0m \u001b[0;32mfor\u001b[0m \u001b[0mrows\u001b[0m \u001b[0;32min\u001b[0m \u001b[0mreader\u001b[0m\u001b[0;34m}\u001b[0m \u001b[0;31m#on-off label\u001b[0m\u001b[0;34m\u001b[0m\u001b[0m\n\u001b[0m\u001b[1;32m     10\u001b[0m     \u001b[0;32mwith\u001b[0m \u001b[0mopen\u001b[0m\u001b[0;34m(\u001b[0m\u001b[0msFileLabels\u001b[0m\u001b[0;34m,\u001b[0m \u001b[0mmode\u001b[0m\u001b[0;34m=\u001b[0m\u001b[0;34m'r'\u001b[0m\u001b[0;34m)\u001b[0m \u001b[0;32mas\u001b[0m \u001b[0minfile\u001b[0m\u001b[0;34m:\u001b[0m\u001b[0;34m\u001b[0m\u001b[0m\n\u001b[1;32m     11\u001b[0m         \u001b[0mreader\u001b[0m \u001b[0;34m=\u001b[0m \u001b[0mcsv\u001b[0m\u001b[0;34m.\u001b[0m\u001b[0mreader\u001b[0m\u001b[0;34m(\u001b[0m\u001b[0minfile\u001b[0m\u001b[0;34m)\u001b[0m\u001b[0;34m\u001b[0m\u001b[0m\n",
      "\u001b[0;31mIndexError\u001b[0m: list index out of range"
     ]
    }
   ],
   "source": [
    "#sFilePred1='/export/b15/nchen/BeatPD/cispd.kfold_prediction_on_off.csv'\n",
    "sFilePred1='/export/b15/nchen/BeatPD/new_features/submission/cis-pd.dyskinesia.csv'\n",
    "sFilePred2='/export/b15/nchen/BeatPD/new_features/submission/cis-pd.dyskinesia.csv'\n",
    "sTypeLabel='on_off'\n",
    "n_estimators=300\n",
    "rLR=0.1\n",
    "iMD=1\n",
    "iRS=15\n",
    "nudge=100\n",
    "sFileLabels=sFilePred1\n",
    "\n",
    "lFilesPred=[sFilePred1,sFilePred2];\n",
    "\n",
    "vPredictions, vParID, vTrueLabels, vRes1,\\\n",
    "vRes2, clf = RandomForest_fusion (lFilesPred, sFileLabels, n_estimators, sTypeLabel, nudge, rLR, iMD,iRS)\n",
    "\n",
    "print('Overall MSE Classif. 1 : ', get_final_score(vTrueLabels,np.array(vParID).astype(int), vRes1))\n",
    "print('Overall MSE Classif. 2 : ', get_final_score(vTrueLabels, vParID, vRes2))\n",
    "print('Overall MSE Fusion : ', get_final_score(vPredCross, vParIDCross,vTrueCross))\n",
    "\n",
    "\n",
    "\n",
    "\n",
    "sTestPred1='/export/b15/nchen/BeatPD/new_features/submission/cis-pd.dyskinesia.csv'\n",
    "sTestPred2='/export/c08/lmorove1/kaldi/egs/beatPDivec/on_off_noinact_auto30/exp/ivec_450/resiVecSVR_Fold/On_off_testing.csv'\n",
    "lTestPred=[sTestPred1,sTestPred2]\n",
    "\n",
    "sDirOut='/'\n",
    "sName='on_off'\n",
    "#lmesID, vTestPred = randomForest_predTest(lTestPred, clf, sDirOut, sName)\n",
    "#print(vTestPred)\n",
    "\n",
    "\n"
   ]
  },
  {
   "cell_type": "markdown",
   "metadata": {},
   "source": [
    "### Tremor - Submission 2"
   ]
  },
  {
   "cell_type": "code",
   "execution_count": 5,
   "metadata": {},
   "outputs": [
    {
     "ename": "NameError",
     "evalue": "name 'RandomForest_fusion' is not defined",
     "output_type": "error",
     "traceback": [
      "\u001b[0;31m---------------------------------------------------------------------------\u001b[0m",
      "\u001b[0;31mNameError\u001b[0m                                 Traceback (most recent call last)",
      "\u001b[0;32m<ipython-input-5-c5a99f3b004d>\u001b[0m in \u001b[0;36m<module>\u001b[0;34m\u001b[0m\n\u001b[1;32m      8\u001b[0m \u001b[0mlFilesPred\u001b[0m\u001b[0;34m=\u001b[0m\u001b[0;34m[\u001b[0m\u001b[0msFilePred1\u001b[0m\u001b[0;34m,\u001b[0m\u001b[0msFilePred2\u001b[0m\u001b[0;34m]\u001b[0m\u001b[0;34m;\u001b[0m\u001b[0;34m\u001b[0m\u001b[0;34m\u001b[0m\u001b[0m\n\u001b[1;32m      9\u001b[0m \u001b[0;34m\u001b[0m\u001b[0m\n\u001b[0;32m---> 10\u001b[0;31m \u001b[0mvPredictions\u001b[0m\u001b[0;34m,\u001b[0m \u001b[0mvParID\u001b[0m\u001b[0;34m,\u001b[0m \u001b[0mvTrueLabels\u001b[0m\u001b[0;34m,\u001b[0m \u001b[0mvRes1\u001b[0m\u001b[0;34m,\u001b[0m \u001b[0mvRes2\u001b[0m\u001b[0;34m,\u001b[0m \u001b[0mclf\u001b[0m \u001b[0;34m=\u001b[0m \u001b[0mRandomForest_fusion\u001b[0m \u001b[0;34m(\u001b[0m\u001b[0mlFilesPred\u001b[0m\u001b[0;34m,\u001b[0m \u001b[0msFileLabels\u001b[0m\u001b[0;34m,\u001b[0m \u001b[0mn_estimators\u001b[0m\u001b[0;34m,\u001b[0m \u001b[0msTypeLabel\u001b[0m\u001b[0;34m)\u001b[0m\u001b[0;34m\u001b[0m\u001b[0;34m\u001b[0m\u001b[0m\n\u001b[0m\u001b[1;32m     11\u001b[0m \u001b[0;34m\u001b[0m\u001b[0m\n\u001b[1;32m     12\u001b[0m \u001b[0msTestPred1\u001b[0m\u001b[0;34m=\u001b[0m\u001b[0;34m'/export/b15/nchen/BeatPD/submission/cis-pd.tremor.csv'\u001b[0m\u001b[0;34m\u001b[0m\u001b[0;34m\u001b[0m\u001b[0m\n",
      "\u001b[0;31mNameError\u001b[0m: name 'RandomForest_fusion' is not defined"
     ]
    }
   ],
   "source": [
    "# tsfresh predictions file \n",
    "sFilePred1='/export/b15/nchen/BeatPD/new_features/kfold_prediction_tremor.csv'\n",
    "\n",
    "# SVR predictions file \n",
    "sFilePred2='/export/c08/lmorove1/kaldi/egs/beatPDivec/trem_noinact_auto30/exp/ivec_450/resiVecSVR_Fold_all/objs_450_kernel_linear_c_0.02_eps_0.1.csv'\n",
    "\n",
    "# subchallenge \n",
    "sTypeLabel='tremor'\n",
    "\n",
    "# RandomForest hyperparameter \n",
    "n_estimators=5\n",
    "\n",
    "# Labels\n",
    "sFileLabels='/export/b18/sjoshi/BeatPD/data/BeatPD/cis-pd.data_labels/CIS-PD_Training_Data_IDs_Labels.csv'\n",
    "\n",
    "\n",
    "lFilesPred=[sFilePred1,sFilePred2];\n",
    "\n",
    "vPredictions, vParID, vTrueLabels, vRes1, vRes2, clf = RandomForest_fusion(lFilesPred,\n",
    "                                                                           sFileLabels,\n",
    "                                                                           n_estimators,\n",
    "                                                                           sTypeLabel)\n",
    "\n",
    "sTestPred1='/export/b15/nchen/BeatPD/submission/cis-pd.tremor.csv'\n",
    "sTestPred2='/export/c08/lmorove1/kaldi/egs/beatPDivec/trem_noinact_auto30/exp/ivec_450/resiVecSVR_Fold/Tremor_testing.csv'\n",
    "lTestPred=[sTestPred1,sTestPred2]\n",
    "\n",
    "sDirOut='/export/c08/lmorove1/kaldi/egs/beatPDivec/jupyternotebooks/submissionFiles/'\n",
    "sName='tremor'\n",
    "lmesID, vTestPred = randomForest_predTest(lTestPred, clf, sDirOut, sName)\n",
    "print(vTestPred)\n",
    "\n"
   ]
  },
  {
   "cell_type": "markdown",
   "metadata": {},
   "source": [
    "### Dyskinesia"
   ]
  },
  {
   "cell_type": "code",
   "execution_count": null,
   "metadata": {},
   "outputs": [],
   "source": [
    "#sFilePred1='/export/b15/nchen/BeatPD/cispd.kfold_prediction_dyskinesia.csv'\n",
    "sFilePred1='/export/b15/nchen/BeatPD/new_features/kfold_prediction_dyskinesia.csv'\n",
    "sFilePred2='/export/c08/lmorove1/kaldi/egs/beatPDivec/v1_dysk_auto/exp/ivec_500/resiVecSVR_Fold_all/objs_500_kernel_linear_c_0.002_eps_0.1.csv'\n",
    "sTypeLabel='dyskinesia'\n",
    "n_estimators=5\n",
    "sFileLabels='/export/b18/sjoshi/BeatPD/data/BeatPD/cis-pd.data_labels/CIS-PD_Training_Data_IDs_Labels.csv'\n",
    "\n",
    "lFilesPred=[sFilePred1,sFilePred2];\n",
    "\n",
    "vPredictions, vParID, vTrueLabels, vRes1, vRes2, clf = RandomForest_fusion (lFilesPred, sFileLabels, n_estimators, sTypeLabel)\n",
    "\n",
    "sTestPred1='/export/b15/nchen/BeatPD/submission/cis-pd.dyskinesia.csv'\n",
    "sTestPred2='/export/c08/lmorove1/kaldi/egs/beatPDivec/v1_dysk_auto/exp/ivec_500/resiVecSVR_Fold/Dyskinesia_testing.csv'\n",
    "lTestPred=[sTestPred1,sTestPred2]\n",
    "\n",
    "sDirOut='/export/c08/lmorove1/kaldi/egs/beatPDivec/jupyternotebooks/submissionFiles/'\n",
    "sName='z_dyskinesia'\n",
    "lmesID, vTestPred = randomForest_predTest(lTestPred, clf, sDirOut, sName)\n",
    "print(vTestPred)\n",
    "\n"
   ]
  },
  {
   "cell_type": "markdown",
   "metadata": {},
   "source": [
    "## Submission 4 - Average of predictions "
   ]
  },
  {
   "cell_type": "code",
   "execution_count": null,
   "metadata": {},
   "outputs": [],
   "source": []
  }
 ],
 "metadata": {
  "kernelspec": {
   "display_name": "Python 3",
   "language": "python",
   "name": "python3"
  },
  "language_info": {
   "codemirror_mode": {
    "name": "ipython",
    "version": 3
   },
   "file_extension": ".py",
   "mimetype": "text/x-python",
   "name": "python",
   "nbconvert_exporter": "python",
   "pygments_lexer": "ipython3",
   "version": "3.7.3"
  }
 },
 "nbformat": 4,
 "nbformat_minor": 4
}
