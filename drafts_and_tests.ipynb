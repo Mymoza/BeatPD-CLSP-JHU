{
 "cells": [
  {
   "cell_type": "code",
   "execution_count": null,
   "metadata": {},
   "outputs": [],
   "source": [
    "from tsfresh.examples.robot_execution_failures import download_robot_execution_failures, \\\n",
    "    load_robot_execution_failures\n",
    "download_robot_execution_failures()\n",
    "timeseries, y = load_robot_execution_failures()"
   ]
  },
  {
   "cell_type": "code",
   "execution_count": null,
   "metadata": {},
   "outputs": [],
   "source": [
    "print(timeseries.head())"
   ]
  },
  {
   "cell_type": "code",
   "execution_count": null,
   "metadata": {},
   "outputs": [],
   "source": [
    "print(y.head())"
   ]
  },
  {
   "cell_type": "code",
   "execution_count": null,
   "metadata": {},
   "outputs": [],
   "source": [
    "import matplotlib.pyplot as plt\n",
    "timeseries[timeseries['id'] == 3].plot(subplots=True, sharex=True, figsize=(10,10))\n",
    "plt.show()"
   ]
  },
  {
   "cell_type": "code",
   "execution_count": null,
   "metadata": {},
   "outputs": [],
   "source": [
    "timeseries[timeseries['id'] == 21].plot(subplots=True, sharex=True, figsize=(10,10))\n",
    "plt.show()"
   ]
  },
  {
   "cell_type": "markdown",
   "metadata": {},
   "source": [
    "## For extracting all features with tsfresh"
   ]
  },
  {
   "cell_type": "code",
   "execution_count": null,
   "metadata": {},
   "outputs": [],
   "source": [
    "from tsfresh import extract_features\n",
    "# DataFrame extracted_features with more than 1200 different extracted features \n",
    "extracted_features = extract_features(timeseries, column_id=\"id\", column_sort=\"time\")"
   ]
  },
  {
   "cell_type": "code",
   "execution_count": null,
   "metadata": {},
   "outputs": [],
   "source": [
    "# We will now remove all NaN values that were created but cannot be used on the given data \n",
    "\n",
    "from tsfresh import select_features\n",
    "from tsfresh.utilities.dataframe_functions import impute\n",
    "\n",
    "impute(extracted_features)\n",
    "\n",
    "# We select only relevant features \n",
    "features_filtered = select_features(extracted_features, y)"
   ]
  },
  {
   "cell_type": "code",
   "execution_count": null,
   "metadata": {},
   "outputs": [],
   "source": [
    "# Extract, impute and filter at the same time \n",
    "from tsfresh import extract_relevant_features\n",
    "\n",
    "features_filtered_direct = extract_relevant_features(timeseries, y,\n",
    "                                                     column_id='id', column_sort='time')"
   ]
  },
  {
   "cell_type": "code",
   "execution_count": 1,
   "metadata": {},
   "outputs": [
    {
     "ename": "NameError",
     "evalue": "name 'allo' is not defined",
     "output_type": "error",
     "traceback": [
      "\u001b[0;31m---------------------------------------------------------------------------\u001b[0m",
      "\u001b[0;31mNameError\u001b[0m                                 Traceback (most recent call last)",
      "\u001b[0;32m<ipython-input-1-69faafb743f0>\u001b[0m in \u001b[0;36m<module>\u001b[0;34m\u001b[0m\n\u001b[0;32m----> 1\u001b[0;31m \u001b[0mallo\u001b[0m\u001b[0;34m\u001b[0m\u001b[0;34m\u001b[0m\u001b[0m\n\u001b[0m",
      "\u001b[0;31mNameError\u001b[0m: name 'allo' is not defined"
     ]
    }
   ],
   "source": [
    "allo"
   ]
  },
  {
   "cell_type": "code",
   "execution_count": 47,
   "metadata": {},
   "outputs": [
    {
     "name": "stdout",
     "output_type": "stream",
     "text": [
      "The autoreload extension is already loaded. To reload it, use:\n",
      "  %reload_ext autoreload\n"
     ]
    }
   ],
   "source": [
    "%load_ext autoreload\n",
    "%autoreload 2\n",
    "from pca_everyone_svr_bpd import *\n",
    "\n",
    "sFileTrai=\"/export/c08/lmorove1/kaldi/egs/beatPDivec/v1_autoenc/exp/ivec_100/ivectors_Training_Fold0/ivector.scp\"\n",
    "sFileTest=\"/export/c08/lmorove1/kaldi/egs/beatPDivec/v1_autoenc/exp/ivec_100/ivectors_Testing_Fold0/ivector.scp\"\n",
    "iComponents=50\n",
    "\n",
    "vTraiPCA, vLTrai, vTraiSubjectId, vTestPCA, vLTest, vTestSubjectId, vTestMeasurementId = pca(sFileTrai, sFileTest, iComponents)"
   ]
  },
  {
   "cell_type": "code",
   "execution_count": 2,
   "metadata": {},
   "outputs": [
    {
     "ename": "NameError",
     "evalue": "name 'vTraiSubjectId' is not defined",
     "output_type": "error",
     "traceback": [
      "\u001b[0;31m---------------------------------------------------------------------------\u001b[0m",
      "\u001b[0;31mNameError\u001b[0m                                 Traceback (most recent call last)",
      "\u001b[0;32m<ipython-input-2-394b822f7f96>\u001b[0m in \u001b[0;36m<module>\u001b[0;34m\u001b[0m\n\u001b[1;32m      1\u001b[0m \u001b[0;32mfrom\u001b[0m \u001b[0msklearn\u001b[0m\u001b[0;34m.\u001b[0m\u001b[0mpreprocessing\u001b[0m \u001b[0;32mimport\u001b[0m \u001b[0mOneHotEncoder\u001b[0m\u001b[0;34m\u001b[0m\u001b[0;34m\u001b[0m\u001b[0m\n\u001b[1;32m      2\u001b[0m \u001b[0;32mimport\u001b[0m \u001b[0mnumpy\u001b[0m \u001b[0;32mas\u001b[0m \u001b[0mnp\u001b[0m\u001b[0;34m\u001b[0m\u001b[0;34m\u001b[0m\u001b[0m\n\u001b[0;32m----> 3\u001b[0;31m \u001b[0muniq_subjectid\u001b[0m \u001b[0;34m=\u001b[0m \u001b[0mnp\u001b[0m\u001b[0;34m.\u001b[0m\u001b[0munique\u001b[0m\u001b[0;34m(\u001b[0m\u001b[0mvTraiSubjectId\u001b[0m\u001b[0;34m)\u001b[0m\u001b[0;34m\u001b[0m\u001b[0;34m\u001b[0m\u001b[0m\n\u001b[0m\u001b[1;32m      4\u001b[0m \u001b[0menc\u001b[0m \u001b[0;34m=\u001b[0m \u001b[0mOneHotEncoder\u001b[0m\u001b[0;34m(\u001b[0m\u001b[0mhandle_unknown\u001b[0m\u001b[0;34m=\u001b[0m\u001b[0;34m'ignore'\u001b[0m\u001b[0;34m)\u001b[0m\u001b[0;34m.\u001b[0m\u001b[0mfit\u001b[0m\u001b[0;34m(\u001b[0m\u001b[0muniq_subjectid\u001b[0m\u001b[0;34m.\u001b[0m\u001b[0mreshape\u001b[0m\u001b[0;34m(\u001b[0m\u001b[0;34m-\u001b[0m\u001b[0;36m1\u001b[0m\u001b[0;34m,\u001b[0m\u001b[0;36m1\u001b[0m\u001b[0;34m)\u001b[0m\u001b[0;34m)\u001b[0m\u001b[0;34m\u001b[0m\u001b[0;34m\u001b[0m\u001b[0m\n\u001b[1;32m      5\u001b[0m \u001b[0mprint\u001b[0m\u001b[0;34m(\u001b[0m\u001b[0muniq_subjectid\u001b[0m\u001b[0;34m.\u001b[0m\u001b[0mreshape\u001b[0m\u001b[0;34m(\u001b[0m\u001b[0;34m-\u001b[0m\u001b[0;36m1\u001b[0m\u001b[0;34m,\u001b[0m\u001b[0;36m1\u001b[0m\u001b[0;34m)\u001b[0m\u001b[0;34m.\u001b[0m\u001b[0mshape\u001b[0m\u001b[0;34m)\u001b[0m\u001b[0;34m\u001b[0m\u001b[0;34m\u001b[0m\u001b[0m\n",
      "\u001b[0;31mNameError\u001b[0m: name 'vTraiSubjectId' is not defined"
     ]
    }
   ],
   "source": [
    "from sklearn.preprocessing import OneHotEncoder\n",
    "import numpy as np \n",
    "uniq_subjectid = np.unique(vTraiSubjectId)\n",
    "enc = OneHotEncoder(handle_unknown='ignore').fit(uniq_subjectid.reshape(-1,1))\n",
    "print(uniq_subjectid.reshape(-1,1).shape)\n",
    "print(enc)\n",
    "temp = enc.transform([[1004]]).toarray()\n",
    "print(temp.shape)\n",
    "temp2 = np.repeat(temp,61,axis=0)\n",
    "temp2.shape\n",
    "#temp3 = np.random.rand(61,50)\n",
    "#temp4 = np.concatenate((temp3,temp2),axis=1)\n",
    "#print(temp4.shape)"
   ]
  },
  {
   "cell_type": "code",
   "execution_count": 48,
   "metadata": {},
   "outputs": [
    {
     "name": "stdout",
     "output_type": "stream",
     "text": [
      "1386\n",
      "<class 'numpy.ndarray'>\n",
      "aaaaaaaaaaaaaaaaaaaaaaaaaaahhhhhhhhhhhhggggggggggggggg\n",
      "----- 1004----- \n",
      "Using SVR\n",
      "vMNTraiPCA_subjectid shape :  (63, 65)\n",
      "----- 1006----- \n",
      "Using SVR\n",
      "vMNTraiPCA_subjectid shape :  (28, 65)\n",
      "----- 1007----- \n",
      "Using SVR\n",
      "vMNTraiPCA_subjectid shape :  (219, 65)\n",
      "----- 1019----- \n",
      "Using SVR\n",
      "vMNTraiPCA_subjectid shape :  (35, 65)\n",
      "----- 1020----- \n",
      "Using SVR\n",
      "vMNTraiPCA_subjectid shape :  (154, 65)\n",
      "----- 1023----- \n",
      "Using SVR\n",
      "vMNTraiPCA_subjectid shape :  (82, 65)\n",
      "----- 1032----- \n",
      "Using SVR\n",
      "vMNTraiPCA_subjectid shape :  (139, 65)\n",
      "----- 1034----- \n",
      "Using SVR\n",
      "vMNTraiPCA_subjectid shape :  (30, 65)\n",
      "----- 1038----- \n",
      "Using SVR\n",
      "vMNTraiPCA_subjectid shape :  (164, 65)\n",
      "----- 1039----- \n",
      "Using SVR\n",
      "vMNTraiPCA_subjectid shape :  (101, 65)\n",
      "----- 1043----- \n",
      "Using SVR\n",
      "vMNTraiPCA_subjectid shape :  (25, 65)\n",
      "----- 1044----- \n",
      "Using SVR\n",
      "vMNTraiPCA_subjectid shape :  (57, 65)\n",
      "----- 1048----- \n",
      "Using SVR\n",
      "vMNTraiPCA_subjectid shape :  (71, 65)\n",
      "----- 1049----- \n",
      "Using SVR\n",
      "vMNTraiPCA_subjectid shape :  (64, 65)\n",
      "----- 1051----- \n",
      "Using SVR\n",
      "vMNTraiPCA_subjectid shape :  (154, 65)\n",
      "Training R2:  -0.05555828573674093\n",
      "Testing R2:  -0.08600866026033716\n",
      "----- 1004----- \n",
      "mean_squared_error train for subject id:  1.2044595272250904\n",
      "mean_squared_error test for subject id:  1.742672343257519\n",
      "----- 1006----- \n",
      "mean_squared_error train for subject id:  0.2024770094287315\n",
      "mean_squared_error test for subject id:  0.4695106560244804\n",
      "----- 1007----- \n",
      "mean_squared_error train for subject id:  1.8132980618718937\n",
      "mean_squared_error test for subject id:  1.8718376124219007\n",
      "----- 1019----- \n",
      "mean_squared_error train for subject id:  2.7171052378868197\n",
      "mean_squared_error test for subject id:  2.794385902708857\n",
      "----- 1020----- \n",
      "mean_squared_error train for subject id:  0.9487727428433386\n",
      "mean_squared_error test for subject id:  1.159185722891245\n",
      "----- 1023----- \n",
      "mean_squared_error train for subject id:  1.8828250680888636\n",
      "mean_squared_error test for subject id:  2.0670771592615704\n",
      "----- 1032----- \n",
      "mean_squared_error train for subject id:  0.7874082722243858\n",
      "mean_squared_error test for subject id:  0.9415483787099505\n",
      "----- 1034----- \n",
      "mean_squared_error train for subject id:  1.2974070970796165\n",
      "mean_squared_error test for subject id:  1.5352208834880423\n",
      "----- 1038----- \n",
      "mean_squared_error train for subject id:  3.398910713963172\n",
      "mean_squared_error test for subject id:  3.6207327365015405\n",
      "----- 1039----- \n",
      "mean_squared_error train for subject id:  1.093629767123641\n",
      "mean_squared_error test for subject id:  1.2413242693857078\n",
      "----- 1043----- \n",
      "mean_squared_error train for subject id:  1.6110935807946287\n",
      "mean_squared_error test for subject id:  2.5987924747908533\n",
      "----- 1044----- \n",
      "mean_squared_error train for subject id:  0.24567064201350827\n",
      "mean_squared_error test for subject id:  0.2476409203816358\n",
      "----- 1048----- \n",
      "mean_squared_error train for subject id:  1.073941833948405\n",
      "mean_squared_error test for subject id:  1.2439333507420354\n",
      "----- 1049----- \n",
      "mean_squared_error train for subject id:  1.121145956912863\n",
      "mean_squared_error test for subject id:  1.2210017650060567\n",
      "----- 1051----- \n",
      "mean_squared_error train for subject id:  1.4986407639285493\n",
      "mean_squared_error test for subject id:  1.5675534352394145\n",
      "Training Final score :  1.4592605629014808\n",
      "sOut :  /home/mpgill/BeatPD/BeatPD-CLSP-JHU/ResiVecEveryoneSVRFold4\n",
      "----- GLOBAL -----\n",
      "PCAComponents: 50\n",
      "Global training R2: -0.05555828573674093\n",
      "Global testing R2: -0.08600866026033716\n"
     ]
    }
   ],
   "source": [
    "print(len(vTraiSubjectId))\n",
    "print(type(vTestMeasurementId))\n",
    "\n",
    "sOut=\"/home/mpgill/BeatPD/BeatPD-CLSP-JHU/ResiVecEveryoneSVRFold4\"\n",
    "iNeighbors=None\n",
    "pca_knn_bpd2(sFileTrai, sFileTest, sOut, iComponents, iNeighbors, sKernel='linear', fCValue=0.02, fEpsilon='0.01')"
   ]
  },
  {
   "cell_type": "code",
   "execution_count": 53,
   "metadata": {},
   "outputs": [
    {
     "name": "stdout",
     "output_type": "stream",
     "text": [
      "The autoreload extension is already loaded. To reload it, use:\n",
      "  %reload_ext autoreload\n",
      "(1145, 50)\n",
      "aaaaaaaaaaaaaaaaaaaaaaaaaaahhhhhhhhhhhhggggggggggggggg\n",
      "----- 1004----- \n",
      "Using SVR\n",
      "vTraiPCA.shape  (1145, 50)\n",
      "vTraiPCA_subjectid.shape :  (63, 50)\n",
      "vMNTraiPCA_subjectid shape :  (63, 63)\n"
     ]
    },
    {
     "ename": "ValueError",
     "evalue": "all the input array dimensions except for the concatenation axis must match exactly",
     "output_type": "error",
     "traceback": [
      "\u001b[0;31m---------------------------------------------------------------------------\u001b[0m",
      "\u001b[0;31mValueError\u001b[0m                                Traceback (most recent call last)",
      "\u001b[0;32m<ipython-input-53-234d61904364>\u001b[0m in \u001b[0;36m<module>\u001b[0;34m\u001b[0m\n\u001b[1;32m     23\u001b[0m \u001b[0;34m\u001b[0m\u001b[0m\n\u001b[1;32m     24\u001b[0m \u001b[0;34m\u001b[0m\u001b[0m\n\u001b[0;32m---> 25\u001b[0;31m \u001b[0mpca_knn_bpd2\u001b[0m\u001b[0;34m(\u001b[0m\u001b[0msFileTrai\u001b[0m\u001b[0;34m,\u001b[0m \u001b[0msFileTest\u001b[0m\u001b[0;34m,\u001b[0m \u001b[0msOut\u001b[0m\u001b[0;34m,\u001b[0m \u001b[0miComponents\u001b[0m\u001b[0;34m,\u001b[0m \u001b[0miNeighbors\u001b[0m\u001b[0;34m,\u001b[0m \u001b[0msKernel\u001b[0m\u001b[0;34m=\u001b[0m\u001b[0;34m'linear'\u001b[0m\u001b[0;34m,\u001b[0m \u001b[0mfCValue\u001b[0m\u001b[0;34m=\u001b[0m\u001b[0;36m0.02\u001b[0m\u001b[0;34m,\u001b[0m \u001b[0mfEpsilon\u001b[0m\u001b[0;34m=\u001b[0m\u001b[0;34m'0.01'\u001b[0m\u001b[0;34m)\u001b[0m\u001b[0;34m\u001b[0m\u001b[0;34m\u001b[0m\u001b[0m\n\u001b[0m",
      "\u001b[0;32m~/BeatPD/BeatPD-CLSP-JHU/pca_everyone_svr_bpd.py\u001b[0m in \u001b[0;36mpca_knn_bpd2\u001b[0;34m(sFileTrai, sFileTest, sOut, iComponents, iNeighbors, sKernel, fCValue, fEpsilon)\u001b[0m\n\u001b[1;32m    160\u001b[0m         \u001b[0mvMNTestPCA_subjectid\u001b[0m \u001b[0;34m=\u001b[0m \u001b[0mnp\u001b[0m\u001b[0;34m.\u001b[0m\u001b[0mconcatenate\u001b[0m\u001b[0;34m(\u001b[0m\u001b[0;34m(\u001b[0m\u001b[0mvMNTestPCA_subjectid\u001b[0m\u001b[0;34m,\u001b[0m\u001b[0monehotTest_subjectid\u001b[0m\u001b[0;34m)\u001b[0m\u001b[0;34m,\u001b[0m\u001b[0maxis\u001b[0m\u001b[0;34m=\u001b[0m\u001b[0;36m1\u001b[0m\u001b[0;34m)\u001b[0m\u001b[0;34m\u001b[0m\u001b[0;34m\u001b[0m\u001b[0m\n\u001b[1;32m    161\u001b[0m \u001b[0;34m\u001b[0m\u001b[0m\n\u001b[0;32m--> 162\u001b[0;31m         \u001b[0mvTraiPCA_all\u001b[0m \u001b[0;34m=\u001b[0m \u001b[0mnp\u001b[0m\u001b[0;34m.\u001b[0m\u001b[0mconcatenate\u001b[0m\u001b[0;34m(\u001b[0m\u001b[0;34m(\u001b[0m\u001b[0mvTraiPCA_all\u001b[0m\u001b[0;34m,\u001b[0m\u001b[0mvMNTraiPCA_subjectid\u001b[0m\u001b[0;34m)\u001b[0m\u001b[0;34m,\u001b[0m\u001b[0maxis\u001b[0m\u001b[0;34m=\u001b[0m\u001b[0;36m0\u001b[0m\u001b[0;34m)\u001b[0m\u001b[0;34m\u001b[0m\u001b[0;34m\u001b[0m\u001b[0m\n\u001b[0m\u001b[1;32m    163\u001b[0m         \u001b[0mvLTrai_all\u001b[0m \u001b[0;34m=\u001b[0m \u001b[0mnp\u001b[0m\u001b[0;34m.\u001b[0m\u001b[0mconcatenate\u001b[0m\u001b[0;34m(\u001b[0m\u001b[0;34m(\u001b[0m\u001b[0mvLTrai_all\u001b[0m\u001b[0;34m,\u001b[0m\u001b[0mvLTrai_subjectid\u001b[0m\u001b[0;34m)\u001b[0m\u001b[0;34m,\u001b[0m\u001b[0maxis\u001b[0m\u001b[0;34m=\u001b[0m\u001b[0;36m0\u001b[0m\u001b[0;34m)\u001b[0m\u001b[0;34m\u001b[0m\u001b[0;34m\u001b[0m\u001b[0m\n\u001b[1;32m    164\u001b[0m         \u001b[0mvTestPCA_all\u001b[0m \u001b[0;34m=\u001b[0m \u001b[0mnp\u001b[0m\u001b[0;34m.\u001b[0m\u001b[0mconcatenate\u001b[0m\u001b[0;34m(\u001b[0m\u001b[0;34m(\u001b[0m\u001b[0mvTestPCA_all\u001b[0m\u001b[0;34m,\u001b[0m\u001b[0mvMNTestPCA_subjectid\u001b[0m\u001b[0;34m)\u001b[0m\u001b[0;34m,\u001b[0m\u001b[0maxis\u001b[0m\u001b[0;34m=\u001b[0m\u001b[0;36m0\u001b[0m\u001b[0;34m)\u001b[0m\u001b[0;34m\u001b[0m\u001b[0;34m\u001b[0m\u001b[0m\n",
      "\u001b[0;31mValueError\u001b[0m: all the input array dimensions except for the concatenation axis must match exactly"
     ]
    }
   ],
   "source": [
    "\n",
    "%load_ext autoreload\n",
    "%autoreload 2\n",
    "from pca_everyone_svr_bpd import *\n",
    "\n",
    "sFileTrai=\"/export/c08/lmorove1/kaldi/egs/beatPDivec/trem_noinact_auto60_400fl/exp/ivec_400/ivectors_Training_Fold0/ivector.scp\"\n",
    "sFileTest=\"/export/c08/lmorove1/kaldi/egs/beatPDivec/trem_noinact_auto60_400fl/exp/ivec_400/ivectors_Testing_Fold0/ivector.scp\" \n",
    "iComponents=50\n",
    "\n",
    "vTraiPCA, vLTrai, vTraiSubjectId, vTestPCA, vLTest, vTestSubjectId, vTestMeasurementId = pca(sFileTrai, sFileTest, iComponents)\n",
    "print(vTraiPCA.shape)\n",
    "\n",
    "# /home/mpgill/BeatPD/BeatPD-CLSP-JHU/pca_everyone_svr_bpd.py \n",
    "\n",
    "# sFileTrai=\"/export/c08/lmorove1/kaldi/egs/beatPDivec/v1_autoenc/exp/ivec_100/ivectors_Training_Fold0/ivector.scp\"\n",
    "# sFileTest=\"/export/c08/lmorove1/kaldi/egs/beatPDivec/v1_autoenc/exp/ivec_100/ivectors_Testing_Fold0/ivector.scp\"\n",
    "\n",
    "\n",
    "sOut=\"/export/c08/lmorove1/kaldi/egs/beatPDivec/trem_noinact_auto60_400fl/exp/ivec_400/resiVecEveryoneSVR_Fold1\"\n",
    "sKernel='linear' \n",
    "fCValue=0.00000000200000 \n",
    "fEpsilon=0.1\n",
    "\n",
    "\n",
    "pca_knn_bpd2(sFileTrai, sFileTest, sOut, iComponents, iNeighbors, sKernel='linear', fCValue=0.02, fEpsilon='0.01')"
   ]
  },
  {
   "cell_type": "code",
   "execution_count": 42,
   "metadata": {},
   "outputs": [
    {
     "name": "stdout",
     "output_type": "stream",
     "text": [
      "Looking for folder :  resiVecEveryoneSVR_Fold\\d\n",
      "lResxFolders :  ['/home/mpgill/BeatPD/BeatPD-CLSP-JHU/resiVecEveryoneSVR_Fold0', '/home/mpgill/BeatPD/BeatPD-CLSP-JHU/resiVecEveryoneSVR_Fold2', '/home/mpgill/BeatPD/BeatPD-CLSP-JHU/resiVecEveryoneSVR_Fold1', '/home/mpgill/BeatPD/BeatPD-CLSP-JHU/resiVecEveryoneSVR_Fold4', '/home/mpgill/BeatPD/BeatPD-CLSP-JHU/resiVecEveryoneSVR_Fold3']\n",
      "lObjsFiles :  ['/home/mpgill/BeatPD/BeatPD-CLSP-JHU/resiVecEveryoneSVR_Fold0/objs_everyone_50_kernel_linear_c_0.02_eps_0.01.pkl', '/home/mpgill/BeatPD/BeatPD-CLSP-JHU/resiVecEveryoneSVR_Fold2/objs_everyone_50_kernel_linear_c_0.02_eps_0.01.pkl', '/home/mpgill/BeatPD/BeatPD-CLSP-JHU/resiVecEveryoneSVR_Fold1/objs_everyone_50_kernel_linear_c_0.02_eps_0.01.pkl', '/home/mpgill/BeatPD/BeatPD-CLSP-JHU/resiVecEveryoneSVR_Fold4/objs_everyone_50_kernel_linear_c_0.02_eps_0.01.pkl', '/home/mpgill/BeatPD/BeatPD-CLSP-JHU/resiVecEveryoneSVR_Fold3/objs_everyone_50_kernel_linear_c_0.02_eps_0.01.pkl']\n",
      "Components found :  ['50']\n",
      "Kernels found :  ['linear']\n",
      "C Values found :  ['0.02']\n",
      "Epsilon found :  ['0.01']\n",
      "------ FOR KERNEL  linear ------\n",
      "------ FOR C VALUE  0.02 ------\n",
      "------ FOR EPSILON  0.01 ------\n",
      "---- FOR COMPONENT  50 ----\n",
      "sFileName :  /objs_everyone_50_kernel_linear_c_0.02_eps_0.01.pkl\n",
      "Global training R2: -0.05111579081985207\n",
      "Global testing R2: -0.08410722746455468\n",
      "Train Final score :  1.4527829910439474\n",
      "Test Final score :  1.651798859162036\n",
      "------ GLOBAL WINNER PARAMETERS ------\n",
      "Filename              /objs_everyone_50_kernel_linear_c_0.02_eps_0.0...\n",
      "Global training r2                                           -0.0511158\n",
      "Global testing r2                                            -0.0841072\n",
      "Train Final score                                               1.45278\n",
      "Test Final score                                                 1.6518\n"
     ]
    }
   ],
   "source": [
    "from get_final_scores_accuracy import get_final_scores_SVR \n",
    "\n",
    "sFilePath=\"/home/mpgill/BeatPD/BeatPD-CLSP-JHU/\"\n",
    "bKnn=False\n",
    "bSVR=False\n",
    "bEveryoneSVR=True\n",
    "\n",
    "get_final_scores_SVR(sFilePath, bKnn, bSVR, bEveryoneSVR)"
   ]
  },
  {
   "cell_type": "code",
   "execution_count": null,
   "metadata": {},
   "outputs": [],
   "source": [
    "salut = ['100001_test_5163afe8-a6b0-4ea4-b2ba-9b4501dd5912_10040',\n",
    " '100002_test_9152519b-4b57-43be-963c-dd7218495001_10040',\n",
    " '100003_test_c7312d73-cb34-4025-b8b8-5299b4033e2f_10040',\n",
    " '100004_test_cc730391-146b-420f-9255-c3185061f178_10040',\n",
    " '100005_test_cc7b822c-e310-46f0-a8ea-98c95fdb67a1_10041',\n",
    " '100006_test_5cf68c8e-0b7a-4b73-ad4f-015c7a20fb5a_10041',\n",
    " '100007_test_19a3e9ea-fce1-40b7-9457-2618970beb7b_10041',\n",
    " '100008_test_e2973da8-1250-4a7c-98d5-b165570a8aeb_10041',\n",
    " '100009_test_dc90dc36-b4e5-43ec-b3e8-47c39c763c71_10041']\n",
    "\n",
    "salut2= ['100001_test_5163afe8-a6b0-4ea4-b2ba-9b4501dd5912_hbv0401',\n",
    " '100002_test_9152519b-4b57-43be-963c-dd7218495001_hbv0401',\n",
    " '100003_test_c7312d73-cb34-4025-b8b8-5299b4033e2f_hbv0401',\n",
    " '100004_test_cc730391-146b-420f-9255-c3185061f178_hbv0401',\n",
    " '100005_test_cc7b822c-e310-46f0-a8ea-98c95fdb67a1_hbv0411',\n",
    " '100006_test_5cf68c8e-0b7a-4b73-ad4f-015c7a20fb5a_hbv0411',\n",
    " '100007_test_19a3e9ea-fce1-40b7-9457-2618970beb7b_hbv0411',\n",
    " '100008_test_e2973da8-1250-4a7c-98d5-b165570a8aeb_hbv0412',\n",
    " '100009_test_dc90dc36-b4e5-43ec-b3e8-47c39c763c71_hbv0412']\n",
    "\n",
    "\n",
    "sPattern=r'(?<=[_])(1[0-9]{3}(?<=\\d)(?!=$)|hbv[0-9]{3})'\n",
    "\n",
    "vTraiSubjectId = [re.findall(sPattern, fileName)[0] for fileName in salut]\n",
    "\n",
    "# vTraiSubjectId = np.array(([x[-5:-1] for x in np.array(salut)]))\n",
    "print(vTraiSubjectId)\n",
    "\n",
    "vTraiSubjectId2 = [re.findall(sPattern, fileName)[0] for fileName in salut2]\n",
    "print(vTraiSubjectId2)"
   ]
  },
  {
   "cell_type": "code",
   "execution_count": null,
   "metadata": {},
   "outputs": [],
   "source": []
  }
 ],
 "metadata": {
  "kernelspec": {
   "display_name": "Python 3",
   "language": "python",
   "name": "python3"
  },
  "language_info": {
   "codemirror_mode": {
    "name": "ipython",
    "version": 3
   },
   "file_extension": ".py",
   "mimetype": "text/x-python",
   "name": "python",
   "nbconvert_exporter": "python",
   "pygments_lexer": "ipython3",
   "version": "3.7.3"
  }
 },
 "nbformat": 4,
 "nbformat_minor": 2
}
