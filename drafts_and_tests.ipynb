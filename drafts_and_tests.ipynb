{
 "cells": [
  {
   "cell_type": "code",
   "execution_count": null,
   "metadata": {},
   "outputs": [],
   "source": [
    "from tsfresh.examples.robot_execution_failures import download_robot_execution_failures, \\\n",
    "    load_robot_execution_failures\n",
    "download_robot_execution_failures()\n",
    "timeseries, y = load_robot_execution_failures()"
   ]
  },
  {
   "cell_type": "code",
   "execution_count": null,
   "metadata": {},
   "outputs": [],
   "source": [
    "print(timeseries.head())"
   ]
  },
  {
   "cell_type": "code",
   "execution_count": null,
   "metadata": {},
   "outputs": [],
   "source": [
    "print(y.head())"
   ]
  },
  {
   "cell_type": "code",
   "execution_count": null,
   "metadata": {},
   "outputs": [],
   "source": [
    "import matplotlib.pyplot as plt\n",
    "timeseries[timeseries['id'] == 3].plot(subplots=True, sharex=True, figsize=(10,10))\n",
    "plt.show()"
   ]
  },
  {
   "cell_type": "code",
   "execution_count": null,
   "metadata": {},
   "outputs": [],
   "source": [
    "timeseries[timeseries['id'] == 21].plot(subplots=True, sharex=True, figsize=(10,10))\n",
    "plt.show()"
   ]
  },
  {
   "cell_type": "markdown",
   "metadata": {},
   "source": [
    "## For extracting all features with tsfresh"
   ]
  },
  {
   "cell_type": "code",
   "execution_count": null,
   "metadata": {},
   "outputs": [],
   "source": [
    "from tsfresh import extract_features\n",
    "# DataFrame extracted_features with more than 1200 different extracted features \n",
    "extracted_features = extract_features(timeseries, column_id=\"id\", column_sort=\"time\")"
   ]
  },
  {
   "cell_type": "code",
   "execution_count": null,
   "metadata": {},
   "outputs": [],
   "source": [
    "# We will now remove all NaN values that were created but cannot be used on the given data \n",
    "\n",
    "from tsfresh import select_features\n",
    "from tsfresh.utilities.dataframe_functions import impute\n",
    "\n",
    "impute(extracted_features)\n",
    "\n",
    "# We select only relevant features \n",
    "features_filtered = select_features(extracted_features, y)"
   ]
  },
  {
   "cell_type": "code",
   "execution_count": null,
   "metadata": {},
   "outputs": [],
   "source": [
    "# Extract, impute and filter at the same time \n",
    "from tsfresh import extract_relevant_features\n",
    "\n",
    "features_filtered_direct = extract_relevant_features(timeseries, y,\n",
    "                                                     column_id='id', column_sort='time')"
   ]
  },
  {
   "cell_type": "code",
   "execution_count": null,
   "metadata": {},
   "outputs": [],
   "source": [
    "%load_ext autoreload\n",
    "%autoreload 2\n",
    "from pca_everyone_svr_bpd import *\n",
    "\n",
    "sFileTrai=\"/export/c08/lmorove1/kaldi/egs/beatPDivec/v1_autoenc/exp/ivec_100/ivectors_Training_Fold0/ivector.scp\"\n",
    "sFileTest=\"/export/c08/lmorove1/kaldi/egs/beatPDivec/v1_autoenc/exp/ivec_100/ivectors_Testing_Fold0/ivector.scp\"\n",
    "iComponents=50\n",
    "\n",
    "vTraiPCA, vLTrai, vTraiSubjectId, vTestPCA, vLTest, vTestSubjectId, vTestMeasurementId = pca(sFileTrai, sFileTest, iComponents)"
   ]
  },
  {
   "cell_type": "code",
   "execution_count": null,
   "metadata": {},
   "outputs": [],
   "source": [
    "%load_ext autoreload\n",
    "%autoreload 2\n",
    "from pca_knn_bpd2 import *\n",
    "\n",
    "sFileTrai=\"/export/c08/lmorove1/kaldi/egs/beatPDivec/v1_autoenc/exp/ivec_100/ivectors_Training_Fold0/ivector.scp\"\n",
    "sFileTest=\"/export/c08/lmorove1/kaldi/egs/beatPDivec/v1_autoenc/exp/ivec_100/ivectors_Testing_Fold0/ivector.scp\"\n",
    "iComponents=50\n",
    "\n",
    "vTraiPCA, vLTrai, vTraiSubjectId, vTestPCA, vLTest, vTestSubjectId, vTestMeasurementId = pca(sFileTrai, sFileTest, iComponents)"
   ]
  },
  {
   "cell_type": "code",
   "execution_count": null,
   "metadata": {},
   "outputs": [],
   "source": [
    "from sklearn.preprocessing import OneHotEncoder\n",
    "import numpy as np \n",
    "uniq_subjectid = np.unique(vTraiSubjectId)\n",
    "enc = OneHotEncoder(handle_unknown='ignore').fit(uniq_subjectid.reshape(-1,1))\n",
    "print(uniq_subjectid.reshape(-1,1).shape)\n",
    "print(enc)\n",
    "temp = enc.transform([[1004]]).toarray()\n",
    "print(temp.shape)\n",
    "temp2 = np.repeat(temp,61,axis=0)\n",
    "temp2.shape\n",
    "#temp3 = np.random.rand(61,50)\n",
    "#temp4 = np.concatenate((temp3,temp2),axis=1)\n",
    "#print(temp4.shape)"
   ]
  },
  {
   "cell_type": "code",
   "execution_count": null,
   "metadata": {},
   "outputs": [],
   "source": [
    "%load_ext autoreload\n",
    "%autoreload 2\n",
    "from pca_knn_bpd2 import *"
   ]
  },
  {
   "cell_type": "markdown",
   "metadata": {},
   "source": [
    "# Get Predictions for Per Patient SVR"
   ]
  },
  {
   "cell_type": "markdown",
   "metadata": {},
   "source": [
    "## Tremor Best Config "
   ]
  },
  {
   "cell_type": "code",
   "execution_count": null,
   "metadata": {},
   "outputs": [],
   "source": [
    "for fold in [\"0\",\"1\",\"2\",\"3\",\"4\"]:\n",
    "    sFileTrai=\"/export/c08/lmorove1/kaldi/egs/beatPDivec/trem_noinact_auto30/exp/ivec_550/ivectors_Training_Fold\"+fold+\"/ivector.scp\"\n",
    "    sFileTest=\"/export/c08/lmorove1/kaldi/egs/beatPDivec/trem_noinact_auto30/exp/ivec_550/ivectors_Testing_Fold\"+fold+\"/ivector.scp\"\n",
    "\n",
    "    sOut=\"/export/c08/lmorove1/kaldi/egs/beatPDivec/trem_noinact_auto30/exp/ivec_550/resiVecPerPatientSVR_Fold\"+fold\n",
    "\n",
    "    iNeighbors=None\n",
    "\n",
    "    for iComponent in [250]:#[50, 100, 150, 200, 250, 350, 450, 500, 550]:\n",
    "\n",
    "        for fCValue in [20.0]:#[2e-13, 2e-07, 0.002, 0.2, 20.0]:\n",
    "            vTraiPCA, vLTrai, vTraiSubjectId, vTraiMeasurementId, vTestPCA, vLTest, vTestSubjectId, vTestMeasurementId = pca(sFileTrai, sFileTest, iComponent)\n",
    "\n",
    "            pca_knn_bpd2(sFileTrai, sFileTest, sOut,\n",
    "                         iComponent,\n",
    "                         iNeighbors,\n",
    "                         sKernel='linear',\n",
    "                         fCValue=fCValue,\n",
    "                         fEpsilon='0.1',\n",
    "                         bLabelNormalization=False,\n",
    "                         bPatientPredictionsPkl=True)\n",
    "\n",
    "\n",
    "    "
   ]
  },
  {
   "cell_type": "markdown",
   "metadata": {},
   "source": [
    "## Dysk Best Config "
   ]
  },
  {
   "cell_type": "code",
   "execution_count": null,
   "metadata": {},
   "outputs": [],
   "source": [
    "for fold in [\"0\",\"1\",\"2\",\"3\",\"4\"]:\n",
    "    sFileTrai=\"/export/c08/lmorove1/kaldi/egs/beatPDivec/dysk_orig_auto60_400fl/exp/ivec_650/ivectors_Training_Fold\"+fold+\"/ivector.scp\"\n",
    "    sFileTest=\"/export/c08/lmorove1/kaldi/egs/beatPDivec/dysk_orig_auto60_400fl/exp/ivec_650/ivectors_Testing_Fold\"+fold+\"/ivector.scp\"\n",
    "\n",
    "    sOut=\"/export/c08/lmorove1/kaldi/egs/beatPDivec/dysk_orig_auto60_400fl/exp/ivec_650/resiVecPerPatientSVR_Fold\"+fold\n",
    "\n",
    "    iNeighbors=None\n",
    "\n",
    "    for iComponent in [100]:#[50, 100, 150, 200, 250, 350, 450, 500, 550]:\n",
    "\n",
    "        for fCValue in [20.0]:#[2e-13, 2e-07, 0.002, 0.2, 20.0]:\n",
    "            vTraiPCA, vLTrai, vTraiSubjectId, vTraiMeasurementId, vTestPCA, vLTest, vTestSubjectId, vTestMeasurementId = pca(sFileTrai, sFileTest, iComponent)\n",
    "\n",
    "            pca_knn_bpd2(sFileTrai, sFileTest, sOut,\n",
    "                         iComponent,\n",
    "                         iNeighbors,\n",
    "                         sKernel='linear',\n",
    "                         fCValue=fCValue,\n",
    "                         fEpsilon='0.1',\n",
    "                         bLabelNormalization=False,\n",
    "                         bPatientPredictionsPkl=True)\n",
    "\n",
    "\n",
    "    "
   ]
  },
  {
   "cell_type": "markdown",
   "metadata": {},
   "source": [
    "### Test with Mean Normalization SVR "
   ]
  },
  {
   "cell_type": "code",
   "execution_count": null,
   "metadata": {
    "scrolled": true
   },
   "outputs": [],
   "source": [
    "for fold in [\"0\",\"1\",\"2\",\"3\",\"4\"]:\n",
    "    sFileTrai=\"/export/c08/lmorove1/kaldi/egs/beatPDivec/dysk_noinact_auto30/exp/ivec_500/ivectors_Training_Fold\"+fold+\"/ivector.scp\"\n",
    "    sFileTest=\"/export/c08/lmorove1/kaldi/egs/beatPDivec/dysk_noinact_auto30/exp/ivec_500/ivectors_Testing_Fold\"+fold+\"/ivector.scp\"\n",
    "\n",
    "\n",
    "    sOut=\"/home/mpgill/BeatPD/BeatPD-CLSP-JHU/resiVecSVR_Fold\"+fold\n",
    "\n",
    "    iNeighbors=None\n",
    "\n",
    "    vTraiPCA, vLTrai, vTraiSubjectId, vTraiMeasurementId, vTestPCA, vLTest, vTestSubjectId, vTestMeasurementId = pca(sFileTrai, sFileTest, iComponents)\n",
    "\n",
    "    iComponents=500\n",
    "    pca_knn_bpd2(sFileTrai, sFileTest, sOut, iComponents, iNeighbors, sKernel='linear', fCValue=0.002, fEpsilon='0.1',\n",
    "                 bLabelNormalization=True)\n",
    "\n",
    "\n",
    "    # iComponents=400\n",
    "    # pca_knn_bpd2(sFileTrai, sFileTest, sOut, iComponents, iNeighbors, sKernel='linear', fCValue=0.02, fEpsilon='0.01',\n",
    "    #              bLabelNormalization=True)"
   ]
  },
  {
   "cell_type": "markdown",
   "metadata": {},
   "source": [
    "### Per Patient - With Mean Normalization"
   ]
  },
  {
   "cell_type": "code",
   "execution_count": null,
   "metadata": {},
   "outputs": [],
   "source": [
    "%load_ext autoreload\n",
    "%autoreload 2\n",
    "\n",
    "for fold in [\"0\",\"1\",\"2\",\"3\",\"4\"]:\n",
    "    sFileTrai=\"/export/c08/lmorove1/kaldi/egs/beatPDivec/dysk_noinact_auto30/exp/ivec_500/ivectors_Training_Fold\"+fold+\"/ivector.scp\"\n",
    "    sFileTest=\"/export/c08/lmorove1/kaldi/egs/beatPDivec/dysk_noinact_auto30/exp/ivec_500/ivectors_Testing_Fold\"+fold+\"/ivector.scp\"\n",
    "\n",
    "\n",
    "    sOut=\"/home/mpgill/BeatPD/BeatPD-CLSP-JHU/resiVecSVR_Fold\"+fold\n",
    "\n",
    "    iNeighbors=None\n",
    "\n",
    "    vTraiPCA, vLTrai, vTraiSubjectId, vTraiMeasurementId, vTestPCA, vLTest, vTestSubjectId, vTestMeasurementId = pca(sFileTrai, sFileTest, iComponents)\n",
    "\n",
    "    iComponents=500\n",
    "    pca_knn_bpd2(sFileTrai, sFileTest, sOut, iComponents, iNeighbors, sKernel='linear', fCValue=0.002, fEpsilon='0.1',\n",
    "                 bLabelNormalization=True)\n",
    "\n",
    "\n",
    "    # iComponents=400\n",
    "    # pca_knn_bpd2(sFileTrai, sFileTest, sOut, iComponents, iNeighbors, sKernel='linear', fCValue=0.02, fEpsilon='0.01',\n",
    "    #              bLabelNormalization=True)\n",
    "    \n",
    "# sFilePath=\"/home/mpgill/BeatPD/BeatPD-CLSP-JHU/\"\n",
    "# #sFilePath=\"/export/c08/lmorove1/kaldi/egs/beatPDivec/trem_noinact_auto60_400fl/exp/ivec_400/\"\n",
    "# bKnn=False\n",
    "# bSVR=True\n",
    "# bEveryoneSVR=False\n",
    "# bPerSubject=False \n",
    "# sDatabase=None\n",
    "# sSubchallenge=None\n"
   ]
  },
  {
   "cell_type": "code",
   "execution_count": null,
   "metadata": {},
   "outputs": [],
   "source": [
    "from local.get_final_scores_accuracy import get_final_scores_SVR \n",
    "from local.get_final_scores_accuracy import get_final_scores_SVR_lowest_mse_for_subjectid\n",
    "\n",
    "sFilePath=\"/home/mpgill/BeatPD/BeatPD-CLSP-JHU/\"\n",
    "#sFilePath=\"/export/c08/lmorove1/kaldi/egs/beatPDivec/trem_noinact_auto60_400fl/exp/ivec_400/\"\n",
    "bKnn=False\n",
    "bSVR=True\n",
    "bEveryoneSVR=False\n",
    "bPerSubject=True \n",
    "sDatabase='CIS'\n",
    "sSubchallenge='dysk'\n",
    "\n",
    "get_final_scores_SVR_lowest_mse_for_subjectid(sFilePath, bKnn, bSVR, bEveryoneSVR, bPerSubject, sDatabase, sSubchallenge)\n",
    "\n",
    "# get_final_scores_SVR(sFilePath, bKnn, bSVR, bEveryoneSVR, bPerSubject, sDatabase, sSubchallenge)"
   ]
  },
  {
   "cell_type": "markdown",
   "metadata": {},
   "source": [
    "### Test WITHOUT Mean Normalization"
   ]
  },
  {
   "cell_type": "code",
   "execution_count": null,
   "metadata": {
    "scrolled": true
   },
   "outputs": [],
   "source": [
    "for fold in [\"0\",\"1\",\"2\",\"3\",\"4\"]:\n",
    "    sFileTrai=\"/export/c08/lmorove1/kaldi/egs/beatPDivec/dysk_noinact_auto30/exp/ivec_500/ivectors_Training_Fold\"+fold+\"/ivector.scp\"\n",
    "    sFileTest=\"/export/c08/lmorove1/kaldi/egs/beatPDivec/dysk_noinact_auto30/exp/ivec_500/ivectors_Testing_Fold\"+fold+\"/ivector.scp\"\n",
    "\n",
    "    sOut=\"/home/mpgill/BeatPD/BeatPD-CLSP-JHU/without_mean_norm/resiVecSVR_Fold\"+fold\n",
    "\n",
    "    iNeighbors=None\n",
    "\n",
    "    iComponents=500\n",
    "    vTraiPCA, vLTrai, vTraiSubjectId, vTraiMeasurementId, vTestPCA, vLTest, vTestSubjectId, vTestMeasurementId = pca(sFileTrai, sFileTest, iComponents)\n",
    "\n",
    "    pca_knn_bpd2(sFileTrai, sFileTest, sOut, iComponents, iNeighbors, sKernel='linear', fCValue=0.002, fEpsilon='0.1',\n",
    "                 bLabelNormalization=False)\n",
    "\n",
    "    # iComponents=400\n",
    "    # pca_knn_bpd2(sFileTrai, sFileTest, sOut, iComponents, iNeighbors, sKernel='linear', fCValue=0.02, fEpsilon='0.01',\n",
    "    #              bLabelNormalization=False)\n",
    "    \n"
   ]
  },
  {
   "cell_type": "code",
   "execution_count": null,
   "metadata": {},
   "outputs": [],
   "source": [
    "sFilePath=\"/home/mpgill/BeatPD/BeatPD-CLSP-JHU/without_mean_norm/\"\n",
    "#sFilePath=\"/export/c08/lmorove1/kaldi/egs/beatPDivec/trem_noinact_auto60_400fl/exp/ivec_400/\"\n",
    "bKnn=False\n",
    "bSVR=True\n",
    "bEveryoneSVR=False\n",
    "bPerSubject=True \n",
    "sDatabase='CIS'\n",
    "sSubchallenge='dysk'\n",
    "\n",
    "get_final_scores_SVR_lowest_mse_for_subjectid(sFilePath, bKnn, bSVR, bEveryoneSVR, bPerSubject, sDatabase, sSubchallenge)\n",
    "\n",
    "\n",
    "#get_final_scores_SVR(sFilePath, bKnn, bSVR, bEveryoneSVR, bPerSubject, sDatabase, sSubchallenge)"
   ]
  },
  {
   "cell_type": "code",
   "execution_count": null,
   "metadata": {},
   "outputs": [],
   "source": [
    "%load_ext autoreload\n",
    "%autoreload 2\n",
    "\n",
    "from local.get_final_scores_accuracy import get_final_scores_SVR \n",
    "\n",
    "sFilePath=\"/home/mpgill/BeatPD/BeatPD-CLSP-JHU/without_mean_norm/\"\n",
    "#sFilePath=\"/export/c08/lmorove1/kaldi/egs/beatPDivec/trem_noinact_auto60_400fl/exp/ivec_400/\"\n",
    "bKnn=False\n",
    "bSVR=True\n",
    "bEveryoneSVR=False\n",
    "bPerSubject=False \n",
    "sDatabase=None\n",
    "sSubchallenge=None\n",
    "\n",
    "get_final_scores_SVR(sFilePath, bKnn, bSVR, bEveryoneSVR, bPerSubject, sDatabase, sSubchallenge)"
   ]
  },
  {
   "cell_type": "markdown",
   "metadata": {},
   "source": [
    "### SVR testing around"
   ]
  },
  {
   "cell_type": "code",
   "execution_count": null,
   "metadata": {},
   "outputs": [],
   "source": [
    "\n",
    "\n",
    "sFileTrai=\"/export/c08/lmorove1/kaldi/egs/beatPDivec/dysk_noinact_auto30/exp/ivec_500/ivectors_Training_Fold0/ivector.scp\"\n",
    "sFileTest=\"/export/c08/lmorove1/kaldi/egs/beatPDivec/dysk_noinact_auto30/exp/ivec_500/ivectors_Testing_Fold0/ivector.scp\"\n",
    "iComponents=400\n",
    "\n",
    "sOut=\"/home/mpgill/BeatPD/BeatPD-CLSP-JHU/ResiVecSVR_Fold0\"\n",
    "\n",
    "iNeighbors=None\n",
    "\n",
    "vTraiPCA, vLTrai, vTraiSubjectId, vTraiMeasurementId, vTestPCA, vLTest, vTestSubjectId, vTestMeasurementId = pca(sFileTrai, sFileTest, iComponents)\n",
    "\n",
    "pca_knn_bpd2(sFileTrai, sFileTest, sOut, iComponents, iNeighbors, sKernel='linear', fCValue=0.02, fEpsilon='0.01')\n"
   ]
  },
  {
   "cell_type": "code",
   "execution_count": null,
   "metadata": {},
   "outputs": [],
   "source": [
    "\n",
    "%load_ext autoreload\n",
    "%autoreload 2\n",
    "from pca_knn_bpd import *\n",
    "\n",
    "sFilePath=\"/export/c08/lmorove1/kaldi/egs/beatPDivec/on_off_noinact_auto30_320fl/exp/ivec_400/\"\n",
    "\n",
    "sFileTrai=\"/export/c08/lmorove1/kaldi/egs/beatPDivec/trem_noinact_auto60_400fl/exp/ivec_400/ivectors_Training_Fold0/ivector.scp\"\n",
    "sFileTest=\"/export/c08/lmorove1/kaldi/egs/beatPDivec/trem_noinact_auto60_400fl/exp/ivec_400/ivectors_Testing_Fold0/ivector.scp\" \n",
    "\n",
    "sFileTrai=\"/export/c08/lmorove1/kaldi/egs/beatPDivec/on_off_noinact_auto30_320fl/exp/ivec_400/ivectors_Training_Fold0/ivector.scp\"\n",
    "sFileTest=\"/export/c08/lmorove1/kaldi/egs/beatPDivec/on_off_noinact_auto30_320fl/exp/ivec_400/ivectors_Testing_Fold0/ivector.scp\" \n",
    "\n",
    "\n",
    "iComponents=50\n",
    "\n",
    "vTraiPCA, vLTrai, vTraiSubjectId, vTestPCA, vLTest, vTestSubjectId, vTestMeasurementId = pca(sFileTrai, sFileTest, iComponents)\n",
    "print(vTraiPCA.shape)\n",
    "\n",
    "# /home/mpgill/BeatPD/BeatPD-CLSP-JHU/pca_everyone_svr_bpd.py \n",
    "\n",
    "# sFileTrai=\"/export/c08/lmorove1/kaldi/egs/beatPDivec/v1_autoenc/exp/ivec_100/ivectors_Training_Fold0/ivector.scp\"\n",
    "# sFileTest=\"/export/c08/lmorove1/kaldi/egs/beatPDivec/v1_autoenc/exp/ivec_100/ivectors_Testing_Fold0/ivector.scp\"\n",
    "\n",
    "\n",
    "sOut=\"/home/mpgill/test/\"\n",
    "sKernel='linear' \n",
    "fCValue=0.00000000200000 \n",
    "fEpsilon=0.1\n",
    "iNeighbors=None\n",
    "\n",
    "pca_knn_bpd(sFileTrai, sFileTest, sOut, iComponents, iNeighbors, sKernel='linear', fCValue=0.02, fEpsilon='0.01')"
   ]
  },
  {
   "cell_type": "code",
   "execution_count": null,
   "metadata": {},
   "outputs": [],
   "source": [
    "%load_ext autoreload\n",
    "%autoreload 2\n",
    "\n",
    "from get_final_scores_accuracy import get_final_scores_SVR \n",
    "\n",
    "sFilePath=\"/export/c08/lmorove1/kaldi/egs/beatPDivec/on_off_noinact_auto30_320fl/exp/ivec_400/\"\n",
    "#sFilePath=\"/export/c08/lmorove1/kaldi/egs/beatPDivec/trem_noinact_auto60_400fl/exp/ivec_400/\"\n",
    "bKnn=False\n",
    "bSVR=True\n",
    "bEveryoneSVR=False\n",
    "\n",
    "get_final_scores_SVR(sFilePath, bKnn, bSVR, bEveryoneSVR)"
   ]
  },
  {
   "cell_type": "code",
   "execution_count": null,
   "metadata": {
    "scrolled": true
   },
   "outputs": [],
   "source": [
    "%load_ext autoreload\n",
    "%autoreload 2\n",
    "\n",
    "from get_final_scores_accuracy import get_final_scores_SVR_lowest_mse_for_subjectid \n",
    "\n",
    "#sFilePath=\"/export/c08/lmorove1/kaldi/egs/beatPDivec/on_off_noinact_auto30_320fl/exp/ivec_400/\"\n",
    "sFilePath=\"/export/c08/lmorove1/kaldi/egs/beatPDivec/trem_noinact_auto60_400fl/exp/ivec_400/\"\n",
    "bKnn=False\n",
    "bSVR=True\n",
    "bEveryoneSVR=False\n",
    "\n",
    "#get_final_scores_SVR(sFilePath, bKnn, bSVR, bEveryoneSVR)\n",
    "\n",
    "get_final_scores_SVR_lowest_mse_for_subjectid(sFilePath, bKnn, bSVR, bEveryoneSVR)"
   ]
  },
  {
   "cell_type": "code",
   "execution_count": null,
   "metadata": {},
   "outputs": [],
   "source": [
    "salut = ['100001_test_5163afe8-a6b0-4ea4-b2ba-9b4501dd5912_10040',\n",
    " '100002_test_9152519b-4b57-43be-963c-dd7218495001_10040',\n",
    " '100003_test_c7312d73-cb34-4025-b8b8-5299b4033e2f_10040',\n",
    " '100004_test_cc730391-146b-420f-9255-c3185061f178_10040',\n",
    " '100005_test_cc7b822c-e310-46f0-a8ea-98c95fdb67a1_10041',\n",
    " '100006_test_5cf68c8e-0b7a-4b73-ad4f-015c7a20fb5a_10041',\n",
    " '100007_test_19a3e9ea-fce1-40b7-9457-2618970beb7b_10041',\n",
    " '100008_test_e2973da8-1250-4a7c-98d5-b165570a8aeb_10041',\n",
    " '100009_test_dc90dc36-b4e5-43ec-b3e8-47c39c763c71_10041']\n",
    "\n",
    "salut2= ['100001_test_5163afe8-a6b0-4ea4-b2ba-9b4501dd5912_hbv0401',\n",
    " '100002_test_9152519b-4b57-43be-963c-dd7218495001_hbv0401',\n",
    " '100003_test_c7312d73-cb34-4025-b8b8-5299b4033e2f_hbv0401',\n",
    " '100004_test_cc730391-146b-420f-9255-c3185061f178_hbv0401',\n",
    " '100005_test_cc7b822c-e310-46f0-a8ea-98c95fdb67a1_hbv0411',\n",
    " '100006_test_5cf68c8e-0b7a-4b73-ad4f-015c7a20fb5a_hbv0411',\n",
    " '100007_test_19a3e9ea-fce1-40b7-9457-2618970beb7b_hbv0411',\n",
    " '100008_test_e2973da8-1250-4a7c-98d5-b165570a8aeb_hbv0412',\n",
    " '100009_test_dc90dc36-b4e5-43ec-b3e8-47c39c763c71_hbv0412']\n",
    "\n",
    "\n",
    "sPattern=r'(?<=[_])(1[0-9]{3}(?<=\\d)(?!=$)|hbv[0-9]{3})'\n",
    "\n",
    "vTraiSubjectId = [re.findall(sPattern, fileName)[0] for fileName in salut]\n",
    "\n",
    "# vTraiSubjectId = np.array(([x[-5:-1] for x in np.array(salut)]))\n",
    "print(vTraiSubjectId)\n",
    "\n",
    "vTraiSubjectId2 = [re.findall(sPattern, fileName)[0] for fileName in salut2]\n",
    "print(vTraiSubjectId2)"
   ]
  },
  {
   "cell_type": "code",
   "execution_count": null,
   "metadata": {},
   "outputs": [],
   "source": [
    "# import pandas as pd \n",
    "# import re\n",
    "\n",
    "\n",
    "# def read_log_results_to_excel(folders, fileName):\n",
    "#     for folder in folders:#'trem_noinact_auto30']:#,'trem_noinact_auto30_320fl','trem_noinact_auto30_240fl','trem_noinact_auto60_400fl']:\n",
    "#         print(folder)\n",
    "#         value = []\n",
    "#         liVecDim = [350,400]#[350,400,450,500,550, 600, 650, 700]\n",
    "#         for ivecDim in liVecDim:\n",
    "#             sFilePath='/export/c08/lmorove1/kaldi/egs/beatPDivec/'+folder+'/exp/ivec_'+str(ivecDim)+'/'\n",
    "\n",
    "#             #config_pattern = re.compile(r\"Test Final score\\s[:| ]\\s*(\\d*.\\d*)\")\n",
    "# #             config_pattern = re.compile(r\"GLOBAL WINNER PARAMETERS(.|\\n)*\\\\KTest Final score\\s[:| ]\\s*(\\d*.\\d*)\")\n",
    "\n",
    "\n",
    "#             textfile = open(sFilePath+fileName)\n",
    "#             filetext = textfile.read()\n",
    "#             textfile.close()\n",
    "# #             print(filetext)\n",
    "#             matches = re.findall(r\"GLOBAL WINNER PARAMETERS(?:.|\\n)*\\\\KTest Final score\\s[:| ]\\s*(\\d*.\\d*)\",\n",
    "#                                  filetext)\n",
    "# #             matches = re.findall(r\"GLOBAL WINNER PARAMETERS(.|\\n)*\\\\KTest Final score\\s[:| ]\\s*(\\d*.\\d*)\",\n",
    "# #                                  filetext)\n",
    "#             print(matches)\n",
    "# #             with open(sFilePath+fileName) as f:\n",
    "# #                 print(f)\n",
    "# #                 match = config_pattern.search(line)\n",
    "# #                 if match:\n",
    "# #                     #print(match.groups()[0])\n",
    "# #                     value.append(match.groups()[0])\n",
    "# #                     #yield line.strip()\n",
    "\n",
    "#         value = pd.DataFrame(value)\n",
    "#         value = value.T\n",
    "#         value.columns = liVecDim\n",
    "#         display(value)\n",
    "\n",
    "# folders=['on_off_noinact_auto30_320fl']\n",
    "# fileName='globalAccuPerPatientSVR_Test.log'\n",
    "# read_log_results_to_excel(folders, fileName)\n",
    "\n",
    "# # folders=['on_off_noinact_auto30_320fl']\n",
    "# # fileName='globalAccuEveryoneSVR_Test.log'\n",
    "# # read_log_results_to_excel(folders, fileName)"
   ]
  },
  {
   "cell_type": "code",
   "execution_count": null,
   "metadata": {},
   "outputs": [],
   "source": [
    "# import pandas as pd \n",
    "# import re\n",
    "\n",
    "\n",
    "# def read_log_results_to_excel(folders, fileName):\n",
    "#     for folder in folders:#'trem_noinact_auto30']:#,'trem_noinact_auto30_320fl','trem_noinact_auto30_240fl','trem_noinact_auto60_400fl']:\n",
    "#         print(folder)\n",
    "#         value = []\n",
    "#         liVecDim = [350,400,450,500,550, 600, 650, 700]\n",
    "#         for ivecDim in liVecDim:\n",
    "#             sFilePath='/export/c08/lmorove1/kaldi/egs/beatPDivec/'+folder+'/exp/ivec_'+str(ivecDim)+'/'\n",
    "\n",
    "#             #config_pattern = re.compile(r\"Test Final score\\s[:| ]\\s*(\\d*.\\d*)\")\n",
    "#             config_pattern = re.compile(r\"Test Final score\\s[:| ]\\s*(\\d*.\\d*)\")\n",
    "# #             config_pattern = re.compile(r\"GLOBAL WINNER PARAMETERS(?:.|\\n)*\\\\KTest Final score\\s[:| ]\\s*(\\d*.\\d*)\")\n",
    "#             with open(sFilePath+fileName) as f:\n",
    "#                 for line in f:\n",
    "#                     match = config_pattern.search(line)\n",
    "#                     if match:\n",
    "#                         #print(match.groups()[0])\n",
    "#                         value.append(match.groups()[0])\n",
    "#                         #yield line.strip()\n",
    "\n",
    "#         value = pd.DataFrame(value)\n",
    "#         value = value.T\n",
    "#         value.columns = liVecDim\n",
    "#         display(value)\n",
    "\n",
    "# folders=['on_off_noinact_auto30_320fl']\n",
    "# fileName='globalAccuPerPatientSVR_Test.log'\n",
    "# read_log_results_to_excel(folders, fileName)\n",
    "\n",
    "# folders=['on_off_noinact_auto30_320fl']\n",
    "# fileName='globalAccuEveryoneSVR_Test.log'\n",
    "# read_log_results_to_excel(folders, fileName)"
   ]
  },
  {
   "cell_type": "code",
   "execution_count": null,
   "metadata": {},
   "outputs": [],
   "source": [
    "import pandas as pd \n",
    "import re\n",
    "\n",
    "\n",
    "def read_log_results_to_excel(folders, fileName):\n",
    "    for folder in folders:#'trem_noinact_auto30']:#,'trem_noinact_auto30_320fl','trem_noinact_auto30_240fl','trem_noinact_auto60_400fl']:\n",
    "        print(folder)\n",
    "        value = []\n",
    "        liVecDim = [350,450,500,550]\n",
    "        for ivecDim in liVecDim:\n",
    "            sFilePath='/export/c08/lmorove1/kaldi/egs/beatPDivec/'+folder+'/exp/ivec_'+str(ivecDim)+'/'\n",
    "            print('Opening : ', sFilePath+fileName)\n",
    "            textfile = open(sFilePath+fileName)\n",
    "            filetext = textfile.read()\n",
    "            textfile.close()\n",
    "            \n",
    "            \n",
    "            result = re.findall(r\"Test Final score\\s[:| ]\\s*(\\d*.\\d*)\",filetext)\n",
    "            print(result[len(result)-1])\n",
    "            value.append(result[len(result)-1])\n",
    "            \n",
    "        value = pd.DataFrame(value)\n",
    "        value = value.T\n",
    "        value.columns = liVecDim\n",
    "        display(value)\n",
    "\n",
    "folders=['on_off_noinact_auto30']\n",
    "fileName='globalAccuPerPatientSVR_Test.log'\n",
    "read_log_results_to_excel(folders, fileName)\n",
    "\n",
    "folders=['on_off_noinact_auto30_320fl']\n",
    "fileName='globalAccuEveryoneSVR_Test.log'\n",
    "read_log_results_to_excel(folders, fileName)"
   ]
  },
  {
   "cell_type": "markdown",
   "metadata": {},
   "source": [
    "# Remove inactivity with max "
   ]
  },
  {
   "cell_type": "code",
   "execution_count": null,
   "metadata": {},
   "outputs": [],
   "source": [
    "def remove_inactivity_max(df_train_label):\n",
    "    last_filtered_value = pd.Series(np.zeros(3), index=[\"X\", \"Y\", \"Z\"])\n",
    "    filtered_value = pd.Series(np.zeros(3), index=[\"X\", \"Y\", \"Z\"])\n",
    "    display(last_filtered_value)\n",
    "    for idx in df_train_label.index:\n",
    "        df_allo = []\n",
    "        df_train_data = pd.read_csv(\n",
    "            path_train_data + df_train_label[\"measurement_id\"][idx] + \".csv\"\n",
    "        )\n",
    "\n",
    "        # Get the absolute max value for X, Y, Z\n",
    "        max_values = df_train_data.iloc[:, -3:].abs().max()\n",
    "\n",
    "        # Compute what is 5% of that max\n",
    "        thresold_energy = 5\n",
    "        df_treshold = (max_values * thresold_energy) / 100\n",
    "\n",
    "        # display(df_train_data)\n",
    "        # Candidates are the frames where X, Y, Z are below that treshold (5% of the max)\n",
    "        #         df_candidates = df_train_data[(df_train_data.X.abs() <= df_treshold.X) &\n",
    "        #                                      (df_train_data.Y.abs() <= df_treshold.Y) &\n",
    "        #                                      (df_train_data.Z.abs() <= df_treshold.Z)]\n",
    "        # display(df_candidates)\n",
    "        for idx2 in df_train_data.index:\n",
    "            # print('df_train_data[idx2]')\n",
    "            # display(df_train_data.iloc[idx2,-3:])\n",
    "            last_filtered_value = filtered_value\n",
    "            filtered_value = last_filtered_value + 0.004 * (\n",
    "                df_train_data.iloc[idx2, -3:] - last_filtered_value\n",
    "            )\n",
    "            y = pd.DataFrame(columns=[\"Timestamp\"])\n",
    "            y = pd.concat(\n",
    "                [y, pd.DataFrame([df_train_data.iloc[idx2, 0]], columns=[\"Timestamp\"])],\n",
    "                ignore_index=True,\n",
    "            )\n",
    "            #             print('display y :')\n",
    "            #             display(y)\n",
    "            #             print('end display y')\n",
    "\n",
    "            #             print('display filtered value')\n",
    "            #             display(pd.DataFrame(filtered_value).transpose())\n",
    "            #             print('end display filtered value')\n",
    "            df_allo.append(\n",
    "                pd.concat([y, pd.DataFrame(filtered_value).transpose()], axis=1)\n",
    "            )\n",
    "        #             print('display df_allo')\n",
    "        #             display(df_allo)\n",
    "\n",
    "        # FIXME : change the name df_allo\n",
    "        df_allo = pd.DataFrame(df_allo, columns=(\"Timestamp\", \"X\", \"Y\", \"Z\"))\n",
    "\n",
    "        df_allo.plot(x=\"Timestamp\", legend=True, subplots=True, title=\"allo\")\n",
    "        stop()\n",
    "\n",
    "\n",
    "#         v_candidate_x = pd.DataFrame({'Candidate':list(0)})\n",
    "#         v_candidate_x = np.where(df_train_data.X.abs() <= df_treshold.X, 1, 0)"
   ]
  }
 ],
 "metadata": {
  "kernelspec": {
   "display_name": "Python 3",
   "language": "python",
   "name": "python3"
  },
  "language_info": {
   "codemirror_mode": {
    "name": "ipython",
    "version": 3
   },
   "file_extension": ".py",
   "mimetype": "text/x-python",
   "name": "python",
   "nbconvert_exporter": "python",
   "pygments_lexer": "ipython3",
   "version": "3.7.3"
  }
 },
 "nbformat": 4,
 "nbformat_minor": 2
}
