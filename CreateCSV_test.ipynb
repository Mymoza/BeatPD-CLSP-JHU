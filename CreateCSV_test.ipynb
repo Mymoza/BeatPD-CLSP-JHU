{
 "cells": [
  {
   "cell_type": "markdown",
   "metadata": {},
   "source": [
    "# Create CSV for submission"
   ]
  },
  {
   "cell_type": "code",
   "execution_count": 2,
   "metadata": {},
   "outputs": [],
   "source": [
    "import numpy as np\n",
    "import pickle\n",
    "import pandas as pd\n",
    "import os"
   ]
  },
  {
   "cell_type": "markdown",
   "metadata": {},
   "source": [
    "# SVR Per Patient"
   ]
  },
  {
   "cell_type": "code",
   "execution_count": 3,
   "metadata": {},
   "outputs": [],
   "source": [
    "def generateCSVtest_per_patient(file_path, dest_dir, best_config):\n",
    "    \"\"\"\n",
    "    Create a CSV file for testing submission for the SVR Per Patient model.\n",
    "    The difference is that it need to read multiple pkl files, one per subject_id. \n",
    "    \n",
    "    Keyword Arguments:\n",
    "    - file_path: String. Absolute path to the .pkl file to use to create the CSV\n",
    "    - dest_dir: String. Absolute path to the directory where to save the CSV file \n",
    "    - best_config: Dictionary providing the best configuration for each subject_id \n",
    "    \"\"\"\n",
    "    if not os.path.exists(dest_dir):\n",
    "        os.makedirs(dest_dir)\n",
    "        \n",
    "    pooled_glob_test_pred=[]\n",
    "    pooled_glob_test_mesID=[]\n",
    "    \n",
    "    for pid in best_config.keys():\n",
    "        # Merge la key et le nom de objs\n",
    "        fileName = str(pid)+\"_\"+best_config[pid][0].strip('/').strip('.pkl')\n",
    "        file_path=src_dir+fileName+'.pkl'\n",
    "        print(file_path)\n",
    "        pickle_in = open(file_path,\"rb\")\n",
    "        pkl_file = pickle.load(pickle_in)\n",
    "        #print(pkl_file)\n",
    "        pickle_in.close\n",
    "        #print(type(pkl_file))\n",
    "        #print(len(pkl_file))\n",
    "        glob_test_pred=pkl_file[2]\n",
    "        glob_test_mesID=pkl_file[-1]\n",
    "        \n",
    "        pooled_glob_test_pred.append(glob_test_pred)\n",
    "        \n",
    "        pooled_glob_test_mesID.extend(glob_test_mesID)\n",
    "        \n",
    "    pooled_glob_test_pred=np.hstack(pooled_glob_test_pred).tolist()\n",
    "    print(len(pooled_glob_test_pred))\n",
    "    \n",
    "    df = pd.DataFrame({'measurement_id': pooled_glob_test_mesID, 'prediction':pooled_glob_test_pred})\n",
    "    df.to_csv(dest_dir+'preds_per_patient'+'.csv', index=False)\n",
    "    print(dest_dir+'preds_per_patient'+'.csv')"
   ]
  },
  {
   "cell_type": "markdown",
   "metadata": {},
   "source": [
    "### Dyskinesia"
   ]
  },
  {
   "cell_type": "code",
   "execution_count": null,
   "metadata": {},
   "outputs": [],
   "source": [
    "best_config = {1004: ['/objs_450_kernel_linear_c_0.002_eps_0.1.pkl', 1.1469489658686098],\n",
    " 1007: ['/objs_100_kernel_linear_c_0.002_eps_0.1.pkl', 0.09115239389591206],\n",
    " 1019: ['/objs_400_kernel_linear_c_0.2_eps_0.1.pkl', 0.686931370820251],\n",
    " 1023: ['/objs_300_kernel_linear_c_0.2_eps_0.1.pkl', 0.8462093717280431],\n",
    " 1034: ['/objs_100_kernel_linear_c_20.0_eps_0.1.pkl', 0.7961188257851409],\n",
    " 1038: ['/objs_450_kernel_linear_c_0.002_eps_0.1.pkl', 0.3530848340426855],\n",
    " 1039: ['/objs_450_kernel_linear_c_0.2_eps_0.1.pkl', 0.3826339325882311],\n",
    " 1043: ['/objs_300_kernel_linear_c_0.2_eps_0.1.pkl', 0.5525085362997469],\n",
    " 1044: ['/objs_50_kernel_linear_c_0.002_eps_0.1.pkl', 0.09694768640213237],\n",
    " 1048: ['/objs_650_kernel_linear_c_0.2_eps_0.1.pkl', 0.4505302952804157],\n",
    " 1049: ['/objs_250_kernel_linear_c_0.2_eps_0.1.pkl', 0.4001809543831368]}\n",
    "\n",
    "src_dir='<path-to-kaldi>/dysk_noinact_auto30/exp/ivec_650/resiVecPerPatientSVR_Fold_all/'\n",
    "dest_dir='<path-to-kaldi>/dysk_noinact_auto30/exp/ivec_650/resiVecPerPatientSVR_Fold_all/'\n",
    "\n",
    "\n",
    "generateCSVtest_per_patient(src_dir, dest_dir, best_config)"
   ]
  },
  {
   "cell_type": "markdown",
   "metadata": {},
   "source": [
    "# SVR"
   ]
  },
  {
   "cell_type": "code",
   "execution_count": 13,
   "metadata": {},
   "outputs": [],
   "source": [
    "def generateCSVtest(file_path, dest_dir, fileName):\n",
    "    \"\"\"\n",
    "    Create a CSV file for testing submission.\n",
    "    \n",
    "    Keyword Arguments:\n",
    "    - file_path: String. Absolute path to the .pkl file to use to create the CSV\n",
    "    - dest_dir: String. Absolute path to the directory where to save the CSV file \n",
    "    - fileName: String. Name of the csv file to be created. \n",
    "    \"\"\"\n",
    "    if not os.path.exists(dest_dir):\n",
    "        os.makedirs(dest_dir)\n",
    "    pooled_glob_test_pred=[]\n",
    "    pooled_glob_test_mesID=[]\n",
    "    print(file_path)\n",
    "    pickle_in = open(file_path,\"rb\")\n",
    "    pkl_file = pickle.load(pickle_in)\n",
    "    #print(pkl_file)\n",
    "    pickle_in.close\n",
    "    #print(type(pkl_file))\n",
    "    #print(len(pkl_file))\n",
    "    glob_test_pred=pkl_file[2]\n",
    "    glob_test_mesID=pkl_file[-1]\n",
    "\n",
    "    df = pd.DataFrame({'measurement_id': glob_test_mesID, 'prediction':glob_test_pred})\n",
    "    df.to_csv(dest_dir+fileName+'.csv', index=False)\n",
    "    print(dest_dir+fileName+'.csv')"
   ]
  },
  {
   "cell_type": "markdown",
   "metadata": {},
   "source": [
    "### ON/OFF"
   ]
  },
  {
   "cell_type": "code",
   "execution_count": 14,
   "metadata": {},
   "outputs": [
    {
     "name": "stdout",
     "output_type": "stream",
     "text": [
      "/export/c08/lmorove1/kaldi/egs/beatPDivec/on_off_noinact_auto30/exp/ivec_450/resiVecSVR_Fold/objs_400_kernel_linear_c_0.2_eps_0.1.pkl\n",
      "/export/c08/lmorove1/kaldi/egs/beatPDivec/on_off_noinact_auto30/exp/ivec_450/resiVecSVR_Fold/On_off_testing.csv\n"
     ]
    }
   ],
   "source": [
    "file_path='/export/c08/lmorove1/kaldi/egs/beatPDivec/on_off_noinact_auto30/exp/ivec_450/resiVecSVR_Fold/objs_400_kernel_linear_c_0.2_eps_0.1.pkl'\n",
    "dest_dir='/export/c08/lmorove1/kaldi/egs/beatPDivec/on_off_noinact_auto30/exp/ivec_450/resiVecSVR_Fold/'\n",
    "fileName='On_off_testing'\n",
    "\n",
    "generateCSVtest(file_path, dest_dir, fileName)"
   ]
  },
  {
   "cell_type": "markdown",
   "metadata": {},
   "source": [
    "### Tremor"
   ]
  },
  {
   "cell_type": "code",
   "execution_count": 15,
   "metadata": {},
   "outputs": [
    {
     "name": "stdout",
     "output_type": "stream",
     "text": [
      "/export/c08/lmorove1/kaldi/egs/beatPDivec/trem_noinact_auto30/exp/ivec_450/resiVecSVR_Fold/objs_450_kernel_linear_c_0.02_eps_0.1.pkl\n",
      "/export/c08/lmorove1/kaldi/egs/beatPDivec/trem_noinact_auto30/exp/ivec_450/resiVecSVR_Fold/Tremor_testing.csv\n"
     ]
    }
   ],
   "source": [
    "file_path='/export/c08/lmorove1/kaldi/egs/beatPDivec/trem_noinact_auto30/exp/ivec_450/resiVecSVR_Fold/objs_450_kernel_linear_c_0.02_eps_0.1.pkl'\n",
    "dest_dir='/export/c08/lmorove1/kaldi/egs/beatPDivec/trem_noinact_auto30/exp/ivec_450/resiVecSVR_Fold/'\n",
    "fileName='Tremor_testing'\n",
    "\n",
    "generateCSVtest(file_path, dest_dir, fileName)"
   ]
  },
  {
   "cell_type": "markdown",
   "metadata": {},
   "source": [
    "### Dyskinesia"
   ]
  },
  {
   "cell_type": "code",
   "execution_count": 16,
   "metadata": {},
   "outputs": [
    {
     "name": "stdout",
     "output_type": "stream",
     "text": [
      "/export/c08/lmorove1/kaldi/egs/beatPDivec/v1_dysk_auto/exp/ivec_500/resiVecSVR_Fold/objs_500_kernel_linear_c_0.002_eps_0.1.pkl\n",
      "/export/c08/lmorove1/kaldi/egs/beatPDivec/v1_dysk_auto/exp/ivec_500/resiVecSVR_Fold/Dyskinesia_testing.csv\n"
     ]
    }
   ],
   "source": [
    "file_path='/export/c08/lmorove1/kaldi/egs/beatPDivec/v1_dysk_auto/exp/ivec_500/resiVecSVR_Fold/objs_500_kernel_linear_c_0.002_eps_0.1.pkl'\n",
    "dest_dir='/export/c08/lmorove1/kaldi/egs/beatPDivec/v1_dysk_auto/exp/ivec_500/resiVecSVR_Fold/'\n",
    "fileName='Dyskinesia_testing'\n",
    "\n",
    "generateCSVtest(file_path, dest_dir, fileName)"
   ]
  }
 ],
 "metadata": {
  "kernelspec": {
   "display_name": "Python 3",
   "language": "python",
   "name": "python3"
  },
  "language_info": {
   "codemirror_mode": {
    "name": "ipython",
    "version": 3
   },
   "file_extension": ".py",
   "mimetype": "text/x-python",
   "name": "python",
   "nbconvert_exporter": "python",
   "pygments_lexer": "ipython3",
   "version": "3.7.3"
  }
 },
 "nbformat": 4,
 "nbformat_minor": 4
}
