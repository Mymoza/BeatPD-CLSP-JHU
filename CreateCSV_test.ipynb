{
 "cells": [
  {
   "cell_type": "code",
   "execution_count": 13,
   "metadata": {},
   "outputs": [],
   "source": [
    "import numpy as np\n",
    "import pickle\n",
    "import pandas as pd\n",
    "import os\n",
    "\n",
    "#src_dir='/export/c08/lmorove1/kaldi/egs/beatPDivec/on_off_noinact_auto30/exp/ivec_450/resiVecSVR_Fold'\n",
    "#dest_dir='/export/c08/lmorove1/kaldi/egs/beatPDivec/on_off_noinact_auto30/exp/ivec_450/resiVecSVR_Fold_all/'\n",
    "def generateCSVtest(file_path, dest_dir, fileName):\n",
    "    if not os.path.exists(dest_dir):\n",
    "        os.makedirs(dest_dir)\n",
    "    pooled_glob_test_pred=[]\n",
    "    pooled_glob_test_mesID=[]\n",
    "    print(file_path)\n",
    "    pickle_in = open(file_path,\"rb\")\n",
    "    pkl_file = pickle.load(pickle_in)\n",
    "    #print(pkl_file)\n",
    "    pickle_in.close\n",
    "    #print(type(pkl_file))\n",
    "    #print(len(pkl_file))\n",
    "    glob_test_pred=pkl_file[2]\n",
    "    glob_test_mesID=pkl_file[-1]\n",
    "\n",
    "    df = pd.DataFrame({'measurement_id': glob_test_mesID, 'prediction':glob_test_pred})\n",
    "    df.to_csv(dest_dir+fileName+'.csv', index=False)\n",
    "    print(dest_dir+fileName+'.csv')"
   ]
  },
  {
   "cell_type": "code",
   "execution_count": 14,
   "metadata": {},
   "outputs": [
    {
     "name": "stdout",
     "output_type": "stream",
     "text": [
      "/export/c08/lmorove1/kaldi/egs/beatPDivec/on_off_noinact_auto30/exp/ivec_450/resiVecSVR_Fold/objs_400_kernel_linear_c_0.2_eps_0.1.pkl\n",
      "/export/c08/lmorove1/kaldi/egs/beatPDivec/on_off_noinact_auto30/exp/ivec_450/resiVecSVR_Fold/On_off_testing.csv\n"
     ]
    }
   ],
   "source": [
    "#ONOFF\n",
    "file_path='/export/c08/lmorove1/kaldi/egs/beatPDivec/on_off_noinact_auto30/exp/ivec_450/resiVecSVR_Fold/objs_400_kernel_linear_c_0.2_eps_0.1.pkl'\n",
    "dest_dir='/export/c08/lmorove1/kaldi/egs/beatPDivec/on_off_noinact_auto30/exp/ivec_450/resiVecSVR_Fold/'\n",
    "fileName='On_off_testing'\n",
    "#src_dir='/export/c08/lmorove1/kaldi/egs/beatPDivec/trem_noinact_auto30/exp/ivec_450'\n",
    "\n",
    "generateCSVtest(file_path, dest_dir, fileName)"
   ]
  },
  {
   "cell_type": "code",
   "execution_count": 15,
   "metadata": {},
   "outputs": [
    {
     "name": "stdout",
     "output_type": "stream",
     "text": [
      "/export/c08/lmorove1/kaldi/egs/beatPDivec/trem_noinact_auto30/exp/ivec_450/resiVecSVR_Fold/objs_450_kernel_linear_c_0.02_eps_0.1.pkl\n",
      "/export/c08/lmorove1/kaldi/egs/beatPDivec/trem_noinact_auto30/exp/ivec_450/resiVecSVR_Fold/Tremor_testing.csv\n"
     ]
    }
   ],
   "source": [
    "#TREMOR\n",
    "file_path='/export/c08/lmorove1/kaldi/egs/beatPDivec/trem_noinact_auto30/exp/ivec_450/resiVecSVR_Fold/objs_450_kernel_linear_c_0.02_eps_0.1.pkl'\n",
    "dest_dir='/export/c08/lmorove1/kaldi/egs/beatPDivec/trem_noinact_auto30/exp/ivec_450/resiVecSVR_Fold/'\n",
    "fileName='Tremor_testing'\n",
    "#src_dir='/export/c08/lmorove1/kaldi/egs/beatPDivec/trem_noinact_auto30/exp/ivec_450'\n",
    "\n",
    "generateCSVtest(file_path, dest_dir, fileName)\n",
    "\n"
   ]
  },
  {
   "cell_type": "code",
   "execution_count": 16,
   "metadata": {},
   "outputs": [
    {
     "name": "stdout",
     "output_type": "stream",
     "text": [
      "/export/c08/lmorove1/kaldi/egs/beatPDivec/v1_dysk_auto/exp/ivec_500/resiVecSVR_Fold/objs_500_kernel_linear_c_0.002_eps_0.1.pkl\n",
      "/export/c08/lmorove1/kaldi/egs/beatPDivec/v1_dysk_auto/exp/ivec_500/resiVecSVR_Fold/Dyskinesia_testing.csv\n"
     ]
    }
   ],
   "source": [
    "#Dyskinesia\n",
    "\n",
    "file_path='/export/c08/lmorove1/kaldi/egs/beatPDivec/v1_dysk_auto/exp/ivec_500/resiVecSVR_Fold/objs_500_kernel_linear_c_0.002_eps_0.1.pkl'\n",
    "dest_dir='/export/c08/lmorove1/kaldi/egs/beatPDivec/v1_dysk_auto/exp/ivec_500/resiVecSVR_Fold/'\n",
    "fileName='Dyskinesia_testing'\n",
    "#src_dir='/export/c08/lmorove1/kaldi/egs/beatPDivec/trem_noinact_auto30/exp/ivec_450'\n",
    "\n",
    "generateCSVtest(file_path, dest_dir, fileName)\n",
    "\n"
   ]
  },
  {
   "cell_type": "markdown",
   "metadata": {},
   "source": [
    "# SVR Per Patient"
   ]
  },
  {
   "cell_type": "code",
   "execution_count": 9,
   "metadata": {},
   "outputs": [
    {
     "name": "stdout",
     "output_type": "stream",
     "text": [
      "/export/c08/lmorove1/kaldi/egs/beatPDivec/dysk_orig_auto60_400fl/exp/ivec_650/resiVecSVR_Fold/1004_objs_450_kernel_linear_c_0.002_eps_0.1.pkl\n",
      "/export/c08/lmorove1/kaldi/egs/beatPDivec/dysk_orig_auto60_400fl/exp/ivec_650/resiVecSVR_Fold/1007_objs_100_kernel_linear_c_0.002_eps_0.1.pkl\n",
      "/export/c08/lmorove1/kaldi/egs/beatPDivec/dysk_orig_auto60_400fl/exp/ivec_650/resiVecSVR_Fold/1019_objs_400_kernel_linear_c_0.2_eps_0.1.pkl\n",
      "/export/c08/lmorove1/kaldi/egs/beatPDivec/dysk_orig_auto60_400fl/exp/ivec_650/resiVecSVR_Fold/1023_objs_300_kernel_linear_c_0.2_eps_0.1.pkl\n",
      "/export/c08/lmorove1/kaldi/egs/beatPDivec/dysk_orig_auto60_400fl/exp/ivec_650/resiVecSVR_Fold/1034_objs_100_kernel_linear_c_20.0_eps_0.1.pkl\n",
      "/export/c08/lmorove1/kaldi/egs/beatPDivec/dysk_orig_auto60_400fl/exp/ivec_650/resiVecSVR_Fold/1038_objs_450_kernel_linear_c_0.002_eps_0.1.pkl\n",
      "/export/c08/lmorove1/kaldi/egs/beatPDivec/dysk_orig_auto60_400fl/exp/ivec_650/resiVecSVR_Fold/1039_objs_450_kernel_linear_c_0.2_eps_0.1.pkl\n",
      "/export/c08/lmorove1/kaldi/egs/beatPDivec/dysk_orig_auto60_400fl/exp/ivec_650/resiVecSVR_Fold/1043_objs_300_kernel_linear_c_0.2_eps_0.1.pkl\n",
      "/export/c08/lmorove1/kaldi/egs/beatPDivec/dysk_orig_auto60_400fl/exp/ivec_650/resiVecSVR_Fold/1044_objs_50_kernel_linear_c_0.002_eps_0.1.pkl\n",
      "/export/c08/lmorove1/kaldi/egs/beatPDivec/dysk_orig_auto60_400fl/exp/ivec_650/resiVecSVR_Fold/1048_objs_650_kernel_linear_c_0.2_eps_0.1.pkl\n",
      "/export/c08/lmorove1/kaldi/egs/beatPDivec/dysk_orig_auto60_400fl/exp/ivec_650/resiVecSVR_Fold/1049_objs_250_kernel_linear_c_0.2_eps_0.1.pkl\n",
      "396\n",
      "/export/c08/lmorove1/kaldi/egs/beatPDivec/dysk_orig_auto60_400fl/exp/ivec_650/resiVecSVR_Fold/preds_per_patient.csv\n"
     ]
    }
   ],
   "source": [
    "import numpy as np\n",
    "import pickle\n",
    "import pandas as pd\n",
    "import os\n",
    "\n",
    "best_config = {1004: ['/objs_450_kernel_linear_c_0.002_eps_0.1.pkl', 1.1469489658686098],\n",
    " 1007: ['/objs_100_kernel_linear_c_0.002_eps_0.1.pkl', 0.09115239389591206],\n",
    " 1019: ['/objs_400_kernel_linear_c_0.2_eps_0.1.pkl', 0.686931370820251],\n",
    " 1023: ['/objs_300_kernel_linear_c_0.2_eps_0.1.pkl', 0.8462093717280431],\n",
    " 1034: ['/objs_100_kernel_linear_c_20.0_eps_0.1.pkl', 0.7961188257851409],\n",
    " 1038: ['/objs_450_kernel_linear_c_0.002_eps_0.1.pkl', 0.3530848340426855],\n",
    " 1039: ['/objs_450_kernel_linear_c_0.2_eps_0.1.pkl', 0.3826339325882311],\n",
    " 1043: ['/objs_300_kernel_linear_c_0.2_eps_0.1.pkl', 0.5525085362997469],\n",
    " 1044: ['/objs_50_kernel_linear_c_0.002_eps_0.1.pkl', 0.09694768640213237],\n",
    " 1048: ['/objs_650_kernel_linear_c_0.2_eps_0.1.pkl', 0.4505302952804157],\n",
    " 1049: ['/objs_250_kernel_linear_c_0.2_eps_0.1.pkl', 0.4001809543831368]}\n",
    "\n",
    "dest_dir='/export/c08/lmorove1/kaldi/egs/beatPDivec/dysk_orig_auto60_400fl/exp/ivec_650/resiVecSVR_Fold/'\n",
    "src_dir='/export/c08/lmorove1/kaldi/egs/beatPDivec/dysk_orig_auto60_400fl/exp/ivec_650/resiVecSVR_Fold/'\n",
    "\n",
    "def generateCSVtest(file_path, dest_dir, best_config):\n",
    "    if not os.path.exists(dest_dir):\n",
    "        os.makedirs(dest_dir)\n",
    "        \n",
    "    pooled_glob_test_pred=[]\n",
    "    pooled_glob_test_mesID=[]\n",
    "    \n",
    "    for pid in best_config.keys():\n",
    "        # Merge la key et le nom de objs\n",
    "        fileName = str(pid)+\"_\"+best_config[pid][0].strip('/').strip('.pkl')\n",
    "        file_path=src_dir+fileName+'.pkl'\n",
    "        print(file_path)\n",
    "        pickle_in = open(file_path,\"rb\")\n",
    "        pkl_file = pickle.load(pickle_in)\n",
    "        #print(pkl_file)\n",
    "        pickle_in.close\n",
    "        #print(type(pkl_file))\n",
    "        #print(len(pkl_file))\n",
    "        glob_test_pred=pkl_file[2]\n",
    "        glob_test_mesID=pkl_file[-1]\n",
    "        \n",
    "        pooled_glob_test_pred.append(glob_test_pred)\n",
    "        \n",
    "        pooled_glob_test_mesID.extend(glob_test_mesID)\n",
    "        \n",
    "    pooled_glob_test_pred=np.hstack(pooled_glob_test_pred).tolist()\n",
    "    print(len(pooled_glob_test_pred))\n",
    "    \n",
    "    df = pd.DataFrame({'measurement_id': pooled_glob_test_mesID, 'prediction':pooled_glob_test_pred})\n",
    "    df.to_csv(dest_dir+'preds_per_patient'+'.csv', index=False)\n",
    "    print(dest_dir+'preds_per_patient'+'.csv')\n",
    "\n",
    "generateCSVtest(src_dir, dest_dir, best_config)\n"
   ]
  },
  {
   "cell_type": "code",
   "execution_count": null,
   "metadata": {},
   "outputs": [],
   "source": []
  }
 ],
 "metadata": {
  "kernelspec": {
   "display_name": "Python 3",
   "language": "python",
   "name": "python3"
  },
  "language_info": {
   "codemirror_mode": {
    "name": "ipython",
    "version": 3
   },
   "file_extension": ".py",
   "mimetype": "text/x-python",
   "name": "python",
   "nbconvert_exporter": "python",
   "pygments_lexer": "ipython3",
   "version": "3.7.3"
  }
 },
 "nbformat": 4,
 "nbformat_minor": 4
}
