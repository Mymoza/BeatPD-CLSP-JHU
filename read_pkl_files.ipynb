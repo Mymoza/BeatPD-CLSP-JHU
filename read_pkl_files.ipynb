{
 "cells": [
  {
   "cell_type": "markdown",
   "metadata": {},
   "source": [
    "# Read pickle files "
   ]
  },
  {
   "cell_type": "code",
   "execution_count": 83,
   "metadata": {},
   "outputs": [],
   "source": [
    "import pickle\n",
    "import re \n",
    "import numpy as np"
   ]
  },
  {
   "cell_type": "code",
   "execution_count": 26,
   "metadata": {},
   "outputs": [
    {
     "ename": "FileNotFoundError",
     "evalue": "[Errno 2] No such file or directory: '/export/c08/lmorove1/kaldi/egs/beatPDivec/v1/exp/objs_50_k_6.pkl'",
     "output_type": "error",
     "traceback": [
      "\u001b[0;31m------------------------------------------------------\u001b[0m",
      "\u001b[0;31mFileNotFoundError\u001b[0m    Traceback (most recent call last)",
      "\u001b[0;32m<ipython-input-26-9ced157a31a9>\u001b[0m in \u001b[0;36m<module>\u001b[0;34m\u001b[0m\n\u001b[1;32m      5\u001b[0m [glob_trai_pred,glob_trai_true, glob_test_pred,glob_test_true, \\\n\u001b[1;32m      6\u001b[0m  \u001b[0mmse_training_per_subjectid\u001b[0m\u001b[0;34m,\u001b[0m \u001b[0mmse_test_per_subjectid\u001b[0m\u001b[0;34m,\u001b[0m\u001b[0;31m \u001b[0m\u001b[0;31m\\\u001b[0m\u001b[0;34m\u001b[0m\u001b[0m\n\u001b[0;32m----> 7\u001b[0;31m  train_nb_files_per_subjectid, test_nb_files_per_subjectid] = pickle.load( open( file_path+file_name, \"rb\" ) )\n\u001b[0m",
      "\u001b[0;31mFileNotFoundError\u001b[0m: [Errno 2] No such file or directory: '/export/c08/lmorove1/kaldi/egs/beatPDivec/v1/exp/objs_50_k_6.pkl'"
     ]
    }
   ],
   "source": [
    "\n",
    "# file_path = '/export/c08/lmorove1/kaldi/egs/beatPDivec/v1/exp/'#/resxVecFold0/'\n",
    "#file_path='/home/sjoshi/codes/python/BeatPD/code/'\n",
    "# file_name = 'objs_50_k_6.pkl'\n",
    "\n",
    "\n",
    "[glob_trai_pred,glob_trai_true, glob_test_pred,glob_test_true, \\\n",
    " mse_training_per_subjectid, mse_test_per_subjectid, \\\n",
    " train_nb_files_per_subjectid, test_nb_files_per_subjectid] = pickle.load( open( file_path+file_name, \"rb\" ) )"
   ]
  },
  {
   "cell_type": "code",
   "execution_count": 59,
   "metadata": {},
   "outputs": [
    {
     "name": "stdout",
     "output_type": "stream",
     "text": [
      "['/export/c08/lmorove1/kaldi/egs/beatPDivec/v1/exp/resxVecFold0', '/export/c08/lmorove1/kaldi/egs/beatPDivec/v1/exp/resxVecFold1', '/export/c08/lmorove1/kaldi/egs/beatPDivec/v1/exp/resxVecFold2', '/export/c08/lmorove1/kaldi/egs/beatPDivec/v1/exp/resxVecFold3', '/export/c08/lmorove1/kaldi/egs/beatPDivec/v1/exp/resxVecFold4']\n",
      "['0', '1', '2', '3', '4']\n",
      "['50']\n"
     ]
    }
   ],
   "source": [
    "import glob\n",
    "\n",
    "lResxFolders = [f for f in glob.glob(file_path + \"resx*\")]\n",
    "sPatternFold = '(?<=[Ff]old)\\d+'\n",
    "print(lResxFolders)\n",
    "\n",
    "lFolds = []\n",
    "for folder in lResxFolders:\n",
    "    lFolds.append(re.findall(sPatternFold, folder)[0])\n",
    "print(lFolds)\n"
   ]
  },
  {
   "cell_type": "markdown",
   "metadata": {},
   "source": [
    "#### With (or without?) knn"
   ]
  },
  {
   "cell_type": "code",
   "execution_count": 110,
   "metadata": {},
   "outputs": [
    {
     "name": "stdout",
     "output_type": "stream",
     "text": [
      "Components found :  ['50']\n",
      "Neighbors found :  ['3']\n",
      "------ FOR NEIGHBOR  3 ------\n",
      "---- FOR COMPONENT  50 ----\n",
      "/home/sjoshi/codes/python/BeatPD/code/resxVecFold1\n",
      "/home/sjoshi/codes/python/BeatPD/code/resxVecFold4\n",
      "/home/sjoshi/codes/python/BeatPD/code/resxVecFold0\n",
      "/home/sjoshi/codes/python/BeatPD/code/resxVecFold3\n",
      "/home/sjoshi/codes/python/BeatPD/code/resxVecFold2\n",
      "Global training accuracy: 0.6154401154401155\n",
      "Global testing accuracy: 0.5380577427821522\n",
      "Train Final score :  0.01728909175904204\n",
      "Test Final score :  0.10001114592895653\n"
     ]
    }
   ],
   "source": [
    "def read_pickle(sFilePath, bKnn):\n",
    "    lResxFolders = [f for f in glob.glob(sFilePath + \"resx*\")]\n",
    "    sPatternFold = '(?<=[Ff]old)\\d+'\n",
    "    lComponents = [] \n",
    "    lNeighbors = [] \n",
    "\n",
    "    # Building the list of folders we have to open \n",
    "    lResxFolders = [f for f in glob.glob(sFilePath + \"resx*\")]\n",
    "\n",
    "    # Get a list of all files starting with objs\n",
    "    for fold_folder in lResxFolders:\n",
    "        lObjsFiles = glob.glob(fold_folder + \"/objs*\")\n",
    "\n",
    "    # Get a list of all no of components \n",
    "    for objsFile in lObjsFiles:\n",
    "        # Get a list of all iComponents\n",
    "        sPatternComponents = r'\\d+(?=[_|.])'\n",
    "        lComponents.append(re.findall(sPatternComponents, objsFile)[0])\n",
    "\n",
    "        # Get a list of all iNeighbors\n",
    "        sPatternNeighbors = r'(?<=k_)\\d+'\n",
    "        lNeighbors.append(re.findall(sPatternNeighbors, objsFile)[0])\n",
    "\n",
    "    print('Components found : ', lComponents)\n",
    "    print('Neighbors found : ', lNeighbors)\n",
    "    \n",
    "    for neighbor in lNeighbors:\n",
    "        print('------ FOR NEIGHBOR ', neighbor, '------')\n",
    "        for component in lComponents:\n",
    "            print('---- FOR COMPONENT ', component, '----')\n",
    "            \n",
    "            # To compute mean accuracy accross all folds\n",
    "            allfolds_glob_trai_pred = []\n",
    "            allfolds_glob_trai_true = []\n",
    "            allfolds_glob_test_pred = []\n",
    "            allfolds_glob_test_true = [] \n",
    "            \n",
    "            # To compute final score across all folds \n",
    "            allfolds_mse_training_per_subjectid = []\n",
    "            allfolds_mse_test_per_subjectid = []\n",
    "            allfolds_train_nb_files_per_subjectid = []\n",
    "            allfolds_test_nb_files_per_subjectid = []\n",
    "            \n",
    "            for fold_folder in lResxFolders:\n",
    "                print(fold_folder)\n",
    "\n",
    "                if bKnn:\n",
    "                    sFileName = fold_folder+'/objs_'+component+'_k_'+neighbor+'.pkl'\n",
    "                else:\n",
    "                    sFileName = fold_folder+'/objs_'+component+'.pkl'\n",
    "\n",
    "                # Retrieve DataFrames from Pickle file \n",
    "                [glob_trai_pred,glob_trai_true, \\\n",
    "                 glob_test_pred,glob_test_true, \\\n",
    "                 mse_training_per_subjectid, \\\n",
    "                 mse_test_per_subjectid, \\\n",
    "                 train_nb_files_per_subjectid, \\\n",
    "                 test_nb_files_per_subjectid] = pickle.load(open(sFileName, \"rb\" ) )\n",
    "\n",
    "                # Build the DataFrames for all folds \n",
    "                allfolds_glob_trai_pred = np.append(allfolds_glob_trai_pred, glob_trai_pred)\n",
    "                allfolds_glob_trai_true = np.append(allfolds_glob_trai_true, glob_trai_true)\n",
    "                allfolds_glob_test_pred = np.append(allfolds_glob_test_pred, glob_test_pred)\n",
    "                allfolds_glob_test_true = np.append(allfolds_glob_test_true, glob_test_true)\n",
    "\n",
    "                allfolds_mse_training_per_subjectid = np.append(allfolds_mse_training_per_subjectid, \n",
    "                                                                mse_training_per_subjectid)\n",
    "                allfolds_mse_test_per_subjectid = np.append(allfolds_mse_test_per_subjectid,\n",
    "                                                           mse_test_per_subjectid)\n",
    "                allfolds_train_nb_files_per_subjectid = np.append(allfolds_train_nb_files_per_subjectid, \n",
    "                                                                 train_nb_files_per_subjectid)\n",
    "                allfolds_test_nb_files_per_subjectid = np.append(allfolds_test_nb_files_per_subjectid, \n",
    "                                                                test_nb_files_per_subjectid)\n",
    "            \n",
    "            print('Global training accuracy: {}'.format((allfolds_glob_trai_true == allfolds_glob_trai_pred).mean()))\n",
    "            print('Global testing accuracy: {}'.format((allfolds_glob_test_true == allfolds_glob_test_pred).mean()))\n",
    "            \n",
    "            final_score(allfolds_mse_training_per_subjectid,\n",
    "                        allfolds_train_nb_files_per_subjectid,\n",
    "                        training_or_test='Train ')\n",
    "            final_score(allfolds_mse_test_per_subjectid,\n",
    "                        allfolds_test_nb_files_per_subjectid,\n",
    "                        training_or_test='Test ')\n",
    "            \n",
    "\n",
    "#file_path = '/export/c08/lmorove1/kaldi/egs/beatPDivec/v1/exp/'\n",
    "sFilePath = '/home/sjoshi/codes/python/BeatPD/code/'\n",
    "bKnn = True # Should we use KNN neighbors or not?\n",
    "read_pickle(sFilePath, bKnn)"
   ]
  },
  {
   "cell_type": "markdown",
   "metadata": {},
   "source": [
    "#### Should work if not knn"
   ]
  },
  {
   "cell_type": "code",
   "execution_count": 100,
   "metadata": {},
   "outputs": [
    {
     "name": "stdout",
     "output_type": "stream",
     "text": [
      "['50']\n",
      "------ FOR COMPONENT  50 ------\n",
      "/home/sjoshi/codes/python/BeatPD/code/resxVecFold1\n"
     ]
    },
    {
     "ename": "FileNotFoundError",
     "evalue": "[Errno 2] No such file or directory: '/home/sjoshi/codes/python/BeatPD/code/resxVecFold1/objs_50.pkl'",
     "output_type": "error",
     "traceback": [
      "\u001b[0;31m------------------------------------------------------\u001b[0m",
      "\u001b[0;31mFileNotFoundError\u001b[0m    Traceback (most recent call last)",
      "\u001b[0;32m<ipython-input-100-e71aff5f5748>\u001b[0m in \u001b[0;36m<module>\u001b[0;34m\u001b[0m\n\u001b[1;32m     38\u001b[0m         [glob_trai_pred,glob_trai_true, \\\n\u001b[1;32m     39\u001b[0m          \u001b[0mglob_test_pred\u001b[0m\u001b[0;34m,\u001b[0m\u001b[0mglob_test_true\u001b[0m\u001b[0;34m,\u001b[0m\u001b[0;31m \u001b[0m\u001b[0;31m\\\u001b[0m\u001b[0;34m\u001b[0m\u001b[0m\n\u001b[0;32m---> 40\u001b[0;31m          ] = pickle.load(open(file_name, \"rb\" ))\n\u001b[0m\u001b[1;32m     41\u001b[0m \u001b[0;34m\u001b[0m\u001b[0m\n\u001b[1;32m     42\u001b[0m         \u001b[0mallfolds_glob_trai_pred\u001b[0m \u001b[0;34m=\u001b[0m \u001b[0mnp\u001b[0m\u001b[0;34m.\u001b[0m\u001b[0mappend\u001b[0m\u001b[0;34m(\u001b[0m\u001b[0mallfolds_glob_trai_pred\u001b[0m\u001b[0;34m,\u001b[0m \u001b[0mglob_trai_pred\u001b[0m\u001b[0;34m)\u001b[0m\u001b[0;34m\u001b[0m\u001b[0m\n",
      "\u001b[0;31mFileNotFoundError\u001b[0m: [Errno 2] No such file or directory: '/home/sjoshi/codes/python/BeatPD/code/resxVecFold1/objs_50.pkl'"
     ]
    }
   ],
   "source": [
    "#file_path = '/export/c08/lmorove1/kaldi/egs/beatPDivec/v1/exp/'\n",
    "file_path = '/home/sjoshi/codes/python/BeatPD/code/'\n",
    "\n",
    "lResxFolders = [f for f in glob.glob(file_path + \"resx*\")]\n",
    "sPatternFold = '(?<=[Ff]old)\\d+'\n",
    "lComponents = [] \n",
    "lNeighbors = [] \n",
    "\n",
    "# Building the list of folders we have to open \n",
    "lResxFolders = [f for f in glob.glob(file_path + \"resx*\")]\n",
    "\n",
    "# Get a list of all files starting with objs\n",
    "for fold_folder in lResxFolders:\n",
    "    lObjsFiles = glob.glob(fold_folder + \"/objs*\")\n",
    "\n",
    "# Get a list of all no of components \n",
    "for objsFile in lObjsFiles:\n",
    "    # Get a list of all iComponents\n",
    "    sPatternComponents = r'\\d+(?=[_|.])'\n",
    "    lComponents.append(re.findall(sPatternComponents, objsFile)[0])\n",
    "    \n",
    "    # Get a list of all iNeighbors\n",
    "#     sPatternNeighbors = r'(?<=k_)\\d+'\n",
    "#     lNeighbors.append(re.findall(sPatternNeighbors, objsFile)[0])\n",
    "\n",
    "print(lComponents)\n",
    "\n",
    "for component in lComponents:\n",
    "    allfolds_glob_trai_pred = []\n",
    "    allfolds_glob_trai_true = []\n",
    "    allfolds_glob_test_pred = []\n",
    "    allfolds_glob_test_true = [] \n",
    "\n",
    "    print('------ FOR COMPONENT ', component, '------')\n",
    "    for fold_folder in lResxFolders:\n",
    "        print(fold_folder)\n",
    "        file_name = fold_folder+'/objs_'+component+'.pkl'\n",
    "        [glob_trai_pred,glob_trai_true, \\\n",
    "         glob_test_pred,glob_test_true, \\\n",
    "         ] = pickle.load(open(file_name, \"rb\" ))\n",
    "        \n",
    "        allfolds_glob_trai_pred = np.append(allfolds_glob_trai_pred, glob_trai_pred)\n",
    "        allfolds_glob_trai_true = np.append(allfolds_glob_trai_true, glob_trai_true)\n",
    "        allfolds_glob_test_pred = np.append(allfolds_glob_test_pred, glob_test_pred)\n",
    "        allfolds_glob_test_true = np.append(allfolds_glob_test_true, glob_test_true)\n",
    "#         [glob_trai_pred,glob_trai_true, \\\n",
    "#          glob_test_pred,glob_test_true, \\\n",
    "#          mse_training_per_subjectid, \\\n",
    "#          mse_test_per_subjectid, \\\n",
    "#          train_nb_files_per_subjectid, \\\n",
    "#          test_nb_files_per_subjectid] = pickle.load(open(file_name, \"rb\" ) )\n",
    "\n",
    "\n",
    "    print('Global training accuracy: {}'.format((allfolds_glob_trai_true == allfolds_glob_trai_pred).mean()))\n",
    "    print('Global testing accuracy: {}'.format((allfolds_glob_test_true == allfolds_glob_test_pred).mean()))"
   ]
  },
  {
   "cell_type": "code",
   "execution_count": 58,
   "metadata": {},
   "outputs": [
    {
     "name": "stdout",
     "output_type": "stream",
     "text": [
      "[]\n"
     ]
    }
   ],
   "source": [
    "# From exp folder, find \"resx*\" folders \n",
    "file_path = '/export/c08/lmorove1/kaldi/egs/beatPDivec/v1/exp/'\n",
    "\n",
    "# Read all Fold0 to 4 \n",
    "    # Look for obs files\n",
    "\n",
    "\n",
    "# Get a list of all iComponents\n",
    "sPatternComponents = r'\\d+(?=[_])'\n",
    "lComponents = re.findall(sPatternComponents, file_name)\n",
    "\n",
    "# Get a list of all iNeighbors\n",
    "sPatternNeighbors = r'(?<=k_)\\d+'\n",
    "lNeighbors = re.findall(sPatternNeighbors, file_name)\n",
    "\n",
    "\n",
    "\n",
    "# List files in given folder \n",
    "path = file_path\n",
    "files = [i for i in os.listdir(path)if os.path.isfile(os.path.join(path,i))]\n",
    "print(files)"
   ]
  },
  {
   "cell_type": "code",
   "execution_count": 104,
   "metadata": {},
   "outputs": [],
   "source": [
    "from sklearn.metrics import mean_squared_error\n",
    "from math import sqrt \n",
    "\n",
    "def final_score(mse_per_subjectid, nb_files_per_subject_id, training_or_test=''):\n",
    "    numerator = np.sum([a * b for a, b in zip(np.sqrt(nb_files_per_subject_id), mse_per_subjectid)])\n",
    "    denominator = np.sum(np.sqrt(nb_files_per_subject_id))\n",
    "#     print('numerator : ', numerator)\n",
    "#     print('denominator : ', denominator)\n",
    "    print(training_or_test+'Final score : ', np.divide(numerator, denominator))"
   ]
  },
  {
   "cell_type": "code",
   "execution_count": null,
   "metadata": {},
   "outputs": [],
   "source": []
  }
 ],
 "metadata": {
  "kernelspec": {
   "display_name": "BeatPD",
   "language": "python",
   "name": "beatpd"
  },
  "language_info": {
   "codemirror_mode": {
    "name": "ipython",
    "version": 3
   },
   "file_extension": ".py",
   "mimetype": "text/x-python",
   "name": "python",
   "nbconvert_exporter": "python",
   "pygments_lexer": "ipython3",
   "version": "3.5.6"
  }
 },
 "nbformat": 4,
 "nbformat_minor": 2
}
