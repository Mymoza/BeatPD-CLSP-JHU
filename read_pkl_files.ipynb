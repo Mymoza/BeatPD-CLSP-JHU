{
 "cells": [
  {
   "cell_type": "markdown",
   "metadata": {},
   "source": [
    "# Read pickle files "
   ]
  },
  {
   "cell_type": "code",
   "execution_count": 16,
   "metadata": {},
   "outputs": [],
   "source": [
    "%load_ext autoreload\n",
    "%autoreload 2"
   ]
  },
  {
   "cell_type": "code",
   "execution_count": 20,
   "metadata": {},
   "outputs": [],
   "source": [
    "import pickle\n",
    "import re \n",
    "import numpy as np\n",
    "import glob\n",
    "from sklearn.metrics import mean_squared_error\n",
    "from math import sqrt \n",
    "\n",
    "from get_final_scores_yay import final_score\n",
    "from get_final_scores_yay import read_pickle"
   ]
  },
  {
   "cell_type": "code",
   "execution_count": 21,
   "metadata": {},
   "outputs": [
    {
     "name": "stdout",
     "output_type": "stream",
     "text": [
      "Components found :  ['50']\n",
      "---- FOR COMPONENT  50 ----\n",
      "/home/sjoshi/codes/python/BeatPD/code/resxVecFold1\n",
      "/home/sjoshi/codes/python/BeatPD/code/resxVecFold4\n",
      "/home/sjoshi/codes/python/BeatPD/code/resxVecFold0\n",
      "/home/sjoshi/codes/python/BeatPD/code/resxVecFold3\n",
      "/home/sjoshi/codes/python/BeatPD/code/resxVecFold2\n",
      "Global training accuracy: 0.6154401154401155\n",
      "Global testing accuracy: 0.5380577427821522\n",
      "Train Final score :  0.01728909175904204\n",
      "Test Final score :  0.10001114592895653\n"
     ]
    }
   ],
   "source": [
    "#sFilePath = '/export/c08/lmorove1/kaldi/egs/beatPDivec/v1/exp/'\n",
    "sFilePath = '/home/sjoshi/codes/python/BeatPD/code/'\n",
    "bKnn = True # Flag: is it files from KNN algorithm? \n",
    "read_pickle(sFilePath, bKnn=False)"
   ]
  }
 ],
 "metadata": {
  "kernelspec": {
   "display_name": "BeatPD",
   "language": "python",
   "name": "beatpd"
  },
  "language_info": {
   "codemirror_mode": {
    "name": "ipython",
    "version": 3
   },
   "file_extension": ".py",
   "mimetype": "text/x-python",
   "name": "python",
   "nbconvert_exporter": "python",
   "pygments_lexer": "ipython3",
   "version": "3.5.6"
  }
 },
 "nbformat": 4,
 "nbformat_minor": 2
}
