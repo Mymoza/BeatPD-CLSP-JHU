{
 "cells": [
  {
   "cell_type": "markdown",
   "metadata": {},
   "source": [
    "# BEAT-PD Challenge\n",
    "\n",
    "## Team JHU-CLSP \n",
    "\n",
    "- Marie-Philippe Gill\n",
    "- Nanxin Chen\n",
    "- Saurabhchand Bhati\n",
    "- Sonal Joshi\n",
    "- Laureano Moro-Velazquez\n",
    "\n",
    "Team page : https://www.synapse.org/#!Team:3404266\n",
    "\n",
    "## Useful Links\n",
    "\n",
    "Challenge website : https://www.synapse.org/#!Synapse:syn20825169/wiki/596118\n",
    "\n",
    "Data information : https://www.synapse.org/#!Synapse:syn20825169/wiki/600405\n"
   ]
  },
  {
   "cell_type": "code",
   "execution_count": 3,
   "metadata": {},
   "outputs": [],
   "source": [
    "# Import required libraries\n",
    "\n",
    "%matplotlib inline\n",
    "import matplotlib.pyplot as plt\n",
    "import numpy as np\n",
    "import pandas as pd\n",
    "from IPython.display import HTML, display\n",
    "\n",
    "# Imports for the high pass signal\n",
    "from scipy.signal import butter, freqz, lfilter\n",
    "\n",
    "# KFold\n",
    "from sklearn.model_selection import KFold\n",
    "\n",
    "# Import required modules\n",
    "from sklearn.preprocessing import StandardScaler\n",
    "\n",
    "import os.path\n",
    "\n",
    "# To write WAV File\n",
    "from scipy.io.wavfile import write\n",
    "\n",
    "# To make derivative work on multiple CPUs\n",
    "from concurrent.futures import ProcessPoolExecutor\n",
    "from functools import partial\n",
    "\n",
    "import sys\n",
    "\n",
    "\n",
    "\n",
    "%load_ext autoreload\n",
    "%autoreload 2\n",
    "\n",
    "# import transform_data\n",
    "from transform_data import *\n",
    "from create_graphs import *"
   ]
  },
  {
   "cell_type": "markdown",
   "metadata": {},
   "source": [
    "# Extract initial data "
   ]
  },
  {
   "cell_type": "code",
   "execution_count": 16,
   "metadata": {},
   "outputs": [],
   "source": [
    "# Data paths\n",
    "data_dir = \"<your-path-to-data>\" "
   ]
  },
  {
   "cell_type": "code",
   "execution_count": null,
   "metadata": {},
   "outputs": [],
   "source": [
    "!cd {data_dir}\n",
    "!pwd\n",
    "!tar -xvf {data_dir}cis-pd.data_labels.tar.bz2 --directory {data_dir}; mv {data_dir}data_labels {data_dir}cis-pd.data_labels\n",
    "!tar -xvf {data_dir}real-pd.data_labels.tar.bz2 --directory {data_dir}; mv {data_dir}data_labels {data_dir}real-pd.data_labels\n",
    "!tar -xvf {data_dir}real-pd.training_data_updated.tar.bz2 --directory {data_dir}; mv {data_dir}training_data/ {data_dir}real-pd.training_data; \n",
    "!tar -xvf {data_dir}cis-pd.training_data.tar.bz2 --directory {data_dir}; mv {data_dir}training_data/ {data_dir}cis-pd.training_data; \n",
    "!tar -xvf {data_dir}cis-pd.ancillary_data.tar.bz2 --directory {data_dir}; mv {data_dir}ancillary_data/ {data_dir}cis-pd.ancillary_data;\n",
    "!tar -xvf {data_dir}real-pd.ancillary_data_updated.tar.bz2 --directory {data_dir}; mv {data_dir}ancillary_data {data_dir}real-pd.ancillary_data;\n",
    "!tar -xvf {data_dir}cis-pd.testing_data.tar.bz2 --directory {data_dir}; mv {data_dir}testing_data/ {data_dir}cis-pd.testing_data/;\n",
    "!tar -xvf {data_dir}real-pd.testing_data_updated.tar.bz2 --directory {data_dir}; mv {data_dir}testing_data/ {data_dir}real-pd.testing_data/;\n",
    "!mv {data_dir}cis-pd.CIS-PD_Test_Data_IDs.csv {data_dir}CIS-PD_Test_Data_IDs_Labels.csv; mv {data_dir}CIS-PD_Test_Data_IDs_Labels.csv {data_dir}cis-pd.data_labels/;\n",
    "!mv {data_dir}real-pd.REAL-PD_Test_Data_IDs.csv {data_dir}REAL-PD_Test_Data_IDs_Labels.csv; mv {data_dir}REAL-PD_Test_Data_IDs_Labels.csv {data_dir}real-pd.data_labels/\n"
   ]
  },
  {
   "cell_type": "code",
   "execution_count": null,
   "metadata": {},
   "outputs": [],
   "source": []
  },
  {
   "cell_type": "code",
   "execution_count": null,
   "metadata": {},
   "outputs": [],
   "source": [
    "# !rm {data_dir}cis-pd.data_labels.tar.bz2\n",
    "# !rm {data_dir}real-pd.data_labels.tar.bz2\n",
    "# !rm {data_dir}real-pd.training_data_updated.tar.bz2;\n",
    "# !rm {data_dir}cis-pd.training_data.tar.bz2;\n",
    "# !rm {data_dir}cis-pd.ancillary_data.tar.bz2;\n",
    "# !rm {data_dir}real-pd.ancillary_data_updated.tar.bz2;\n",
    "# !rm {data_dir}cis-pd.testing_data.tar.bz2;\n",
    "# !rm {data_dir}real-pd.testing_data_updated.tar.bz2;"
   ]
  },
  {
   "cell_type": "markdown",
   "metadata": {},
   "source": [
    "# CIS-PD Database"
   ]
  },
  {
   "cell_type": "markdown",
   "metadata": {},
   "source": [
    "### CIS-PD: Create High Pass Data"
   ]
  },
  {
   "cell_type": "markdown",
   "metadata": {},
   "source": [
    "For the high pass filter, three parameters can be tuned, but we used these:\n",
    "\n",
    "- `order` = 10\n",
    "- `fs` = 50.0  # sample rate, Hz\n",
    "- `cutoff` = 0.5  # desired cutoff frequency of the filter, Hz"
   ]
  },
  {
   "cell_type": "code",
   "execution_count": null,
   "metadata": {},
   "outputs": [],
   "source": [
    "from scipy import signal\n",
    "import matplotlib.pyplot as plt\n",
    "\n",
    "b, a = signal.butter(10, 100, 'low', analog=True)\n",
    "w, h = signal.freqs(b, a)\n",
    "plt.semilogx(w, 20 * np.log10(abs(h)))\n",
    "plt.title('Butterworth filter frequency response')\n",
    "plt.xlabel('Frequency [radians / second]')\n",
    "plt.ylabel('Amplitude [dB]')\n",
    "plt.margins(0, 0.1)\n",
    "plt.grid(which='both', axis='both')\n",
    "plt.axvline(100, color='green') # cutoff frequency\n",
    "plt.show()"
   ]
  },
  {
   "cell_type": "code",
   "execution_count": null,
   "metadata": {
    "scrolled": true
   },
   "outputs": [],
   "source": [
    "# This will create the following folders: \n",
    "# cis-pd.training_data.high_pass/ \n",
    "# cis-pd.ancillary_data.high_pass/ \n",
    "# cis-pd.testing_data.high_pass/ \n",
    "\n",
    "data_type = \"cis\"\n",
    "\n",
    "# data_subset is to switch between training_data, ancillary_data or testing_data\n",
    "for data_subset in ['training_data', 'ancillary_data', 'testing_data']:\n",
    "    path_train_data, df_train_label = define_data_type(data_type, data_dir, data_subset)\n",
    "\n",
    "    # Path where to save the data with high pass filter applied \n",
    "    high_pass_path=data_dir+'/cis-pd.'+data_subset+'.high_pass/'\n",
    "\n",
    "    high_pass_filter(df_train_label, high_pass_path, path_train_data, data_type)"
   ]
  },
  {
   "cell_type": "code",
   "execution_count": null,
   "metadata": {},
   "outputs": [],
   "source": [
    "# Use the following code if one high pass file is empty because of a bug\n",
    "\n",
    "# data_type = \"cis\"\n",
    "# path_train_data, df_train_label = define_data_type(data_type, data_dir, data_subset)\n",
    "\n",
    "# list_measurement_id = [\"dc90dc36-b4e5-43ec-b3e8-47c39c763c71\"]\n",
    "\n",
    "# # Filter df_train_label according to the measurement_id we are most interested in\n",
    "# df_train_label = interesting_patients(df_train_label=df_train_label, list_measurement_id=list_measurement_id)\n",
    "\n",
    "# high_pass_filter(df_train_label, high_pass_path, path_train_data, data_type)"
   ]
  },
  {
   "cell_type": "markdown",
   "metadata": {},
   "source": [
    "### CIS-PD: Create Masks for inactivity removal "
   ]
  },
  {
   "cell_type": "markdown",
   "metadata": {},
   "source": [
    "For the masks, two parameters can be tuned:\n",
    "\n",
    "- `energy_threshold` : what percentage of the max energy do we consider as inactivity? The current masks generated have used the threshold of 5%\n",
    "\n",
    "- `duration_threshold` : how long do we want to have inactivity before we remove it? For example 3000x0.02ms=1min of inactivity minimum before those candidates are considered inactivty and will be removed.\n",
    "\n",
    "This code also creates frequency response graph if needed."
   ]
  },
  {
   "cell_type": "code",
   "execution_count": null,
   "metadata": {
    "scrolled": false
   },
   "outputs": [],
   "source": [
    "# This will create the following folders: \n",
    "# cis-pd.training_data.high_pass_mask/ \n",
    "# cis-pd.ancillary_data.high_pass_mask/ \n",
    "# cis-pd.testing_data.high_pass_mask/ \n",
    "\n",
    "data_dir = \"/home/sjoshi/codes/python/BeatPD/data/BeatPD/\"\n",
    "\n",
    "data_type = \"cis\"\n",
    "\n",
    "# data_subset is to switch between training_data, ancillary_data or testing_data\n",
    "for data_subset in ['training_data', 'ancillary_data', 'testing_data']:\n",
    "    path_train_data, df_train_label = define_data_type(data_type, data_dir, data_subset)\n",
    "\n",
    "    remove_inactivity_highpass(\n",
    "        df_train_label,\n",
    "        path_train_data,\n",
    "        data_type,\n",
    "        energy_threshold=5,\n",
    "        duration_threshold=3000,\n",
    "        plot_frequency_response=True,\n",
    "        mask_path=data_dir+'/cis-pd.'+data_subset+'.high_pass_mask_2/')\n",
    "    raise KeyboardInterrupt"
   ]
  },
  {
   "cell_type": "markdown",
   "metadata": {},
   "source": [
    "### Facultative : Create Combhpfnoinact"
   ]
  },
  {
   "cell_type": "code",
   "execution_count": 1,
   "metadata": {},
   "outputs": [],
   "source": [
    "def save_removenoinact(measurement_id, path_train_data, mask_path, path_removeinact):\n",
    "    \"\"\"\n",
    "    Quick function just to remove inactivity on the provided data from path_train_data \n",
    "    and saves it in the provided path (path_removeinact)\n",
    "    \"\"\"\n",
    "    \n",
    "    df_train_data = pd.read_csv(path_train_data + measurement_id + \".csv\")\n",
    "    \n",
    "    df_train_data = apply_mask(path_train_data, measurement_id, mask_path)\n",
    "    \n",
    "    # If the folder doesn't exists, we need to create it \n",
    "    if not os.path.exists(path_removeinact):\n",
    "        os.makedirs(path_removeinact)\n",
    "        print('The folder was created : ', path_removeinact)\n",
    "    \n",
    "    # Save to a folder \n",
    "    df_train_data.to_csv(\n",
    "        path_removeinact + measurement_id + \".csv\",\n",
    "        index=False\n",
    "    )"
   ]
  },
  {
   "cell_type": "code",
   "execution_count": null,
   "metadata": {},
   "outputs": [],
   "source": [
    "# This will create the following folders: \n",
    "# cis-pd.training_data.combhpfnoinact/ \n",
    "\n",
    "path_train_data, df_train_label = define_data_type(data_type,\n",
    "                                                   data_dir,\n",
    "                                                   training_or_ancillary)\n",
    "do_work = partial(\n",
    "        save_removenoinact, \n",
    "        path_train_data=\"/home/sjoshi/codes/python/BeatPD/data/BeatPD/cis-pd.training_data.high_pass/\",\n",
    "        mask_path = \"/home/sjoshi/codes/python/BeatPD/data/BeatPD/cis-pd.training_data.high_pass_mask/\",\n",
    "        path_removeinact = \"/home/sjoshi/codes/python/BeatPD/data/BeatPD/cis-pd.training_data.combhpfnoinact/\"\n",
    "    )\n",
    "\n",
    "num_jobs = 8\n",
    "with ProcessPoolExecutor(num_jobs) as ex:\n",
    "    results = list(ex.map(do_work, df_train_label['measurement_id']))"
   ]
  },
  {
   "cell_type": "markdown",
   "metadata": {},
   "source": [
    "### Falcutative : Create Orig No Inact "
   ]
  },
  {
   "cell_type": "code",
   "execution_count": null,
   "metadata": {},
   "outputs": [],
   "source": [
    "# This will create the following folders: \n",
    "# cis-pd.training_data.orignoinact/ \n",
    "\n",
    "path_train_data, df_train_label = define_data_type(data_type,\n",
    "                                                   data_dir,\n",
    "                                                   training_or_ancillary)\n",
    "\n",
    "do_work = partial(\n",
    "        save_removenoinact, \n",
    "        path_train_data=\"/home/sjoshi/codes/python/BeatPD/data/BeatPD/cis-pd.training_data/\",\n",
    "        mask_path = \"/home/sjoshi/codes/python/BeatPD/data/BeatPD/cis-pd.training_data.high_pass_mask/\",\n",
    "        path_removeinact = \"/export/fs02/mpgill/BeatPD/cis-pd.training_data.orignoinact/\"\n",
    "    )\n",
    "\n",
    "num_jobs = 8\n",
    "with ProcessPoolExecutor(num_jobs) as ex:\n",
    "    results = list(ex.map(do_work, df_train_label['measurement_id']))"
   ]
  },
  {
   "cell_type": "markdown",
   "metadata": {},
   "source": [
    "### Facultative : CIS-PD: Create first derivative"
   ]
  },
  {
   "cell_type": "markdown",
   "metadata": {},
   "source": [
    "This step is facultative as it is something we experimented with, but never ended up using"
   ]
  },
  {
   "cell_type": "code",
   "execution_count": null,
   "metadata": {},
   "outputs": [
    {
     "name": "stdout",
     "output_type": "stream",
     "text": [
      "path_train_data :  /export/b19/mpgill/BeatPD_data/cis-pd.training_data/\n"
     ]
    }
   ],
   "source": [
    "# This will create the following folders: \n",
    "# cis-pd.training_data.derivative_original_data/\n",
    "# cis-pd.ancillary_data.derivative_original_data/\n",
    "# cis-pd.testing_data.derivative_original_data/\n",
    "\n",
    "# Edit line 21 and mention how many CPU you want to use simultaneously \n",
    "\n",
    "data_type = \"cis\"\n",
    "\n",
    "# This is only to switch between training_data or ancillary_data which is additional data provided \n",
    "for data_subset in [\"training_data\", \"ancillary_data\", \"testing_data\"]:\n",
    "    path_train_data, df_train_label = define_data_type(data_type, data_dir, data_subset)\n",
    "\n",
    "    do_work = partial(\n",
    "        get_first_derivative, \n",
    "        path_train_data=path_train_data,\n",
    "        derivative_path=data_dir+\"cis-pd.\"+data_subset+\".derivative_original_data/\",\n",
    "        padding=True, \n",
    "        mask_path=data_dir+\"cis-pd.\"+data_subset+\".high_pass_mask/\",\n",
    "    )\n",
    "\n",
    "    num_jobs = 6\n",
    "    with ProcessPoolExecutor(num_jobs) as ex:\n",
    "        results = list(ex.map(do_work, df_train_label['measurement_id']))"
   ]
  },
  {
   "cell_type": "markdown",
   "metadata": {},
   "source": [
    "# REAL-PD Database"
   ]
  },
  {
   "cell_type": "markdown",
   "metadata": {},
   "source": [
    "### REAL-PD: Create High-Pass data "
   ]
  },
  {
   "cell_type": "code",
   "execution_count": null,
   "metadata": {},
   "outputs": [],
   "source": [
    "# This will create the following folders: \n",
    "# real-pd.training_data.high_pass/ \n",
    "# real-pd.ancillary_data.high_pass/ \n",
    "# real-pd.testing_data.high_pass/ \n",
    "\n",
    "data_type = \"real\"\n",
    "\n",
    "for data_subset in [\"training_data\", \"ancillary_data\", \"testing_data\"]:\n",
    "    for data_real_subtype in ['smartphone_accelerometer','smartwatch_accelerometer','smartwatch_gyroscope']:\n",
    "        path_train_data, df_train_label = define_data_type(data_type,\n",
    "                                                           data_dir,\n",
    "                                                           data_subset,\n",
    "                                                           data_real_subtype)\n",
    "\n",
    "        high_pass_path=data_dir+'/real-pd.'+data_subset+'.high_pass/'+data_real_subtype+'/'\n",
    "\n",
    "        high_pass_filter(df_train_label, high_pass_path, path_train_data, data_type)"
   ]
  },
  {
   "cell_type": "markdown",
   "metadata": {},
   "source": [
    "### REAL-PD: Create Masks for inactivity removal for all subtypes"
   ]
  },
  {
   "cell_type": "code",
   "execution_count": null,
   "metadata": {
    "scrolled": true
   },
   "outputs": [],
   "source": [
    "# This will create the following folders: \n",
    "# real-pd.training_data.high_pass_mask/ \n",
    "# real-pd.ancillary_data.high_pass_mask/ \n",
    "# real-pd.testing_data.high_pass_mask/ \n",
    "\n",
    "data_type = \"real\"\n",
    "\n",
    "for data_subset in [\"training_data\", \"ancillary_data\", \"testing_data\"]:\n",
    "    for data_real_subtype in ['smartphone_accelerometer','smartwatch_accelerometer','smartwatch_gyroscope']:\n",
    "        path_train_data, df_train_label = define_data_type(data_type,\n",
    "                                                           data_dir,\n",
    "                                                           data_subset,\n",
    "                                                           data_real_subtype)\n",
    "        remove_inactivity_highpass(\n",
    "            df_train_label,\n",
    "            path_train_data=path_train_data,\n",
    "            data_type=data_type,\n",
    "            energy_threshold=5,\n",
    "            duration_threshold=3000,\n",
    "            plot_frequency_response=False,\n",
    "            plot_accelerometer_after_removal=False,\n",
    "            mask_path=data_dir+'/real-pd.'+data_subset+'.high_pass_mask/'+data_real_subtype+'/')"
   ]
  },
  {
   "cell_type": "markdown",
   "metadata": {},
   "source": [
    "### Facultative : REAL-PD: Create first derivative for all subtypes "
   ]
  },
  {
   "cell_type": "markdown",
   "metadata": {},
   "source": [
    "This step is facultative as it is something we experimented with, but never ended up using"
   ]
  },
  {
   "cell_type": "code",
   "execution_count": null,
   "metadata": {
    "scrolled": true
   },
   "outputs": [],
   "source": [
    "# This will create the following folders: \n",
    "# real-pd.training_data.derivative_original_data// \n",
    "# real-pd.ancillary_data.derivative_original_data// \n",
    "# real-pd.testing_data.derivative_original_data// \n",
    "\n",
    "\n",
    "for data_real_subtype in ['smartphone_accelerometer','smartwatch_accelerometer','smartwatch_gyroscope']:\n",
    "    for data_subset in [\"training_data\", \"ancillary_data\", \"testing_data\"]:\n",
    "        path_train_data, df_train_label = define_data_type(data_type,\n",
    "                                                               data_dir,\n",
    "                                                               data_subset,\n",
    "                                                               data_real_subtype)\n",
    "\n",
    "        for idx in df_train_label.index:\n",
    "            try:\n",
    "                df_train_data = pd.read_csv(path_train_data + df_train_label[\"measurement_id\"][idx] + \".csv\")\n",
    "            except FileNotFoundError:\n",
    "                print('Removing ' + df_train_label[\"measurement_id\"][idx] +\n",
    "                      ' as it doesn\\'t exist for ' +\n",
    "                      data_real_subtype)\n",
    "                df_train_label = df_train_label.drop(idx)\n",
    "            print(len(df_train_label))\n",
    "        do_work = partial(\n",
    "            get_first_derivative, \n",
    "            path_train_data=path_train_data,\n",
    "            derivative_path=\"real-pd.\"+data_subset+\".derivative_original_data/\"+data_real_subtype+\"/\",\n",
    "            padding=True, \n",
    "            mask_path=data_dir+\"/real-pd.\"+data_subset+\".high_pass_mask/\"+data_real_subtype+\"/\"\n",
    "        )\n",
    "\n",
    "        num_jobs = 8\n",
    "        with ProcessPoolExecutor(num_jobs) as ex:\n",
    "            results = list(ex.map(do_work, df_train_label['measurement_id']))"
   ]
  },
  {
   "cell_type": "markdown",
   "metadata": {},
   "source": [
    "# KFolds for CIS-PD and REAL-PD"
   ]
  },
  {
   "cell_type": "markdown",
   "metadata": {},
   "source": [
    "KFolds are created with StratifiedKFold. They are balanced on only the on/off labels as this problem has a multilabel output. "
   ]
  },
  {
   "cell_type": "markdown",
   "metadata": {},
   "source": [
    "### Create the K-Fold files for the CIS database "
   ]
  },
  {
   "cell_type": "code",
   "execution_count": null,
   "metadata": {
    "scrolled": false
   },
   "outputs": [],
   "source": [
    "# This will create the following folders: \n",
    "# cis-pd.training_data.k_fold_v3\n",
    "# cis-pd.ancillary_data.k_fold_v3\n",
    "\n",
    "# Define the data type as we have two databases\n",
    "data_type = \"cis\"\n",
    "\n",
    "# Go through the subject_id and k-fold their data\n",
    "# FIXME: get_k_fold could me renamed to just create the folds, save them, not return anything\n",
    "for data_subset in ['training_data', 'ancillary_data']:\n",
    "    path_train_data, df_train_label = define_data_type(data_type,\n",
    "                                                      data_dir,\n",
    "                                                      data_subset)\n",
    "\n",
    "    # Group data by subject_id\n",
    "    df_train_label_subject_id = df_train_label.groupby(\"subject_id\")\n",
    "\n",
    "    for subject_id, value in df_train_label_subject_id:\n",
    "        list_df_train_label, list_df_test_label = get_k_fold(\n",
    "            df_train_label=df_train_label,\n",
    "            data_dir=data_dir,\n",
    "            data_type=data_type,\n",
    "            n_splits=5,\n",
    "            subject_id=subject_id,\n",
    "            data_subset=data_subset,\n",
    "        )"
   ]
  },
  {
   "cell_type": "markdown",
   "metadata": {},
   "source": [
    "### Create the K-Fold Files for the REAL database"
   ]
  },
  {
   "cell_type": "code",
   "execution_count": null,
   "metadata": {},
   "outputs": [],
   "source": [
    "# This will create the following folders: \n",
    "# real-pd.training_data.k_fold_v2\n",
    "# real-pd.ancillary_data.k_fold_v2\n",
    "\n",
    "data_type = \"real\"\n",
    "\n",
    "for data_subset in ['training_data', 'ancillary_data']:\n",
    "    for data_real_subtype in ['smartphone_accelerometer','smartwatch_accelerometer','smartwatch_gyroscope']:\n",
    "\n",
    "        path_train_data, df_train_label = define_data_type(data_type,\n",
    "                                                       data_dir,\n",
    "                                                       data_subset,\n",
    "                                                       data_real_subtype)\n",
    "\n",
    "        # Group data by subject_id\n",
    "        df_train_label_subject_id = df_train_label.groupby(\"subject_id\")\n",
    "\n",
    "        # Go through the subject_id and k-fold their data\n",
    "        for subject_id, value in df_train_label_subject_id:\n",
    "            list_df_train_label, list_df_test_label = get_k_fold(\n",
    "                df_train_label=df_train_label,\n",
    "                data_dir=data_dir,\n",
    "                data_type=data_type,\n",
    "                n_splits=5,\n",
    "                subject_id=subject_id,\n",
    "                data_subset=data_subset,\n",
    "                data_real_subtype=data_real_subtype,\n",
    "            )"
   ]
  },
  {
   "cell_type": "markdown",
   "metadata": {},
   "source": [
    "# Data Preparation for MFCC Embeddings"
   ]
  },
  {
   "cell_type": "markdown",
   "metadata": {},
   "source": [
    "### CIS-PD: Create WAV files"
   ]
  },
  {
   "cell_type": "markdown",
   "metadata": {},
   "source": [
    "#### CIS-PD: Write Wav Files - Training Data - Original"
   ]
  },
  {
   "cell_type": "code",
   "execution_count": null,
   "metadata": {},
   "outputs": [],
   "source": [
    "# This will create the following folders: \n",
    "# cis-pd.training_data.wav_X : Wav files of the training data — the inactivity is NOT removed\n",
    "# cis-pd.training_data.wav_Y\n",
    "# cis-pd.training_data.wav_Z\n",
    "\n",
    "data_subset='training_data'\n",
    "\n",
    "create_cis_wav_files(data_subset, data_dir, sAxis=\"X\", data_type=\"cis\", bMask=False)\n",
    "create_cis_wav_files(data_subset, data_dir, sAxis=\"Y\", data_type=\"cis\", bMask=False)\n",
    "create_cis_wav_files(data_subset, data_dir, sAxis=\"Z\", data_type=\"cis\", bMask=False)"
   ]
  },
  {
   "cell_type": "markdown",
   "metadata": {},
   "source": [
    "#### CIS-PD: Write Wav Files - Original Training Data - High Pass + Inactivity Removed "
   ]
  },
  {
   "cell_type": "code",
   "execution_count": null,
   "metadata": {},
   "outputs": [],
   "source": [
    "# This will create the following folders: \n",
    "# cis-pd.training_data.high_pass_mask.wav_X : Original training data where inactivity is removed to wav files\n",
    "# cis-pd.training_data.high_pass_mask.wav_Y\n",
    "# cis-pd.training_data.high_pass_mask.wav_Z\n",
    "\n",
    "data_subset='training_data'\n",
    "\n",
    "create_cis_wav_files(data_subset, data_dir, sAxis=\"X\", data_type=\"cis\", bMask=True)\n",
    "create_cis_wav_files(data_subset, data_dir, sAxis=\"Y\", data_type=\"cis\", bMask=True)\n",
    "create_cis_wav_files(data_subset, data_dir, sAxis=\"Z\", data_type=\"cis\", bMask=True)"
   ]
  },
  {
   "cell_type": "markdown",
   "metadata": {},
   "source": [
    "#### CIS-PD: Write Wav Files - Training Data - High Pass Filter Applied"
   ]
  },
  {
   "cell_type": "code",
   "execution_count": null,
   "metadata": {},
   "outputs": [],
   "source": [
    "# This will create the following folders: \n",
    "# cis-pd.training_data.high_pass.wav_X : High Pass filtered data to wav files (inactivity is not removed)\n",
    "# cis-pd.training_data.high_pass.wav_Y\n",
    "# cis-pd.training_data.high_pass.wav_Z\n",
    "\n",
    "data_subset='training_data.high_pass'\n",
    "\n",
    "create_cis_wav_files(data_subset, data_dir, sAxis=\"X\", data_type=\"cis\", bMask=False)\n",
    "create_cis_wav_files(data_subset, data_dir, sAxis=\"Y\", data_type=\"cis\", bMask=False)\n",
    "create_cis_wav_files(data_subset, data_dir, sAxis=\"Z\", data_type=\"cis\", bMask=False)"
   ]
  },
  {
   "cell_type": "markdown",
   "metadata": {},
   "source": [
    "#### CIS-PD: Write Wav Files - Training Data - Original"
   ]
  },
  {
   "cell_type": "code",
   "execution_count": null,
   "metadata": {},
   "outputs": [],
   "source": [
    "# Creates files in these folders:\n",
    "# cis-pd.ancillary_data.wav_X : Original ancillary data where inactivity is NOT removed to wav files\n",
    "# cis-pd.ancillary_data.wav_Y\n",
    "# cis-pd.ancillary_data.wav_Z\n",
    "\n",
    "data_subset='ancillary_data'\n",
    "\n",
    "create_cis_wav_files(data_subset, data_dir, sAxis=\"X\", data_type=\"cis\", bMask=False)\n",
    "create_cis_wav_files(data_subset, data_dir, sAxis=\"Y\", data_type=\"cis\", bMask=False)\n",
    "create_cis_wav_files(data_subset, data_dir, sAxis=\"Z\", data_type=\"cis\", bMask=False)"
   ]
  },
  {
   "cell_type": "markdown",
   "metadata": {},
   "source": [
    "#### CIS-PD: Write Wav Files - Ancillary Data - High Pass data + Inactivity Removed "
   ]
  },
  {
   "cell_type": "code",
   "execution_count": null,
   "metadata": {},
   "outputs": [],
   "source": [
    "# Creates files in these folders:\n",
    "# cis-pd.ancillary_data.high_pass_mask.wav_X : Original ancillary data where inactivity is removed to wav files\n",
    "# cis-pd.ancillary_data.high_pass_mask.wav_Y\n",
    "# cis-pd.ancillary_data.high_pass_mask.wav_Z\n",
    "\n",
    "data_subset='ancillary_data'\n",
    "\n",
    "create_cis_wav_files(data_subset, data_dir, sAxis=\"X\", data_type=\"cis\", bMask=True)\n",
    "create_cis_wav_files(data_subset, data_dir, sAxis=\"Y\", data_type=\"cis\", bMask=True)\n",
    "create_cis_wav_files(data_subset, data_dir, sAxis=\"Z\", data_type=\"cis\", bMask=True)"
   ]
  },
  {
   "cell_type": "markdown",
   "metadata": {},
   "source": [
    "#### CIS-PD: Write Wav Files - Ancillary Data - High Pass Filter Applied"
   ]
  },
  {
   "cell_type": "code",
   "execution_count": null,
   "metadata": {},
   "outputs": [],
   "source": [
    "# Creates files in these folders:\n",
    "# cis-pd.ancillary_data.high_pass.wav_X : High Pass filtered data to wav files (inactivity is not removed)\n",
    "# cis-pd.ancillary_data.high_pass.wav_Y\n",
    "# cis-pd.ancillary_data.high_pass.wav_Z\n",
    "\n",
    "data_subset='ancillary_data.high_pass'\n",
    "\n",
    "create_cis_wav_files(data_subset, data_dir, sAxis=\"X\", data_type=\"cis\", bMask=False)\n",
    "create_cis_wav_files(data_subset, data_dir, sAxis=\"Y\", data_type=\"cis\", bMask=False)\n",
    "create_cis_wav_files(data_subset, data_dir, sAxis=\"Z\", data_type=\"cis\", bMask=False)"
   ]
  },
  {
   "cell_type": "markdown",
   "metadata": {},
   "source": [
    "### REAL-PD: Create WAV files for all subtypes"
   ]
  },
  {
   "cell_type": "markdown",
   "metadata": {},
   "source": [
    "#### REAL-PD: Write Wav Files - Training Data - Original Data"
   ]
  },
  {
   "cell_type": "code",
   "execution_count": null,
   "metadata": {},
   "outputs": [],
   "source": [
    "# Creates files in these folders:\n",
    "# real-pd.training_data.wav_X : Wav files of the training data — the inactivity is NOT removed\n",
    "# real-pd.training_data.wav_Y\n",
    "# real-pd.training_data.wav_Z\n",
    "\n",
    "data_subset=\"training_data\"\n",
    "\n",
    "create_real_wav_files(data_subset, data_dir=data_dir, sAxis=\"X\", data_type=\"real\", bMask=False)\n",
    "create_real_wav_files(data_subset, data_dir=data_dir, sAxis=\"Y\", data_type=\"real\", bMask=False)\n",
    "create_real_wav_files(data_subset, data_dir=data_dir, sAxis=\"Z\", data_type=\"real\", bMask=False)"
   ]
  },
  {
   "cell_type": "markdown",
   "metadata": {},
   "source": [
    "#### REAL-PD: Write Wav Files - Training Data - High Pass Data + Original Data"
   ]
  },
  {
   "cell_type": "code",
   "execution_count": null,
   "metadata": {},
   "outputs": [],
   "source": [
    "# Creates files in these folders:\n",
    "# real-pd.training_data.high_pass_mask.wav_X : Original training data where inactivity is removed to wav files\n",
    "# real-pd.training_data.high_pass_mask.wav_Y\n",
    "# real-pd.training_data.high_pass_mask.wav_Z\n",
    "\n",
    "data_subset=\"training_data\"\n",
    "\n",
    "create_real_wav_files(data_subset, data_dir=data_dir, sAxis=\"X\", data_type=\"real\", bMask=True)\n",
    "create_real_wav_files(data_subset, data_dir=data_dir, sAxis=\"Y\", data_type=\"real\", bMask=True)\n",
    "create_real_wav_files(data_subset, data_dir=data_dir, sAxis=\"Z\", data_type=\"real\", bMask=True)"
   ]
  },
  {
   "cell_type": "markdown",
   "metadata": {},
   "source": [
    "#### REAL-PD: Write Wav Files - Ancillary Data - Original Data"
   ]
  },
  {
   "cell_type": "code",
   "execution_count": null,
   "metadata": {},
   "outputs": [],
   "source": [
    "# Creates files in these folders:\n",
    "# real-pd.ancillary_data.wav_X : Original ancillary data where inactivity is NOT removed to wav files\n",
    "# real-pd.ancillary_data.wav_Y\n",
    "# real-pd.ancillary_data.wav_Z\n",
    "\n",
    "data_subset=\"ancillary_data\"\n",
    "\n",
    "create_real_wav_files(data_subset, data_dir=data_dir, sAxis=\"X\", data_type=\"real\", bMask=False)\n",
    "create_real_wav_files(data_subset, data_dir=data_dir, sAxis=\"Y\", data_type=\"real\", bMask=False)\n",
    "create_real_wav_files(data_subset, data_dir=data_dir, sAxis=\"Z\", data_type=\"real\", bMask=False)"
   ]
  },
  {
   "cell_type": "markdown",
   "metadata": {},
   "source": [
    "#### REAL-PD: Write Wav Files - Ancillary Data - High Pass Data + Inactivity Removed "
   ]
  },
  {
   "cell_type": "code",
   "execution_count": null,
   "metadata": {},
   "outputs": [],
   "source": [
    "# Creates files in these folders:\n",
    "# real-pd.ancillary_data.high_pass_mask.wav_X : Original ancillary data where inactivity is removed to wav files\n",
    "# real-pd.ancillary_data.high_pass_mask.wav_Y\n",
    "# real-pd.ancillary_data.high_pass_mask.wav_Z\n",
    "\n",
    "data_subset=\"ancillary_data\"\n",
    "\n",
    "create_real_wav_files(data_subset, data_dir=data_dir, sAxis=\"X\", data_type=\"real\", bMask=True)\n",
    "create_real_wav_files(data_subset, data_dir=data_dir, sAxis=\"Y\", data_type=\"real\", bMask=True)\n",
    "create_real_wav_files(data_subset, data_dir=data_dir, sAxis=\"Z\", data_type=\"real\", bMask=True)"
   ]
  },
  {
   "cell_type": "code",
   "execution_count": null,
   "metadata": {},
   "outputs": [],
   "source": []
  }
 ],
 "metadata": {
  "kernelspec": {
   "display_name": "Python 3",
   "language": "python",
   "name": "python3"
  },
  "language_info": {
   "codemirror_mode": {
    "name": "ipython",
    "version": 3
   },
   "file_extension": ".py",
   "mimetype": "text/x-python",
   "name": "python",
   "nbconvert_exporter": "python",
   "pygments_lexer": "ipython3",
   "version": "3.7.3"
  },
  "widgets": {
   "application/vnd.jupyter.widget-state+json": {
    "state": {},
    "version_major": 2,
    "version_minor": 0
   }
  }
 },
 "nbformat": 4,
 "nbformat_minor": 2
}
