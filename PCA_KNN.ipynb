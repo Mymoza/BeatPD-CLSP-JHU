{
 "cells": [
  {
   "cell_type": "markdown",
   "metadata": {},
   "source": [
    "# Trains and Tests PLDA"
   ]
  },
  {
   "cell_type": "code",
   "execution_count": 115,
   "metadata": {},
   "outputs": [],
   "source": [
    "#!/usr/bin/env python3.7\n",
    "import os\n",
    "import sys\n",
    "sys.path.insert(0, \"/export/c10/lmorove1/PythonLibs/plda\")\n",
    "sys.path.insert(0, \"/home/sjoshi/codes/python/BeatPD/code\")\n",
    "import plda\n",
    "import numpy as np\n",
    "import matplotlib.pyplot as plt\n",
    "import kaldi_io\n",
    "import argparse\n",
    "import pickle\n",
    "from sklearn.decomposition import PCA\n",
    "\n",
    "import pandas as pd \n",
    "\n",
    "from sklearn.neighbors import NearestNeighbors\n",
    "\n",
    "from sklearn.metrics import mean_squared_error\n",
    "\n",
    "#PCA\n",
    "import matplotlib.pyplot as plt\n",
    "from mpl_toolkits.mplot3d import Axes3D\n",
    "from sklearn import decomposition\n",
    "\n",
    "# Confusion matrix\n",
    "from sklearn import metrics\n",
    "\n",
    "from sklearn.neighbors import KNeighborsClassifier\n",
    "\n",
    "\n",
    "from sklearn.pipeline import Pipeline"
   ]
  },
  {
   "cell_type": "code",
   "execution_count": 116,
   "metadata": {},
   "outputs": [
    {
     "name": "stdout",
     "output_type": "stream",
     "text": [
      "/export/c08/lmorove1/kaldi/egs/beatPDivec/v1\n",
      "cmd.sh\t exp\t newpldatest.ipynb  run3ax.sh\trun.sh\t utils\n",
      "cmd.sh~  exp3ax  path.sh\t    run3ax.sh~\trun.sh~\n",
      "conf\t local\t pca_pldapy.ipynb   runFor.sh\tsid\n",
      "data\t mfcc\t README.txt\t    runFor.sh~\tsteps\n",
      "/export/c08/lmorove1/kaldi/egs/beatPDivec/v1\n",
      "cmd.sh\t exp\t newpldatest.ipynb  run3ax.sh\trun.sh\t utils\n",
      "cmd.sh~  exp3ax  path.sh\t    run3ax.sh~\trun.sh~\n",
      "conf\t local\t pca_pldapy.ipynb   runFor.sh\tsid\n",
      "data\t mfcc\t README.txt\t    runFor.sh~\tsteps\n"
     ]
    }
   ],
   "source": [
    "DATA_PATH = '/export/c08/lmorove1/kaldi/egs/beatPDivec/v1/'\n",
    "\n",
    "!pwd && ls\n",
    "os.chdir(DATA_PATH)\n",
    "!pwd && ls"
   ]
  },
  {
   "cell_type": "code",
   "execution_count": 117,
   "metadata": {},
   "outputs": [],
   "source": [
    "sFileTrai = '/export/c08/lmorove1/kaldi/egs/beatPDivec/v1/exp/ivectors_Training_Fold0/ivector.scp'\n",
    "sFileTest = '/export/c08/lmorove1/kaldi/egs/beatPDivec/v1/exp/ivectors_Testing_Fold0/ivector.scp'\n",
    "iComponents = 50 \n"
   ]
  },
  {
   "cell_type": "code",
   "execution_count": 118,
   "metadata": {},
   "outputs": [
    {
     "name": "stdout",
     "output_type": "stream",
     "text": [
      "The autoreload extension is already loaded. To reload it, use:\n",
      "  %reload_ext autoreload\n"
     ]
    }
   ],
   "source": [
    "%load_ext autoreload\n",
    "%autoreload 2"
   ]
  },
  {
   "cell_type": "code",
   "execution_count": 119,
   "metadata": {},
   "outputs": [],
   "source": [
    "from pca_knn_bpd import pca_knn_bpd"
   ]
  },
  {
   "cell_type": "code",
   "execution_count": 120,
   "metadata": {},
   "outputs": [],
   "source": [
    "from pca_plda_bpd import pca_plda_bpd"
   ]
  },
  {
   "cell_type": "code",
   "execution_count": 125,
   "metadata": {},
   "outputs": [
    {
     "name": "stdout",
     "output_type": "stream",
     "text": [
      "----- 1004----- \n",
      "Training accuracy:  0.3968253968253968\n",
      "Testing accuracy:  0.3157894736842105\n",
      "----- 1006----- \n",
      "Training accuracy:  0.7142857142857143\n",
      "Testing accuracy:  0.6666666666666666\n",
      "----- 1007----- \n",
      "Training accuracy:  0.54337899543379\n",
      "Testing accuracy:  0.543859649122807\n",
      "----- 1019----- \n",
      "Training accuracy:  0.5714285714285714\n",
      "Testing accuracy:  0.5\n",
      "----- 1020----- \n",
      "Training accuracy:  0.8181818181818182\n",
      "Testing accuracy:  0.7804878048780488\n",
      "----- 1023----- \n",
      "Training accuracy:  0.4024390243902439\n",
      "Testing accuracy:  0.3333333333333333\n",
      "----- 1032----- \n",
      "Training accuracy:  0.5323741007194245\n",
      "Testing accuracy:  0.34210526315789475\n",
      "----- 1034----- \n",
      "Training accuracy:  0.4\n",
      "Testing accuracy:  0.2\n",
      "----- 1038----- \n",
      "Training accuracy:  0.7195121951219512\n",
      "Testing accuracy:  0.6744186046511628\n",
      "----- 1039----- \n",
      "Training accuracy:  0.5346534653465347\n",
      "Testing accuracy:  0.3448275862068966\n",
      "----- 1043----- \n",
      "Training accuracy:  0.52\n",
      "Testing accuracy:  0.1111111111111111\n",
      "----- 1044----- \n",
      "Training accuracy:  0.6491228070175439\n",
      "Testing accuracy:  0.6\n",
      "----- 1048----- \n",
      "Training accuracy:  0.5352112676056338\n",
      "Testing accuracy:  0.25\n",
      "----- 1049----- \n",
      "Training accuracy:  0.53125\n",
      "Testing accuracy:  0.4444444444444444\n",
      "----- 1051----- \n",
      "Training accuracy:  0.7142857142857143\n",
      "Testing accuracy:  0.717948717948718\n",
      "Global training accuracy: 0.601010101010101\n",
      "Global testing accuracy: 0.5065616797900262\n",
      "PCAComponents: 50\n",
      "iNeighbors: 3\n"
     ]
    }
   ],
   "source": [
    "pca_knn_bpd(sFileTrai, sFileTest, '/home/sjoshi/codes/python/BeatPD/code/', iComponents, 3)"
   ]
  },
  {
   "cell_type": "code",
   "execution_count": 129,
   "metadata": {},
   "outputs": [
    {
     "name": "stdout",
     "output_type": "stream",
     "text": [
      "----- 1004----- \n",
      "Previous shapes:\n",
      "(63, 50)\n",
      "(63,)\n",
      "Shapes after removing classes:\n",
      "(63, 50)\n",
      "(63,)\n",
      "Accuracy: 0.15789473684210525\n",
      "----- 1006----- \n",
      "Previous shapes:\n",
      "(28, 50)\n",
      "(28,)\n",
      "Shapes after removing classes:\n",
      "(28, 50)\n",
      "(28,)\n",
      "Accuracy: 0.6666666666666666\n",
      "----- 1007----- \n",
      "Previous shapes:\n",
      "(219, 50)\n",
      "(219,)\n",
      "Shapes after removing classes:\n",
      "(219, 50)\n",
      "(219,)\n",
      "Accuracy: 0.5263157894736842\n",
      "----- 1019----- \n",
      "Previous shapes:\n",
      "(35, 50)\n",
      "(35,)\n",
      "Shapes after removing classes:\n",
      "(35, 50)\n",
      "(35,)\n",
      "Accuracy: 0.2\n",
      "----- 1020----- \n",
      "Previous shapes:\n",
      "(154, 50)\n",
      "(154,)\n",
      "Shapes after removing classes:\n",
      "(154, 50)\n",
      "(154,)\n",
      "Accuracy: 0.7804878048780488\n",
      "----- 1023----- \n",
      "Previous shapes:\n",
      "(82, 50)\n",
      "(82,)\n",
      "Shapes after removing classes:\n",
      "(82, 50)\n",
      "(82,)\n",
      "Accuracy: 0.3333333333333333\n",
      "----- 1032----- \n",
      "Previous shapes:\n",
      "(139, 50)\n",
      "(139,)\n",
      "Shapes after removing classes:\n",
      "(139, 50)\n",
      "(139,)\n",
      "Accuracy: 0.2631578947368421\n",
      "----- 1034----- \n",
      "Previous shapes:\n",
      "(30, 50)\n",
      "(30,)\n",
      "Shapes after removing classes:\n",
      "(30, 50)\n",
      "(30,)\n",
      "Accuracy: 0.4\n",
      "----- 1038----- \n",
      "Previous shapes:\n",
      "(164, 50)\n",
      "(164,)\n",
      "Shapes after removing classes:\n",
      "(164, 50)\n",
      "(164,)\n",
      "Accuracy: 0.6511627906976745\n",
      "----- 1039----- \n",
      "Previous shapes:\n",
      "(101, 50)\n",
      "(101,)\n",
      "Shapes after removing classes:\n",
      "(101, 50)\n",
      "(101,)\n",
      "Accuracy: 0.41379310344827586\n",
      "----- 1043----- \n",
      "Previous shapes:\n",
      "(25, 50)\n",
      "(25,)\n",
      "Shapes after removing classes:\n",
      "(25, 50)\n",
      "(25,)\n",
      "Accuracy: 0.3333333333333333\n",
      "----- 1044----- \n",
      "Previous shapes:\n",
      "(57, 50)\n",
      "(57,)\n",
      "Shapes after removing classes:\n",
      "(57, 50)\n",
      "(57,)\n",
      "Accuracy: 0.4\n",
      "----- 1048----- \n",
      "Previous shapes:\n",
      "(71, 50)\n",
      "(71,)\n",
      "Deleting class: \n",
      "0\n",
      "1\n",
      "(array([1]),)\n",
      "Shapes after removing classes:\n",
      "(70, 50)\n",
      "(70,)\n",
      "Accuracy: 0.35\n",
      "----- 1049----- \n",
      "Previous shapes:\n",
      "(64, 50)\n",
      "(64,)\n",
      "Shapes after removing classes:\n",
      "(64, 50)\n",
      "(64,)\n",
      "Accuracy: 0.4444444444444444\n",
      "----- 1051----- \n",
      "Previous shapes:\n",
      "(154, 50)\n",
      "(154,)\n",
      "Shapes after removing classes:\n",
      "(154, 50)\n",
      "(154,)\n",
      "Accuracy: 0.717948717948718\n",
      "Global training accuracy: 0.7790613718411552\n",
      "Global testing accuracy: 0.49081364829396323\n",
      "PCAComponents: 50\n"
     ]
    }
   ],
   "source": [
    "pca_plda_bpd(sFileTrai, sFileTest, '/home/sjoshi/codes/python/BeatPD/code/', iComponents)"
   ]
  },
  {
   "cell_type": "code",
   "execution_count": 123,
   "metadata": {},
   "outputs": [
    {
     "name": "stdout",
     "output_type": "stream",
     "text": [
      "numerator :  2.9600025680608737\n",
      "denominator :  136.91737735752739\n",
      "Final score :  0.021618896192639788\n",
      "numerator :  6.704932590433186\n",
      "denominator :  72.47516774327755\n",
      "Final score :  0.09251351599741697\n"
     ]
    }
   ],
   "source": [
    "def final_score(mse_per_subjectid, nb_files_per_subject_id):\n",
    "    numerator = np.sum([a * b for a, b in zip(np.sqrt(nb_files_per_subject_id), mse_per_subjectid)])\n",
    "    denominator = np.sum(np.sqrt(nb_files_per_subject_id))\n",
    "    print('numerator : ', numerator)\n",
    "    print('denominator : ', denominator)\n",
    "    print('Final score : ', np.divide(numerator, denominator))\n",
    "    \n",
    "final_score(mse_training_per_subjectid, train_nb_files_per_subjectid)\n",
    "final_score(mse_test_per_subjectid, test_nb_files_per_subjectid)"
   ]
  },
  {
   "cell_type": "code",
   "execution_count": 130,
   "metadata": {},
   "outputs": [
    {
     "name": "stdout",
     "output_type": "stream",
     "text": [
      "[63, 28, 219, 35, 154, 82, 139, 30, 164, 101, 25, 57, 71, 64, 154]\n",
      "numerator :  2.9600025680608737\n",
      "denominator :  136.91737735752739\n",
      "Final score :  0.021618896192639788\n",
      "numerator :  6.704932590433186\n",
      "denominator :  72.47516774327755\n",
      "Final score :  0.09251351599741697\n"
     ]
    }
   ],
   "source": [
    "print(train_nb_files_per_subjectid)\n",
    "final_score(mse_training_per_subjectid, train_nb_files_per_subjectid)\n",
    "final_score(mse_test_per_subjectid, test_nb_files_per_subjectid)"
   ]
  },
  {
   "cell_type": "code",
   "execution_count": 543,
   "metadata": {},
   "outputs": [],
   "source": [
    "def do_confusion_matrix(y_test, predictions):\n",
    "    print('y test : ', np.unique(y_test))\n",
    "    LABELS_NEW = np.unique(y_test)\n",
    "    n_classes=np.unique(y_test)\n",
    "    print(\"Confusion Matrix:\")\n",
    "    confusion_matrix = metrics.confusion_matrix(y_test, predictions)\n",
    "    print(confusion_matrix)\n",
    "    normalised_confusion_matrix = np.array(confusion_matrix, dtype=np.float32)/np.sum(confusion_matrix)*100\n",
    "\n",
    "    print(\"\")\n",
    "    print(\"Confusion matrix (normalised to % of total test data):\")\n",
    "    print(normalised_confusion_matrix)\n",
    "\n",
    "    # Plot Results:\n",
    "    width = 12\n",
    "    height = 12\n",
    "    plt.figure(figsize=(width, height))\n",
    "    plt.imshow(\n",
    "        normalised_confusion_matrix,\n",
    "        interpolation='nearest',\n",
    "        cmap=plt.cm.rainbow\n",
    "    )\n",
    "    plt.title(\"Confusion matrix \\n(normalised to % of total test data)\")\n",
    "    plt.colorbar()\n",
    "    tick_marks = np.arange(n_classes)\n",
    "    plt.xticks(tick_marks, LABELS_NEW, rotation=90)\n",
    "    plt.yticks(tick_marks, LABELS_NEW)\n",
    "    plt.tight_layout()\n",
    "    plt.ylabel('True label')\n",
    "    plt.xlabel('Predicted label')\n",
    "    plt.show()"
   ]
  },
  {
   "cell_type": "code",
   "execution_count": null,
   "metadata": {},
   "outputs": [],
   "source": []
  }
 ],
 "metadata": {
  "kernelspec": {
   "display_name": "BeatPD",
   "language": "python",
   "name": "beatpd"
  },
  "language_info": {
   "codemirror_mode": {
    "name": "ipython",
    "version": 3
   },
   "file_extension": ".py",
   "mimetype": "text/x-python",
   "name": "python",
   "nbconvert_exporter": "python",
   "pygments_lexer": "ipython3",
   "version": "3.5.6"
  }
 },
 "nbformat": 4,
 "nbformat_minor": 2
}
