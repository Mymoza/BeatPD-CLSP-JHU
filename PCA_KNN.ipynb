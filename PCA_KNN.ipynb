{
 "cells": [
  {
   "cell_type": "markdown",
   "metadata": {},
   "source": [
    "# Trains and Tests PLDA"
   ]
  },
  {
   "cell_type": "code",
   "execution_count": 558,
   "metadata": {},
   "outputs": [],
   "source": [
    "#!/usr/bin/env python3.7\n",
    "import os\n",
    "import sys\n",
    "sys.path.insert(0, \"/export/c10/lmorove1/PythonLibs/plda\")\n",
    "import plda\n",
    "import numpy as np\n",
    "import matplotlib.pyplot as plt\n",
    "import kaldi_io\n",
    "import argparse\n",
    "import pickle\n",
    "from sklearn.decomposition import PCA\n",
    "\n",
    "import pandas as pd \n",
    "\n",
    "from sklearn.neighbors import NearestNeighbors\n",
    "\n",
    "from sklearn.metrics import mean_squared_error\n",
    "\n",
    "#PCA\n",
    "import matplotlib.pyplot as plt\n",
    "from mpl_toolkits.mplot3d import Axes3D\n",
    "from sklearn import decomposition\n",
    "\n",
    "# GridSearchCV\n",
    "from sklearn.model_selection import GridSearchCV\n",
    "\n",
    "# Confusion matrix\n",
    "from sklearn import metrics"
   ]
  },
  {
   "cell_type": "code",
   "execution_count": 425,
   "metadata": {},
   "outputs": [
    {
     "name": "stdout",
     "output_type": "stream",
     "text": [
      "/export/c08/lmorove1/kaldi/egs/beatPDivec/v1\n",
      "cmd.sh\t conf  exp    mfcc     pca_pldapy.ipynb  runFor.sh  run.sh~  steps\n",
      "cmd.sh~  data  local  path.sh  README.txt\t run.sh     sid      utils\n",
      "/export/c08/lmorove1/kaldi/egs/beatPDivec/v1\n",
      "cmd.sh\t conf  exp    mfcc     pca_pldapy.ipynb  runFor.sh  run.sh~  steps\n",
      "cmd.sh~  data  local  path.sh  README.txt\t run.sh     sid      utils\n"
     ]
    }
   ],
   "source": [
    "DATA_PATH = '/export/c08/lmorove1/kaldi/egs/beatPDivec/v1/'\n",
    "\n",
    "!pwd && ls\n",
    "os.chdir(DATA_PATH)\n",
    "!pwd && ls"
   ]
  },
  {
   "cell_type": "code",
   "execution_count": 426,
   "metadata": {},
   "outputs": [],
   "source": [
    "def pca(sFileTrai, sFileTest, iComponents):\n",
    "# os.chdir(\"/export/c10/lmorove1/kaldi/egs/xVecPD/v2_NeuroConc16k\")\n",
    "# sFileTrai=\"/export/c10/lmorove1/kaldi/egs/xVecPD/v2_NeuroConc16k/exp/sre18nn/xvectors_Training_Fold1/xvector.scp\"\n",
    "# sOut = Folder where to store results \n",
    "# iComponents = nb of classes (nb of measurements_id? or nb of subject_ids?)\n",
    "    dIvecTrai = { key:mat for key,mat in kaldi_io.read_vec_flt_scp(sFileTrai) }\n",
    "    vTrai= pd.DataFrame((list(dIvecTrai.values())))\n",
    "    vLTrai = np.array([x[-1] for x in np.array(list(dIvecTrai.keys()))])\n",
    "    \n",
    "    # FIXME : For realPD, we need more than -5 (CIS-PD subject_id is 4 characters long)\n",
    "    # FIXME REAL-PD it's not only int \n",
    "    vTraiSubjectId = np.array(([int(x[-5:-1]) for x in np.array(list(dIvecTrai.keys()))]))\n",
    "\n",
    "    dIvecTest = { key:mat for key,mat in kaldi_io.read_vec_flt_scp(sFileTest) }\n",
    "    vTest=np.array(list(dIvecTest.values()), dtype=float)\n",
    "    vLTest=np.array([x[-1] for x in np.array(list(dIvecTest.keys()))])\n",
    "    vTestSubjectId = np.array([int(x[-5:-1]) for x in np.array(list(dIvecTest.keys()))])\n",
    "\n",
    "    print('before transform : ', vTrai.shape)\n",
    "    print('before transform : ', vTest.shape)\n",
    "\n",
    "    if isinstance(iComponents, str):\n",
    "            iComponents=int(iComponents)\n",
    "\n",
    "    pca = PCA(n_components=iComponents, svd_solver='randomized', whiten=True)\n",
    "    pca.fit(vTrai)\n",
    "\n",
    "\n",
    "    vTraiPCA=pca.transform(vTrai)\n",
    "    vTestPCA=pca.transform(vTest)\n",
    "\n",
    "    print('after transform : ', vTraiPCA.shape)\n",
    "    print('after transform : ', vTestPCA.shape)\n",
    "    return vTraiPCA, vLTrai, vTraiSubjectId, vTestPCA, vLTest, vTestSubjectId"
   ]
  },
  {
   "cell_type": "code",
   "execution_count": 427,
   "metadata": {},
   "outputs": [],
   "source": [
    "sFileTrai = '/export/c08/lmorove1/kaldi/egs/beatPDivec/v1/exp/ivectors_Training_Fold0/ivector.scp'\n",
    "sFileTest = '/export/c08/lmorove1/kaldi/egs/beatPDivec/v1/exp/ivectors_Testing_Fold0/ivector.scp'\n",
    "iComponents = 50 \n"
   ]
  },
  {
   "cell_type": "code",
   "execution_count": 553,
   "metadata": {},
   "outputs": [
    {
     "name": "stdout",
     "output_type": "stream",
     "text": [
      "before transform :  (1403, 300)\n",
      "before transform :  (364, 300)\n",
      "after transform :  (1403, 50)\n",
      "after transform :  (364, 50)\n"
     ]
    }
   ],
   "source": [
    "vTraiPCA, vLTrai, vTraiSubjectId, vTestPCA, vLTest, vTestSubjectId = pca(sFileTrai, sFileTest, iComponents)\n"
   ]
  },
  {
   "cell_type": "markdown",
   "metadata": {},
   "source": [
    "### Without GridSearch "
   ]
  },
  {
   "cell_type": "code",
   "execution_count": null,
   "metadata": {},
   "outputs": [],
   "source": [
    "from sklearn.neighbors import KNeighborsClassifier\n",
    "from sklearn.datasets import load_iris\n",
    "from sklearn.model_selection import train_test_split\n",
    "from sklearn.pipeline import Pipeline\n",
    "\n",
    "# To compute the final score as per the challenge\n",
    "mse_training_per_subjectid=[]\n",
    "mse_test_per_subjectid=[]\n",
    "train_nb_files_per_subjectid=[]\n",
    "test_nb_files_per_subjectid=[]\n",
    "\n",
    "# To compute the mean accuracy\n",
    "glob_trai_pred=[]\n",
    "glob_test_pred=[]\n",
    "glob_trai_true=[]\n",
    "glob_test_true=[]\n",
    "    \n",
    "for subject_id in np.unique(vTraiSubjectId):\n",
    "    # GridSearchCV\n",
    "#     parameters = {'n_neighbors':[1,3,6,10,15]}\n",
    "\n",
    "    k_range = list(range(1, 15))\n",
    "#     param_grid = dict(n_neighbors=k_range)\n",
    "#     print(param_grid)\n",
    "\n",
    "    # instantiate the grid\n",
    "#     grid = GridSearchCV(knn, param_grid, cv=10, scoring='accuracy')\n",
    "\n",
    "    # fit the grid with data\n",
    "#     grid.fit(vTraiPCA_subjectid, vLTrai_subjectid)\n",
    "\n",
    "    # view the complete results (list of named tuples)\n",
    "#     print(grid.cv_results_['mean_test_score'])\n",
    "\n",
    "    print('----- ' + str(subject_id) + '----- ')\n",
    "    knn = KNeighborsClassifier(n_neighbors=6)\n",
    "    \n",
    "    # Filter vTraiPCA and vLTraiPCA for one subject_id\n",
    "    indices_subject_id = np.where(vTraiSubjectId == subject_id) # HAPPY\n",
    "    vTraiPCA_subjectid = vTraiPCA[indices_subject_id]\n",
    "    vLTrai_subjectid = vLTrai[indices_subject_id]\n",
    "    \n",
    "    # Filter vTestPCA and vLTestPCA for one subject_id\n",
    "    indices_subject_id = np.where(vTestSubjectId == subject_id)\n",
    "    vTestPCA_subjectid = vTestPCA[indices_subject_id]\n",
    "    vLTest_subjectid = vLTest[indices_subject_id]\n",
    "\n",
    "    knn.fit(vTraiPCA_subjectid, vLTrai_subjectid)\n",
    "    \n",
    "#     y_labels = knn.predict(vTraiPCA_subjectid)\n",
    "#     display(y_labels)\n",
    "\n",
    "    print('Training accuracy: ', knn.score(vTraiPCA_subjectid, vLTrai_subjectid))\n",
    "    print('Testing accuracy: ', knn.score(vTestPCA_subjectid, vLTest_subjectid))\n",
    "    \n",
    "    # Predicting on the training and test data \n",
    "    predictionsTrai = knn.predict(vTraiPCA_subjectid)\n",
    "    predictions = knn.predict(vTestPCA_subjectid)\n",
    "    \n",
    "    # Converting all strings to int for MSE \n",
    "    vLTrai_subjectid = [int(i) for i in vLTrai_subjectid]\n",
    "    predictionsTrai = [int(i) for i in predictionsTrai]\n",
    "    vLTest_subjectid = [int(i) for i in vLTest_subjectid]\n",
    "    predictions = [int(i) for i in predictions]\n",
    " \n",
    "    # Computing the accuracy \n",
    "    glob_trai_pred=np.append(glob_trai_pred,predictionsTrai,axis=0)\n",
    "    glob_test_pred=np.append(glob_test_pred,predictions,axis=0)\n",
    "    glob_trai_true=np.append(glob_trai_true,vLTrai_subjectid,axis=0)\n",
    "    glob_test_true=np.append(glob_test_true,vLTest_subjectid,axis=0)\n",
    "    \n",
    "    a = [a - b for a, b in zip(vLTrai_subjectid, predictionsTrai)]\n",
    "    print('abs substract : ', np.abs(a))\n",
    "    \n",
    "    # Building a list of the MSEk \n",
    "    mse_training_per_subjectid = np.append(mse_training_per_subjectid,\n",
    "                                           (mean_squared_error(vLTrai_subjectid, predictionsTrai) /  len(vLTrai_subjectid)))\n",
    "    mse_test_per_subjectid = np.append(mse_test_per_subjectid,\n",
    "                                        (mean_squared_error(vLTest_subjectid, predictions) / len(vLTest_subjectid)))\n",
    "    train_nb_files_per_subjectid.append(len(vLTrai_subjectid))\n",
    "    test_nb_files_per_subjectid.append(len(vLTest_subjectid))\n",
    "\n",
    "#     do_confusion_matrix(vLTest_subjectid, predictions)\n",
    "\n",
    "print('Global training accuracy: {}'.format((glob_trai_true == glob_trai_pred).mean()))\n",
    "print('Global testing accuracy: {}'.format((glob_test_true == glob_test_pred).mean()))"
   ]
  },
  {
   "cell_type": "markdown",
   "metadata": {},
   "source": [
    "### Tentative with GridSearch "
   ]
  },
  {
   "cell_type": "code",
   "execution_count": 576,
   "metadata": {
    "scrolled": false
   },
   "outputs": [
    {
     "name": "stderr",
     "output_type": "stream",
     "text": [
      "/home/mpgill/anaconda3/envs/BeatPD/lib/python3.5/site-packages/sklearn/model_selection/_search.py:841: DeprecationWarning: The default of the `iid` parameter will change from True to False in version 0.22 and will be removed in 0.24. This will change numeric results when test-set sizes are unequal.\n",
      "  DeprecationWarning)\n",
      "/home/mpgill/anaconda3/envs/BeatPD/lib/python3.5/site-packages/sklearn/model_selection/_split.py:626: Warning: The least populated class in y has only 1 members, which is too few. The minimum number of members in any class cannot be less than n_splits=5.\n",
      "  % (min_groups, self.n_splits)), Warning)\n",
      "/home/mpgill/anaconda3/envs/BeatPD/lib/python3.5/site-packages/sklearn/model_selection/_search.py:841: DeprecationWarning: The default of the `iid` parameter will change from True to False in version 0.22 and will be removed in 0.24. This will change numeric results when test-set sizes are unequal.\n",
      "  DeprecationWarning)\n",
      "/home/mpgill/anaconda3/envs/BeatPD/lib/python3.5/site-packages/sklearn/model_selection/_split.py:626: Warning: The least populated class in y has only 1 members, which is too few. The minimum number of members in any class cannot be less than n_splits=5.\n",
      "  % (min_groups, self.n_splits)), Warning)\n"
     ]
    },
    {
     "name": "stdout",
     "output_type": "stream",
     "text": [
      "{'n_neighbors': 7}\n",
      "0.7402597402597403\n",
      "----- 1004----- \n",
      "Training accuracy:  0.36923076923076925\n",
      "Testing accuracy:  0.29411764705882354\n",
      "abs substract :  [0 1 0 0 3 1 0 2 2 1 1 0 0 0 1 3 1 0 2 3 3 1 0 0 2 1 2 1 2 1 3 0 1 3 2 1 1\n",
      " 0 1 1 0 0 0 0 0 0 0 1 1 1 1 1 1 0 1 3 1 0 1 0 2 0 4 1 0]\n",
      "{'n_neighbors': 2}\n",
      "0.24615384615384617\n",
      "----- 1006----- \n",
      "Training accuracy:  0.7586206896551724\n",
      "Testing accuracy:  0.625\n",
      "abs substract :  [0 0 0 0 0 0 0 0 1 1 0 1 0 0 2 0 0 1 0 0 0 1 0 0 0 0 1 0 0]\n"
     ]
    },
    {
     "name": "stderr",
     "output_type": "stream",
     "text": [
      "/home/mpgill/anaconda3/envs/BeatPD/lib/python3.5/site-packages/sklearn/model_selection/_search.py:841: DeprecationWarning: The default of the `iid` parameter will change from True to False in version 0.22 and will be removed in 0.24. This will change numeric results when test-set sizes are unequal.\n",
      "  DeprecationWarning)\n"
     ]
    },
    {
     "name": "stdout",
     "output_type": "stream",
     "text": [
      "{'n_neighbors': 6}\n",
      "0.7586206896551724\n",
      "----- 1007----- \n",
      "Training accuracy:  0.5833333333333334\n",
      "Testing accuracy:  0.5166666666666667\n",
      "abs substract :  [2 0 0 0 1 1 1 4 1 0 1 4 0 2 1 0 0 0 0 0 0 0 1 0 1 1 0 0 1 0 2 0 0 2 1 0 0\n",
      " 3 0 2 2 0 1 0 1 0 0 2 0 0 2 0 2 0 0 2 4 0 1 1 1 0 0 0 0 1 4 0 2 0 0 0 0 0\n",
      " 0 1 0 0 0 3 0 0 0 1 0 4 1 0 0 0 0 0 0 1 2 0 0 0 0 0 0 1 2 3 0 0 2 0 3 0 0\n",
      " 4 3 0 0 3 1 2 1 0 4 1 0 1 0 2 0 0 0 0 0 0 0 4 0 0 1 2 4 0 1 0 1 0 0 0 0 4\n",
      " 3 0 1 1 0 0 0 0 0 4 2 1 0 0 0 0 4 0 2 2 1 0 0 1 0 3 0 0 0 0 0 3 0 1 0 0 0\n",
      " 0 1 0 0 0 0 0 0 3 1 0 2 0 1 3 0 0 1 1 2 0 0 2 0 0 1 1 4 0 0 1]\n"
     ]
    },
    {
     "name": "stderr",
     "output_type": "stream",
     "text": [
      "/home/mpgill/anaconda3/envs/BeatPD/lib/python3.5/site-packages/sklearn/model_selection/_search.py:841: DeprecationWarning: The default of the `iid` parameter will change from True to False in version 0.22 and will be removed in 0.24. This will change numeric results when test-set sizes are unequal.\n",
      "  DeprecationWarning)\n",
      "/home/mpgill/anaconda3/envs/BeatPD/lib/python3.5/site-packages/sklearn/model_selection/_split.py:626: Warning: The least populated class in y has only 4 members, which is too few. The minimum number of members in any class cannot be less than n_splits=5.\n",
      "  % (min_groups, self.n_splits)), Warning)\n",
      "/home/mpgill/anaconda3/envs/BeatPD/lib/python3.5/site-packages/sklearn/model_selection/_search.py:841: DeprecationWarning: The default of the `iid` parameter will change from True to False in version 0.22 and will be removed in 0.24. This will change numeric results when test-set sizes are unequal.\n",
      "  DeprecationWarning)\n"
     ]
    },
    {
     "name": "stdout",
     "output_type": "stream",
     "text": [
      "{'n_neighbors': 12}\n",
      "0.5416666666666666\n",
      "----- 1019----- \n",
      "Training accuracy:  0.5555555555555556\n",
      "Testing accuracy:  0.6666666666666666\n",
      "abs substract :  [0 2 0 3 0 4 0 0 1 3 0 0 0 3 2 1 0 0 3 2 0 0 0 0 2 1 0 0 0 0 1 0 0 2 2 3]\n",
      "{'n_neighbors': 4}\n",
      "0.4166666666666667\n",
      "----- 1020----- \n",
      "Training accuracy:  0.7692307692307693\n",
      "Testing accuracy:  0.9743589743589743\n",
      "abs substract :  [0 0 0 0 0 0 0 0 0 0 0 0 0 1 0 0 0 0 0 2 0 0 0 0 0 1 0 0 0 1 0 0 1 0 0 0 0\n",
      " 0 0 2 0 4 0 2 0 4 1 0 0 4 0 0 0 0 0 0 0 0 0 2 4 1 2 0 0 0 0 2 0 4 0 0 0 2\n",
      " 0 0 2 0 0 1 1 0 4 0 0 0 0 0 2 0 0 0 0 0 0 0 0 0 0 0 0 0 0 1 0 0 0 1 0 0 0\n",
      " 1 0 0 0 0 0 0 0 0 0 1 0 0 0 0 2 0 0 0 0 4 0 0 0 0 4 0 0 0 0 2 1 0 2 0 0 2\n",
      " 1 0 0 0 0 0 1 0]\n"
     ]
    },
    {
     "name": "stderr",
     "output_type": "stream",
     "text": [
      "/home/mpgill/anaconda3/envs/BeatPD/lib/python3.5/site-packages/sklearn/model_selection/_search.py:841: DeprecationWarning: The default of the `iid` parameter will change from True to False in version 0.22 and will be removed in 0.24. This will change numeric results when test-set sizes are unequal.\n",
      "  DeprecationWarning)\n",
      "/home/mpgill/anaconda3/envs/BeatPD/lib/python3.5/site-packages/sklearn/model_selection/_split.py:626: Warning: The least populated class in y has only 3 members, which is too few. The minimum number of members in any class cannot be less than n_splits=5.\n",
      "  % (min_groups, self.n_splits)), Warning)\n"
     ]
    },
    {
     "name": "stdout",
     "output_type": "stream",
     "text": [
      "{'n_neighbors': 9}\n",
      "0.7692307692307693\n",
      "----- 1023----- \n",
      "Training accuracy:  0.40476190476190477\n",
      "Testing accuracy:  0.09090909090909091\n",
      "abs substract :  [0 1 0 1 3 1 2 2 1 2 1 1 2 1 2 1 3 0 0 0 0 0 0 1 0 1 0 0 2 2 3 0 0 0 0 0 1\n",
      " 3 3 0 0 0 0 2 0 0 0 2 1 0 1 1 0 0 2 1 1 2 0 1 3 2 0 2 2 1 3 4 0 1 2 2 0 1\n",
      " 2 1 1 0 1 0 0 2 0 2]\n"
     ]
    },
    {
     "name": "stderr",
     "output_type": "stream",
     "text": [
      "/home/mpgill/anaconda3/envs/BeatPD/lib/python3.5/site-packages/sklearn/model_selection/_search.py:841: DeprecationWarning: The default of the `iid` parameter will change from True to False in version 0.22 and will be removed in 0.24. This will change numeric results when test-set sizes are unequal.\n",
      "  DeprecationWarning)\n",
      "/home/mpgill/anaconda3/envs/BeatPD/lib/python3.5/site-packages/sklearn/model_selection/_split.py:626: Warning: The least populated class in y has only 3 members, which is too few. The minimum number of members in any class cannot be less than n_splits=5.\n",
      "  % (min_groups, self.n_splits)), Warning)\n"
     ]
    },
    {
     "name": "stdout",
     "output_type": "stream",
     "text": [
      "{'n_neighbors': 6}\n",
      "0.30952380952380953\n",
      "----- 1032----- \n",
      "Training accuracy:  0.5460992907801419\n",
      "Testing accuracy:  0.3333333333333333\n",
      "abs substract :  [0 2 0 2 1 0 1 0 1 0 1 1 2 0 0 1 0 2 1 0 0 1 1 0 1 0 0 0 0 3 2 0 0 1 0 3 0\n",
      " 2 1 0 0 1 0 0 0 0 1 0 0 0 1 2 1 0 2 1 0 0 0 0 1 0 1 0 3 0 3 0 2 2 1 2 1 2\n",
      " 1 1 0 0 1 0 0 0 0 1 1 2 2 1 0 0 1 1 2 0 0 3 0 0 0 0 0 1 0 0 0 0 0 0 1 0 0\n",
      " 0 0 0 0 1 0 2 1 0 0 3 0 1 1 0 1 1 0 0 0 1 0 0 1 1 1 0 0 0 1]\n"
     ]
    },
    {
     "name": "stderr",
     "output_type": "stream",
     "text": [
      "/home/mpgill/anaconda3/envs/BeatPD/lib/python3.5/site-packages/sklearn/model_selection/_search.py:841: DeprecationWarning: The default of the `iid` parameter will change from True to False in version 0.22 and will be removed in 0.24. This will change numeric results when test-set sizes are unequal.\n",
      "  DeprecationWarning)\n",
      "/home/mpgill/anaconda3/envs/BeatPD/lib/python3.5/site-packages/sklearn/model_selection/_search.py:841: DeprecationWarning: The default of the `iid` parameter will change from True to False in version 0.22 and will be removed in 0.24. This will change numeric results when test-set sizes are unequal.\n",
      "  DeprecationWarning)\n",
      "/home/mpgill/anaconda3/envs/BeatPD/lib/python3.5/site-packages/sklearn/model_selection/_split.py:626: Warning: The least populated class in y has only 1 members, which is too few. The minimum number of members in any class cannot be less than n_splits=5.\n",
      "  % (min_groups, self.n_splits)), Warning)\n"
     ]
    },
    {
     "name": "stdout",
     "output_type": "stream",
     "text": [
      "{'n_neighbors': 13}\n",
      "0.46099290780141844\n",
      "----- 1034----- \n",
      "Training accuracy:  0.46875\n",
      "Testing accuracy:  0.125\n",
      "abs substract :  [0 0 1 0 1 2 0 0 2 2 2 0 2 0 0 0 0 1 0 0 2 3 0 0 2 2 2 1 2 3 0 2]\n",
      "{'n_neighbors': 4}\n",
      "0.4375\n",
      "----- 1038----- \n",
      "Training accuracy:  0.6848484848484848\n",
      "Testing accuracy:  0.7619047619047619\n",
      "abs substract :  [0 0 0 0 4 0 0 0 2 2 4 0 0 4 0 0 0 4 0 2 4 0 0 4 0 0 4 4 0 0 2 4 0 4 4 0 2\n",
      " 0 0 0 0 4 0 0 0 0 0 0 0 4 0 0 4 0 2 0 0 0 0 0 0 0 0 4 0 2 0 0 4 0 4 0 0 0\n",
      " 0 0 0 0 0 2 0 2 0 0 4 0 0 0 0 0 0 0 0 4 0 4 0 0 0 2 0 4 0 0 0 0 0 0 0 0 4\n",
      " 0 0 0 0 0 4 2 2 0 2 4 0 0 2 4 0 0 4 4 4 2 0 4 0 2 0 0 3 2 0 2 0 0 0 0 0 0\n",
      " 0 0 0 0 0 0 0 0 2 4 0 4 0 4 0 0 0]\n"
     ]
    },
    {
     "name": "stderr",
     "output_type": "stream",
     "text": [
      "/home/mpgill/anaconda3/envs/BeatPD/lib/python3.5/site-packages/sklearn/model_selection/_search.py:841: DeprecationWarning: The default of the `iid` parameter will change from True to False in version 0.22 and will be removed in 0.24. This will change numeric results when test-set sizes are unequal.\n",
      "  DeprecationWarning)\n",
      "/home/mpgill/anaconda3/envs/BeatPD/lib/python3.5/site-packages/sklearn/model_selection/_split.py:626: Warning: The least populated class in y has only 2 members, which is too few. The minimum number of members in any class cannot be less than n_splits=5.\n",
      "  % (min_groups, self.n_splits)), Warning)\n"
     ]
    },
    {
     "name": "stdout",
     "output_type": "stream",
     "text": [
      "{'n_neighbors': 11}\n",
      "0.6848484848484848\n",
      "----- 1039----- \n",
      "Training accuracy:  0.5192307692307693\n",
      "Testing accuracy:  0.34615384615384615\n",
      "abs substract :  [0 1 0 0 0 1 0 0 0 1 0 4 0 0 1 1 0 0 0 1 0 0 4 1 0 4 0 0 1 1 0 0 3 0 1 0 0\n",
      " 1 0 0 1 0 1 0 1 0 2 4 0 0 0 0 1 1 1 0 0 1 1 0 1 0 2 0 1 0 0 0 1 1 2 0 1 1\n",
      " 0 0 2 1 0 1 0 0 4 1 0 1 1 1 0 0 1 1 0 0 1 1 1 0 3 1 0 1 1 0]\n"
     ]
    },
    {
     "name": "stderr",
     "output_type": "stream",
     "text": [
      "/home/mpgill/anaconda3/envs/BeatPD/lib/python3.5/site-packages/sklearn/model_selection/_search.py:841: DeprecationWarning: The default of the `iid` parameter will change from True to False in version 0.22 and will be removed in 0.24. This will change numeric results when test-set sizes are unequal.\n",
      "  DeprecationWarning)\n",
      "/home/mpgill/anaconda3/envs/BeatPD/lib/python3.5/site-packages/sklearn/model_selection/_search.py:841: DeprecationWarning: The default of the `iid` parameter will change from True to False in version 0.22 and will be removed in 0.24. This will change numeric results when test-set sizes are unequal.\n",
      "  DeprecationWarning)\n"
     ]
    },
    {
     "name": "stdout",
     "output_type": "stream",
     "text": [
      "{'n_neighbors': 6}\n",
      "0.46153846153846156\n",
      "----- 1043----- \n",
      "Training accuracy:  0.5555555555555556\n",
      "Testing accuracy:  0.14285714285714285\n",
      "abs substract :  [2 0 0 2 0 0 0 0 2 0 2 0 1 0 0 2 2 0 3 0 3 2 0 1 3 0 0]\n",
      "{'n_neighbors': 5}\n",
      "0.3333333333333333\n",
      "----- 1044----- \n",
      "Training accuracy:  0.6666666666666666\n",
      "Testing accuracy:  0.6666666666666666\n",
      "abs substract :  [1 1 0 0 1 0 1 1 1 0 0 0 0 1 1 0 1 1 1 0 0 0 0 1 1 0 0 0 1 1 0 0 0 1 0 0 0\n",
      " 0 0 0 0 0 1 0 0 1 0 0 0 0 1 0 0 0 0 0 0]\n"
     ]
    },
    {
     "name": "stderr",
     "output_type": "stream",
     "text": [
      "/home/mpgill/anaconda3/envs/BeatPD/lib/python3.5/site-packages/sklearn/model_selection/_search.py:841: DeprecationWarning: The default of the `iid` parameter will change from True to False in version 0.22 and will be removed in 0.24. This will change numeric results when test-set sizes are unequal.\n",
      "  DeprecationWarning)\n",
      "/home/mpgill/anaconda3/envs/BeatPD/lib/python3.5/site-packages/sklearn/model_selection/_split.py:626: Warning: The least populated class in y has only 2 members, which is too few. The minimum number of members in any class cannot be less than n_splits=5.\n",
      "  % (min_groups, self.n_splits)), Warning)\n"
     ]
    },
    {
     "name": "stdout",
     "output_type": "stream",
     "text": [
      "{'n_neighbors': 4}\n",
      "0.5964912280701754\n",
      "----- 1048----- \n",
      "Training accuracy:  0.6111111111111112\n",
      "Testing accuracy:  0.3157894736842105\n",
      "abs substract :  [1 1 0 0 0 0 0 0 0 0 0 0 0 1 1 1 1 0 2 0 0 1 0 1 1 0 0 1 0 0 0 1 0 1 2 1 1\n",
      " 0 0 0 0 2 0 3 0 0 1 0 1 1 0 2 2 1 0 0 0 0 0 0 0 1 0 1 1 0 0 0 0 0 1 0]\n"
     ]
    },
    {
     "name": "stderr",
     "output_type": "stream",
     "text": [
      "/home/mpgill/anaconda3/envs/BeatPD/lib/python3.5/site-packages/sklearn/model_selection/_search.py:841: DeprecationWarning: The default of the `iid` parameter will change from True to False in version 0.22 and will be removed in 0.24. This will change numeric results when test-set sizes are unequal.\n",
      "  DeprecationWarning)\n",
      "/home/mpgill/anaconda3/envs/BeatPD/lib/python3.5/site-packages/sklearn/model_selection/_search.py:841: DeprecationWarning: The default of the `iid` parameter will change from True to False in version 0.22 and will be removed in 0.24. This will change numeric results when test-set sizes are unequal.\n",
      "  DeprecationWarning)\n"
     ]
    },
    {
     "name": "stdout",
     "output_type": "stream",
     "text": [
      "{'n_neighbors': 14}\n",
      "0.5555555555555556\n",
      "----- 1049----- \n",
      "Training accuracy:  0.5384615384615384\n",
      "Testing accuracy:  0.6470588235294118\n",
      "abs substract :  [0 0 0 2 2 0 0 1 1 0 0 0 1 0 2 0 3 0 2 0 0 2 0 0 0 0 2 0 2 0 0 0 1 2 1 0 0\n",
      " 1 1 1 0 1 0 0 1 2 0 1 2 0 3 2 0 2 0 1 1 0 0 0 0 1 1 2 0]\n",
      "{'n_neighbors': 14}\n",
      "0.4153846153846154\n",
      "----- 1051----- \n",
      "Training accuracy:  0.7402597402597403\n",
      "Testing accuracy:  0.6666666666666666\n",
      "abs substract :  [1 1 3 2 0 0 0 0 1 0 3 1 0 0 0 0 0 0 0 0 0 0 0 0 0 2 0 0 0 2 0 0 0 0 0 0 0\n",
      " 4 0 0 0 0 0 1 0 0 0 0 0 0 0 3 1 0 3 0 0 0 0 1 0 0 0 0 0 0 0 0 2 0 0 0 0 0\n",
      " 3 2 0 0 2 0 0 0 0 3 0 2 0 0 0 0 0 0 0 0 0 0 0 3 0 0 0 0 0 1 0 2 2 2 0 1 0\n",
      " 0 0 0 4 0 0 0 0 1 4 0 0 0 0 2 0 0 0 0 0 3 2 0 0 3 2 4 2 0 3 0 0 0 3 0 0 0\n",
      " 4 0 0 0 0 0]\n",
      "Global training accuracy: 0.6065573770491803\n",
      "Global testing accuracy: 0.5357142857142857\n"
     ]
    }
   ],
   "source": [
    "from sklearn.neighbors import KNeighborsClassifier\n",
    "from sklearn.datasets import load_iris\n",
    "from sklearn.model_selection import train_test_split\n",
    "from sklearn.pipeline import Pipeline\n",
    "\n",
    "# To compute the final score as per the challenge\n",
    "mse_training_per_subjectid=[]\n",
    "mse_test_per_subjectid=[]\n",
    "train_nb_files_per_subjectid=[]\n",
    "test_nb_files_per_subjectid=[]\n",
    "\n",
    "# To compute the mean accuracy\n",
    "glob_trai_pred=[]\n",
    "glob_test_pred=[]\n",
    "glob_trai_true=[]\n",
    "glob_test_true=[]\n",
    "    \n",
    "for subject_id in np.unique(vTraiSubjectId):\n",
    "    # GridSearchCV\n",
    "#     parameters = {'n_neighbors':[1,3,6,10,15]}\n",
    "    knn2 = KNeighborsClassifier()\n",
    "    k_range = list(range(1, 15))\n",
    "    param_grid = dict(n_neighbors=k_range)\n",
    "#     print(param_grid)\n",
    "\n",
    "    # instantiate the grid\n",
    "    grid = GridSearchCV(knn2, param_grid, cv=5, scoring='accuracy')\n",
    "\n",
    "    # fit the grid with data\n",
    "    grid.fit(vTraiPCA_subjectid, vLTrai_subjectid)\n",
    "\n",
    "    #check top performing n_neighbors value\n",
    "    print(grid.best_params_)\n",
    "    \n",
    "    #print(grid.cv_results_)\n",
    "    #check mean score for the top performing value of n_neighbors\n",
    "    print(grid.best_score_)\n",
    "\n",
    "    print('----- ' + str(subject_id) + '----- ')\n",
    "    knn = KNeighborsClassifier(n_neighbors=7)\n",
    "    \n",
    "    # Filter vTraiPCA and vLTraiPCA for one subject_id\n",
    "    indices_subject_id = np.where(vTraiSubjectId == subject_id) # HAPPY\n",
    "    vTraiPCA_subjectid = vTraiPCA[indices_subject_id]\n",
    "    vLTrai_subjectid = vLTrai[indices_subject_id]\n",
    "    \n",
    "    # Filter vTestPCA and vLTestPCA for one subject_id\n",
    "    indices_subject_id = np.where(vTestSubjectId == subject_id)\n",
    "    vTestPCA_subjectid = vTestPCA[indices_subject_id]\n",
    "    vLTest_subjectid = vLTest[indices_subject_id]\n",
    "\n",
    "    knn.fit(vTraiPCA_subjectid, vLTrai_subjectid)\n",
    "    \n",
    "#     y_labels = knn.predict(vTraiPCA_subjectid)\n",
    "#     display(y_labels)\n",
    "\n",
    "    print('Training accuracy: ', knn.score(vTraiPCA_subjectid, vLTrai_subjectid))\n",
    "    print('Testing accuracy: ', knn.score(vTestPCA_subjectid, vLTest_subjectid))\n",
    "    \n",
    "    # Predicting on the training and test data \n",
    "    predictionsTrai = knn.predict(vTraiPCA_subjectid)\n",
    "    predictions = knn.predict(vTestPCA_subjectid)\n",
    "    \n",
    "    # Converting all strings to int for MSE \n",
    "    vLTrai_subjectid = [int(i) for i in vLTrai_subjectid]\n",
    "    predictionsTrai = [int(i) for i in predictionsTrai]\n",
    "    vLTest_subjectid = [int(i) for i in vLTest_subjectid]\n",
    "    predictions = [int(i) for i in predictions]\n",
    " \n",
    "    # Computing the accuracy \n",
    "    glob_trai_pred=np.append(glob_trai_pred,predictionsTrai,axis=0)\n",
    "    glob_test_pred=np.append(glob_test_pred,predictions,axis=0)\n",
    "    glob_trai_true=np.append(glob_trai_true,vLTrai_subjectid,axis=0)\n",
    "    glob_test_true=np.append(glob_test_true,vLTest_subjectid,axis=0)\n",
    "    \n",
    "    a = [a - b for a, b in zip(vLTrai_subjectid, predictionsTrai)]\n",
    "    print('abs substract : ', np.abs(a))\n",
    "    \n",
    "    # Building a list of the MSEk \n",
    "    mse_training_per_subjectid = np.append(mse_training_per_subjectid,\n",
    "                                           (mean_squared_error(vLTrai_subjectid, predictionsTrai) /  len(vLTrai_subjectid)))\n",
    "    mse_test_per_subjectid = np.append(mse_test_per_subjectid,\n",
    "                                        (mean_squared_error(vLTest_subjectid, predictions) / len(vLTest_subjectid)))\n",
    "    train_nb_files_per_subjectid.append(len(vLTrai_subjectid))\n",
    "    test_nb_files_per_subjectid.append(len(vLTest_subjectid))\n",
    "\n",
    "#     do_confusion_matrix(vLTest_subjectid, predictions)\n",
    "\n",
    "print('Global training accuracy: {}'.format((glob_trai_true == glob_trai_pred).mean()))\n",
    "print('Global testing accuracy: {}'.format((glob_test_true == glob_test_pred).mean()))"
   ]
  },
  {
   "cell_type": "code",
   "execution_count": 575,
   "metadata": {},
   "outputs": [],
   "source": [
    "from sklearn.metrics import mean_squared_error\n",
    "from math import sqrt \n",
    "\n",
    "def final_score(mse_per_subjectid, nb_files_per_subject_id):\n",
    "    numerator = np.sum([a * b for a, b in zip(np.sqrt(nb_files_per_subject_id), mse_per_subjectid)])\n",
    "    denominator = np.sum(np.sqrt(nb_files_per_subject_id))\n",
    "    print('numerator : ', numerator)\n",
    "    print('denominator : ', denominator)\n",
    "    print('Final score : ', np.divide(numerator, denominator))"
   ]
  },
  {
   "cell_type": "code",
   "execution_count": 556,
   "metadata": {},
   "outputs": [
    {
     "name": "stdout",
     "output_type": "stream",
     "text": [
      "numerator :  2.9956883253194277\n",
      "denominator :  138.07717596772696\n",
      "Final score :  0.021695753149091168\n",
      "numerator :  6.065415875730853\n",
      "denominator :  70.2868377625761\n",
      "Final score :  0.08629518795851071\n"
     ]
    }
   ],
   "source": [
    "final_score(mse_training_per_subjectid, train_nb_files_per_subjectid)\n",
    "final_score(mse_test_per_subjectid, test_nb_files_per_subjectid)"
   ]
  },
  {
   "cell_type": "code",
   "execution_count": 543,
   "metadata": {},
   "outputs": [],
   "source": [
    "def do_confusion_matrix(y_test, predictions):\n",
    "    print('y test : ', np.unique(y_test))\n",
    "    LABELS_NEW = np.unique(y_test)\n",
    "    n_classes=np.unique(y_test)\n",
    "    print(\"Confusion Matrix:\")\n",
    "    confusion_matrix = metrics.confusion_matrix(y_test, predictions)\n",
    "    print(confusion_matrix)\n",
    "    normalised_confusion_matrix = np.array(confusion_matrix, dtype=np.float32)/np.sum(confusion_matrix)*100\n",
    "\n",
    "    print(\"\")\n",
    "    print(\"Confusion matrix (normalised to % of total test data):\")\n",
    "    print(normalised_confusion_matrix)\n",
    "\n",
    "    # Plot Results:\n",
    "    width = 12\n",
    "    height = 12\n",
    "    plt.figure(figsize=(width, height))\n",
    "    plt.imshow(\n",
    "        normalised_confusion_matrix,\n",
    "        interpolation='nearest',\n",
    "        cmap=plt.cm.rainbow\n",
    "    )\n",
    "    plt.title(\"Confusion matrix \\n(normalised to % of total test data)\")\n",
    "    plt.colorbar()\n",
    "    tick_marks = np.arange(n_classes)\n",
    "    plt.xticks(tick_marks, LABELS_NEW, rotation=90)\n",
    "    plt.yticks(tick_marks, LABELS_NEW)\n",
    "    plt.tight_layout()\n",
    "    plt.ylabel('True label')\n",
    "    plt.xlabel('Predicted label')\n",
    "    plt.show()"
   ]
  },
  {
   "cell_type": "code",
   "execution_count": null,
   "metadata": {},
   "outputs": [],
   "source": []
  }
 ],
 "metadata": {
  "kernelspec": {
   "display_name": "BeatPD",
   "language": "python",
   "name": "beatpd"
  },
  "language_info": {
   "codemirror_mode": {
    "name": "ipython",
    "version": 3
   },
   "file_extension": ".py",
   "mimetype": "text/x-python",
   "name": "python",
   "nbconvert_exporter": "python",
   "pygments_lexer": "ipython3",
   "version": "3.5.6"
  }
 },
 "nbformat": 4,
 "nbformat_minor": 2
}
