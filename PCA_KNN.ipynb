{
 "cells": [
  {
   "cell_type": "markdown",
   "metadata": {},
   "source": [
    "# Trains and Tests PLDA"
   ]
  },
  {
   "cell_type": "code",
   "execution_count": 115,
   "metadata": {},
   "outputs": [],
   "source": [
    "#!/usr/bin/env python3.7\n",
    "import os\n",
    "import sys\n",
    "sys.path.insert(0, \"/export/c10/lmorove1/PythonLibs/plda\")\n",
    "sys.path.insert(0, \"/home/sjoshi/codes/python/BeatPD/code\")\n",
    "import plda\n",
    "import numpy as np\n",
    "import matplotlib.pyplot as plt\n",
    "import kaldi_io\n",
    "import argparse\n",
    "import pickle\n",
    "from sklearn.decomposition import PCA\n",
    "\n",
    "import pandas as pd \n",
    "\n",
    "from sklearn.neighbors import NearestNeighbors\n",
    "\n",
    "from sklearn.metrics import mean_squared_error\n",
    "\n",
    "#PCA\n",
    "import matplotlib.pyplot as plt\n",
    "from mpl_toolkits.mplot3d import Axes3D\n",
    "from sklearn import decomposition\n",
    "\n",
    "# GridSearchCV\n",
    "from sklearn.model_selection import GridSearchCV\n",
    "\n",
    "# Confusion matrix\n",
    "from sklearn import metrics\n",
    "\n",
    "from sklearn.neighbors import KNeighborsClassifier\n",
    "from sklearn.datasets import load_iris\n",
    "from sklearn.model_selection import train_test_split\n",
    "from sklearn.pipeline import Pipeline"
   ]
  },
  {
   "cell_type": "code",
   "execution_count": 116,
   "metadata": {},
   "outputs": [
    {
     "name": "stdout",
     "output_type": "stream",
     "text": [
      "/export/c08/lmorove1/kaldi/egs/beatPDivec/v1\n",
      "cmd.sh\t exp\t newpldatest.ipynb  run3ax.sh\trun.sh\t utils\n",
      "cmd.sh~  exp3ax  path.sh\t    run3ax.sh~\trun.sh~\n",
      "conf\t local\t pca_pldapy.ipynb   runFor.sh\tsid\n",
      "data\t mfcc\t README.txt\t    runFor.sh~\tsteps\n",
      "/export/c08/lmorove1/kaldi/egs/beatPDivec/v1\n",
      "cmd.sh\t exp\t newpldatest.ipynb  run3ax.sh\trun.sh\t utils\n",
      "cmd.sh~  exp3ax  path.sh\t    run3ax.sh~\trun.sh~\n",
      "conf\t local\t pca_pldapy.ipynb   runFor.sh\tsid\n",
      "data\t mfcc\t README.txt\t    runFor.sh~\tsteps\n"
     ]
    }
   ],
   "source": [
    "DATA_PATH = '/export/c08/lmorove1/kaldi/egs/beatPDivec/v1/'\n",
    "\n",
    "!pwd && ls\n",
    "os.chdir(DATA_PATH)\n",
    "!pwd && ls"
   ]
  },
  {
   "cell_type": "code",
   "execution_count": 5,
   "metadata": {},
   "outputs": [],
   "source": [
    "# def pca(sFileTrai, sFileTest, iComponents):\n",
    "# # os.chdir(\"/export/c10/lmorove1/kaldi/egs/xVecPD/v2_NeuroConc16k\")\n",
    "# # sFileTrai=\"/export/c10/lmorove1/kaldi/egs/xVecPD/v2_NeuroConc16k/exp/sre18nn/xvectors_Training_Fold1/xvector.scp\"\n",
    "# # sOut = Folder where to store results \n",
    "# # iComponents = nb of classes (nb of measurements_id? or nb of subject_ids?)\n",
    "#     dIvecTrai = { key:mat for key,mat in kaldi_io.read_vec_flt_scp(sFileTrai) }\n",
    "#     vTrai= pd.DataFrame((list(dIvecTrai.values())))\n",
    "#     vLTrai = np.array([x[-1] for x in np.array(list(dIvecTrai.keys()))])\n",
    "    \n",
    "#     # FIXME : For realPD, we need more than -5 (CIS-PD subject_id is 4 characters long)\n",
    "#     # FIXME REAL-PD it's not only int \n",
    "#     vTraiSubjectId = np.array(([int(x[-5:-1]) for x in np.array(list(dIvecTrai.keys()))]))\n",
    "\n",
    "#     dIvecTest = { key:mat for key,mat in kaldi_io.read_vec_flt_scp(sFileTest) }\n",
    "#     vTest=np.array(list(dIvecTest.values()), dtype=float)\n",
    "#     vLTest=np.array([x[-1] for x in np.array(list(dIvecTest.keys()))])\n",
    "#     vTestSubjectId = np.array([int(x[-5:-1]) for x in np.array(list(dIvecTest.keys()))])\n",
    "\n",
    "#     print('before transform : ', vTrai.shape)\n",
    "#     print('before transform : ', vTest.shape)\n",
    "\n",
    "#     if isinstance(iComponents, str):\n",
    "#             iComponents=int(iComponents)\n",
    "\n",
    "#     pca = PCA(n_components=iComponents, svd_solver='randomized', whiten=True)\n",
    "#     pca.fit(vTrai)\n",
    "\n",
    "\n",
    "#     vTraiPCA=pca.transform(vTrai)\n",
    "#     vTestPCA=pca.transform(vTest)\n",
    "\n",
    "#     print('after transform : ', vTraiPCA.shape)\n",
    "#     print('after transform : ', vTestPCA.shape)\n",
    "#     return vTraiPCA, vLTrai, vTraiSubjectId, vTestPCA, vLTest, vTestSubjectId"
   ]
  },
  {
   "cell_type": "code",
   "execution_count": 117,
   "metadata": {},
   "outputs": [],
   "source": [
    "sFileTrai = '/export/c08/lmorove1/kaldi/egs/beatPDivec/v1/exp/ivectors_Training_Fold0/ivector.scp'\n",
    "sFileTest = '/export/c08/lmorove1/kaldi/egs/beatPDivec/v1/exp/ivectors_Testing_Fold0/ivector.scp'\n",
    "iComponents = 50 \n"
   ]
  },
  {
   "cell_type": "code",
   "execution_count": 118,
   "metadata": {},
   "outputs": [
    {
     "name": "stdout",
     "output_type": "stream",
     "text": [
      "The autoreload extension is already loaded. To reload it, use:\n",
      "  %reload_ext autoreload\n"
     ]
    }
   ],
   "source": [
    "%load_ext autoreload\n",
    "%autoreload 2"
   ]
  },
  {
   "cell_type": "code",
   "execution_count": 119,
   "metadata": {},
   "outputs": [],
   "source": [
    "from pca_knn_bpd import pca_knn_bpd"
   ]
  },
  {
   "cell_type": "code",
   "execution_count": 120,
   "metadata": {},
   "outputs": [],
   "source": [
    "from pca_plda_bpd import pca_plda_bpd"
   ]
  },
  {
   "cell_type": "code",
   "execution_count": null,
   "metadata": {},
   "outputs": [],
   "source": [
    "pca_knn_bpd(sFileTrai, sFileTest, '/home/sjoshi/codes/python/BeatPD/code/', iComponents, 3)"
   ]
  },
  {
   "cell_type": "code",
   "execution_count": 113,
   "metadata": {},
   "outputs": [
    {
     "name": "stdout",
     "output_type": "stream",
     "text": [
      "----- 1004----- \n",
      "Previous shapes:\n",
      "(63, 50)\n",
      "(63,)\n",
      "Shapes after removing classes:\n",
      "(63, 50)\n",
      "(63,)\n",
      "Accuracy: 0.2631578947368421\n",
      "----- 1006----- \n",
      "Previous shapes:\n",
      "(28, 50)\n",
      "(28,)\n",
      "Shapes after removing classes:\n",
      "(28, 50)\n",
      "(28,)\n",
      "Accuracy: 0.6666666666666666\n",
      "----- 1007----- \n",
      "Previous shapes:\n",
      "(219, 50)\n",
      "(219,)\n",
      "Shapes after removing classes:\n",
      "(219, 50)\n",
      "(219,)\n",
      "Accuracy: 0.543859649122807\n",
      "----- 1019----- \n",
      "Previous shapes:\n",
      "(35, 50)\n",
      "(35,)\n",
      "Shapes after removing classes:\n",
      "(35, 50)\n",
      "(35,)\n",
      "Accuracy: 0.3\n",
      "----- 1020----- \n",
      "Previous shapes:\n",
      "(154, 50)\n",
      "(154,)\n",
      "Shapes after removing classes:\n",
      "(154, 50)\n",
      "(154,)\n",
      "Accuracy: 0.7804878048780488\n",
      "----- 1023----- \n",
      "Previous shapes:\n",
      "(82, 50)\n",
      "(82,)\n",
      "Shapes after removing classes:\n",
      "(82, 50)\n",
      "(82,)\n",
      "Accuracy: 0.20833333333333334\n",
      "----- 1032----- \n",
      "Previous shapes:\n",
      "(139, 50)\n",
      "(139,)\n",
      "Shapes after removing classes:\n",
      "(139, 50)\n",
      "(139,)\n",
      "Accuracy: 0.3157894736842105\n",
      "----- 1034----- \n",
      "Previous shapes:\n",
      "(30, 50)\n",
      "(30,)\n",
      "Shapes after removing classes:\n",
      "(30, 50)\n",
      "(30,)\n",
      "Accuracy: 0.2\n",
      "----- 1038----- \n",
      "Previous shapes:\n",
      "(164, 50)\n",
      "(164,)\n",
      "Shapes after removing classes:\n",
      "(164, 50)\n",
      "(164,)\n",
      "Accuracy: 0.4883720930232558\n",
      "----- 1039----- \n",
      "Previous shapes:\n",
      "(101, 50)\n",
      "(101,)\n",
      "Shapes after removing classes:\n",
      "(101, 50)\n",
      "(101,)\n",
      "Accuracy: 0.41379310344827586\n",
      "----- 1043----- \n",
      "Previous shapes:\n",
      "(25, 50)\n",
      "(25,)\n",
      "Shapes after removing classes:\n",
      "(25, 50)\n",
      "(25,)\n",
      "Accuracy: 0.1111111111111111\n",
      "----- 1044----- \n",
      "Previous shapes:\n",
      "(57, 50)\n",
      "(57,)\n",
      "Shapes after removing classes:\n",
      "(57, 50)\n",
      "(57,)\n",
      "Accuracy: 0.4666666666666667\n",
      "----- 1048----- \n",
      "Previous shapes:\n",
      "(71, 50)\n",
      "(71,)\n",
      "Deleting class: \n",
      "0\n",
      "1\n",
      "(array([1]),)\n",
      "Shapes after removing classes:\n",
      "(70, 50)\n",
      "(70,)\n",
      "Accuracy: 0.4\n",
      "----- 1049----- \n",
      "Previous shapes:\n",
      "(64, 50)\n",
      "(64,)\n",
      "Shapes after removing classes:\n",
      "(64, 50)\n",
      "(64,)\n",
      "Accuracy: 0.3888888888888889\n",
      "----- 1051----- \n",
      "Previous shapes:\n",
      "(154, 50)\n",
      "(154,)\n",
      "Shapes after removing classes:\n",
      "(154, 50)\n",
      "(154,)\n",
      "Accuracy: 0.717948717948718\n",
      "Global training accuracy: 0.8\n",
      "Global testing accuracy: 0.47244094488188976\n",
      "PCAComponents: 50\n"
     ]
    }
   ],
   "source": [
    "pca_plda_bpd(sFileTrai, sFileTest, '/home/sjoshi/codes/python/BeatPD/code/', iComponents)"
   ]
  },
  {
   "cell_type": "code",
   "execution_count": 575,
   "metadata": {},
   "outputs": [],
   "source": [
    "def final_score(mse_per_subjectid, nb_files_per_subject_id):\n",
    "    numerator = np.sum([a * b for a, b in zip(np.sqrt(nb_files_per_subject_id), mse_per_subjectid)])\n",
    "    denominator = np.sum(np.sqrt(nb_files_per_subject_id))\n",
    "    print('numerator : ', numerator)\n",
    "    print('denominator : ', denominator)\n",
    "    print('Final score : ', np.divide(numerator, denominator))\n",
    "    \n",
    "final_score(mse_training_per_subjectid, train_nb_files_per_subjectid)\n",
    "final_score(mse_test_per_subjectid, test_nb_files_per_subjectid)"
   ]
  },
  {
   "cell_type": "code",
   "execution_count": 556,
   "metadata": {},
   "outputs": [
    {
     "name": "stdout",
     "output_type": "stream",
     "text": [
      "numerator :  2.9956883253194277\n",
      "denominator :  138.07717596772696\n",
      "Final score :  0.021695753149091168\n",
      "numerator :  6.065415875730853\n",
      "denominator :  70.2868377625761\n",
      "Final score :  0.08629518795851071\n"
     ]
    }
   ],
   "source": [
    "final_score(mse_training_per_subjectid, train_nb_files_per_subjectid)\n",
    "final_score(mse_test_per_subjectid, test_nb_files_per_subjectid)"
   ]
  },
  {
   "cell_type": "code",
   "execution_count": 543,
   "metadata": {},
   "outputs": [],
   "source": [
    "def do_confusion_matrix(y_test, predictions):\n",
    "    print('y test : ', np.unique(y_test))\n",
    "    LABELS_NEW = np.unique(y_test)\n",
    "    n_classes=np.unique(y_test)\n",
    "    print(\"Confusion Matrix:\")\n",
    "    confusion_matrix = metrics.confusion_matrix(y_test, predictions)\n",
    "    print(confusion_matrix)\n",
    "    normalised_confusion_matrix = np.array(confusion_matrix, dtype=np.float32)/np.sum(confusion_matrix)*100\n",
    "\n",
    "    print(\"\")\n",
    "    print(\"Confusion matrix (normalised to % of total test data):\")\n",
    "    print(normalised_confusion_matrix)\n",
    "\n",
    "    # Plot Results:\n",
    "    width = 12\n",
    "    height = 12\n",
    "    plt.figure(figsize=(width, height))\n",
    "    plt.imshow(\n",
    "        normalised_confusion_matrix,\n",
    "        interpolation='nearest',\n",
    "        cmap=plt.cm.rainbow\n",
    "    )\n",
    "    plt.title(\"Confusion matrix \\n(normalised to % of total test data)\")\n",
    "    plt.colorbar()\n",
    "    tick_marks = np.arange(n_classes)\n",
    "    plt.xticks(tick_marks, LABELS_NEW, rotation=90)\n",
    "    plt.yticks(tick_marks, LABELS_NEW)\n",
    "    plt.tight_layout()\n",
    "    plt.ylabel('True label')\n",
    "    plt.xlabel('Predicted label')\n",
    "    plt.show()"
   ]
  },
  {
   "cell_type": "code",
   "execution_count": null,
   "metadata": {},
   "outputs": [],
   "source": []
  }
 ],
 "metadata": {
  "kernelspec": {
   "display_name": "BeatPD",
   "language": "python",
   "name": "beatpd"
  },
  "language_info": {
   "codemirror_mode": {
    "name": "ipython",
    "version": 3
   },
   "file_extension": ".py",
   "mimetype": "text/x-python",
   "name": "python",
   "nbconvert_exporter": "python",
   "pygments_lexer": "ipython3",
   "version": "3.5.6"
  }
 },
 "nbformat": 4,
 "nbformat_minor": 2
}
