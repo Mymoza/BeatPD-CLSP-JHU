{
 "cells": [
  {
   "cell_type": "code",
   "execution_count": 3,
   "metadata": {},
   "outputs": [],
   "source": [
    "import numpy as np\n",
    "import matplotlib\n",
    "import matplotlib.pyplot as plt\n",
    "\n",
    "from sklearn import metrics\n",
    "import tensorflow as tf\n",
    "import os"
   ]
  },
  {
   "cell_type": "code",
   "execution_count": 1,
   "metadata": {},
   "outputs": [],
   "source": [
    "import pandas as pd"
   ]
  },
  {
   "cell_type": "code",
   "execution_count": 2,
   "metadata": {},
   "outputs": [],
   "source": [
    "import librosa"
   ]
  },
  {
   "cell_type": "code",
   "execution_count": 4,
   "metadata": {},
   "outputs": [],
   "source": [
    "# Useful Constants\n",
    "\n",
    "# Those are separate normalised input features for the neural network\n",
    "INPUT_SIGNAL_TYPES = [\n",
    "    \"body_acc_x_\",\n",
    "    \"body_acc_y_\",\n",
    "    \"body_acc_z_\",\n",
    "    \"body_gyro_x_\",\n",
    "    \"body_gyro_y_\",\n",
    "    \"body_gyro_z_\",\n",
    "    \"total_acc_x_\",\n",
    "    \"total_acc_y_\",\n",
    "    \"total_acc_z_\"\n",
    "]\n",
    "\n",
    "# Output classes to learn how to classify\n",
    "LABELS = [\n",
    "    \"WALKING\",\n",
    "    \"WALKING_UPSTAIRS\",\n",
    "    \"WALKING_DOWNSTAIRS\",\n",
    "    \"SITTING\",\n",
    "    \"STANDING\",\n",
    "    \"LAYING\"\n",
    "]"
   ]
  },
  {
   "cell_type": "code",
   "execution_count": 5,
   "metadata": {},
   "outputs": [],
   "source": [
    "DATA_PATH = \"/export/b18/sjoshi/BeatPD/data/\""
   ]
  },
  {
   "cell_type": "code",
   "execution_count": 6,
   "metadata": {},
   "outputs": [
    {
     "name": "stdout",
     "output_type": "stream",
     "text": [
      "/home/sjoshi/codes/python/BeatPD/code\n",
      "accelerometer_plots\t\t   pretrain_sjoshi-remove-data-twoclass.ipynb\n",
      "analyze_data.ipynb\t\t   README.md\n",
      "analyze_data.py\t\t\t   requirements.txt\n",
      "pretrain_sjoshi.ipynb\t\t   utils\n",
      "pretrain_sjoshi-remove-data.ipynb\n",
      "/export/b18/sjoshi/BeatPD/data\n",
      "BeatPD\tBeatPD_compressed  __MACOSX  UCI HAR Dataset  UCI HAR Dataset.zip\n",
      "\n",
      "Downloading...\n",
      "Dataset already downloaded. Did not download twice.\n",
      "\n",
      "Extracting...\n",
      "Dataset already extracted. Did not extract twice.\n",
      "\n",
      "/export/b18/sjoshi/BeatPD/data\n",
      "BeatPD\tBeatPD_compressed  __MACOSX  UCI HAR Dataset  UCI HAR Dataset.zip\n",
      "/export/b18/sjoshi/BeatPD\n",
      "data\n",
      "\n",
      "Dataset is now located at: /export/b18/sjoshi/BeatPD/data/UCI HAR Dataset/\n"
     ]
    }
   ],
   "source": [
    "# Note: Linux bash commands start with a \"!\" inside those \"ipython notebook\" cells\n",
    "\n",
    "\n",
    "!pwd && ls\n",
    "os.chdir(DATA_PATH)\n",
    "!pwd && ls\n",
    "\n",
    "!python /home/sjoshi/codes/python/BeatPD/code/utils/download_other_dataset.py\n",
    "\n",
    "!pwd && ls\n",
    "os.chdir(\"..\")\n",
    "!pwd && ls\n",
    "\n",
    "DATASET_PATH = DATA_PATH + \"UCI HAR Dataset/\"\n",
    "print(\"\\n\" + \"Dataset is now located at: \" + DATASET_PATH)"
   ]
  },
  {
   "cell_type": "code",
   "execution_count": 7,
   "metadata": {},
   "outputs": [],
   "source": [
    "TRAIN = \"train/\"\n",
    "TEST = \"test/\"\n",
    "\n",
    "\n",
    "# Load \"X\" (the neural network's training and testing inputs)\n",
    "\n",
    "def load_X(X_signals_paths):\n",
    "    X_signals = []\n",
    "\n",
    "    for signal_type_path in X_signals_paths:\n",
    "        file = open(signal_type_path, 'r')\n",
    "        # Read dataset from disk, dealing with text files' syntax\n",
    "        X_signals.append(\n",
    "            [np.array(serie, dtype=np.float32) for serie in [\n",
    "                row.replace('  ', ' ').strip().split(' ') for row in file\n",
    "            ]]\n",
    "        )\n",
    "        file.close()\n",
    "\n",
    "    return np.transpose(np.array(X_signals), (1, 2, 0))\n",
    "\n",
    "X_train_signals_paths = [\n",
    "    DATASET_PATH + TRAIN + \"Inertial Signals/\" + signal + \"train.txt\" for signal in INPUT_SIGNAL_TYPES\n",
    "]\n",
    "X_test_signals_paths = [\n",
    "    DATASET_PATH + TEST + \"Inertial Signals/\" + signal + \"test.txt\" for signal in INPUT_SIGNAL_TYPES\n",
    "]\n",
    "\n",
    "X_train_all = load_X(X_train_signals_paths)\n",
    "X_test_all = load_X(X_test_signals_paths)\n",
    "\n",
    "\n",
    "# Keeping only acc and gyro (remove gyro and total)\n",
    "X_train=X_train_all[:,:,0:3]\n",
    "X_test=X_test_all[:,:,0:3]\n",
    "\n",
    "\n",
    "# Load \"y\" (the neural network's training and testing outputs)\n",
    "\n",
    "def load_y(y_path):\n",
    "    file = open(y_path, 'r')\n",
    "    # Read dataset from disk, dealing with text file's syntax\n",
    "    y_ = np.array(\n",
    "        [elem for elem in [\n",
    "            row.replace('  ', ' ').strip().split(' ') for row in file\n",
    "        ]],\n",
    "        dtype=np.int32\n",
    "    )\n",
    "    file.close()\n",
    "\n",
    "    # Substract 1 to each output class for friendly 0-based indexing\n",
    "    return y_ - 1\n",
    "\n",
    "y_train_path = DATASET_PATH + TRAIN + \"y_train.txt\"\n",
    "y_test_path = DATASET_PATH + TEST + \"y_test.txt\"\n",
    "\n",
    "y_train = load_y(y_train_path)\n",
    "y_test = load_y(y_test_path)\n"
   ]
  },
  {
   "cell_type": "code",
   "execution_count": 8,
   "metadata": {},
   "outputs": [
    {
     "data": {
      "text/plain": [
       "(7352, 128, 3)"
      ]
     },
     "execution_count": 8,
     "metadata": {},
     "output_type": "execute_result"
    }
   ],
   "source": [
    "X_train.shape"
   ]
  },
  {
   "cell_type": "code",
   "execution_count": 9,
   "metadata": {},
   "outputs": [
    {
     "name": "stdout",
     "output_type": "stream",
     "text": [
      "[0 1]\n",
      "[0 1]\n"
     ]
    }
   ],
   "source": [
    "#[Sonal]\n",
    "def change_labels_to_two_class(y_train):\n",
    "    '''\n",
    "    Change labels to two class (activity=1, inactivity=0)\n",
    "    \n",
    "    LABELS = [\n",
    "    \"WALKING\", 0\n",
    "    \"WALKING_UPSTAIRS\", 1\n",
    "    \"WALKING_DOWNSTAIRS\", 2\n",
    "    \"SITTING\", 3\n",
    "    \"STANDING\", 4\n",
    "    \"LAYING\" 5\n",
    "    \n",
    "    '''\n",
    "    y_train_new=np.where(y_train==0, 1, y_train) \n",
    "    y_train_new=np.where(y_train_new==1, 1, y_train_new)\n",
    "    y_train_new=np.where(y_train_new==2, 1, y_train_new) \n",
    "    y_train_new=np.where(y_train_new==3, 0, y_train_new) # Replace sitting by inactivity\n",
    "    y_train_new=np.where(y_train_new==4, 0, y_train_new)\n",
    "    y_train_new=np.where(y_train_new==5, 0, y_train_new)\n",
    "    print(np.unique(y_train_new))\n",
    "    return y_train_new\n",
    "\n",
    "LABELS_NEW=['inactivity','activity']\n",
    "y_train=change_labels_to_two_class(y_train)\n",
    "y_test=change_labels_to_two_class(y_test)"
   ]
  },
  {
   "cell_type": "code",
   "execution_count": 10,
   "metadata": {},
   "outputs": [
    {
     "name": "stdout",
     "output_type": "stream",
     "text": [
      "Some useful info to get an insight on dataset's shape and normalisation:\n",
      "(X shape, y shape, every X's mean, every X's standard deviation)\n",
      "(2947, 128, 3) (2947, 1) -0.00038136856 0.13861494\n",
      "The dataset is therefore properly normalised, as expected, but not yet one-hot encoded.\n"
     ]
    }
   ],
   "source": [
    "# Input Data\n",
    "\n",
    "training_data_count = len(X_train)  # 7352 training series (with 50% overlap between each serie)\n",
    "test_data_count = len(X_test)  # 2947 testing series\n",
    "n_steps = len(X_train[0])  # 128 timesteps per series\n",
    "n_input = len(X_train[0][0])  # 9 input parameters per timestep ---- Changed to 6!!![Sonal]\n",
    "\n",
    "\n",
    "\n",
    "# LSTM Neural Network's internal structure\n",
    "\n",
    "n_hidden = 32 # Hidden layer num of features\n",
    "n_classes = 2 # Total classes (should go up, or should go down) # [Sonal]\n",
    "\n",
    "\n",
    "# Training\n",
    "\n",
    "learning_rate = 0.0025\n",
    "lambda_loss_amount = 0.0015\n",
    "training_iters = training_data_count * 300  # Loop 300 times on the dataset\n",
    "batch_size = 1500\n",
    "display_iter = 30000  # To show test set accuracy during training\n",
    "\n",
    "\n",
    "# Some debugging info\n",
    "\n",
    "print(\"Some useful info to get an insight on dataset's shape and normalisation:\")\n",
    "print(\"(X shape, y shape, every X's mean, every X's standard deviation)\")\n",
    "print(X_test.shape, y_test.shape, np.mean(X_test), np.std(X_test))\n",
    "print(\"The dataset is therefore properly normalised, as expected, but not yet one-hot encoded.\")"
   ]
  },
  {
   "cell_type": "code",
   "execution_count": 11,
   "metadata": {},
   "outputs": [],
   "source": [
    "def LSTM_RNN(_X, _weights, _biases):\n",
    "    # Function returns a tensorflow LSTM (RNN) artificial neural network from given parameters.\n",
    "    # Moreover, two LSTM cells are stacked which adds deepness to the neural network.\n",
    "    # Note, some code of this notebook is inspired from an slightly different\n",
    "    # RNN architecture used on another dataset, some of the credits goes to\n",
    "    # \"aymericdamien\" under the MIT license.\n",
    "\n",
    "    # (NOTE: This step could be greatly optimised by shaping the dataset once\n",
    "    # input shape: (batch_size, n_steps, n_input)\n",
    "    _X = tf.transpose(_X, [1, 0, 2])  # permute n_steps and batch_size\n",
    "    # Reshape to prepare input to hidden activation\n",
    "    _X = tf.reshape(_X, [-1, n_input])\n",
    "    # new shape: (n_steps*batch_size, n_input)\n",
    "\n",
    "    # ReLU activation, thanks to Yu Zhao for adding this improvement here:\n",
    "    _X = tf.nn.relu(tf.matmul(_X, _weights['hidden']) + _biases['hidden'])\n",
    "    # Split data because rnn cell needs a list of inputs for the RNN inner loop\n",
    "    _X = tf.split(_X, n_steps, 0)\n",
    "    # new shape: n_steps * (batch_size, n_hidden)\n",
    "\n",
    "    # Define two stacked LSTM cells (two recurrent layers deep) with tensorflow\n",
    "    lstm_cell_1 = tf.contrib.rnn.BasicLSTMCell(n_hidden, forget_bias=1.0, state_is_tuple=True)\n",
    "    lstm_cell_2 = tf.contrib.rnn.BasicLSTMCell(n_hidden, forget_bias=1.0, state_is_tuple=True)\n",
    "    lstm_cells = tf.contrib.rnn.MultiRNNCell([lstm_cell_1, lstm_cell_2], state_is_tuple=True)\n",
    "    # Get LSTM cell output\n",
    "    outputs, states = tf.contrib.rnn.static_rnn(lstm_cells, _X, dtype=tf.float32)\n",
    "\n",
    "    # Get last time step's output feature for a \"many-to-one\" style classifier,\n",
    "    # as in the image describing RNNs at the top of this page\n",
    "    lstm_last_output = outputs[-1]\n",
    "\n",
    "    # Linear activation\n",
    "    return tf.matmul(lstm_last_output, _weights['out']) + _biases['out']\n",
    "\n",
    "\n",
    "def extract_batch_size(_train, step, batch_size):\n",
    "    # Function to fetch a \"batch_size\" amount of data from \"(X|y)_train\" data.\n",
    "\n",
    "    shape = list(_train.shape)\n",
    "    shape[0] = batch_size\n",
    "    batch_s = np.empty(shape)\n",
    "\n",
    "    for i in range(batch_size):\n",
    "        # Loop index\n",
    "        index = ((step-1)*batch_size + i) % len(_train)\n",
    "        batch_s[i] = _train[index]\n",
    "\n",
    "    return batch_s\n",
    "\n",
    "\n",
    "def one_hot(y_, n_classes=n_classes):\n",
    "    # Function to encode neural one-hot output labels from number indexes\n",
    "    # e.g.:\n",
    "    # one_hot(y_=[[5], [0], [3]], n_classes=6):\n",
    "    #     return [[0, 0, 0, 0, 0, 1], [1, 0, 0, 0, 0, 0], [0, 0, 0, 1, 0, 0]]\n",
    "\n",
    "    y_ = y_.reshape(len(y_))\n",
    "    return np.eye(n_classes)[np.array(y_, dtype=np.int32)]  # Returns FLOATS"
   ]
  },
  {
   "cell_type": "code",
   "execution_count": 12,
   "metadata": {},
   "outputs": [
    {
     "name": "stdout",
     "output_type": "stream",
     "text": [
      "WARNING:tensorflow:From <ipython-input-12-382f5f62ccfe>:21: softmax_cross_entropy_with_logits (from tensorflow.python.ops.nn_ops) is deprecated and will be removed in a future version.\n",
      "Instructions for updating:\n",
      "\n",
      "Future major versions of TensorFlow will allow gradients to flow\n",
      "into the labels input on backprop by default.\n",
      "\n",
      "See @{tf.nn.softmax_cross_entropy_with_logits_v2}.\n",
      "\n"
     ]
    }
   ],
   "source": [
    "# Graph input/output\n",
    "x = tf.placeholder(tf.float32, [None, n_steps, n_input])\n",
    "y = tf.placeholder(tf.float32, [None, n_classes])\n",
    "\n",
    "# Graph weights\n",
    "weights = {\n",
    "    'hidden': tf.Variable(tf.random_normal([n_input, n_hidden])), # Hidden layer weights\n",
    "    'out': tf.Variable(tf.random_normal([n_hidden, n_classes], mean=1.0))\n",
    "}\n",
    "biases = {\n",
    "    'hidden': tf.Variable(tf.random_normal([n_hidden])),\n",
    "    'out': tf.Variable(tf.random_normal([n_classes]))\n",
    "}\n",
    "\n",
    "pred = LSTM_RNN(x, weights, biases)\n",
    "\n",
    "# Loss, optimizer and evaluation\n",
    "l2 = lambda_loss_amount * sum(\n",
    "    tf.nn.l2_loss(tf_var) for tf_var in tf.trainable_variables()\n",
    ") # L2 loss prevents this overkill neural network to overfit the data\n",
    "cost = tf.reduce_mean(tf.nn.softmax_cross_entropy_with_logits(labels=y, logits=pred)) + l2 # Softmax loss\n",
    "optimizer = tf.train.AdamOptimizer(learning_rate=learning_rate).minimize(cost) # Adam Optimizer\n",
    "\n",
    "correct_pred = tf.equal(tf.argmax(pred,1), tf.argmax(y,1))\n",
    "accuracy = tf.reduce_mean(tf.cast(correct_pred, tf.float32))"
   ]
  },
  {
   "cell_type": "code",
   "execution_count": 13,
   "metadata": {},
   "outputs": [
    {
     "name": "stdout",
     "output_type": "stream",
     "text": [
      "Training iter #1500:   Batch Loss = 1.296716, Accuracy = 0.49933332204818726\n",
      "PERFORMANCE ON TEST SET: Batch Loss = 1.0412155389785767, Accuracy = 0.5609093904495239\n",
      "Training iter #30000:   Batch Loss = 0.461552, Accuracy = 0.984000027179718\n",
      "PERFORMANCE ON TEST SET: Batch Loss = 0.4040125012397766, Accuracy = 0.9972853660583496\n",
      "Training iter #60000:   Batch Loss = 0.355291, Accuracy = 0.9900000095367432\n",
      "PERFORMANCE ON TEST SET: Batch Loss = 0.3644292950630188, Accuracy = 0.9860875606536865\n",
      "Training iter #90000:   Batch Loss = 0.324559, Accuracy = 0.9953333139419556\n",
      "PERFORMANCE ON TEST SET: Batch Loss = 0.31806910037994385, Accuracy = 0.9979640245437622\n",
      "Training iter #120000:   Batch Loss = 0.295145, Accuracy = 1.0\n",
      "PERFORMANCE ON TEST SET: Batch Loss = 0.2994310259819031, Accuracy = 0.9983033537864685\n",
      "Training iter #150000:   Batch Loss = 0.282333, Accuracy = 0.9993333220481873\n",
      "PERFORMANCE ON TEST SET: Batch Loss = 0.2842523455619812, Accuracy = 0.9986426830291748\n",
      "Training iter #180000:   Batch Loss = 0.269375, Accuracy = 0.9993333220481873\n",
      "PERFORMANCE ON TEST SET: Batch Loss = 0.2711196839809418, Accuracy = 0.9986426830291748\n",
      "Training iter #210000:   Batch Loss = 0.257414, Accuracy = 0.9993333220481873\n",
      "PERFORMANCE ON TEST SET: Batch Loss = 0.2586691677570343, Accuracy = 0.9996606707572937\n",
      "Training iter #240000:   Batch Loss = 0.245485, Accuracy = 1.0\n",
      "PERFORMANCE ON TEST SET: Batch Loss = 0.24639560282230377, Accuracy = 0.9996606707572937\n",
      "Training iter #270000:   Batch Loss = 0.240324, Accuracy = 0.9980000257492065\n",
      "PERFORMANCE ON TEST SET: Batch Loss = 0.23627686500549316, Accuracy = 1.0\n",
      "Training iter #300000:   Batch Loss = 0.234549, Accuracy = 0.9973333477973938\n",
      "PERFORMANCE ON TEST SET: Batch Loss = 0.22686702013015747, Accuracy = 0.9996606707572937\n",
      "Training iter #330000:   Batch Loss = 0.698197, Accuracy = 0.6933333277702332\n",
      "PERFORMANCE ON TEST SET: Batch Loss = 0.722923994064331, Accuracy = 0.4706481099128723\n",
      "Training iter #360000:   Batch Loss = 0.240882, Accuracy = 0.9993333220481873\n",
      "PERFORMANCE ON TEST SET: Batch Loss = 0.2419682741165161, Accuracy = 0.9986426830291748\n",
      "Training iter #390000:   Batch Loss = 0.244894, Accuracy = 0.9980000257492065\n",
      "PERFORMANCE ON TEST SET: Batch Loss = 0.23747558891773224, Accuracy = 0.9989820122718811\n",
      "Training iter #420000:   Batch Loss = 0.237397, Accuracy = 0.9980000257492065\n",
      "PERFORMANCE ON TEST SET: Batch Loss = 0.22969290614128113, Accuracy = 0.9996606707572937\n",
      "Training iter #450000:   Batch Loss = 0.228574, Accuracy = 0.9986666440963745\n",
      "PERFORMANCE ON TEST SET: Batch Loss = 0.22670184075832367, Accuracy = 0.9989820122718811\n",
      "Training iter #480000:   Batch Loss = 0.225832, Accuracy = 0.9980000257492065\n",
      "PERFORMANCE ON TEST SET: Batch Loss = 0.23291102051734924, Accuracy = 0.996606707572937\n",
      "Training iter #510000:   Batch Loss = 0.213229, Accuracy = 1.0\n",
      "PERFORMANCE ON TEST SET: Batch Loss = 0.21533535420894623, Accuracy = 0.9989820122718811\n",
      "Training iter #540000:   Batch Loss = 0.208115, Accuracy = 1.0\n",
      "PERFORMANCE ON TEST SET: Batch Loss = 0.20886215567588806, Accuracy = 0.9993213415145874\n",
      "Training iter #570000:   Batch Loss = 0.203119, Accuracy = 1.0\n",
      "PERFORMANCE ON TEST SET: Batch Loss = 0.20466628670692444, Accuracy = 0.9993213415145874\n",
      "Training iter #600000:   Batch Loss = 0.200327, Accuracy = 0.9986666440963745\n",
      "PERFORMANCE ON TEST SET: Batch Loss = 0.20153403282165527, Accuracy = 0.9986426830291748\n",
      "Training iter #630000:   Batch Loss = 0.194718, Accuracy = 0.9993333220481873\n",
      "PERFORMANCE ON TEST SET: Batch Loss = 0.1959247589111328, Accuracy = 0.9993213415145874\n",
      "Training iter #660000:   Batch Loss = 0.218005, Accuracy = 0.9913333058357239\n",
      "PERFORMANCE ON TEST SET: Batch Loss = 0.19166037440299988, Accuracy = 0.9996606707572937\n",
      "Training iter #690000:   Batch Loss = 0.225392, Accuracy = 0.9893333315849304\n",
      "PERFORMANCE ON TEST SET: Batch Loss = 0.18996062874794006, Accuracy = 0.9996606707572937\n",
      "Training iter #720000:   Batch Loss = 0.206988, Accuracy = 0.9926666617393494\n",
      "PERFORMANCE ON TEST SET: Batch Loss = 0.18703970313072205, Accuracy = 0.9989820122718811\n",
      "Training iter #750000:   Batch Loss = 0.180659, Accuracy = 1.0\n",
      "PERFORMANCE ON TEST SET: Batch Loss = 0.18108144402503967, Accuracy = 0.9996606707572937\n",
      "Training iter #780000:   Batch Loss = 0.179577, Accuracy = 0.9993333220481873\n",
      "PERFORMANCE ON TEST SET: Batch Loss = 0.17700406908988953, Accuracy = 0.9996606707572937\n",
      "Training iter #810000:   Batch Loss = 0.176033, Accuracy = 0.9986666440963745\n",
      "PERFORMANCE ON TEST SET: Batch Loss = 0.17306098341941833, Accuracy = 0.9996606707572937\n",
      "Training iter #840000:   Batch Loss = 0.169214, Accuracy = 0.9993333220481873\n",
      "PERFORMANCE ON TEST SET: Batch Loss = 0.16826727986335754, Accuracy = 1.0\n",
      "Training iter #870000:   Batch Loss = 0.165197, Accuracy = 0.9993333220481873\n",
      "PERFORMANCE ON TEST SET: Batch Loss = 0.16466358304023743, Accuracy = 1.0\n",
      "Training iter #900000:   Batch Loss = 0.160969, Accuracy = 1.0\n",
      "PERFORMANCE ON TEST SET: Batch Loss = 0.16092349588871002, Accuracy = 1.0\n",
      "Training iter #930000:   Batch Loss = 0.157626, Accuracy = 1.0\n",
      "PERFORMANCE ON TEST SET: Batch Loss = 0.1575438231229782, Accuracy = 1.0\n",
      "Training iter #960000:   Batch Loss = 0.154028, Accuracy = 1.0\n",
      "PERFORMANCE ON TEST SET: Batch Loss = 0.1539863497018814, Accuracy = 1.0\n",
      "Training iter #990000:   Batch Loss = 0.151444, Accuracy = 1.0\n",
      "PERFORMANCE ON TEST SET: Batch Loss = 0.15602782368659973, Accuracy = 0.9986426830291748\n",
      "Training iter #1020000:   Batch Loss = 0.166885, Accuracy = 0.9926666617393494\n",
      "PERFORMANCE ON TEST SET: Batch Loss = 0.15131941437721252, Accuracy = 1.0\n",
      "Training iter #1050000:   Batch Loss = 0.153854, Accuracy = 0.996666669845581\n",
      "PERFORMANCE ON TEST SET: Batch Loss = 0.14591936767101288, Accuracy = 1.0\n",
      "Training iter #1080000:   Batch Loss = 0.144837, Accuracy = 0.9993333220481873\n",
      "PERFORMANCE ON TEST SET: Batch Loss = 0.14245332777500153, Accuracy = 1.0\n",
      "Training iter #1110000:   Batch Loss = 0.139370, Accuracy = 1.0\n",
      "PERFORMANCE ON TEST SET: Batch Loss = 0.13924472033977509, Accuracy = 1.0\n",
      "Training iter #1140000:   Batch Loss = 0.136349, Accuracy = 1.0\n",
      "PERFORMANCE ON TEST SET: Batch Loss = 0.1361236721277237, Accuracy = 1.0\n",
      "Training iter #1170000:   Batch Loss = 0.133401, Accuracy = 1.0\n",
      "PERFORMANCE ON TEST SET: Batch Loss = 0.13309495151042938, Accuracy = 1.0\n",
      "Training iter #1200000:   Batch Loss = 0.130365, Accuracy = 1.0\n",
      "PERFORMANCE ON TEST SET: Batch Loss = 0.13013458251953125, Accuracy = 1.0\n",
      "Training iter #1230000:   Batch Loss = 0.127372, Accuracy = 1.0\n",
      "PERFORMANCE ON TEST SET: Batch Loss = 0.12725405395030975, Accuracy = 1.0\n",
      "Training iter #1260000:   Batch Loss = 0.124567, Accuracy = 1.0\n",
      "PERFORMANCE ON TEST SET: Batch Loss = 0.12444716691970825, Accuracy = 1.0\n",
      "Training iter #1290000:   Batch Loss = 0.121834, Accuracy = 1.0\n",
      "PERFORMANCE ON TEST SET: Batch Loss = 0.12170188128948212, Accuracy = 1.0\n",
      "Training iter #1320000:   Batch Loss = 0.119195, Accuracy = 1.0\n",
      "PERFORMANCE ON TEST SET: Batch Loss = 0.11917328089475632, Accuracy = 1.0\n",
      "Training iter #1350000:   Batch Loss = 0.123634, Accuracy = 1.0\n",
      "PERFORMANCE ON TEST SET: Batch Loss = 0.132124662399292, Accuracy = 0.9959280490875244\n",
      "Training iter #1380000:   Batch Loss = 0.139235, Accuracy = 0.9940000176429749\n",
      "PERFORMANCE ON TEST SET: Batch Loss = 0.12421925365924835, Accuracy = 0.9993213415145874\n",
      "Training iter #1410000:   Batch Loss = 0.159631, Accuracy = 0.984000027179718\n",
      "PERFORMANCE ON TEST SET: Batch Loss = 0.12124287337064743, Accuracy = 0.9993213415145874\n",
      "Training iter #1440000:   Batch Loss = 0.144114, Accuracy = 0.9913333058357239\n",
      "PERFORMANCE ON TEST SET: Batch Loss = 0.11656948924064636, Accuracy = 0.9993213415145874\n",
      "Training iter #1470000:   Batch Loss = 0.114640, Accuracy = 0.9986666440963745\n",
      "PERFORMANCE ON TEST SET: Batch Loss = 0.11316975206136703, Accuracy = 1.0\n",
      "Training iter #1500000:   Batch Loss = 0.111384, Accuracy = 0.9993333220481873\n",
      "PERFORMANCE ON TEST SET: Batch Loss = 0.11021385341882706, Accuracy = 1.0\n",
      "Training iter #1530000:   Batch Loss = 0.111811, Accuracy = 0.9986666440963745\n",
      "PERFORMANCE ON TEST SET: Batch Loss = 0.10757303237915039, Accuracy = 1.0\n",
      "Training iter #1560000:   Batch Loss = 0.108271, Accuracy = 0.9993333220481873\n",
      "PERFORMANCE ON TEST SET: Batch Loss = 0.1051362082362175, Accuracy = 1.0\n"
     ]
    },
    {
     "name": "stdout",
     "output_type": "stream",
     "text": [
      "Training iter #1590000:   Batch Loss = 0.103973, Accuracy = 0.9993333220481873\n",
      "PERFORMANCE ON TEST SET: Batch Loss = 0.10263504087924957, Accuracy = 1.0\n",
      "Training iter #1620000:   Batch Loss = 0.100441, Accuracy = 1.0\n",
      "PERFORMANCE ON TEST SET: Batch Loss = 0.1004192903637886, Accuracy = 1.0\n",
      "Training iter #1650000:   Batch Loss = 0.098265, Accuracy = 1.0\n",
      "PERFORMANCE ON TEST SET: Batch Loss = 0.09821675717830658, Accuracy = 1.0\n",
      "Training iter #1680000:   Batch Loss = 0.096035, Accuracy = 1.0\n",
      "PERFORMANCE ON TEST SET: Batch Loss = 0.09598776698112488, Accuracy = 1.0\n",
      "Training iter #1710000:   Batch Loss = 0.093798, Accuracy = 1.0\n",
      "PERFORMANCE ON TEST SET: Batch Loss = 0.09383809566497803, Accuracy = 1.0\n",
      "Training iter #1740000:   Batch Loss = 0.091742, Accuracy = 1.0\n",
      "PERFORMANCE ON TEST SET: Batch Loss = 0.09179709106683731, Accuracy = 1.0\n",
      "Training iter #1770000:   Batch Loss = 0.091728, Accuracy = 0.9993333220481873\n",
      "PERFORMANCE ON TEST SET: Batch Loss = 0.09006990492343903, Accuracy = 0.9996606707572937\n",
      "Training iter #1800000:   Batch Loss = 0.089663, Accuracy = 0.9993333220481873\n",
      "PERFORMANCE ON TEST SET: Batch Loss = 0.08802556991577148, Accuracy = 0.9996606707572937\n",
      "Training iter #1830000:   Batch Loss = 0.087312, Accuracy = 0.9993333220481873\n",
      "PERFORMANCE ON TEST SET: Batch Loss = 0.08613565564155579, Accuracy = 0.9996606707572937\n",
      "Training iter #1860000:   Batch Loss = 0.083963, Accuracy = 1.0\n",
      "PERFORMANCE ON TEST SET: Batch Loss = 0.08454130589962006, Accuracy = 0.9996606707572937\n",
      "Training iter #1890000:   Batch Loss = 0.082289, Accuracy = 1.0\n",
      "PERFORMANCE ON TEST SET: Batch Loss = 0.08275257796049118, Accuracy = 0.9996606707572937\n",
      "Training iter #1920000:   Batch Loss = 0.080595, Accuracy = 1.0\n",
      "PERFORMANCE ON TEST SET: Batch Loss = 0.08124841749668121, Accuracy = 0.9996606707572937\n",
      "Training iter #1950000:   Batch Loss = 0.078707, Accuracy = 1.0\n",
      "PERFORMANCE ON TEST SET: Batch Loss = 0.0793851912021637, Accuracy = 0.9996606707572937\n",
      "Training iter #1980000:   Batch Loss = 0.076932, Accuracy = 1.0\n",
      "PERFORMANCE ON TEST SET: Batch Loss = 0.0775008425116539, Accuracy = 0.9996606707572937\n",
      "Training iter #2010000:   Batch Loss = 0.075575, Accuracy = 1.0\n",
      "PERFORMANCE ON TEST SET: Batch Loss = 0.07588933408260345, Accuracy = 0.9996606707572937\n",
      "Training iter #2040000:   Batch Loss = 0.073956, Accuracy = 1.0\n",
      "PERFORMANCE ON TEST SET: Batch Loss = 0.07418444007635117, Accuracy = 0.9996606707572937\n",
      "Training iter #2070000:   Batch Loss = 0.072080, Accuracy = 1.0\n",
      "PERFORMANCE ON TEST SET: Batch Loss = 0.07230081409215927, Accuracy = 1.0\n",
      "Training iter #2100000:   Batch Loss = 0.070559, Accuracy = 1.0\n",
      "PERFORMANCE ON TEST SET: Batch Loss = 0.07069031894207001, Accuracy = 1.0\n",
      "Training iter #2130000:   Batch Loss = 0.069320, Accuracy = 1.0\n",
      "PERFORMANCE ON TEST SET: Batch Loss = 0.06905946135520935, Accuracy = 1.0\n",
      "Training iter #2160000:   Batch Loss = 0.410972, Accuracy = 0.8360000252723694\n",
      "PERFORMANCE ON TEST SET: Batch Loss = 0.35803765058517456, Accuracy = 0.8825924396514893\n",
      "Training iter #2190000:   Batch Loss = 0.136329, Accuracy = 0.9853333234786987\n",
      "PERFORMANCE ON TEST SET: Batch Loss = 0.0993700623512268, Accuracy = 0.9976246953010559\n",
      "Optimization Finished!\n",
      "FINAL RESULT: Batch Loss = 0.09114949405193329, Accuracy = 0.9993213415145874\n"
     ]
    }
   ],
   "source": [
    "# To keep track of training's performance\n",
    "test_losses = []\n",
    "test_accuracies = []\n",
    "train_losses = []\n",
    "train_accuracies = []\n",
    "\n",
    "# Launch the graph\n",
    "sess = tf.InteractiveSession(config=tf.ConfigProto(log_device_placement=True))\n",
    "init = tf.global_variables_initializer()\n",
    "sess.run(init)\n",
    "\n",
    "# Perform Training steps with \"batch_size\" amount of example data at each loop\n",
    "step = 1\n",
    "while step * batch_size <= training_iters:\n",
    "    batch_xs =         extract_batch_size(X_train, step, batch_size)\n",
    "    batch_ys = one_hot(extract_batch_size(y_train, step, batch_size))\n",
    "\n",
    "    # Fit training using batch data\n",
    "    _, loss, acc = sess.run(\n",
    "        [optimizer, cost, accuracy],\n",
    "        feed_dict={\n",
    "            x: batch_xs,\n",
    "            y: batch_ys\n",
    "        }\n",
    "    )\n",
    "    train_losses.append(loss)\n",
    "    train_accuracies.append(acc)\n",
    "\n",
    "    # Evaluate network only at some steps for faster training:\n",
    "    if (step*batch_size % display_iter == 0) or (step == 1) or (step * batch_size > training_iters):\n",
    "\n",
    "        # To not spam console, show training accuracy/loss in this \"if\"\n",
    "        print(\"Training iter #\" + str(step*batch_size) + \\\n",
    "              \":   Batch Loss = \" + \"{:.6f}\".format(loss) + \\\n",
    "              \", Accuracy = {}\".format(acc))\n",
    "\n",
    "        # Evaluation on the test set (no learning made here - just evaluation for diagnosis)\n",
    "        loss, acc = sess.run(\n",
    "            [cost, accuracy],\n",
    "            feed_dict={\n",
    "                x: X_test,\n",
    "                y: one_hot(y_test)\n",
    "            }\n",
    "        )\n",
    "        test_losses.append(loss)\n",
    "        test_accuracies.append(acc)\n",
    "        print(\"PERFORMANCE ON TEST SET: \" + \\\n",
    "              \"Batch Loss = {}\".format(loss) + \\\n",
    "              \", Accuracy = {}\".format(acc))\n",
    "\n",
    "    step += 1\n",
    "\n",
    "print(\"Optimization Finished!\")\n",
    "\n",
    "# Accuracy for test data\n",
    "\n",
    "one_hot_predictions, accuracy, final_loss = sess.run(\n",
    "    [pred, accuracy, cost],\n",
    "    feed_dict={\n",
    "        x: X_test,\n",
    "        y: one_hot(y_test)\n",
    "    }\n",
    ")\n",
    "\n",
    "test_losses.append(final_loss)\n",
    "test_accuracies.append(accuracy)\n",
    "\n",
    "print(\"FINAL RESULT: \" + \\\n",
    "      \"Batch Loss = {}\".format(final_loss) + \\\n",
    "      \", Accuracy = {}\".format(accuracy))"
   ]
  },
  {
   "cell_type": "code",
   "execution_count": 14,
   "metadata": {},
   "outputs": [
    {
     "data": {
      "image/png": "[encoded data removed]",
      "text/plain": [
       "<Figure size 864x864 with 1 Axes>"
      ]
     },
     "metadata": {
      "needs_background": "light"
     },
     "output_type": "display_data"
    }
   ],
   "source": [
    "# (Inline plots: )\n",
    "%matplotlib inline\n",
    "\n",
    "font = {\n",
    "    'family' : 'Bitstream Vera Sans',\n",
    "    'weight' : 'bold',\n",
    "    'size'   : 18\n",
    "}\n",
    "matplotlib.rc('font', **font)\n",
    "\n",
    "width = 12\n",
    "height = 12\n",
    "plt.figure(figsize=(width, height))\n",
    "\n",
    "indep_train_axis = np.array(range(batch_size, (len(train_losses)+1)*batch_size, batch_size))\n",
    "plt.plot(indep_train_axis, np.array(train_losses),     \"b--\", label=\"Train losses\")\n",
    "plt.plot(indep_train_axis, np.array(train_accuracies), \"g--\", label=\"Train accuracies\")\n",
    "\n",
    "indep_test_axis = np.append(\n",
    "    np.array(range(batch_size, len(test_losses)*display_iter, display_iter)[:-1]),\n",
    "    [training_iters]\n",
    ")\n",
    "plt.plot(indep_test_axis, np.array(test_losses),     \"b-\", label=\"Test losses\")\n",
    "plt.plot(indep_test_axis, np.array(test_accuracies), \"g-\", label=\"Test accuracies\")\n",
    "\n",
    "plt.title(\"Training session's progress over iterations\")\n",
    "plt.legend(loc='upper right', shadow=True)\n",
    "plt.ylabel('Training Progress (Loss or Accuracy values)')\n",
    "plt.xlabel('Training iteration')\n",
    "\n",
    "plt.show()"
   ]
  },
  {
   "cell_type": "code",
   "execution_count": 15,
   "metadata": {},
   "outputs": [
    {
     "name": "stdout",
     "output_type": "stream",
     "text": [
      "Testing Accuracy: 99.93213415145874%\n",
      "\n",
      "Precision: 99.93223209262364%\n",
      "Recall: 99.93213437393959%\n",
      "f1_score: 99.9321370554556%\n",
      "\n",
      "Confusion Matrix:\n",
      "[[1558    2]\n",
      " [   0 1387]]\n",
      "\n",
      "Confusion matrix (normalised to % of total test data):\n",
      "[[52.867325    0.06786563]\n",
      " [ 0.         47.06481   ]]\n",
      "Note: training and testing data is not equally distributed amongst classes, \n",
      "so it is normal that more than a 6th of the data is correctly classifier in the last category.\n"
     ]
    },
    {
     "data": {
      "image/png": "[encoded data removed]",
      "text/plain": [
       "<Figure size 864x864 with 2 Axes>"
      ]
     },
     "metadata": {
      "needs_background": "light"
     },
     "output_type": "display_data"
    }
   ],
   "source": [
    "# Results\n",
    "\n",
    "predictions = one_hot_predictions.argmax(1)\n",
    "\n",
    "print(\"Testing Accuracy: {}%\".format(100*accuracy))\n",
    "\n",
    "print(\"\")\n",
    "print(\"Precision: {}%\".format(100*metrics.precision_score(y_test, predictions, average=\"weighted\")))\n",
    "print(\"Recall: {}%\".format(100*metrics.recall_score(y_test, predictions, average=\"weighted\")))\n",
    "print(\"f1_score: {}%\".format(100*metrics.f1_score(y_test, predictions, average=\"weighted\")))\n",
    "\n",
    "print(\"\")\n",
    "print(\"Confusion Matrix:\")\n",
    "confusion_matrix = metrics.confusion_matrix(y_test, predictions)\n",
    "print(confusion_matrix)\n",
    "normalised_confusion_matrix = np.array(confusion_matrix, dtype=np.float32)/np.sum(confusion_matrix)*100\n",
    "\n",
    "print(\"\")\n",
    "print(\"Confusion matrix (normalised to % of total test data):\")\n",
    "print(normalised_confusion_matrix)\n",
    "print(\"Note: training and testing data is not equally distributed amongst classes, \")\n",
    "print(\"so it is normal that more than a 6th of the data is correctly classifier in the last category.\")\n",
    "\n",
    "# Plot Results:\n",
    "width = 12\n",
    "height = 12\n",
    "plt.figure(figsize=(width, height))\n",
    "plt.imshow(\n",
    "    normalised_confusion_matrix,\n",
    "    interpolation='nearest',\n",
    "    cmap=plt.cm.rainbow\n",
    ")\n",
    "plt.title(\"Confusion matrix \\n(normalised to % of total test data)\")\n",
    "plt.colorbar()\n",
    "tick_marks = np.arange(n_classes)\n",
    "plt.xticks(tick_marks, LABELS_NEW, rotation=90)\n",
    "plt.yticks(tick_marks, LABELS_NEW)\n",
    "plt.tight_layout()\n",
    "plt.ylabel('True label')\n",
    "plt.xlabel('Predicted label')\n",
    "plt.show()"
   ]
  },
  {
   "cell_type": "code",
   "execution_count": 16,
   "metadata": {},
   "outputs": [],
   "source": [
    "# Using pre-trained model on our data"
   ]
  },
  {
   "cell_type": "code",
   "execution_count": 17,
   "metadata": {},
   "outputs": [],
   "source": [
    "def define_data_type(data_type):\n",
    "    # Setup file names\n",
    "\n",
    "    '''\n",
    "    data_type={cis , real}\n",
    "\n",
    "    If data_type is real, data_real_subtype \n",
    "    data_real_subtype={smartphone_accelerometer , smartwatch_accelerometer , smartwatch_gyroscope}\n",
    "    '''\n",
    "    if data_type=='cis':\n",
    "        path_train_labels=data_dir+data_type+'-pd.data_labels/'+data_type.upper()+'-PD_Training_Data_IDs_Labels.csv'\n",
    "        path_train_data=data_dir+data_type+'-pd.training_data/'\n",
    "\n",
    "    if data_type=='real':\n",
    "        path_train_labels=data_dir+data_type+'-pd.data_labels/'+data_type.upper()+'-PD_Training_Data_IDs_Labels.csv'\n",
    "        path_train_data=data_dir+data_type+'-pd.training_data/'+data_real_subtype+'/'\n",
    "\n",
    "    # Display labels\n",
    "    df_train_label=pd.read_csv(path_train_labels)\n",
    "    return path_train_data, df_train_label"
   ]
  },
  {
   "cell_type": "code",
   "execution_count": 18,
   "metadata": {},
   "outputs": [],
   "source": [
    "# Data paths\n",
    "\n",
    "data_dir='/home/sjoshi/codes/python/BeatPD/data/BeatPD/'"
   ]
  },
  {
   "cell_type": "code",
   "execution_count": 21,
   "metadata": {},
   "outputs": [],
   "source": [
    "data_type='cis' \n",
    "#data_real_subtype='smartphone_accelerometer' \n",
    "#data_real_subtype='smartwatch_accelerometer'\n",
    "#data_real_subtype='smartwatch_gyroscope'\n"
   ]
  },
  {
   "cell_type": "code",
   "execution_count": 20,
   "metadata": {},
   "outputs": [
    {
     "data": {
      "text/plain": [
       "(7352, 128, 3)"
      ]
     },
     "execution_count": 20,
     "metadata": {},
     "output_type": "execute_result"
    }
   ],
   "source": [
    "X_train.shape\n",
    "\n",
    "\n",
    "# training_data_count = len(X_train)  # 7352 training series (with 50% overlap between each serie)\n",
    "\n",
    "# n_steps = len(X_train[0])  # 128 timesteps per series\n",
    "# n_input = len(X_train[0][0])  # 9 input parameters per timestep ---- Changed to 6!!![Sonal]"
   ]
  },
  {
   "cell_type": "code",
   "execution_count": null,
   "metadata": {},
   "outputs": [],
   "source": [
    "# Make a windowing fcn \n",
    "# Source:https://krbnite.github.io/Memory-Efficient-Windowing-of-Time-Series-Data-in-Python-Memory-Strides-in-NumPy/\n",
    "def make_windows(\n",
    "  arr,\n",
    "  win_size,\n",
    "  step_size,):\n",
    "  \"\"\"\n",
    "  arr: any 2D array whose columns are distinct variables and \n",
    "    rows are data records at some timestamp t\n",
    "  win_size: size of data window (given in data points)\n",
    "  step_size: size of window step (given in data point)\n",
    "  \n",
    "  Note that step_size is related to window overlap (overlap = win_size - step_size), in \n",
    "  case you think in overlaps.\n",
    "  \"\"\"\n",
    "  w_list = list()\n",
    "  n_records = arr.shape[0]\n",
    "  remainder = (n_records - win_size) % step_size \n",
    "  num_windows = 1 + int((n_records - win_size - remainder) / step_size)\n",
    "  for k in range(num_windows):\n",
    "    w_list.append(arr[k*step_size:win_size-1+k*step_size+1])\n",
    "  return np.array(w_list)"
   ]
  },
  {
   "cell_type": "code",
   "execution_count": 25,
   "metadata": {},
   "outputs": [],
   "source": [
    "frame_length=128\n",
    "frame_step=64\n",
    "path_train_data, df_train_label = define_data_type(data_type=data_type)\n",
    "idx=1\n",
    "df_train_data=pd.read_csv(path_train_data+df_train_label[\"measurement_id\"][idx]+'.csv')\n"
   ]
  },
  {
   "cell_type": "code",
   "execution_count": 42,
   "metadata": {},
   "outputs": [
    {
     "data": {
      "text/plain": [
       "tensorflow.python.framework.ops.Tensor"
      ]
     },
     "execution_count": 42,
     "metadata": {},
     "output_type": "execute_result"
    }
   ],
   "source": [
    "signal=tf.convert_to_tensor(df_train_data[['X','Y','Z']].values)"
   ]
  },
  {
   "cell_type": "code",
   "execution_count": 41,
   "metadata": {},
   "outputs": [
    {
     "ename": "AttributeError",
     "evalue": "module 'tensorflow' has no attribute 'signal'",
     "output_type": "error",
     "traceback": [
      "\u001b[0;31m---------------------------------------------------------------------------\u001b[0m",
      "\u001b[0;31mAttributeError\u001b[0m                            Traceback (most recent call last)",
      "\u001b[0;32m<ipython-input-41-38d0030c417f>\u001b[0m in \u001b[0;36m<module>\u001b[0;34m()\u001b[0m\n\u001b[1;32m      1\u001b[0m \u001b[0;34m\u001b[0m\u001b[0m\n\u001b[0;32m----> 2\u001b[0;31m \u001b[0mframed_signal\u001b[0m\u001b[0;34m=\u001b[0m\u001b[0mtf\u001b[0m\u001b[0;34m.\u001b[0m\u001b[0msignal\u001b[0m\u001b[0;34m.\u001b[0m\u001b[0mframe\u001b[0m\u001b[0;34m(\u001b[0m\u001b[0msignal\u001b[0m\u001b[0;34m,\u001b[0m\u001b[0mframe_length\u001b[0m\u001b[0;34m,\u001b[0m\u001b[0mframe_step\u001b[0m\u001b[0;34m,\u001b[0m\u001b[0mpad_end\u001b[0m\u001b[0;34m=\u001b[0m\u001b[0;32mTrue\u001b[0m\u001b[0;34m,\u001b[0m\u001b[0mpad_value\u001b[0m\u001b[0;34m=\u001b[0m\u001b[0;36m0\u001b[0m\u001b[0;34m,\u001b[0m\u001b[0maxis\u001b[0m\u001b[0;34m=\u001b[0m\u001b[0;34m-\u001b[0m\u001b[0;36m1\u001b[0m\u001b[0;34m,\u001b[0m\u001b[0mname\u001b[0m\u001b[0;34m=\u001b[0m\u001b[0;32mNone\u001b[0m\u001b[0;34m)\u001b[0m\u001b[0;34m\u001b[0m\u001b[0m\n\u001b[0m\u001b[1;32m      3\u001b[0m \u001b[0munframed_signal\u001b[0m\u001b[0;34m=\u001b[0m\u001b[0mtf\u001b[0m\u001b[0;34m.\u001b[0m\u001b[0msignal\u001b[0m\u001b[0;34m.\u001b[0m\u001b[0moverlap_and_add\u001b[0m\u001b[0;34m(\u001b[0m\u001b[0mframed_signal\u001b[0m\u001b[0;34m,\u001b[0m\u001b[0mframe_step\u001b[0m\u001b[0;34m,\u001b[0m\u001b[0mname\u001b[0m\u001b[0;34m=\u001b[0m\u001b[0;32mNone\u001b[0m\u001b[0;34m)\u001b[0m\u001b[0;34m\u001b[0m\u001b[0m\n",
      "\u001b[0;31mAttributeError\u001b[0m: module 'tensorflow' has no attribute 'signal'"
     ]
    }
   ],
   "source": [
    "framed_signal=tf.signal.frame(signal,frame_length,frame_step,pad_end=True,pad_value=0,axis=-1,name=None)\n",
    "unframed_signal=tf.signal.overlap_and_add(framed_signal,frame_step,name=None)"
   ]
  },
  {
   "cell_type": "code",
   "execution_count": 44,
   "metadata": {},
   "outputs": [
    {
     "ename": "AttributeError",
     "evalue": "module 'tensorflow' has no attribute 'version'",
     "output_type": "error",
     "traceback": [
      "\u001b[0;31m---------------------------------------------------------------------------\u001b[0m",
      "\u001b[0;31mAttributeError\u001b[0m                            Traceback (most recent call last)",
      "\u001b[0;32m<ipython-input-44-9c13661454f7>\u001b[0m in \u001b[0;36m<module>\u001b[0;34m()\u001b[0m\n\u001b[0;32m----> 1\u001b[0;31m \u001b[0mtf\u001b[0m\u001b[0;34m.\u001b[0m\u001b[0mversion\u001b[0m\u001b[0;34m(\u001b[0m\u001b[0;34m)\u001b[0m\u001b[0;34m\u001b[0m\u001b[0m\n\u001b[0m",
      "\u001b[0;31mAttributeError\u001b[0m: module 'tensorflow' has no attribute 'version'"
     ]
    }
   ],
   "source": [
    "tf.version()"
   ]
  },
  {
   "cell_type": "code",
   "execution_count": null,
   "metadata": {},
   "outputs": [],
   "source": []
  },
  {
   "cell_type": "code",
   "execution_count": null,
   "metadata": {},
   "outputs": [],
   "source": [
    "win_size=128\n",
    "step_size=64\n",
    "\n",
    "\n",
    "for idx in df_train_label.index:\n",
    " \n",
    "\n",
    "    path_train_data_1, df_train_label_1 = define_data_type(data_type=data_type)\n",
    "    data_real_subtype='smartwatch_gyroscope'\n",
    "    path_train_data_2, df_train_label_2 = define_data_type(data_type=data_type)\n",
    "\n",
    "\n",
    "    df_train_data_accel=pd.read_csv(path_train_data+df_train_label_1[\"measurement_id\"][idx]+'.csv')\n",
    "    df_train_data_gyros=pd.read_csv(path_train_data+df_train_label_2[\"measurement_id\"][idx]+'.csv')\n",
    "\n",
    "    df_train_data_accel = df_train_data_accel.drop(['t'], axis=1)\n",
    "    df_train_data_gyros = df_train_data.drop(['t'], axis=1)\n",
    "\n",
    "    result = pd.concat([df_train_data_accel,df_train_data_gyros],axis=1)\n",
    "\n",
    "    win_data = make_windows(result.values, win_size, step_size)\n",
    "    if idx == 0:\n",
    "        train_data=win_data\n",
    "    else:\n",
    "        train_data=np.concatenate((train_data, win_data))\n"
   ]
  },
  {
   "cell_type": "code",
   "execution_count": null,
   "metadata": {},
   "outputs": [],
   "source": [
    "X_train.shape"
   ]
  },
  {
   "cell_type": "code",
   "execution_count": null,
   "metadata": {},
   "outputs": [],
   "source": [
    "df_train_data_only = df_train_data.drop(['t'], axis=1)\n",
    "df_train_data_only.values.shape"
   ]
  },
  {
   "cell_type": "code",
   "execution_count": null,
   "metadata": {},
   "outputs": [],
   "source": [
    "# How to store mask?\n",
    "# "
   ]
  }
 ],
 "metadata": {
  "kernelspec": {
   "display_name": "Python 3",
   "language": "python",
   "name": "python3"
  },
  "language_info": {
   "codemirror_mode": {
    "name": "ipython",
    "version": 3
   },
   "file_extension": ".py",
   "mimetype": "text/x-python",
   "name": "python",
   "nbconvert_exporter": "python",
   "pygments_lexer": "ipython3",
   "version": "3.7.6"
  },
  "widgets": {
   "application/vnd.jupyter.widget-state+json": {
    "state": {},
    "version_major": 2,
    "version_minor": 0
   }
  }
 },
 "nbformat": 4,
 "nbformat_minor": 2
}
