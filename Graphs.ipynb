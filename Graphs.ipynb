{
 "cells": [
  {
   "cell_type": "code",
   "execution_count": null,
   "metadata": {},
   "outputs": [],
   "source": [
    "# Import required libraries\n",
    "\n",
    "%matplotlib inline\n",
    "import matplotlib.pyplot as plt\n",
    "import numpy as np\n",
    "import pandas as pd\n",
    "from IPython.display import HTML, display\n",
    "\n",
    "# Imports for the high pass signal\n",
    "from scipy.signal import butter, freqz, lfilter\n",
    "\n",
    "# KFold\n",
    "from sklearn.model_selection import KFold\n",
    "\n",
    "# Import required modules\n",
    "from sklearn.preprocessing import StandardScaler\n",
    "\n",
    "import os.path\n",
    "\n",
    "# To write WAV File\n",
    "from scipy.io.wavfile import write\n",
    "\n",
    "# To make derivative work on multiple CPUs\n",
    "from concurrent.futures import ProcessPoolExecutor\n",
    "from functools import partial\n",
    "\n",
    "import sys"
   ]
  },
  {
   "cell_type": "code",
   "execution_count": null,
   "metadata": {},
   "outputs": [],
   "source": [
    "%load_ext autoreload\n",
    "%autoreload 2"
   ]
  },
  {
   "cell_type": "code",
   "execution_count": null,
   "metadata": {},
   "outputs": [],
   "source": [
    "# # Importing basic functions from other notebooks \n",
    "# import import_ipynb\n",
    "# # from analyze_data_cleaned import *\n",
    "# from analyze_data_cleaned import compute_symptoms_occurences_dataframe, plot_symptoms_occurences\n",
    "# from analyze_data_cleaned import define_data_type\n",
    "# from analyze_data_cleaned import apply_mask\n",
    "# from analyze_data_cleaned import interesting_patients\n",
    "# from analyze_data_cleaned import plot_accelerometer\n",
    "# from analyze_data_cleaned import path_save_accelerometer_plots\n",
    "# from analyze_data_cleaned import write_wav\n",
    "# #from analyze_data_cleaned import remove_inactivity_pct_change\n"
   ]
  },
  {
   "cell_type": "code",
   "execution_count": null,
   "metadata": {},
   "outputs": [],
   "source": [
    "from create_graphs import *\n",
    "from transform_data import *"
   ]
  },
  {
   "cell_type": "markdown",
   "metadata": {},
   "source": [
    "# Which axis is more important? "
   ]
  },
  {
   "cell_type": "markdown",
   "metadata": {},
   "source": [
    "### CIS-PD "
   ]
  },
  {
   "cell_type": "code",
   "execution_count": null,
   "metadata": {},
   "outputs": [],
   "source": [
    "# Define the data type as we have two databases\n",
    "data_type = \"cis\"\n",
    "training_or_ancillary = 'training_data'\n",
    "data_dir = \"/home/sjoshi/codes/python/BeatPD/data/BeatPD/\"\n",
    "path_train_data, df_train_label = define_data_type(data_type,\n",
    "                                                   data_dir,\n",
    "                                                   training_or_ancillary,\n",
    "                                                   data_real_subtype)\n",
    "\n",
    "# NOTE: plot_axis_on_top only shows 10 first subject_id \n",
    "plot_axis_on_top(df_train_label, path_train_data, highpass=False)"
   ]
  },
  {
   "cell_type": "markdown",
   "metadata": {},
   "source": [
    "### Visualisation with inactivity removed, after applying a highpass filter"
   ]
  },
  {
   "cell_type": "code",
   "execution_count": null,
   "metadata": {},
   "outputs": [],
   "source": [
    "plot_axis_on_top(df_train_label, path_train_data, highpass=True)"
   ]
  },
  {
   "cell_type": "markdown",
   "metadata": {},
   "source": [
    "### Analyze the kfold distribution V1"
   ]
  },
  {
   "cell_type": "code",
   "execution_count": null,
   "metadata": {
    "scrolled": false
   },
   "outputs": [],
   "source": [
    "data_type = \"cis\"\n",
    "data_real_subtype=\"\"\n",
    "\n",
    "if data_type == \"cis\":\n",
    "    kfold_path = \"/home/sjoshi/codes/python/BeatPD/data/BeatPD/cis-pd.training_data.k_fold_v1/\"\n",
    "\n",
    "data_path = \"/home/sjoshi/codes/python/BeatPD/data/BeatPD/\"\n",
    "data_path = data_path + data_type + \"-pd.training_data/\" + data_real_subtype + \"/\"\n",
    "\n",
    "nb_folds = np.array([0,1,2,3,4])\n",
    "\n",
    "pids = np.array([1004,1006,1007,1019,1020,1023,1032,1034,1038,1039,1043,1044,1046,1048,1049,1051])\n",
    "\n",
    "for temp_pid in pids:\n",
    "    for nb in nb_folds:\n",
    "        for train_or_test in ['train','test']:\n",
    "            file_name = str(temp_pid) + '_'+train_or_test+'_kfold_' + str(nb) + '.csv'\n",
    "            print(file_name)\n",
    "            df_train_label = pd.read_csv(kfold_path+file_name)\n",
    "            # Compute the occurences of each symptoms for each patient\n",
    "\n",
    "            df_occurences, df_train_label_subject_id = compute_symptoms_occurences_dataframe(\n",
    "                df_train_label=df_train_label\n",
    "            )\n",
    "\n",
    "            # Plot the graphs\n",
    "            plot_symptoms_occurences(\n",
    "                df_occurences=df_occurences, df_train_label_subject_id=df_train_label_subject_id\n",
    "            )\n",
    "\n",
    "            #print(df_train_label.values[:,1:])\n",
    "            #temp_train_X = pd.read_csv(data_path+df_train_label[\"measurement_id\"][idx] + '.csv')"
   ]
  },
  {
   "cell_type": "code",
   "execution_count": null,
   "metadata": {},
   "outputs": [],
   "source": [
    "df_occurences, df_train_label_subject_id"
   ]
  },
  {
   "cell_type": "markdown",
   "metadata": {},
   "source": [
    "### Analyze the kfold distribution V2"
   ]
  },
  {
   "cell_type": "code",
   "execution_count": null,
   "metadata": {
    "scrolled": false
   },
   "outputs": [],
   "source": [
    "data_type = \"cis\"\n",
    "data_real_subtype=\"\"\n",
    "\n",
    "if data_type == \"cis\":\n",
    "    kfold_path = \"/home/sjoshi/codes/python/BeatPD/data/BeatPD/cis-pd.training_data.k_fold_v2/\"\n",
    "\n",
    "data_path = \"/home/sjoshi/codes/python/BeatPD/data/BeatPD/\"\n",
    "data_path = data_path + data_type + \"-pd.training_data/\" + data_real_subtype + \"/\"\n",
    "\n",
    "nb_folds = np.array([0,1,2,3,4])\n",
    "\n",
    "pids = np.array([1038])\n",
    "#pids = np.array([1004,1006,1007,1019,1020,1023,1032,1034,1038,1039,1043,1044,1046,1048,1049,1051])\n",
    "\n",
    "for temp_pid in pids:\n",
    "    for nb in nb_folds:\n",
    "        for train_or_test in ['train','test']:\n",
    "            file_name = str(temp_pid) + '_'+train_or_test+'_kfold_' + str(nb) + '.csv'\n",
    "            print(file_name)\n",
    "            df_train_label = pd.read_csv(kfold_path+file_name)\n",
    "            # Compute the occurences of each symptoms for each patient\n",
    "\n",
    "            df_occurences, df_train_label_subject_id = compute_symptoms_occurences_dataframe(\n",
    "                df_train_label=df_train_label\n",
    "            )\n",
    "\n",
    "            # Plot the graphs\n",
    "            plot_symptoms_occurences(\n",
    "                df_occurences=df_occurences, df_train_label_subject_id=df_train_label_subject_id\n",
    "            )\n",
    "\n",
    "            #print(df_train_label.values[:,1:])\n",
    "            #temp_train_X = pd.read_csv(data_path+df_train_label[\"measurement_id\"][idx] + '.csv')"
   ]
  },
  {
   "cell_type": "markdown",
   "metadata": {},
   "source": [
    "# CIS Database"
   ]
  },
  {
   "cell_type": "markdown",
   "metadata": {},
   "source": [
    "## Distribution of the length of the files"
   ]
  },
  {
   "cell_type": "code",
   "execution_count": null,
   "metadata": {},
   "outputs": [],
   "source": [
    "import numpy as np\n",
    "import matplotlib.mlab as mlab\n",
    "import matplotlib.pyplot as plt\n",
    "\n",
    "data_type = \"cis\"\n",
    "\n",
    "path_train_data, df_train_label = define_data_type(data_type,\n",
    "                                                   data_dir,\n",
    "                                                   training_or_ancillary,\n",
    "                                                   data_real_subtype)\n",
    "len_distribution = []\n",
    "for idx in df_train_label.index:\n",
    "        df_train_data = pd.read_csv(path_train_data + df_train_label[\"measurement_id\"][idx] + \".csv\")\n",
    "        len_distribution.append(len(df_train_data))\n",
    "\n",
    "\n",
    "num_bins = 10\n",
    "n, bins, patches = plt.hist(len_distribution, num_bins, facecolor='blue', alpha=0.5)\n",
    "plt.show()\n",
    "\n",
    "print('min : ', min(len_distribution))\n",
    "print('max : ', max(len_distribution))"
   ]
  },
  {
   "cell_type": "markdown",
   "metadata": {},
   "source": [
    "### Remove activity with pct_change and plot the accelerometer after"
   ]
  },
  {
   "cell_type": "code",
   "execution_count": null,
   "metadata": {
    "scrolled": true
   },
   "outputs": [],
   "source": [
    "data_type = \"cis\"\n",
    "data_dir = \"/home/sjoshi/codes/python/BeatPD/data/BeatPD/\"\n",
    "path_save_accelerometer_plots = \"/home/sjoshi/codes/python/BeatPD/code/accelerometer_plots/\"\n",
    "training_or_ancillary='training_data'\n",
    "\n",
    "path_train_data, df_train_label = define_data_type(data_type,\n",
    "                                                   data_dir,\n",
    "                                                   training_or_ancillary)\n",
    "\n",
    "list_measurement_id = [\"5cf68c8e-0b7a-4b73-ad4f-015c7a20fb5a\"]\n",
    "\n",
    "# Filter df_train_label according to the measurement_id we are most interested in\n",
    "df_train_label = interesting_patients(df_train_label=df_train_label,\n",
    "                                      list_measurement_id=list_measurement_id)\n",
    "\n",
    "plot_accelerometer(df_train_label=df_train_label,\n",
    "                   data_type=data_type,\n",
    "                   path_train_data=path_train_data,\n",
    "                   path_accelerometer_plots=path_save_accelerometer_plots)\n",
    "\n",
    "path_no_inactivity_data = remove_inactivity_pct_change(df_train_label,\n",
    "                                                       data_dir,\n",
    "                                                       path_train_data,\n",
    "                                                       data_type)\n",
    "\n",
    "# Plot the accelerometer data\n",
    "plot_accelerometer(df_train_label=df_train_label,\n",
    "                   data_type=data_type,\n",
    "                   path_train_data=path_train_data,\n",
    "                   path_accelerometer_plots=path_save_accelerometer_plots,\n",
    "                   path_inactivity=path_no_inactivity_data)"
   ]
  },
  {
   "cell_type": "markdown",
   "metadata": {},
   "source": [
    "### How to print accelerometers before/after and write a wav file for 1 file "
   ]
  },
  {
   "cell_type": "code",
   "execution_count": null,
   "metadata": {},
   "outputs": [],
   "source": [
    "data_type = \"cis\"\n",
    "path_save_accelerometer_plots = \"/home/sjoshi/codes/python/BeatPD/code/accelerometer_plots/\"\n",
    "path_train_data, df_train_label = define_data_type(data_type,\n",
    "                                                   data_dir,\n",
    "                                                   training_or_ancillary,\n",
    "                                                   data_real_subtype)\n",
    "\n",
    "list_measurement_id = ['db2e053a-0fb8-4206-891a-6f079fb14e3a']\n",
    "\n",
    "\n",
    "df_train_label = interesting_patients(df_train_label=df_train_label, list_measurement_id=list_measurement_id)\n",
    "\n",
    "# Plot the accelerometer data\n",
    "plot_accelerometer(data_type=data_type, path_accelerometer_plots=path_save_accelerometer_plots)\n",
    "\n",
    "remove_inactivity_highpass(\n",
    "    df_train_label,\n",
    "    energy_threshold=10,\n",
    "    duration_threshold=3000,\n",
    "    plot_frequency_response=True,\n",
    "    plot_accelerometer_after_removal=True,\n",
    "    mask_path='/home/sjoshi/codes/python/BeatPD/data/BeatPD/cis-pd.training_data.high_pass_mask/')\n",
    "\n",
    "\n",
    "# Apply filter \n",
    "for idx in df_train_label.index:\n",
    "    df_train_data = apply_mask(df_train_label[\"measurement_id\"][idx],\n",
    "                               mask_path='/home/sjoshi/codes/python/BeatPD/data/BeatPD/cis-pd.training_data.high_pass_mask/')\n",
    "    print('len : ', len(df_train_data))\n",
    "    great_title = get_plot_title(idx, df_train_label)\n",
    "    \n",
    "    print('AFTER REMOVAL')\n",
    "    #Plot accelerometer \n",
    "    print('len : ', len(df_train_data))\n",
    "    x_axis_data_type = \"t\" if data_type == \"real\" else \"Timestamp\"\n",
    "    df_train_data.plot(\n",
    "                    x=x_axis_data_type, legend=True, subplots=True, title=great_title\n",
    "                )\n",
    "    plt.show()\n",
    "    plt.clf()\n",
    "    plt.cla()\n",
    "    plt.close()"
   ]
  },
  {
   "cell_type": "markdown",
   "metadata": {},
   "source": [
    "# REAL-PD Database"
   ]
  },
  {
   "cell_type": "code",
   "execution_count": null,
   "metadata": {},
   "outputs": [],
   "source": [
    "data_type = \"real\"\n",
    "data_real_subtype = 'smartphone_accelerometer'\n",
    "training_or_ancillary='training_data' #training_data\n",
    "path_train_data, df_train_label = define_data_type(data_type,\n",
    "                                                   data_dir,\n",
    "                                                   training_or_ancillary,\n",
    "                                                   data_real_subtype)\n",
    "\n",
    "list_measurement_id=['b50d1b0c-2cd1-45f8-9097-0742e5cbbcc8']\n",
    "\n",
    "# Filter df_train_label according to the measurement_id we are most interested in\n",
    "df_train_label = interesting_patients(df_train_label=df_train_label, list_measurement_id=list_measurement_id)\n",
    "\n",
    "\n",
    "# Compute the occurences of each symptoms for each patient\n",
    "df_occurences, df_train_label_subject_id = compute_symptoms_occurences_dataframe(\n",
    "    df_train_label=df_train_label\n",
    ")\n",
    "\n",
    "# Plot the graphs\n",
    "plot_symptoms_occurences(\n",
    "    df_occurences=df_occurences, df_train_label_subject_id=df_train_label_subject_id\n",
    ")"
   ]
  },
  {
   "cell_type": "markdown",
   "metadata": {},
   "source": [
    "## Distribution of the length of the files"
   ]
  },
  {
   "cell_type": "code",
   "execution_count": null,
   "metadata": {},
   "outputs": [],
   "source": [
    "import numpy as np\n",
    "import matplotlib.mlab as mlab\n",
    "import matplotlib.pyplot as plt\n",
    "\n",
    "data_type = \"real\"\n",
    "training_or_ancillary='training_data'\n",
    "data_real_subtype='smartphone_accelerometer'\n",
    "\n",
    "for data_real_subtype in ['smartphone_accelerometer','smartwatch_accelerometer','smartwatch_gyroscope']:\n",
    "    path_train_data, df_train_label = define_data_type(data_type,\n",
    "                                                   data_dir,\n",
    "                                                   training_or_ancillary,\n",
    "                                                   data_real_subtype)\n",
    "    len_distribution = []\n",
    "\n",
    "    for idx in df_train_label.index:\n",
    "        try:\n",
    "            df_train_data = pd.read_csv(path_train_data + df_train_label[\"measurement_id\"][idx] + \".csv\")\n",
    "            len_distribution.append(len(df_train_data))\n",
    "        except FileNotFoundError:\n",
    "            continue\n",
    "    print(data_real_subtype)\n",
    "    num_bins = 10\n",
    "    n, bins, patches = plt.hist(len_distribution, num_bins, facecolor='blue', alpha=0.5)\n",
    "    plt.show()\n"
   ]
  },
  {
   "cell_type": "code",
   "execution_count": null,
   "metadata": {},
   "outputs": [],
   "source": []
  }
 ],
 "metadata": {
  "kernelspec": {
   "display_name": "BeatPD",
   "language": "python",
   "name": "beatpd"
  },
  "language_info": {
   "codemirror_mode": {
    "name": "ipython",
    "version": 3
   },
   "file_extension": ".py",
   "mimetype": "text/x-python",
   "name": "python",
   "nbconvert_exporter": "python",
   "pygments_lexer": "ipython3",
   "version": "3.5.6"
  }
 },
 "nbformat": 4,
 "nbformat_minor": 2
}
