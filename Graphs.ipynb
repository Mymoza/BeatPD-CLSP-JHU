{
 "cells": [
  {
   "cell_type": "code",
   "execution_count": 11,
   "metadata": {},
   "outputs": [],
   "source": [
    "# Import required libraries\n",
    "\n",
    "%matplotlib inline\n",
    "import matplotlib.pyplot as plt\n",
    "import numpy as np\n",
    "import pandas as pd\n",
    "from IPython.display import HTML, display\n",
    "\n",
    "# Imports for the high pass signal\n",
    "from scipy.signal import butter, freqz, lfilter\n",
    "\n",
    "# KFold\n",
    "from sklearn.model_selection import KFold\n",
    "\n",
    "# Import required modules\n",
    "from sklearn.preprocessing import StandardScaler\n",
    "\n",
    "import os.path\n",
    "\n",
    "# To write WAV File\n",
    "from scipy.io.wavfile import write\n",
    "\n",
    "# To make derivative work on multiple CPUs\n",
    "from concurrent.futures import ProcessPoolExecutor\n",
    "from functools import partial\n",
    "\n",
    "import sys\n",
    "\n",
    "# Confusion matrix\n",
    "from sklearn import metrics"
   ]
  },
  {
   "cell_type": "code",
   "execution_count": 5,
   "metadata": {},
   "outputs": [
    {
     "name": "stdout",
     "output_type": "stream",
     "text": [
      "The autoreload extension is already loaded. To reload it, use:\n",
      "  %reload_ext autoreload\n"
     ]
    }
   ],
   "source": [
    "%load_ext autoreload\n",
    "%autoreload 2"
   ]
  },
  {
   "cell_type": "code",
   "execution_count": 6,
   "metadata": {},
   "outputs": [],
   "source": [
    "# # Importing basic functions from other notebooks \n",
    "# import import_ipynb\n",
    "# # from analyze_data_cleaned import *\n",
    "# from analyze_data_cleaned import compute_symptoms_occurences_dataframe, plot_symptoms_occurences\n",
    "# from analyze_data_cleaned import define_data_type\n",
    "# from analyze_data_cleaned import apply_mask\n",
    "# from analyze_data_cleaned import interesting_patients\n",
    "# from analyze_data_cleaned import plot_accelerometer\n",
    "# from analyze_data_cleaned import path_save_accelerometer_plots\n",
    "# from analyze_data_cleaned import write_wav\n",
    "# #from analyze_data_cleaned import remove_inactivity_pct_change\n"
   ]
  },
  {
   "cell_type": "code",
   "execution_count": 7,
   "metadata": {},
   "outputs": [],
   "source": [
    "from create_graphs import *\n",
    "from transform_data import *"
   ]
  },
  {
   "cell_type": "markdown",
   "metadata": {},
   "source": [
    "# Which axis is more important? "
   ]
  },
  {
   "cell_type": "markdown",
   "metadata": {},
   "source": [
    "### CIS-PD "
   ]
  },
  {
   "cell_type": "code",
   "execution_count": null,
   "metadata": {},
   "outputs": [],
   "source": [
    "# Define the data type as we have two databases\n",
    "data_type = \"cis\"\n",
    "training_or_ancillary = 'training_data'\n",
    "data_dir = \"/home/sjoshi/codes/python/BeatPD/data/BeatPD/\"\n",
    "data_real_subtype=\"training_data\"\n",
    "path_train_data, df_train_label = define_data_type(data_type,\n",
    "                                                   data_dir,\n",
    "                                                   training_or_ancillary,\n",
    "                                                   data_real_subtype)\n",
    "\n",
    "# NOTE: plot_axis_on_top only shows 10 first subject_id \n",
    "plot_axis_on_top(df_train_label, path_train_data, highpass=False)"
   ]
  },
  {
   "cell_type": "markdown",
   "metadata": {},
   "source": [
    "### Visualisation with inactivity removed, after applying a highpass filter"
   ]
  },
  {
   "cell_type": "code",
   "execution_count": null,
   "metadata": {},
   "outputs": [],
   "source": [
    "plot_axis_on_top(df_train_label, path_train_data, highpass=True)"
   ]
  },
  {
   "cell_type": "markdown",
   "metadata": {},
   "source": [
    "### Analyze the kfold distribution V1"
   ]
  },
  {
   "cell_type": "code",
   "execution_count": 48,
   "metadata": {
    "scrolled": false
   },
   "outputs": [
    {
     "name": "stdout",
     "output_type": "stream",
     "text": [
      "1038_train_kfold_0.csv\n",
      "Nb subject_id :  1\n"
     ]
    },
    {
     "data": {
      "image/png": "[encoded data removed]",
      "text/plain": [
       "<Figure size 720x360 with 3 Axes>"
      ]
     },
     "metadata": {
      "needs_background": "light"
     },
     "output_type": "display_data"
    },
    {
     "name": "stdout",
     "output_type": "stream",
     "text": [
      "1038_test_kfold_0.csv\n",
      "Nb subject_id :  1\n"
     ]
    },
    {
     "data": {
      "image/png": "[encoded data removed]",
      "text/plain": [
       "<Figure size 720x360 with 3 Axes>"
      ]
     },
     "metadata": {
      "needs_background": "light"
     },
     "output_type": "display_data"
    }
   ],
   "source": [
    "data_type = \"cis\"\n",
    "data_real_subtype=\"\"\n",
    "\n",
    "if data_type == \"cis\":\n",
    "    kfold_path = \"/home/sjoshi/codes/python/BeatPD/data/BeatPD/cis-pd.training_data.k_fold_v1/\"\n",
    "\n",
    "data_path = \"/home/sjoshi/codes/python/BeatPD/data/BeatPD/\"\n",
    "data_path = data_path + data_type + \"-pd.training_data/\" + data_real_subtype + \"/\"\n",
    "\n",
    "nb_folds = np.array([0,1,2,3,4])\n",
    "nb_folds = np.array([0])\n",
    "\n",
    "pids = np.array([1004,1006,1007,1019,1020,1023,1032,1034,1038,1039,1043,1044,1046,1048,1049,1051])\n",
    "pids = np.array([1038])\n",
    "\n",
    "for temp_pid in pids:\n",
    "    for nb in nb_folds:\n",
    "        for train_or_test in ['train','test']:\n",
    "            file_name = str(temp_pid) + '_'+train_or_test+'_kfold_' + str(nb) + '.csv'\n",
    "            print(file_name)\n",
    "            df_train_label = pd.read_csv(kfold_path+file_name)\n",
    "            \n",
    "            # Compute the occurences of each symptoms for each patient\n",
    "            df_occurences, df_train_label_subject_id = compute_symptoms_occurences_dataframe(\n",
    "                df_train_label=df_train_label\n",
    "            )\n",
    "\n",
    "            # Plot the graphs\n",
    "            plot_symptoms_occurences(\n",
    "                df_occurences=df_occurences, df_train_label_subject_id=df_train_label_subject_id\n",
    "            )\n",
    "\n",
    "            #print(df_train_label.values[:,1:])\n",
    "            #temp_train_X = pd.read_csv(data_path+df_train_label[\"measurement_id\"][idx] + '.csv')"
   ]
  },
  {
   "cell_type": "markdown",
   "metadata": {},
   "source": [
    "## Histograms - ALL FOLDS - True Labels"
   ]
  },
  {
   "cell_type": "code",
   "execution_count": 41,
   "metadata": {
    "scrolled": false
   },
   "outputs": [
    {
     "name": "stdout",
     "output_type": "stream",
     "text": [
      "1038_train_kfold_0.csv\n",
      "1038_train_kfold_1.csv\n",
      "1038_train_kfold_2.csv\n",
      "1038_train_kfold_3.csv\n",
      "1038_train_kfold_4.csv\n",
      "Nb subject_id :  1\n"
     ]
    },
    {
     "data": {
      "image/png": "[encoded data removed]",
      "text/plain": [
       "<Figure size 720x360 with 3 Axes>"
      ]
     },
     "metadata": {
      "needs_background": "light"
     },
     "output_type": "display_data"
    },
    {
     "name": "stdout",
     "output_type": "stream",
     "text": [
      "1038_test_kfold_0.csv\n",
      "1038_test_kfold_1.csv\n",
      "1038_test_kfold_2.csv\n",
      "1038_test_kfold_3.csv\n",
      "1038_test_kfold_4.csv\n",
      "Nb subject_id :  1\n"
     ]
    },
    {
     "data": {
      "image/png": "[encoded data removed]",
      "text/plain": [
       "<Figure size 720x360 with 3 Axes>"
      ]
     },
     "metadata": {
      "needs_background": "light"
     },
     "output_type": "display_data"
    }
   ],
   "source": [
    "data_type = \"cis\"\n",
    "data_real_subtype=\"\"\n",
    "\n",
    "kfold_path = \"/home/sjoshi/codes/python/BeatPD/data/BeatPD/cis-pd.training_data.k_fold_v3/\"\n",
    "\n",
    "data_path = \"/home/sjoshi/codes/python/BeatPD/data/BeatPD/\"\n",
    "data_path = data_path + data_type + \"-pd.training_data/\" + data_real_subtype + \"/\"\n",
    "\n",
    "nb_folds = np.array([0,1,2,3,4])\n",
    "# nb_folds = np.array([0,1,2,3,4])\n",
    "\n",
    "pids = np.array([1004,1006,1007,1019,1020,1023,1032,1034,1038,1039,1043,1044,1046,1048,1049,1051])\n",
    "pids = np.array([1038])\n",
    "\n",
    "\n",
    "\n",
    "for temp_pid in pids:\n",
    "    for train_or_test in ['train','test']:\n",
    "        \n",
    "        glob_df_train_label = pd.DataFrame()\n",
    "        \n",
    "        for nb in nb_folds:\n",
    "            file_name = str(temp_pid) + '_'+train_or_test+'_kfold_' + str(nb) + '.csv'\n",
    "            print(file_name)\n",
    "            \n",
    "            df_train_label = pd.read_csv(kfold_path+file_name)\n",
    "            glob_df_train_label = glob_df_train_label.append(df_train_label)\n",
    "\n",
    "#         print(glob_df_train_label)\n",
    "        \n",
    "        # Compute the occurences of each symptoms for each patient\n",
    "        df_occurences, df_train_label_subject_id = compute_symptoms_occurences_dataframe(\n",
    "            df_train_label=glob_df_train_label\n",
    "        )\n",
    "\n",
    "        # Plot the graphs\n",
    "        plot_symptoms_occurences(\n",
    "            df_occurences=df_occurences, df_train_label_subject_id=df_train_label_subject_id\n",
    "        )\n"
   ]
  },
  {
   "cell_type": "code",
   "execution_count": 88,
   "metadata": {},
   "outputs": [
    {
     "data": {
      "text/plain": [
       "(    subject_id     symptom  symptom_value  occurence\n",
       " 0         1004      on_off            1.0          7\n",
       " 1         1004      on_off            3.0          5\n",
       " 2         1004      on_off            2.0          4\n",
       " 3         1004      on_off            0.0          1\n",
       " 4         1004  dyskinesia            1.0          7\n",
       " 5         1004  dyskinesia            3.0          5\n",
       " 6         1004  dyskinesia            2.0          4\n",
       " 7         1004  dyskinesia            0.0          1\n",
       " 8         1004      tremor            1.0          7\n",
       " 9         1004      tremor            3.0          5\n",
       " 10        1004      tremor            2.0          4\n",
       " 11        1004      tremor            0.0          1,\n",
       " <pandas.core.groupby.groupby.DataFrameGroupBy object at 0x7f4687701550>)"
      ]
     },
     "execution_count": 88,
     "metadata": {},
     "output_type": "execute_result"
    }
   ],
   "source": [
    "df_occurences, df_train_label_subject_id"
   ]
  },
  {
   "cell_type": "markdown",
   "metadata": {},
   "source": [
    "### Bar plots of the training labels "
   ]
  },
  {
   "cell_type": "code",
   "execution_count": null,
   "metadata": {},
   "outputs": [],
   "source": [
    "def plot_bar_labels(data_path, sFileName, sSubchallenge, plot_title):\n",
    "    \"\"\"\n",
    "    Plot a bar graph according to the csv file passed in parameters\n",
    "    \n",
    "    Keyword Arguments:\n",
    "    - TODO \n",
    "    \"\"\"\n",
    "    df_train_predictions = pd.read_csv(data_path+sFileName)\n",
    "\n",
    "    df_train_predictions_reorder = df_train_predictions[sSubchallenge].round().value_counts(sort=True)\n",
    "    order = [-1,0,1,2,3,4]\n",
    "    df_train_predictions_reorder = df_train_predictions_reorder.reindex(order)\n",
    "\n",
    "    ax = df_train_predictions_reorder.plot('bar')\n",
    "\n",
    "    plt.title(plot_title)\n",
    "    plt.xlabel(\"Label\",fontsize=15)\n",
    "    plt.ylabel(\"Frequency\",fontsize=15)\n",
    "\n",
    "    add_value_labels(ax)"
   ]
  },
  {
   "cell_type": "code",
   "execution_count": 131,
   "metadata": {},
   "outputs": [
    {
     "data": {
      "image/png": "[encoded data removed]",
      "text/plain": [
       "<Figure size 432x288 with 1 Axes>"
      ]
     },
     "metadata": {
      "needs_background": "light"
     },
     "output_type": "display_data"
    }
   ],
   "source": [
    "data_path = \"/home/sjoshi/codes/python/BeatPD/data/BeatPD/cis-pd.data_labels/\"\n",
    "sFileName = \"CIS-PD_Training_Data_IDs_Labels.csv\"\n",
    "sSubchallenge = \"on_off\"\n",
    "plot_title =\"CIS-PD Training Data Labels\"\n",
    "\n",
    "plot_bar_labels(data_path, sFileName, sSubchallenge, plot_title)"
   ]
  },
  {
   "cell_type": "markdown",
   "metadata": {},
   "source": [
    "### Histo of the predictions "
   ]
  },
  {
   "cell_type": "code",
   "execution_count": 51,
   "metadata": {
    "scrolled": false
   },
   "outputs": [
    {
     "name": "stdout",
     "output_type": "stream",
     "text": [
      "The autoreload extension is already loaded. To reload it, use:\n",
      "  %reload_ext autoreload\n",
      "----- 1004----- \n",
      "Using SVR\n",
      "Training R2:  0.991391534985327\n",
      "Testing R2:  -0.18463733564757234\n",
      "TRAIN NEW R2 SCORE :  0.9913915349853268\n",
      "TEST NEW R2 SCORE :  -0.18463733564757234\n",
      "Training MSE :  0.009335055032288575\n",
      "Testing MSE :  1.6604611962262372\n",
      "----- 1006----- \n",
      "Using SVR\n",
      "Training R2:  0.9467308037781805\n",
      "Testing R2:  -0.06528368172508481\n",
      "TRAIN NEW R2 SCORE :  0.9467308037781805\n",
      "TEST NEW R2 SCORE :  -0.06528368172508481\n",
      "Training MSE :  0.009987974291591149\n",
      "Testing MSE :  0.49976271488337315\n",
      "----- 1007----- \n",
      "Using SVR\n",
      "Training R2:  0.9932959607515677\n",
      "Testing R2:  -0.0051404135536674556\n",
      "TRAIN NEW R2 SCORE :  0.9932959607515677\n",
      "TEST NEW R2 SCORE :  -0.0051404135536674556\n",
      "Training MSE :  0.00969213889217901\n",
      "Testing MSE :  1.4837345101272361\n",
      "----- 1019----- \n",
      "Using SVR\n",
      "Training R2:  0.9953148671117785\n",
      "Testing R2:  0.1656537157227541\n",
      "TRAIN NEW R2 SCORE :  0.9953148671117785\n",
      "TEST NEW R2 SCORE :  0.1656537157227541\n",
      "Training MSE :  0.010005149090275372\n",
      "Testing MSE :  1.702066419925582\n",
      "----- 1020----- \n",
      "Using SVR\n",
      "Training R2:  0.98893245319972\n",
      "Testing R2:  0.03384593494970978\n",
      "TRAIN NEW R2 SCORE :  0.98893245319972\n",
      "TEST NEW R2 SCORE :  0.03384593494970978\n",
      "Training MSE :  0.009172866415344243\n",
      "Testing MSE :  0.9448883301265183\n",
      "----- 1023----- \n",
      "Using SVR\n",
      "Training R2:  0.9918289081660403\n",
      "Testing R2:  0.034385705551026935\n",
      "TRAIN NEW R2 SCORE :  0.9918289081660403\n",
      "TEST NEW R2 SCORE :  0.034385705551026935\n",
      "Training MSE :  0.009590460552291792\n",
      "Testing MSE :  1.2053414543555758\n",
      "----- 1032----- \n",
      "Using SVR\n",
      "Training R2:  0.9873271864676867\n",
      "Testing R2:  -0.006105944955828724\n",
      "TRAIN NEW R2 SCORE :  0.9873271864676867\n",
      "TEST NEW R2 SCORE :  -0.006105944955828724\n",
      "Training MSE :  0.009514612758125226\n",
      "Testing MSE :  0.8834780735484701\n",
      "----- 1034----- \n",
      "Using SVR\n",
      "Training R2:  0.9919744241590612\n",
      "Testing R2:  0.01019340297067961\n",
      "TRAIN NEW R2 SCORE :  0.9919744241590613\n",
      "TEST NEW R2 SCORE :  0.01019340297067961\n",
      "Training MSE :  0.009488014105287487\n",
      "Testing MSE :  1.3461369719598757\n",
      "----- 1038----- \n",
      "Using SVR\n",
      "Training R2:  0.9960922153612738\n",
      "Testing R2:  -0.03941356952979769\n",
      "TRAIN NEW R2 SCORE :  0.9960922153612738\n",
      "TEST NEW R2 SCORE :  -0.03941356952979769\n",
      "Training MSE :  0.009811886980311489\n",
      "Testing MSE :  2.6567163491605323\n",
      "----- 1039----- \n",
      "Using SVR\n",
      "Training R2:  0.991355823899108\n",
      "Testing R2:  0.020182860388985535\n",
      "TRAIN NEW R2 SCORE :  0.991355823899108\n",
      "TEST NEW R2 SCORE :  0.020182860388985535\n",
      "Training MSE :  0.009499187735614026\n",
      "Testing MSE :  1.2116644770457252\n",
      "----- 1043----- \n",
      "Using SVR\n",
      "Training R2:  0.9928708248066775\n",
      "Testing R2:  0.0414571453636019\n",
      "TRAIN NEW R2 SCORE :  0.9928708248066775\n",
      "TEST NEW R2 SCORE :  0.0414571453636019\n",
      "Training MSE :  0.009992251950960766\n",
      "Testing MSE :  1.9407534340786334\n",
      "----- 1044----- \n",
      "Using SVR\n",
      "Training R2:  0.9592966226649712\n",
      "Testing R2:  0.029515990764977684\n",
      "TRAIN NEW R2 SCORE :  0.9592966226649712\n",
      "TEST NEW R2 SCORE :  0.029515990764977684\n",
      "Training MSE :  0.00992215292377435\n",
      "Testing MSE :  0.2329161622164054\n",
      "----- 1048----- \n",
      "Using SVR\n",
      "Training R2:  0.9850290301590753\n",
      "Testing R2:  0.12637139011496878\n",
      "TRAIN NEW R2 SCORE :  0.9850290301590753\n",
      "TEST NEW R2 SCORE :  0.12637139011496878\n",
      "Training MSE :  0.009087714285504813\n",
      "Testing MSE :  0.7229276746798633\n",
      "----- 1049----- \n",
      "Using SVR\n",
      "Training R2:  0.9885630685550347\n",
      "Testing R2:  -0.10302228686643966\n",
      "TRAIN NEW R2 SCORE :  0.9885630685550346\n",
      "TEST NEW R2 SCORE :  -0.10302228686643966\n",
      "Training MSE :  0.00963874202832533\n",
      "Testing MSE :  1.0076993731866242\n",
      "----- 1051----- \n",
      "Using SVR\n",
      "Training R2:  0.9918625797105809\n",
      "Testing R2:  -0.07650338640469356\n",
      "TRAIN NEW R2 SCORE :  0.991862579710581\n",
      "TEST NEW R2 SCORE :  -0.07650338640469356\n",
      "Training MSE :  0.009576120039525838\n",
      "Testing MSE :  1.3036944363954277\n",
      "----- GLOBAL -----\n",
      "lScoreTrai :  [0.991391534985327, 0.9467308037781805, 0.9932959607515677, 0.9953148671117785, 0.98893245319972, 0.9918289081660403, 0.9873271864676867, 0.9919744241590612, 0.9960922153612738, 0.991355823899108, 0.9928708248066775, 0.9592966226649712, 0.9850290301590753, 0.9885630685550347, 0.9918625797105809]\n",
      "lScoreTest :  [-0.18463733564757234, -0.06528368172508481, -0.0051404135536674556, 0.1656537157227541, 0.03384593494970978, 0.034385705551026935, -0.006105944955828724, 0.01019340297067961, -0.03941356952979769, 0.020182860388985535, 0.0414571453636019, 0.029515990764977684, 0.12637139011496878, -0.10302228686643966, -0.07650338640469356]\n",
      "PCAComponents: 400\n",
      "Global training R2: 0.986124420251739\n",
      "Global testing R2: -0.0012333648570919933\n",
      "AAAAAAAAAAAAAAAAAAAASSSSSSSSS\n",
      "[1.90344259 1.41785535 2.14266907 1.77610466 1.9952072  2.00241378\n",
      " 1.8881097  2.0002653  2.13925921 1.89356189 2.19949592 2.28264998\n",
      " 2.16062247 1.93586377 1.8700535  2.8469927  1.96161435 2.3592014\n",
      " 2.08449608]\n",
      "[2 0 1 1 1 3 3 4 2 3 3 1 1 1 2 0 0 0 2]\n",
      "EQUAL? :  [ True False False False False False False False  True False False False\n",
      " False False  True False False False  True]\n"
     ]
    },
    {
     "data": {
      "image/png": "[encoded data removed]",
      "text/plain": [
       "<Figure size 400x400 with 1 Axes>"
      ]
     },
     "metadata": {
      "needs_background": "light"
     },
     "output_type": "display_data"
    },
    {
     "name": "stdout",
     "output_type": "stream",
     "text": [
      "----- 1004----- \n",
      "Using SVR\n",
      "Training R2:  0.9920853049080931\n",
      "Testing R2:  -0.6943214611931345\n",
      "TRAIN NEW R2 SCORE :  0.9920853049080931\n",
      "TEST NEW R2 SCORE :  -0.6943214611931345\n",
      "Training MSE :  0.009471407901699693\n",
      "Testing MSE :  1.7822620214626745\n",
      "----- 1006----- \n",
      "Using SVR\n",
      "Training R2:  0.9646459483239584\n",
      "Testing R2:  -0.038446529964756504\n",
      "TRAIN NEW R2 SCORE :  0.9646459483239584\n",
      "TEST NEW R2 SCORE :  -0.038446529964756504\n",
      "Training MSE :  0.010005070509985598\n",
      "Testing MSE :  0.19470872436839184\n",
      "----- 1007----- \n",
      "Using SVR\n",
      "Training R2:  0.9932235057954125\n",
      "Testing R2:  0.10017222487392362\n",
      "TRAIN NEW R2 SCORE :  0.9932235057954125\n",
      "TEST NEW R2 SCORE :  0.10017222487392363\n",
      "Training MSE :  0.009774952879906667\n",
      "Testing MSE :  1.3394120071073101\n",
      "----- 1019----- \n",
      "Using SVR\n",
      "Training R2:  0.9952569475548563\n",
      "Testing R2:  -0.06961186738495795\n",
      "TRAIN NEW R2 SCORE :  0.9952569475548564\n",
      "TEST NEW R2 SCORE :  -0.06961186738495795\n",
      "Training MSE :  0.00988135926071594\n",
      "Testing MSE :  2.403325430420523\n",
      "----- 1020----- \n",
      "Using SVR\n",
      "Training R2:  0.9886845849307391\n",
      "Testing R2:  0.12232138861036322\n",
      "TRAIN NEW R2 SCORE :  0.9886845849307391\n",
      "TEST NEW R2 SCORE :  0.12232138861036324\n",
      "Training MSE :  0.009347168676984458\n",
      "Testing MSE :  0.8727416692005703\n",
      "----- 1023----- \n",
      "Using SVR\n",
      "Training R2:  0.9922149853488303\n",
      "Testing R2:  -0.027709989117625344\n",
      "TRAIN NEW R2 SCORE :  0.9922149853488302\n",
      "TEST NEW R2 SCORE :  -0.027709989117625344\n",
      "Training MSE :  0.00929766418160535\n",
      "Testing MSE :  1.2060728797909321\n",
      "----- 1032----- \n",
      "Using SVR\n",
      "Training R2:  0.9871167411177508\n",
      "Testing R2:  0.11639225295327682\n",
      "TRAIN NEW R2 SCORE :  0.9871167411177508\n",
      "TEST NEW R2 SCORE :  0.11639225295327682\n",
      "Training MSE :  0.009607230195048685\n",
      "Testing MSE :  0.7951824283137785\n",
      "----- 1034----- \n",
      "Using SVR\n",
      "Training R2:  0.9921817682990823\n",
      "Testing R2:  0.048816009381880576\n",
      "TRAIN NEW R2 SCORE :  0.9921817682990823\n",
      "TEST NEW R2 SCORE :  0.048816009381880576\n",
      "Training MSE :  0.009826234569415134\n",
      "Testing MSE :  1.0552197395919762\n",
      "----- 1038----- \n",
      "Using SVR\n",
      "Training R2:  0.9961286811118758\n",
      "Testing R2:  0.053772551674261426\n",
      "TRAIN NEW R2 SCORE :  0.9961286811118757\n",
      "TEST NEW R2 SCORE :  0.053772551674261426\n",
      "Training MSE :  0.009758140950547068\n",
      "Testing MSE :  2.388097845774483\n",
      "----- 1039----- \n",
      "Using SVR\n",
      "Training R2:  0.9910395650218102\n",
      "Testing R2:  0.02105820254324342\n",
      "TRAIN NEW R2 SCORE :  0.9910395650218102\n",
      "TEST NEW R2 SCORE :  0.02105820254324342\n",
      "Training MSE :  0.009740007179610188\n",
      "Testing MSE :  1.2569129251296631\n",
      "----- 1043----- \n",
      "Using SVR\n",
      "Training R2:  0.9938523517501016\n",
      "Testing R2:  -0.17226622057777585\n",
      "TRAIN NEW R2 SCORE :  0.9938523517501016\n",
      "TEST NEW R2 SCORE :  -0.17226622057777585\n",
      "Training MSE :  0.009967193020545384\n",
      "Testing MSE :  1.685132692080553\n",
      "----- 1044----- \n",
      "Using SVR\n",
      "Training R2:  0.9589835711927174\n",
      "Testing R2:  -0.08587255216521683\n",
      "TRAIN NEW R2 SCORE :  0.9589835711927174\n",
      "TEST NEW R2 SCORE :  -0.08587255216521683\n",
      "Training MSE :  0.00999846464000242\n",
      "Testing MSE :  0.26060941251965203\n",
      "----- 1048----- \n",
      "Using SVR\n",
      "Training R2:  0.9847899351840115\n",
      "Testing R2:  0.029814548374796246\n",
      "TRAIN NEW R2 SCORE :  0.9847899351840115\n",
      "TEST NEW R2 SCORE :  0.029814548374796246\n",
      "Training MSE :  0.009232850294966231\n",
      "Testing MSE :  0.8028284612198562\n",
      "----- 1049----- \n",
      "Using SVR\n",
      "Training R2:  0.9886287635909016\n",
      "Testing R2:  0.035993661858072734\n",
      "TRAIN NEW R2 SCORE :  0.9886287635909016\n",
      "TEST NEW R2 SCORE :  0.035993661858072734\n",
      "Training MSE :  0.009583375997120995\n",
      "Testing MSE :  0.8806971484259581\n",
      "----- 1051----- \n",
      "Using SVR\n",
      "Training R2:  0.9918534303507982\n",
      "Testing R2:  -0.04740368077225798\n",
      "TRAIN NEW R2 SCORE :  0.9918534303507983\n",
      "TEST NEW R2 SCORE :  -0.04740368077225798\n",
      "Training MSE :  0.009586887010439001\n",
      "Testing MSE :  1.268453372769559\n",
      "----- GLOBAL -----\n",
      "lScoreTrai :  [0.9920853049080931, 0.9646459483239584, 0.9932235057954125, 0.9952569475548563, 0.9886845849307391, 0.9922149853488303, 0.9871167411177508, 0.9921817682990823, 0.9961286811118758, 0.9910395650218102, 0.9938523517501016, 0.9589835711927174, 0.9847899351840115, 0.9886287635909016, 0.9918534303507982]\n",
      "lScoreTest :  [-0.6943214611931345, -0.038446529964756504, 0.10017222487392362, -0.06961186738495795, 0.12232138861036322, -0.027709989117625344, 0.11639225295327682, 0.048816009381880576, 0.053772551674261426, 0.02105820254324342, -0.17226622057777585, -0.08587255216521683, 0.029814548374796246, 0.035993661858072734, -0.04740368077225798]\n",
      "PCAComponents: 400\n",
      "Global training R2: 0.9873790722987291\n",
      "Global testing R2: -0.040486097393727126\n",
      "AAAAAAAAAAAAAAAAAAAASSSSSSSSS\n",
      "[1.88240413 2.30180142 2.44909466 1.80426727 2.18697311 2.0724973\n",
      " 1.95153824 2.09997069 2.12929051 1.7117562  1.99776449 2.38465591\n",
      " 2.36695042 1.8829577  2.38891228 1.8862926  2.27551409]\n",
      "[2 3 2 3 2 1 1 1 2 1 3 1 0 1 0 0 0]\n",
      "EQUAL? :  [ True False  True False  True False False False  True False False False\n",
      " False False False False False]\n"
     ]
    },
    {
     "data": {
      "image/png": "[encoded data removed]",
      "text/plain": [
       "<Figure size 400x400 with 1 Axes>"
      ]
     },
     "metadata": {
      "needs_background": "light"
     },
     "output_type": "display_data"
    },
    {
     "name": "stdout",
     "output_type": "stream",
     "text": [
      "----- 1004----- \n",
      "Using SVR\n",
      "Training R2:  0.9917161966406989\n",
      "Testing R2:  -0.041876232959803694\n",
      "TRAIN NEW R2 SCORE :  0.9917161966406989\n",
      "TEST NEW R2 SCORE :  -0.041876232959803694\n",
      "Training MSE :  0.00980516302124812\n",
      "Testing MSE :  1.135482300764786\n",
      "----- 1006----- \n",
      "Using SVR\n",
      "Training R2:  0.9638772323368164\n",
      "Testing R2:  0.06278924904515515\n",
      "TRAIN NEW R2 SCORE :  0.9638772323368163\n",
      "TEST NEW R2 SCORE :  0.06278924904515515\n",
      "Training MSE :  0.009993965720147492\n",
      "Testing MSE :  0.1912675001948663\n",
      "----- 1007----- \n",
      "Using SVR\n",
      "Training R2:  0.9932162070014011\n",
      "Testing R2:  -0.03663864170422437\n",
      "TRAIN NEW R2 SCORE :  0.9932162070014011\n",
      "TEST NEW R2 SCORE :  -0.03663864170422437\n",
      "Training MSE :  0.009785481239466548\n",
      "Testing MSE :  1.5430577740673852\n",
      "----- 1019----- \n",
      "Using SVR\n",
      "Training R2:  0.9951994782840196\n",
      "Testing R2:  0.027590096918350012\n",
      "TRAIN NEW R2 SCORE :  0.9951994782840196\n",
      "TEST NEW R2 SCORE :  0.027590096918350016\n",
      "Training MSE :  0.010001086908292598\n",
      "Testing MSE :  2.1849210168007445\n",
      "----- 1020----- \n",
      "Using SVR\n",
      "Training R2:  0.9884163460567098\n",
      "Testing R2:  -0.09502744321248979\n",
      "TRAIN NEW R2 SCORE :  0.9884163460567098\n",
      "TEST NEW R2 SCORE :  -0.09502744321248979\n",
      "Training MSE :  0.009568749059668534\n",
      "Testing MSE :  1.0888679138444193\n",
      "----- 1023----- \n",
      "Using SVR\n",
      "Training R2:  0.9918180566035705\n",
      "Testing R2:  -0.09200675554459803\n",
      "TRAIN NEW R2 SCORE :  0.9918180566035705\n",
      "TEST NEW R2 SCORE :  -0.09200675554459803\n",
      "Training MSE :  0.009659789227895298\n",
      "Testing MSE :  1.3421035408280548\n",
      "----- 1032----- \n",
      "Using SVR\n",
      "Training R2:  0.9876421938580916\n",
      "Testing R2:  -0.21071183830276177\n",
      "TRAIN NEW R2 SCORE :  0.9876421938580915\n",
      "TEST NEW R2 SCORE :  -0.21071183830276174\n",
      "Training MSE :  0.009431987847558956\n",
      "Testing MSE :  1.0164000617850344\n",
      "----- 1034----- \n",
      "Using SVR\n",
      "Training R2:  0.9920391961950581\n",
      "Testing R2:  0.10454468170050812\n",
      "TRAIN NEW R2 SCORE :  0.992039196195058\n",
      "TEST NEW R2 SCORE :  0.10454468170050812\n",
      "Training MSE :  0.010005424313437806\n",
      "Testing MSE :  0.9933957437384988\n",
      "----- 1038----- \n",
      "Using SVR\n",
      "Training R2:  0.9960769687312315\n",
      "Testing R2:  -0.2106546009536132\n",
      "TRAIN NEW R2 SCORE :  0.9960769687312315\n",
      "TEST NEW R2 SCORE :  -0.2106546009536132\n",
      "Training MSE :  0.00985356231692815\n",
      "Testing MSE :  3.0997367058324516\n",
      "----- 1039----- \n",
      "Using SVR\n",
      "Training R2:  0.9913389033104846\n",
      "Testing R2:  0.042646926225302195\n",
      "TRAIN NEW R2 SCORE :  0.9913389033104847\n",
      "TEST NEW R2 SCORE :  0.042646926225302195\n",
      "Training MSE :  0.00940981390518627\n",
      "Testing MSE :  1.2462584392333347\n",
      "----- 1043----- \n",
      "Using SVR\n",
      "Training R2:  0.9938934127511264\n",
      "Testing R2:  0.12170776436382835\n",
      "TRAIN NEW R2 SCORE :  0.9938934127511264\n",
      "TEST NEW R2 SCORE :  0.12170776436382835\n",
      "Training MSE :  0.00995147551668297\n",
      "Testing MSE :  1.2188545310869323\n",
      "----- 1044----- \n",
      "Using SVR\n",
      "Training R2:  0.9587702577841858\n",
      "Testing R2:  0.05849349620190869\n",
      "TRAIN NEW R2 SCORE :  0.9587702577841858\n",
      "TEST NEW R2 SCORE :  0.05849349620190869\n",
      "Training MSE :  0.010001031405500705\n",
      "Testing MSE :  0.230573021338308\n",
      "----- 1048----- \n",
      "Using SVR\n",
      "Training R2:  0.9860555471611244\n",
      "Testing R2:  -0.0856009168478582\n",
      "TRAIN NEW R2 SCORE :  0.9860555471611244\n",
      "TEST NEW R2 SCORE :  -0.0856009168478582\n",
      "Training MSE :  0.009043353164037135\n",
      "Testing MSE :  0.7237339445652389\n",
      "----- 1049----- \n",
      "Using SVR\n",
      "Training R2:  0.9886388953079897\n",
      "Testing R2:  0.02355478065223693\n",
      "TRAIN NEW R2 SCORE :  0.9886388953079897\n",
      "TEST NEW R2 SCORE :  0.02355478065223693\n",
      "Training MSE :  0.009798784733180039\n",
      "Testing MSE :  0.8176461698344591\n",
      "----- 1051----- \n",
      "Using SVR\n",
      "Training R2:  0.9916784962636618\n",
      "Testing R2:  0.08192981562381418\n",
      "TRAIN NEW R2 SCORE :  0.9916784962636617\n",
      "TEST NEW R2 SCORE :  0.08192981562381418\n",
      "Training MSE :  0.009792749526794861\n",
      "Testing MSE :  1.111824641433882\n",
      "----- GLOBAL -----\n",
      "lScoreTrai :  [0.9917161966406989, 0.9638772323368164, 0.9932162070014011, 0.9951994782840196, 0.9884163460567098, 0.9918180566035705, 0.9876421938580916, 0.9920391961950581, 0.9960769687312315, 0.9913389033104846, 0.9938934127511264, 0.9587702577841858, 0.9860555471611244, 0.9886388953079897, 0.9916784962636618]\n",
      "lScoreTest :  [-0.041876232959803694, 0.06278924904515515, -0.03663864170422437, 0.027590096918350012, -0.09502744321248979, -0.09200675554459803, -0.21071183830276177, 0.10454468170050812, -0.2106546009536132, 0.042646926225302195, 0.12170776436382835, 0.05849349620190869, -0.0856009168478582, 0.02355478065223693, 0.08192981562381418]\n",
      "PCAComponents: 400\n",
      "Global training R2: 0.9873584925524113\n",
      "Global testing R2: -0.01661730791961636\n",
      "AAAAAAAAAAAAAAAAAAAASSSSSSSSS\n",
      "[1.27673365 1.63279601 1.53337776 1.32978939 1.02742457 1.700905\n",
      " 1.19785952 1.28637721 1.4487136  1.42083931 1.65257037 1.42142838\n",
      " 1.37192798 1.42168843 0.57898162 1.55173379]\n",
      "[1 0 2 2 0 1 1 0 3 0 1 1 2 3 1 3]\n",
      "EQUAL? :  [ True False  True False False False  True False False False False  True\n",
      " False False  True False]\n"
     ]
    },
    {
     "data": {
      "image/png": "[encoded data removed]",
      "text/plain": [
       "<Figure size 400x400 with 1 Axes>"
      ]
     },
     "metadata": {
      "needs_background": "light"
     },
     "output_type": "display_data"
    },
    {
     "name": "stdout",
     "output_type": "stream",
     "text": [
      "----- 1004----- \n",
      "Using SVR\n",
      "Training R2:  0.9916818590201234\n",
      "Testing R2:  -0.5728952712954081\n",
      "TRAIN NEW R2 SCORE :  0.9916818590201234\n",
      "TEST NEW R2 SCORE :  -0.5728952712954081\n",
      "Training MSE :  0.00984580690822864\n",
      "Testing MSE :  1.714210080825855\n",
      "----- 1006----- \n",
      "Using SVR\n",
      "Training R2:  0.9638858051205853\n",
      "Testing R2:  0.19948811393154753\n",
      "TRAIN NEW R2 SCORE :  0.9638858051205852\n",
      "TEST NEW R2 SCORE :  0.19948811393154753\n",
      "Training MSE :  0.009991593916638104\n",
      "Testing MSE :  0.1633697726670311\n",
      "----- 1007----- \n",
      "Using SVR\n",
      "Training R2:  0.9933652004599605\n",
      "Testing R2:  -0.0010797570481386742\n",
      "TRAIN NEW R2 SCORE :  0.9933652004599604\n",
      "TEST NEW R2 SCORE :  -0.0010797570481386742\n",
      "Training MSE :  0.009566467787487432\n",
      "Testing MSE :  1.4945045232493865\n",
      "----- 1019----- \n",
      "Using SVR\n",
      "Training R2:  0.9952191495379817\n",
      "Testing R2:  0.033294954869107274\n",
      "TRAIN NEW R2 SCORE :  0.9952191495379819\n",
      "TEST NEW R2 SCORE :  0.033294954869107274\n",
      "Training MSE :  0.00996010512920454\n",
      "Testing MSE :  2.1721026939978088\n",
      "----- 1020----- \n",
      "Using SVR\n",
      "Training R2:  0.9897765355397385\n",
      "Testing R2:  -0.19444785287553754\n",
      "TRAIN NEW R2 SCORE :  0.9897765355397385\n",
      "TEST NEW R2 SCORE :  -0.19444785287553756\n",
      "Training MSE :  0.009309806824832678\n",
      "Testing MSE :  0.7660520195943914\n",
      "----- 1023----- \n",
      "Using SVR\n",
      "Training R2:  0.9920644077355234\n",
      "Testing R2:  -0.2128249799499109\n",
      "TRAIN NEW R2 SCORE :  0.9920644077355234\n",
      "TEST NEW R2 SCORE :  -0.2128249799499109\n",
      "Training MSE :  0.009386230547544765\n",
      "Testing MSE :  1.4887426628885154\n",
      "----- 1032----- \n",
      "Using SVR\n",
      "Training R2:  0.9881431462797506\n",
      "Testing R2:  -0.2847233012623289\n",
      "TRAIN NEW R2 SCORE :  0.9881431462797506\n",
      "TEST NEW R2 SCORE :  -0.2847233012623289\n",
      "Training MSE :  0.009669717074804053\n",
      "Testing MSE :  0.7880580029781779\n",
      "----- 1034----- \n",
      "Using SVR\n",
      "Training R2:  0.9918260488494628\n",
      "Testing R2:  0.05129527058707095\n",
      "TRAIN NEW R2 SCORE :  0.9918260488494628\n",
      "TEST NEW R2 SCORE :  0.05129527058707095\n",
      "Training MSE :  0.009967866967780972\n",
      "Testing MSE :  1.2004019025224815\n",
      "----- 1038----- \n",
      "Using SVR\n",
      "Training R2:  0.9961389251482462\n",
      "Testing R2:  -0.1701253804457794\n",
      "TRAIN NEW R2 SCORE :  0.9961389251482462\n",
      "TEST NEW R2 SCORE :  -0.1701253804457794\n",
      "Training MSE :  0.009697945046974795\n",
      "Testing MSE :  2.995966470814179\n",
      "----- 1039----- \n",
      "Using SVR\n",
      "Training R2:  0.9919833661593771\n",
      "Testing R2:  -0.1293633470439366\n",
      "TRAIN NEW R2 SCORE :  0.9919833661593771\n",
      "TEST NEW R2 SCORE :  -0.1293633470439366\n",
      "Training MSE :  0.009517790622455504\n",
      "Testing MSE :  0.970546626365883\n",
      "----- 1043----- \n",
      "Using SVR\n",
      "Training R2:  0.9939712251827049\n",
      "Testing R2:  -0.061942679128572875\n",
      "TRAIN NEW R2 SCORE :  0.9939712251827049\n",
      "TEST NEW R2 SCORE :  -0.061942679128572875\n",
      "Training MSE :  0.009734930085477812\n",
      "Testing MSE :  1.444242043614859\n",
      "----- 1044----- \n",
      "Using SVR\n",
      "Training R2:  0.958768780333578\n",
      "Testing R2:  0.15322966475310806\n",
      "TRAIN NEW R2 SCORE :  0.958768780333578\n",
      "TEST NEW R2 SCORE :  0.15322966475310806\n",
      "Training MSE :  0.010001389788287863\n",
      "Testing MSE :  0.20737232699923883\n",
      "----- 1048----- \n",
      "Using SVR\n",
      "Training R2:  0.9870542054982007\n",
      "Testing R2:  0.033866693204704146\n",
      "TRAIN NEW R2 SCORE :  0.9870542054982006\n",
      "TEST NEW R2 SCORE :  0.033866693204704146\n",
      "Training MSE :  0.00908049610690502\n",
      "Testing MSE :  0.44127888061238424\n",
      "----- 1049----- \n",
      "Using SVR\n",
      "Training R2:  0.9887550154586289\n",
      "Testing R2:  0.03187343379659746\n",
      "TRAIN NEW R2 SCORE :  0.9887550154586289\n",
      "TEST NEW R2 SCORE :  0.03187343379659746\n",
      "Training MSE :  0.009844684617417807\n",
      "Testing MSE :  0.7572901140079948\n",
      "----- 1051----- \n",
      "Using SVR\n",
      "Training R2:  0.9920695070509434\n",
      "Testing R2:  -0.01693103828807474\n",
      "TRAIN NEW R2 SCORE :  0.9920695070509434\n",
      "TEST NEW R2 SCORE :  -0.01693103828807474\n",
      "Training MSE :  0.009332607847664874\n",
      "Testing MSE :  1.2315496203330927\n",
      "----- GLOBAL -----\n",
      "lScoreTrai :  [0.9916818590201234, 0.9638858051205853, 0.9933652004599605, 0.9952191495379817, 0.9897765355397385, 0.9920644077355234, 0.9881431462797506, 0.9918260488494628, 0.9961389251482462, 0.9919833661593771, 0.9939712251827049, 0.958768780333578, 0.9870542054982007, 0.9887550154586289, 0.9920695070509434]\n",
      "lScoreTest :  [-0.5728952712954081, 0.19948811393154753, -0.0010797570481386742, 0.033294954869107274, -0.19444785287553754, -0.2128249799499109, -0.2847233012623289, 0.05129527058707095, -0.1701253804457794, -0.1293633470439366, -0.061942679128572875, 0.15322966475310806, 0.033866693204704146, 0.03187343379659746, -0.01693103828807474]\n",
      "PCAComponents: 400\n",
      "Global training R2: 0.9876468784916539\n",
      "Global testing R2: -0.07608569841303683\n",
      "AAAAAAAAAAAAAAAAAAAASSSSSSSSS\n",
      "[1.79292952 1.78540453 2.05614868 2.10476043 2.032611   2.27529616\n",
      " 2.41367241 1.82970937 2.0187309  2.11297639 1.99259978 2.05255531\n",
      " 1.79401072 1.9829045  1.84005326 2.20426374]\n",
      "[3 0 3 2 1 1 2 2 3 1 0 1 0 1 0 1]\n",
      "EQUAL? :  [False False False  True False False  True  True False False False False\n",
      " False False False False]\n"
     ]
    },
    {
     "data": {
      "image/png": "[encoded data removed]",
      "text/plain": [
       "<Figure size 400x400 with 1 Axes>"
      ]
     },
     "metadata": {
      "needs_background": "light"
     },
     "output_type": "display_data"
    },
    {
     "name": "stdout",
     "output_type": "stream",
     "text": [
      "----- 1004----- \n",
      "Using SVR\n",
      "Training R2:  0.9915295346962096\n",
      "Testing R2:  -0.5382060159270126\n",
      "TRAIN NEW R2 SCORE :  0.9915295346962097\n",
      "TEST NEW R2 SCORE :  -0.5382060159270126\n",
      "Training MSE :  0.010000058411200443\n",
      "Testing MSE :  1.6951658134705851\n",
      "----- 1006----- \n",
      "Using SVR\n",
      "Training R2:  0.9646787884799806\n",
      "Testing R2:  -0.16693265950128966\n",
      "TRAIN NEW R2 SCORE :  0.9646787884799807\n",
      "TEST NEW R2 SCORE :  -0.16693265950128966\n",
      "Training MSE :  0.009997262781940967\n",
      "Testing MSE :  0.16207398048629024\n",
      "----- 1007----- \n",
      "Using SVR\n",
      "Training R2:  0.9934665287304557\n",
      "Testing R2:  -0.13903364059186707\n",
      "TRAIN NEW R2 SCORE :  0.9934665287304556\n",
      "TEST NEW R2 SCORE :  -0.13903364059186707\n",
      "Training MSE :  0.009712184212627045\n",
      "Testing MSE :  1.472655919936822\n",
      "----- 1019----- \n",
      "Using SVR\n",
      "Training R2:  0.9956019263559752\n",
      "Testing R2:  -0.1418672554868794\n",
      "TRAIN NEW R2 SCORE :  0.9956019263559752\n",
      "TEST NEW R2 SCORE :  -0.1418672554868794\n",
      "Training MSE :  0.009637853127884892\n",
      "Testing MSE :  1.9269009936341088\n",
      "----- 1020----- \n",
      "Using SVR\n",
      "Training R2:  0.9897488361782165\n",
      "Testing R2:  0.09295082241716535\n",
      "TRAIN NEW R2 SCORE :  0.9897488361782165\n",
      "TEST NEW R2 SCORE :  0.09295082241716535\n",
      "Training MSE :  0.009335030730676337\n",
      "Testing MSE :  0.5817305901517376\n",
      "----- 1023----- \n",
      "Using SVR\n",
      "Training R2:  0.9922241820847898\n",
      "Testing R2:  -0.158955835581718\n",
      "TRAIN NEW R2 SCORE :  0.9922241820847898\n",
      "TEST NEW R2 SCORE :  -0.158955835581718\n",
      "Training MSE :  0.009504804776261724\n",
      "Testing MSE :  1.2006910872785668\n",
      "----- 1032----- \n",
      "Using SVR\n",
      "Training R2:  0.9882382585833823\n",
      "Testing R2:  -0.09674815061468856\n",
      "TRAIN NEW R2 SCORE :  0.9882382585833823\n",
      "TEST NEW R2 SCORE :  -0.09674815061468856\n",
      "Training MSE :  0.009592149358430849\n",
      "Testing MSE :  0.6727527682374765\n",
      "----- 1034----- \n",
      "Using SVR\n",
      "Training R2:  0.9922759483563744\n",
      "Testing R2:  0.05400574260744584\n",
      "TRAIN NEW R2 SCORE :  0.9922759483563744\n",
      "TEST NEW R2 SCORE :  0.05400574260744584\n",
      "Training MSE :  0.009419229185247674\n",
      "Testing MSE :  1.1969723256803744\n",
      "----- 1038----- \n",
      "Using SVR\n",
      "Training R2:  0.9961406778464338\n",
      "Testing R2:  0.05079397875635761\n",
      "TRAIN NEW R2 SCORE :  0.9961406778464338\n",
      "TEST NEW R2 SCORE :  0.050793978756357605\n",
      "Training MSE :  0.009844737948618081\n",
      "Testing MSE :  2.2686023907723056\n",
      "----- 1039----- \n",
      "Using SVR\n",
      "Training R2:  0.9919538732943426\n",
      "Testing R2:  -0.009779998647109434\n",
      "TRAIN NEW R2 SCORE :  0.9919538732943426\n",
      "TEST NEW R2 SCORE :  -0.009779998647109434\n",
      "Training MSE :  0.009552806181334085\n",
      "Testing MSE :  0.8677796863373598\n",
      "----- 1043----- \n",
      "Using SVR\n",
      "Training R2:  0.9938063855042693\n",
      "Testing R2:  -0.01925179409065114\n",
      "TRAIN NEW R2 SCORE :  0.9938063855042693\n",
      "TEST NEW R2 SCORE :  -0.019251794090651142\n",
      "Training MSE :  0.010001104025210969\n",
      "Testing MSE :  1.3861824399632856\n",
      "----- 1044----- \n",
      "Using SVR\n",
      "Training R2:  0.9590760811416921\n",
      "Testing R2:  0.0776622437420812\n",
      "TRAIN NEW R2 SCORE :  0.9590760811416921\n",
      "TEST NEW R2 SCORE :  0.0776622437420812\n",
      "Training MSE :  0.009926848331860676\n",
      "Testing MSE :  0.22587863418561271\n",
      "----- 1048----- \n",
      "Using SVR\n",
      "Training R2:  0.98730247209946\n",
      "Testing R2:  0.017614059192976206\n",
      "TRAIN NEW R2 SCORE :  0.9873024720994601\n",
      "TEST NEW R2 SCORE :  0.017614059192976206\n",
      "Training MSE :  0.00899775043760927\n",
      "Testing MSE :  0.39525684337157596\n",
      "----- 1049----- \n",
      "Using SVR\n",
      "Training R2:  0.9893017054345655\n",
      "Testing R2:  0.12242457022847142\n",
      "TRAIN NEW R2 SCORE :  0.9893017054345655\n",
      "TEST NEW R2 SCORE :  0.12242457022847142\n",
      "Training MSE :  0.009273089234053069\n",
      "Testing MSE :  0.7163881059359418\n",
      "----- 1051----- \n",
      "Using SVR\n",
      "Training R2:  0.9922045170351601\n",
      "Testing R2:  -0.14448015010730164\n",
      "TRAIN NEW R2 SCORE :  0.9922045170351601\n",
      "TEST NEW R2 SCORE :  -0.14448015010730164\n",
      "Training MSE :  0.00944068351166017\n",
      "Testing MSE :  1.2138679166952537\n",
      "----- GLOBAL -----\n",
      "lScoreTrai :  [0.9915295346962096, 0.9646787884799806, 0.9934665287304557, 0.9956019263559752, 0.9897488361782165, 0.9922241820847898, 0.9882382585833823, 0.9922759483563744, 0.9961406778464338, 0.9919538732943426, 0.9938063855042693, 0.9590760811416921, 0.98730247209946, 0.9893017054345655, 0.9922045170351601]\n",
      "lScoreTest :  [-0.5382060159270126, -0.16693265950128966, -0.13903364059186707, -0.1418672554868794, 0.09295082241716535, -0.158955835581718, -0.09674815061468856, 0.05400574260744584, 0.05079397875635761, -0.009779998647109434, -0.01925179409065114, 0.0776622437420812, 0.017614059192976206, 0.12242457022847142, -0.14448015010730164]\n",
      "PCAComponents: 400\n",
      "Global training R2: 0.9878366477214205\n",
      "Global testing R2: -0.06665360557360132\n",
      "AAAAAAAAAAAAAAAAAAAASSSSSSSSS\n",
      "[2.09931227 2.45063392 2.12649696 2.1375551  1.91419667 2.35588534\n",
      " 1.94650964 2.17942332 1.99459747 2.63278221 1.70950097 2.1112214\n",
      " 1.99903504 2.3091282 ]\n",
      "[1 1 3 1 0 3 1 2 2 0 2 0 1 3]\n",
      "EQUAL? :  [False False False False False False False  True  True False  True False\n",
      " False False]\n"
     ]
    },
    {
     "data": {
      "image/png": "[encoded data removed]",
      "text/plain": [
       "<Figure size 400x400 with 1 Axes>"
      ]
     },
     "metadata": {
      "needs_background": "light"
     },
     "output_type": "display_data"
    },
    {
     "data": {
      "image/png": "[encoded data removed]",
      "text/plain": [
       "<Figure size 400x400 with 1 Axes>"
      ]
     },
     "metadata": {
      "needs_background": "light"
     },
     "output_type": "display_data"
    }
   ],
   "source": [
    "%load_ext autoreload\n",
    "%autoreload 2\n",
    "from pca_knn_bpd2 import *\n",
    "\n",
    "def plot_bar_predictions_(df_predictions, plot_title):\n",
    "    \"\"\"\n",
    "    Plot a bar graph according to the csv file passed in parameters\n",
    "    \n",
    "    Keyword Arguments:\n",
    "    - TODO \n",
    "    \"\"\"\n",
    "\n",
    "    df_predictions_reorder = df_predictions.round().value_counts(sort=True)\n",
    "    order = [-1,0,1,2,3,4]\n",
    "    df_predictions_reorder = df_predictions_reorder.reindex(order)\n",
    "    plt.figure(figsize=(5,5), dpi=80)\n",
    "    ax = df_predictions_reorder.plot('bar')\n",
    "\n",
    "    plt.title(plot_title)\n",
    "    plt.xlabel(\"Label\",fontsize=15)\n",
    "    plt.ylabel(\"Frequency\",fontsize=15)\n",
    "#     plt.figure(figsize=(30,15))\n",
    "#     plt.figure(figsize=(20,10))\n",
    "    add_value_labels(ax)\n",
    "    plt.tight_layout()\n",
    "    plt.show()\n",
    "\n",
    "import pickle\n",
    "\n",
    "pid = \"1004\"\n",
    "\n",
    "glob_test_pred = []\n",
    "\n",
    "for fold in [0,1,2,3,4]:\n",
    "    sFileTrai=\"/export/c08/lmorove1/kaldi/egs/beatPDivec/on_off_noinact_auto30_320fl/exp/ivec_550/ivectors_Training_Fold\"+str(fold)+\"/ivector.scp\"\n",
    "    sFileTest=\"/export/c08/lmorove1/kaldi/egs/beatPDivec/on_off_noinact_auto30_320fl/exp/ivec_550/ivectors_Testing_Fold\"+str(fold)+\"/ivector.scp\"\n",
    "    iComponents=400\n",
    "\n",
    "    sOut=\"/home/mpgill/BeatPD/BeatPD-CLSP-JHU/ResiVecSVR_Fold\"+str(fold)+\"/\"\n",
    "\n",
    "    iNeighbors=None\n",
    "\n",
    "    vTraiPCA, vLTrai, vTraiSubjectId, vTraiMeasurementId, vTestPCA, vLTest, vTestSubjectId, vTestMeasurementId = pca(sFileTrai, sFileTest, iComponents)\n",
    "\n",
    "    pca_knn_bpd2(sFileTrai, sFileTest, sOut, iComponents, iNeighbors, sKernel='linear', fCValue=0.2, fEpsilon='0.1')\n",
    "\n",
    "\n",
    "    fold_folder = \"/home/mpgill/BeatPD/BeatPD-CLSP-JHU/ResiVecSVR_Fold\"+str(fold)+\"/\"\n",
    "    sFileName = pid+\"_objs_400_kernel_linear_c_0.2_eps_0.1.pkl\"\n",
    "\n",
    "    [predictionsTrai,vLTrai_subjectid,predictions,vLTest_subjectid, vTraiMeasurementId, \\\n",
    "     mse_trai_subjectid, \\\n",
    "     mse_test_subjectid, \\\n",
    "     lTestMeasId_subjectid] = pickle.load(open(fold_folder+sFileName, \"rb\" ) )\n",
    "    \n",
    "    glob_test_pred=np.append(glob_test_pred,predictionsTrai,axis=0)\n",
    "#     print(predictionsTrai.round().astype(int))\n",
    "#     print(vLTrai_subjectid)\n",
    "#     print(\"EQUAL? : \", predictionsTrai.round().astype(int) == vLTrai_subjectid)\n",
    "    \n",
    "    print(predictions)\n",
    "    print(vLTest_subjectid)\n",
    "    print(\"EQUAL? : \", predictions.round().astype(int) == vLTest_subjectid)\n",
    "    \n",
    "    # Plot per fold \n",
    "    plot_bar_predictions_(pd.Series(predictionsTrai), (pid+\"_objs_400_kernel_linear_c_0.2_eps_0.01 - Fold \"+str(fold)+\" - Test Preds\"))\n",
    "\n",
    "plot_bar_predictions_(pd.Series(glob_test_pred), (pid+\"_objs_400_kernel_linear_c_0.2_eps_0.01 - All Folds - Test Preds\"))\n",
    "#     do_confusion_matrix(y_test=vLTest_subjectid, predictions=predictions.round().astype(int))\n",
    "# plt.close('all')"
   ]
  },
  {
   "cell_type": "markdown",
   "metadata": {},
   "source": [
    "### Bar Plot of Predictions for all folds, all patients "
   ]
  },
  {
   "cell_type": "code",
   "execution_count": 128,
   "metadata": {},
   "outputs": [
    {
     "data": {
      "image/png": "[encoded data removed]",
      "text/plain": [
       "<Figure size 432x288 with 1 Axes>"
      ]
     },
     "metadata": {
      "needs_background": "light"
     },
     "output_type": "display_data"
    }
   ],
   "source": [
    "data_path = \"/export/c08/lmorove1/kaldi/egs/beatPDivec/on_off_noinact_auto30/exp/ivec_450/resiVecSVR_Fold_all/\"\n",
    "sFileName = \"objs_400_kernel_linear_c_0.2_eps_0.1.csv\"\n",
    "sSubchallenge = \"on_off\"\n",
    "plot_title =\"On/Off Predictions Labels\"\n",
    "\n",
    "plot_bar_labels(data_path, sFileName, sSubchallenge, plot_title)"
   ]
  },
  {
   "cell_type": "code",
   "execution_count": null,
   "metadata": {},
   "outputs": [],
   "source": [
    "# print(df_train_label.round())\n",
    "\n",
    "data_path = \"/export/c08/lmorove1/kaldi/egs/beatPDivec/trem_noinact_auto30/exp/ivec_450/resiVecSVR_Fold_all/\"\n",
    "sFileName = \"objs_450_kernel_linear_c_0.02_eps_0.1.csv\"\n",
    "df_train_label_trem = pd.read_csv(data_path+sFileName)\n",
    "\n",
    "data_path = \"/export/c08/lmorove1/kaldi/egs/beatPDivec/v1_dysk_auto/exp/ivec_500/resiVecSVR_Fold/\"\n",
    "sFileName = \"Dyskinesia_testing.csv\"\n",
    "df_train_label_dysk = pd.read_csv(data_path+sFileName)"
   ]
  },
  {
   "cell_type": "markdown",
   "metadata": {},
   "source": [
    "### Analyze the kfold distribution V2"
   ]
  },
  {
   "cell_type": "code",
   "execution_count": null,
   "metadata": {
    "scrolled": false
   },
   "outputs": [],
   "source": [
    "data_type = \"cis\"\n",
    "data_real_subtype=\"\"\n",
    "\n",
    "if data_type == \"cis\":\n",
    "    kfold_path = \"/home/sjoshi/codes/python/BeatPD/data/BeatPD/cis-pd.training_data.k_fold_v2/\"\n",
    "\n",
    "data_path = \"/home/sjoshi/codes/python/BeatPD/data/BeatPD/\"\n",
    "data_path = data_path + data_type + \"-pd.training_data/\" + data_real_subtype + \"/\"\n",
    "\n",
    "nb_folds = np.array([0,1,2,3,4])\n",
    "\n",
    "pids = np.array([1038])\n",
    "#pids = np.array([1004,1006,1007,1019,1020,1023,1032,1034,1038,1039,1043,1044,1046,1048,1049,1051])\n",
    "\n",
    "for temp_pid in pids:\n",
    "    for nb in nb_folds:\n",
    "        for train_or_test in ['train','test']:\n",
    "            file_name = str(temp_pid) + '_'+train_or_test+'_kfold_' + str(nb) + '.csv'\n",
    "            print(file_name)\n",
    "            df_train_label = pd.read_csv(kfold_path+file_name)\n",
    "            # Compute the occurences of each symptoms for each patient\n",
    "\n",
    "            df_occurences, df_train_label_subject_id = compute_symptoms_occurences_dataframe(\n",
    "                df_train_label=df_train_label\n",
    "            )\n",
    "\n",
    "            # Plot the graphs\n",
    "            plot_symptoms_occurences(\n",
    "                df_occurences=df_occurences, df_train_label_subject_id=df_train_label_subject_id\n",
    "            )\n",
    "\n",
    "            #print(df_train_label.values[:,1:])\n",
    "            #temp_train_X = pd.read_csv(data_path+df_train_label[\"measurement_id\"][idx] + '.csv')"
   ]
  },
  {
   "cell_type": "markdown",
   "metadata": {},
   "source": [
    "# CIS Database"
   ]
  },
  {
   "cell_type": "markdown",
   "metadata": {},
   "source": [
    "## Distribution of the length of the files"
   ]
  },
  {
   "cell_type": "code",
   "execution_count": 9,
   "metadata": {},
   "outputs": [
    {
     "name": "stdout",
     "output_type": "stream",
     "text": [
      "path_train_data :  /home/sjoshi/codes/python/BeatPD/data/BeatPD/cis-pd.training_data/\n"
     ]
    },
    {
     "data": {
      "image/png": "[encoded data removed]",
      "text/plain": [
       "<Figure size 432x288 with 1 Axes>"
      ]
     },
     "metadata": {
      "needs_background": "light"
     },
     "output_type": "display_data"
    },
    {
     "name": "stdout",
     "output_type": "stream",
     "text": [
      "min :  5803\n",
      "max :  61960\n"
     ]
    }
   ],
   "source": [
    "import numpy as np\n",
    "import matplotlib.mlab as mlab\n",
    "import matplotlib.pyplot as plt\n",
    "\n",
    "data_type = \"cis\"\n",
    "\n",
    "path_train_data, df_train_label = define_data_type(data_type,\n",
    "                                                   data_dir,\n",
    "                                                   training_or_ancillary,\n",
    "                                                   data_real_subtype)\n",
    "len_distribution = []\n",
    "for idx in df_train_label.index:\n",
    "        df_train_data = pd.read_csv(path_train_data + df_train_label[\"measurement_id\"][idx] + \".csv\")\n",
    "        len_distribution.append(len(df_train_data))\n",
    "\n",
    "\n",
    "num_bins = 10\n",
    "n, bins, patches = plt.hist(len_distribution, num_bins, facecolor='blue', alpha=0.5)\n",
    "plt.show()\n",
    "\n",
    "print('min : ', min(len_distribution))\n",
    "print('max : ', max(len_distribution))"
   ]
  },
  {
   "cell_type": "markdown",
   "metadata": {},
   "source": [
    "### Remove activity with pct_change and plot the accelerometer after"
   ]
  },
  {
   "cell_type": "code",
   "execution_count": null,
   "metadata": {
    "scrolled": true
   },
   "outputs": [],
   "source": [
    "data_type = \"cis\"\n",
    "data_dir = \"/home/sjoshi/codes/python/BeatPD/data/BeatPD/\"\n",
    "path_save_accelerometer_plots = \"/home/sjoshi/codes/python/BeatPD/code/accelerometer_plots/\"\n",
    "training_or_ancillary='training_data'\n",
    "\n",
    "path_train_data, df_train_label = define_data_type(data_type,\n",
    "                                                   data_dir,\n",
    "                                                   training_or_ancillary)\n",
    "\n",
    "list_measurement_id = [\"5cf68c8e-0b7a-4b73-ad4f-015c7a20fb5a\"]\n",
    "\n",
    "# Filter df_train_label according to the measurement_id we are most interested in\n",
    "df_train_label = interesting_patients(df_train_label=df_train_label,\n",
    "                                      list_measurement_id=list_measurement_id)\n",
    "\n",
    "plot_accelerometer(df_train_label=df_train_label,\n",
    "                   data_type=data_type,\n",
    "                   path_train_data=path_train_data,\n",
    "                   path_accelerometer_plots=path_save_accelerometer_plots)\n",
    "\n",
    "path_no_inactivity_data = remove_inactivity_pct_change(df_train_label,\n",
    "                                                       data_dir,\n",
    "                                                       path_train_data,\n",
    "                                                       data_type)\n",
    "\n",
    "# Plot the accelerometer data\n",
    "plot_accelerometer(df_train_label=df_train_label,\n",
    "                   data_type=data_type,\n",
    "                   path_train_data=path_train_data,\n",
    "                   path_accelerometer_plots=path_save_accelerometer_plots,\n",
    "                   path_inactivity=path_no_inactivity_data)"
   ]
  },
  {
   "cell_type": "markdown",
   "metadata": {},
   "source": [
    "### How to print accelerometers before/after and write a wav file for 1 file "
   ]
  },
  {
   "cell_type": "code",
   "execution_count": null,
   "metadata": {},
   "outputs": [],
   "source": [
    "data_type = \"cis\"\n",
    "path_save_accelerometer_plots = \"/home/sjoshi/codes/python/BeatPD/code/accelerometer_plots/\"\n",
    "path_train_data, df_train_label = define_data_type(data_type,\n",
    "                                                   data_dir,\n",
    "                                                   training_or_ancillary,\n",
    "                                                   data_real_subtype)\n",
    "\n",
    "list_measurement_id = ['db2e053a-0fb8-4206-891a-6f079fb14e3a']\n",
    "\n",
    "\n",
    "df_train_label = interesting_patients(df_train_label=df_train_label, list_measurement_id=list_measurement_id)\n",
    "\n",
    "# Plot the accelerometer data\n",
    "plot_accelerometer(data_type=data_type, path_accelerometer_plots=path_save_accelerometer_plots)\n",
    "\n",
    "remove_inactivity_highpass(\n",
    "    df_train_label,\n",
    "    energy_threshold=10,\n",
    "    duration_threshold=3000,\n",
    "    plot_frequency_response=True,\n",
    "    plot_accelerometer_after_removal=True,\n",
    "    mask_path='/home/sjoshi/codes/python/BeatPD/data/BeatPD/cis-pd.training_data.high_pass_mask/')\n",
    "\n",
    "\n",
    "# Apply filter \n",
    "for idx in df_train_label.index:\n",
    "    df_train_data = apply_mask(df_train_label[\"measurement_id\"][idx],\n",
    "                               mask_path='/home/sjoshi/codes/python/BeatPD/data/BeatPD/cis-pd.training_data.high_pass_mask/')\n",
    "    print('len : ', len(df_train_data))\n",
    "    great_title = get_plot_title(idx, df_train_label)\n",
    "    \n",
    "    print('AFTER REMOVAL')\n",
    "    #Plot accelerometer \n",
    "    print('len : ', len(df_train_data))\n",
    "    x_axis_data_type = \"t\" if data_type == \"real\" else \"Timestamp\"\n",
    "    df_train_data.plot(\n",
    "                    x=x_axis_data_type, legend=True, subplots=True, title=great_title\n",
    "                )\n",
    "    plt.show()\n",
    "    plt.clf()\n",
    "    plt.cla()\n",
    "    plt.close()"
   ]
  },
  {
   "cell_type": "markdown",
   "metadata": {},
   "source": [
    "# REAL-PD Database"
   ]
  },
  {
   "cell_type": "code",
   "execution_count": null,
   "metadata": {},
   "outputs": [],
   "source": [
    "data_type = \"real\"\n",
    "data_real_subtype = 'smartphone_accelerometer'\n",
    "training_or_ancillary='training_data' #training_data\n",
    "path_train_data, df_train_label = define_data_type(data_type,\n",
    "                                                   data_dir,\n",
    "                                                   training_or_ancillary,\n",
    "                                                   data_real_subtype)\n",
    "\n",
    "list_measurement_id=['b50d1b0c-2cd1-45f8-9097-0742e5cbbcc8']\n",
    "\n",
    "# Filter df_train_label according to the measurement_id we are most interested in\n",
    "df_train_label = interesting_patients(df_train_label=df_train_label, list_measurement_id=list_measurement_id)\n",
    "\n",
    "\n",
    "# Compute the occurences of each symptoms for each patient\n",
    "df_occurences, df_train_label_subject_id = compute_symptoms_occurences_dataframe(\n",
    "    df_train_label=df_train_label\n",
    ")\n",
    "\n",
    "# Plot the graphs\n",
    "plot_symptoms_occurences(\n",
    "    df_occurences=df_occurences, df_train_label_subject_id=df_train_label_subject_id\n",
    ")"
   ]
  },
  {
   "cell_type": "markdown",
   "metadata": {},
   "source": [
    "## Distribution of the length of the files"
   ]
  },
  {
   "cell_type": "code",
   "execution_count": null,
   "metadata": {},
   "outputs": [],
   "source": [
    "import numpy as np\n",
    "import matplotlib.mlab as mlab\n",
    "import matplotlib.pyplot as plt\n",
    "\n",
    "data_type = \"real\"\n",
    "training_or_ancillary='training_data'\n",
    "data_real_subtype='smartphone_accelerometer'\n",
    "\n",
    "for data_real_subtype in ['smartphone_accelerometer','smartwatch_accelerometer','smartwatch_gyroscope']:\n",
    "    path_train_data, df_train_label = define_data_type(data_type,\n",
    "                                                   data_dir,\n",
    "                                                   training_or_ancillary,\n",
    "                                                   data_real_subtype)\n",
    "    len_distribution = []\n",
    "\n",
    "    for idx in df_train_label.index:\n",
    "        try:\n",
    "            df_train_data = pd.read_csv(path_train_data + df_train_label[\"measurement_id\"][idx] + \".csv\")\n",
    "            len_distribution.append(len(df_train_data))\n",
    "        except FileNotFoundError:\n",
    "            continue\n",
    "    print(data_real_subtype)\n",
    "    num_bins = 10\n",
    "    n, bins, patches = plt.hist(len_distribution, num_bins, facecolor='blue', alpha=0.5)\n",
    "    plt.show()\n"
   ]
  },
  {
   "cell_type": "markdown",
   "metadata": {},
   "source": [
    "# Confusion Matrix"
   ]
  },
  {
   "cell_type": "code",
   "execution_count": 9,
   "metadata": {},
   "outputs": [],
   "source": [
    "def do_confusion_matrix(y_test, predictions):\n",
    "    print('y test : ', np.unique(y_test))\n",
    "    LABELS_NEW = np.unique(y_test)\n",
    "    n_classes=np.unique(y_test)\n",
    "    print(\"Confusion Matrix:\")\n",
    "    confusion_matrix = metrics.confusion_matrix(y_test, predictions)\n",
    "    print(confusion_matrix)\n",
    "    normalised_confusion_matrix = np.array(confusion_matrix, dtype=np.float32)/np.sum(confusion_matrix)*100\n",
    "\n",
    "    print(\"\")\n",
    "    print(\"Confusion matrix (normalised to % of total test data):\")\n",
    "    print(normalised_confusion_matrix)\n",
    "\n",
    "    # Plot Results:\n",
    "    width = 12\n",
    "    height = 12\n",
    "    plt.figure(figsize=(width, height))\n",
    "    plt.imshow(\n",
    "        normalised_confusion_matrix,\n",
    "        interpolation='nearest',\n",
    "        cmap=plt.cm.rainbow\n",
    "    )\n",
    "    plt.title(\"Confusion matrix \\n(normalised to % of total test data)\")\n",
    "    plt.colorbar()\n",
    "    tick_marks = np.arange(n_classes)\n",
    "    plt.xticks(tick_marks, LABELS_NEW, rotation=90)\n",
    "    plt.yticks(tick_marks, LABELS_NEW)\n",
    "    plt.tight_layout()\n",
    "    plt.ylabel('True label')\n",
    "    plt.xlabel('Predicted label')\n",
    "    plt.show()"
   ]
  },
  {
   "cell_type": "code",
   "execution_count": null,
   "metadata": {},
   "outputs": [],
   "source": []
  }
 ],
 "metadata": {
  "kernelspec": {
   "display_name": "BeatPD",
   "language": "python",
   "name": "beatpd"
  },
  "language_info": {
   "codemirror_mode": {
    "name": "ipython",
    "version": 3
   },
   "file_extension": ".py",
   "mimetype": "text/x-python",
   "name": "python",
   "nbconvert_exporter": "python",
   "pygments_lexer": "ipython3",
   "version": "3.5.6"
  }
 },
 "nbformat": 4,
 "nbformat_minor": 2
}
