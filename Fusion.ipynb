{
 "cells": [
  {
   "cell_type": "markdown",
   "metadata": {},
   "source": [
    "# Fusion"
   ]
  },
  {
   "cell_type": "markdown",
   "metadata": {},
   "source": [
    "Submission 2:\n",
    "    - Tremor : Gradient Boosting Regression\n",
    "    - Dyskinesia : Gradient Boosting Regression\n",
    "    \n",
    "Submission 4: \n",
    "    - Dyskinesia : Average of predictions "
   ]
  },
  {
   "cell_type": "code",
   "execution_count": 2,
   "metadata": {},
   "outputs": [],
   "source": [
    "import numpy as np\n",
    "import os\n",
    "from sklearn.ensemble import RandomForestClassifier\n",
    "import csv\n",
    "from sklearn.model_selection import cross_val_score\n",
    "from sklearn.datasets import make_blobs\n",
    "from sklearn.ensemble import RandomForestRegressor\n",
    "from sklearn.ensemble import ExtraTreesClassifier\n",
    "from sklearn.tree import DecisionTreeClassifier\n",
    "from random import random\n",
    "from sklearn.metrics import mean_squared_error\n",
    "import pickle\n",
    "import pandas as pd\n",
    "from sklearn.metrics import mean_squared_error\n",
    "from sklearn.ensemble import GradientBoostingRegressor\n",
    "\n",
    "%load_ext autoreload\n",
    "%autoreload 2\n",
    "\n",
    "from transform_data import *\n",
    "from create_graphs import *\n",
    "from beatPDivec.default_data.v2_auto.local.get_final_scores_accuracy import *"
   ]
  },
  {
   "cell_type": "code",
   "execution_count": 3,
   "metadata": {},
   "outputs": [],
   "source": [
    "# Path to where you want the CSV files created \n",
    "sDirOut = \"/export/b19/mpgill/BeatPD_predictions_tryingout/\"\n",
    "# sDirOut = \"<your-out-path>\"\n",
    "\n",
    "# Path to the folder containing the GitHub repository of BeatPD-CLSP-JHU\n",
    "sPathGithub = os.getcwd()\n",
    "\n",
    "# Path to the folder containing the kaldi/ folder\n",
    "# sPathKaldi = \"<path-to-kaldi>/\"\n",
    "sPathKaldi = \"/export/b19/mpgill/\"\n",
    "\n",
    "sPathData = \"/home/sjoshi/codes/python/BeatPD/data/BeatPD/\""
   ]
  },
  {
   "cell_type": "markdown",
   "metadata": {},
   "source": [
    "# Fusion for REAL-PD sensors"
   ]
  },
  {
   "cell_type": "markdown",
   "metadata": {},
   "source": [
    "For REAL-PD, we have these rules to create the predictions:\n",
    "    - If we have all 3 predictions, we do the average of the two closest \n",
    "    - If there are only two measurements, we do the average of both \n",
    "    - If only one prediction, we take that one\n",
    "    \n",
    "The following code in this Notebook performs this merge to go from three subtypes of REAL-PD predictions to only one CSV file. "
   ]
  },
  {
   "cell_type": "code",
   "execution_count": 5,
   "metadata": {},
   "outputs": [],
   "source": [
    "def real_average_fusion(lFilesPred, sDirOut, sTypeLabel):\n",
    "    iNumFiles=len(lFilesPred)\n",
    "    vPredIter=np.zeros((1,iNumFiles))\n",
    "    mPredictions=np.zeros((1,iNumFiles))\n",
    "    lID=[] # measurement_id \n",
    "    lDicts=[] \n",
    "    vParID=[] # participant ID\n",
    "\n",
    "    for sFilePred in lFilesPred:\n",
    "        with open(sFilePred, mode='r') as infile:\n",
    "            reader = csv.reader(infile)\n",
    "            dPred = {rows[0]:rows[1] for rows in reader} #Prediction from the different classifiers (acoustic, w-embed)\n",
    "        lDicts.append(dPred)\n",
    "   \n",
    "    # Append all unique measurement ID as the lead\n",
    "    all_unique_measurements = set(list(lDicts[0].keys()) + list(lDicts[1].keys()) + list(lDicts[2].keys()))\n",
    "\n",
    "    #creation of the matrix containing prediction from all classifiers\n",
    "    bEnter=1\n",
    "    for k in all_unique_measurements:\n",
    "        if k!='measurement_id':\n",
    "            lID.append(k) # measurement_id \n",
    "            fPred=lDicts[0].get(k)\n",
    "            if fPred:\n",
    "                vPredIter[0,0]=float(np.asarray(lDicts[0][k])) #first predicted value\n",
    "            else:\n",
    "                vPredIter[0,0]=None\n",
    "            # Go through the second and next predictions files\n",
    "            for j in range(1, iNumFiles):\n",
    "                # fPred will contain the prediction of the predictions file we're going through\n",
    "                fPred=lDicts[j].get(k)\n",
    "                if fPred: # if we found a prediction\n",
    "                    # we add it in the array\n",
    "                    vPredIter[0,j]=float(np.asarray(fPred))\n",
    "                else:\n",
    "                    #print([str(j) + 'Unknown key:' + k])\n",
    "                    vPredIter[0,j]=None#float(np.asarray(lDicts[0][k]))\n",
    "            if bEnter==1:\n",
    "                # if it's the first prediction file, we initialize it\n",
    "                mPredictions=vPredIter.copy() # mPredictions initialization.\n",
    "                bEnter=0\n",
    "            else:\n",
    "                #[a, b, c]\n",
    "                dist_a_b = abs(vPredIter[0,1] - vPredIter[0,0])\n",
    "                dist_c_b = abs(vPredIter[0,2] - vPredIter[0,1])\n",
    "                dist_c_a = abs(vPredIter[0,2] - vPredIter[0,0])\n",
    "\n",
    "                min_value = min(np.array([dist_a_b, dist_c_b, dist_c_a]))\n",
    "                \n",
    "                if min_value == dist_a_b:\n",
    "                    vPredIter[0,2] = None\n",
    "                elif min_value == dist_c_b:\n",
    "                    vPredIter[0,0] = None\n",
    "                elif min_value == dist_c_a:\n",
    "                    vPredIter[0,1] = None\n",
    "                    \n",
    "                # We add the new predictions as a new column if it's not the first file we're going through\n",
    "                mPredictions=np.append(mPredictions,vPredIter,axis=0)\n",
    "\n",
    "    # For REAL-PD, we have these rules to create the predictions:\n",
    "    # If we have all 3 predictions, we do the average of the two closest \n",
    "    # If there are only two measurements, we do the average \n",
    "    \n",
    "#     print(mPredictions)\n",
    "    \n",
    "    vAverage=np.nanmean(mPredictions,axis=1)\n",
    "    \n",
    "    lID, vPrediction=zip(*sorted(zip(lID, vAverage)))\n",
    "    df = pd.DataFrame({'measurement_id': lID, sTypeLabel:vPrediction})\n",
    "    df.to_csv(sDirOut+'submissionRealPD'+sTypeLabel+'.csv', index=False)\n",
    "    print('Submission file was created: '+sDirOut+\"submissionRealPD\"+sTypeLabel+\".csv\")\n",
    "    \n",
    "    return vAverage"
   ]
  },
  {
   "cell_type": "markdown",
   "metadata": {},
   "source": [
    "## ON/OFF"
   ]
  },
  {
   "cell_type": "code",
   "execution_count": 193,
   "metadata": {},
   "outputs": [
    {
     "name": "stdout",
     "output_type": "stream",
     "text": [
      "Submission file was created: /export/b19/mpgill/BeatPD_predictions_tryingout/submissionRealPDon_off.csv\n"
     ]
    }
   ],
   "source": [
    "sPhoneAccPred=sPathGithub+'/tsfresh/submit/submission/phoneacc_on_off_new.csv'\n",
    "sWatchAccPred=sPathGithub+'/tsfresh/submit/submission/watchacc_on_off_new.csv'\n",
    "sWatchGyrPred=sPathGithub+'/tsfresh/submit/submission/watchgyr_on_off_new.csv'\n",
    "\n",
    "lFilesPred=[sPhoneAccPred,sWatchAccPred,sWatchGyrPred]\n",
    "\n",
    "sTypeLabel = \"on_off\"\n",
    "\n",
    "# Name of the CSV file to be created with the average \n",
    "fileName =\"on_off_real\"\n",
    "\n",
    "real_average_fusion(lFilesPred, sDirOut, sTypeLabel)"
   ]
  },
  {
   "cell_type": "markdown",
   "metadata": {},
   "source": [
    "## Tremor"
   ]
  },
  {
   "cell_type": "code",
   "execution_count": 194,
   "metadata": {},
   "outputs": [
    {
     "name": "stdout",
     "output_type": "stream",
     "text": [
      "Submission file was created: /export/b19/mpgill/BeatPD_predictions_tryingout/submissionRealPDtremor.csv\n"
     ]
    },
    {
     "data": {
      "text/plain": [
       "array([0.37931034, 0.65416554, 2.18682595, 0.37931034, 0.14303959,\n",
       "       0.27248547, 2.02380952, 0.43902439, 0.2993007 , 0.13793103,\n",
       "       0.40129212, 0.14303959, 0.32298894, 0.41187739, 0.41666667,\n",
       "       0.68810978, 0.7608293 , 0.21676815, 2.13043478, 0.33974428,\n",
       "       0.41666667, 0.29090909, 0.13793103, 0.44444444, 0.13793103,\n",
       "       0.39955193, 0.57267669, 2.0053676 , 0.29090909, 0.2993007 ,\n",
       "       0.37931034, 0.13793103, 0.35403822, 0.81333286, 2.02336013,\n",
       "       0.30956461, 0.39560964, 0.13793103, 0.30769231, 0.13793103,\n",
       "       0.45444199, 0.79937801, 2.02380952, 2.13043478, 0.2993007 ,\n",
       "       1.99466338, 2.33280802, 2.13043478, 0.48426454, 0.13793103,\n",
       "       0.41666667, 2.18454935, 0.19007548, 0.41666667, 2.16643537,\n",
       "       2.01350806, 2.38435479, 0.41666667, 2.02380952, 2.04134894,\n",
       "       2.02380952, 2.39958423, 0.43902439, 0.43646137, 0.42430604,\n",
       "       2.13043478, 0.96504882, 0.30129155, 2.20308919, 0.29090909,\n",
       "       0.34564532, 0.45395537, 0.30769231, 2.33909456, 2.48840094,\n",
       "       0.14303959, 0.48454105, 1.96551724, 0.29090909, 0.46591817,\n",
       "       0.37931034, 0.13793103, 0.44100375, 0.13793103, 0.37931034,\n",
       "       0.41666667, 2.13043478, 0.37931034, 0.74060142, 2.2776941 ,\n",
       "       0.36905339, 0.44002604, 0.31754702, 2.03658435, 0.58308872,\n",
       "       2.20837714, 0.37931034, 0.44444444, 0.51259372, 2.04200516,\n",
       "       1.99466338])"
      ]
     },
     "execution_count": 194,
     "metadata": {},
     "output_type": "execute_result"
    }
   ],
   "source": [
    "sPhoneAccPred=sPathGithub+'/tsfresh/submit/submission/phoneacc.tremor.csv'\n",
    "sWatchAccPred=sPathGithub+'/tsfresh/submit/submission/watchacc.tremor.csv'\n",
    "sWatchGyrPred=sPathGithub+'/tsfresh/submit/submission/watchgyr.tremor.csv'\n",
    "\n",
    "lFilesPred=[sPhoneAccPred,sWatchAccPred,sWatchGyrPred]\n",
    "\n",
    "sTypeLabel = \"tremor\"\n",
    "\n",
    "# Name of the CSV file to be created with the average \n",
    "fileName =\"tremor_real\"\n",
    "\n",
    "real_average_fusion(lFilesPred, sDirOut, sTypeLabel)"
   ]
  },
  {
   "cell_type": "markdown",
   "metadata": {},
   "source": [
    "## Dyskinesia"
   ]
  },
  {
   "cell_type": "code",
   "execution_count": 195,
   "metadata": {},
   "outputs": [
    {
     "name": "stdout",
     "output_type": "stream",
     "text": [
      "Submission file was created: /export/b19/mpgill/BeatPD_predictions_tryingout/submissionRealPDdyskinesia.csv\n"
     ]
    },
    {
     "data": {
      "text/plain": [
       "array([0.93285683, 0.28006747, 0.17857143, 0.95436689, 0.90929966,\n",
       "       0.32372102, 0.89552239, 0.20036508, 0.18518519, 0.89552239,\n",
       "       1.00760241, 0.18518519, 0.26308097, 0.89929588, 0.75281125,\n",
       "       0.92863867, 0.79298685, 0.90929966, 0.2064634 , 0.28883904,\n",
       "       0.64864865, 0.2008349 , 0.24714354, 0.91559994, 0.64864865,\n",
       "       0.19259259, 0.18518519, 0.1925402 , 0.62068966, 0.26079421,\n",
       "       0.9305576 , 0.21491919, 0.32213041, 0.18518519, 0.17857143,\n",
       "       0.7692336 , 0.92585684, 0.2182692 , 0.34650603, 0.25443814,\n",
       "       0.54594984, 0.23603459, 0.62068966, 0.62068966, 0.18695809,\n",
       "       0.64534303, 0.42934678, 0.22498779, 0.18518519, 0.20650673,\n",
       "       0.6146469 , 0.97777942, 0.39764001, 0.62068966, 0.68154659,\n",
       "       0.62068966, 0.30773422, 0.31217173, 0.89552239, 0.71826372,\n",
       "       0.65007382, 1.05016382, 0.9542592 , 0.23760092, 0.27813159,\n",
       "       0.68247064, 1.00831413, 1.02909242, 0.80784821, 0.16883117,\n",
       "       0.18903047, 0.18518519, 0.94013955, 0.17957755, 0.24756321,\n",
       "       0.80080348, 0.89552239, 0.87566791, 0.89552239, 0.15909091,\n",
       "       0.7028261 , 0.90929966, 0.25958247, 0.17857143, 0.91304167,\n",
       "       0.90929966])"
      ]
     },
     "execution_count": 195,
     "metadata": {},
     "output_type": "execute_result"
    }
   ],
   "source": [
    "sPhoneAccPred=sPathGithub+'/tsfresh/submit/submission/phoneacc.dyskinesia.csv'\n",
    "sWatchAccPred=sPathGithub+'/tsfresh/submit/submission/watchacc.dyskinesia.csv'\n",
    "sWatchGyrPred=sPathGithub+'/tsfresh/submit/submission/watchgyr.dyskinesia.csv'\n",
    "\n",
    "lFilesPred=[sPhoneAccPred,sWatchAccPred,sWatchGyrPred]\n",
    "\n",
    "sTypeLabel = \"dyskinesia\"\n",
    "\n",
    "# Name of the CSV file to be created with the average \n",
    "fileName =\"dyskinesia_real\"\n",
    "\n",
    "real_average_fusion(lFilesPred, sDirOut, sTypeLabel)"
   ]
  },
  {
   "cell_type": "markdown",
   "metadata": {},
   "source": [
    "## Submission 4 - Average of predictions for Approach 1 and 2 - CIS-PD "
   ]
  },
  {
   "cell_type": "code",
   "execution_count": 8,
   "metadata": {},
   "outputs": [],
   "source": [
    "def average_fusion(lFilesPred, sDirOut, fileName, bRound, sFileLabels, sTypeLabel, bTestSubset=False):\n",
    "    \"\"\"\n",
    "    Performs Fusion for CIS-PD Approach 1 (tsfresh + xgboost) and Approach 2 (SVR Per Patient)\n",
    "    \n",
    "    Keyword arguments:\n",
    "    TODO\n",
    "    \"\"\"\n",
    "    \n",
    "    # Read file labels (true labels)\n",
    "    if not bTestSubset:\n",
    "        print(\"sFileLabels : \", sFileLabels)\n",
    "        with open(sFileLabels, mode='r') as infile:\n",
    "            reader = csv.reader(infile)\n",
    "            dID = {rows[0]:rows[1] for rows in reader} #participant ID\n",
    "        with open(sFileLabels, mode='r') as infile:\n",
    "            reader = csv.reader(infile)\n",
    "            dOnOff= {rows[0]:rows[2] for rows in reader} #on-off label\n",
    "        with open(sFileLabels, mode='r') as infile:\n",
    "            reader = csv.reader(infile)\n",
    "            dDys={rows[0]:rows[3] for rows in reader} #dyskinesia label\n",
    "        with open(sFileLabels, mode='r') as infile:\n",
    "            reader = csv.reader(infile)\n",
    "            dTrem={rows[0]:rows[4] for rows in reader} #tremor label\n",
    "\n",
    "        #label selection\n",
    "        if sTypeLabel=='on_off':\n",
    "            dLabels=dOnOff\n",
    "        elif sTypeLabel=='tremor':\n",
    "            dLabels=dTrem\n",
    "        elif sTypeLabel=='dyskinesia':\n",
    "            dLabels=dDys\n",
    "        else:\n",
    "            print('sTypeLabel undefined')\n",
    "        \n",
    "    iNumFiles=len(lFilesPred)\n",
    "    print('Number of analyzed file inputs: '+ str(iNumFiles))\n",
    "    vPredIter=np.zeros((1,iNumFiles))\n",
    "    mPredictions=np.zeros((1,iNumFiles))\n",
    "    lID=[] # measurement_id \n",
    "    lDicts=[] \n",
    "    vLabels = [] # true label\n",
    "    vParID=[] # participant ID\n",
    "\n",
    "    for sFilePred in lFilesPred:\n",
    "        with open(sFilePred, mode='r') as infile:\n",
    "            reader = csv.reader(infile)\n",
    "            dPred = {rows[0]:rows[1] for rows in reader} #Prediction from the different classifiers (acoustic, w-embed)\n",
    "        lDicts.append(dPred)\n",
    "   \n",
    "    #creation of the matrix containing prediction from all classifiers\n",
    "    bEnter=1\n",
    "    for k in lDicts[0]: #first dictionary will be the lead\n",
    "        if k!='measurement_id':\n",
    "            lID.append(k) # measurement_id \n",
    "            if not bTestSubset:\n",
    "                vLabels.append(float(np.asarray(dLabels[k]))) #true labels\n",
    "                vParID.append(float(np.asarray(dID[k]))) #participant ID\n",
    "            vPredIter[0,0]=float(np.asarray(lDicts[0][k])) #first predicted value\n",
    "            # Go through the second and next predictions files\n",
    "            for j in range(1, iNumFiles):\n",
    "                # fPred will contain the prediction of the predictions file we're going through\n",
    "                fPred=lDicts[j].get(k)\n",
    "                if fPred: # if we found a prediction\n",
    "                    # we add it in the array\n",
    "                    vPredIter[0,j]=float(np.asarray(fPred))\n",
    "                else:\n",
    "                    print(['Unkwnown key:' + k])\n",
    "                    vPredIter[0,j]=float(np.asarray(lDicts[0][k]))\n",
    "            if bEnter==1:\n",
    "                # if it's the first prediction file, we initialize it\n",
    "                mPredictions=vPredIter.copy() # mPredictions initialization.\n",
    "                bEnter=0\n",
    "            else:\n",
    "                # We add the new predictions as a new column if it's not the first file we're going through\n",
    "                mPredictions=np.append(mPredictions,vPredIter,axis=0)\n",
    "\n",
    "    vAverage=np.mean(mPredictions,axis=1)\n",
    "    if bRound==1:\n",
    "        vPrediction=np.round(vAverage)\n",
    "    else:\n",
    "        vPrediction=vAverage\n",
    "    \n",
    "    vRes1=mPredictions[:,[0]]\n",
    "    vRes2=mPredictions[:,[1]]\n",
    "\n",
    "    lID, vPrediction=zip(*sorted(zip(lID, vPrediction)))\n",
    "    df = pd.DataFrame({'measurement_id': lID, sTypeLabel:vPrediction})\n",
    "    df.to_csv(sDirOut+'submissionCisPD'+sTypeLabel+'.csv', index=False)\n",
    "    print('Submission file was created: '+sDirOut+\"submissionCisPD\"+sTypeLabel+\".csv\")\n",
    "    \n",
    "    return vRes1, vRes2, vAverage, vParID, vLabels"
   ]
  },
  {
   "cell_type": "markdown",
   "metadata": {},
   "source": [
    "### Dyskinesia\n",
    "\n",
    "### Get predictions file on test subset "
   ]
  },
  {
   "cell_type": "code",
   "execution_count": 200,
   "metadata": {},
   "outputs": [
    {
     "name": "stdout",
     "output_type": "stream",
     "text": [
      "Number of analyzed file inputs: 2\n",
      "Submission file was created: /export/b19/mpgill/BeatPD_predictions_tryingout/submissionCisPDdyskinesia.csv\n"
     ]
    }
   ],
   "source": [
    "# tsfresh predictions file on test kfolds \n",
    "sFilePred1=sPathGithub+'/tsfresh/submit/submission/cis-pd.dyskinesia.perpatient.csv'\n",
    "\n",
    "# SVR predictions files on test kfolds \n",
    "sFilePred2=sPathKaldi+'/kaldi/egs/beatPDivec/dysk_noinact_auto30/exp/ivec_650/resiVecPerPatientSVR_Fold_all/preds_per_patient.csv'\n",
    "\n",
    "lFilesPred=[sFilePred1,sFilePred2]\n",
    "\n",
    "# Folder where we want to save the csv file with the average results \n",
    "dest_dir=sDirOut \n",
    "\n",
    "# Name of the CSV file to be created with the average \n",
    "fileName =\"dysk_test\"\n",
    "\n",
    "sTypeLabel = \"dyskinesia\"\n",
    "\n",
    "# Flag to round to the nearest integer or not \n",
    "# BUG, FIXME: It doesn't seem like this changes anything? \n",
    "bRound=0\n",
    "\n",
    "# Fusion with average of predictions get_final_score(vPredictions, vParID, vTrueLabels)\n",
    "vRes1, vRes2, vAverage, vParID, vLabels = average_fusion(lFilesPred, dest_dir, fileName, bRound, sFileLabels, sTypeLabel, True)\n"
   ]
  },
  {
   "cell_type": "markdown",
   "metadata": {},
   "source": [
    "# Merge CIS-PD and REAL-PD predictions in one CSV file "
   ]
  },
  {
   "cell_type": "code",
   "execution_count": 208,
   "metadata": {},
   "outputs": [],
   "source": [
    "from os import chdir\n",
    "from glob import glob\n",
    "import pandas as pdlib\n",
    "\n",
    "def produceOneCSV(list_of_files, file_out):\n",
    "    \"\"\"\n",
    "    Produce a single CSV after combining all files\n",
    "\n",
    "    Source: https://www.techbeamers.com/pandas-merge-csv-files/\n",
    "    \"\"\"\n",
    "    # Consolidate all CSV files into one object\n",
    "    result_obj = pdlib.concat([pdlib.read_csv(file) for file in list_of_files])\n",
    "    # Convert the above object into a csv file and export\n",
    "    result_obj.to_csv(file_out, index=False, encoding=\"utf-8\")\n",
    "    print('File was created: ', file_out)"
   ]
  },
  {
   "cell_type": "markdown",
   "metadata": {},
   "source": [
    "## ON/OFF"
   ]
  },
  {
   "cell_type": "code",
   "execution_count": 209,
   "metadata": {},
   "outputs": [
    {
     "name": "stdout",
     "output_type": "stream",
     "text": [
      "File was created:  /export/b19/mpgill/BeatPD_predictions_tryingout//cis-real.on_off.csv\n"
     ]
    }
   ],
   "source": [
    "# Merge tsfresh/.../cis-pd.on_off_new.csv and sDirOut+submissionRealPDon_off.csv\n",
    "\n",
    "sCisFile = sPathGithub+'/tsfresh/submit/submission/cis-pd.on_off_new.csv'\n",
    "sRealFile = sDirOut+'submissionRealPDon_off.csv'\n",
    "\n",
    "list_of_files = [sCisFile, sRealFile]\n",
    "file_out = sDirOut+\"/cis-real.on_off.csv\"\n",
    "produceOneCSV(list_of_files, file_out)"
   ]
  },
  {
   "cell_type": "markdown",
   "metadata": {},
   "source": [
    "## Tremor"
   ]
  },
  {
   "cell_type": "code",
   "execution_count": 210,
   "metadata": {},
   "outputs": [
    {
     "name": "stdout",
     "output_type": "stream",
     "text": [
      "File was created:  /export/b19/mpgill/BeatPD_predictions_tryingout//cis-real.tremor.csv\n"
     ]
    }
   ],
   "source": [
    "# Merge /tsfresh/.../cis-pd.tremor.csv and submissionRealPDtremor.csv \n",
    "\n",
    "sCisFile = sPathGithub+'/tsfresh/submit/submission/cis-pd.tremor.csv'\n",
    "sRealFile = sDirOut+'submissionRealPDtremor.csv'\n",
    "\n",
    "list_of_files = [sCisFile, sRealFile]\n",
    "file_out = sDirOut+\"/cis-real.tremor.csv\"\n",
    "produceOneCSV(list_of_files, file_out)"
   ]
  },
  {
   "cell_type": "markdown",
   "metadata": {},
   "source": [
    "## Dyskinesia"
   ]
  },
  {
   "cell_type": "code",
   "execution_count": 211,
   "metadata": {},
   "outputs": [
    {
     "name": "stdout",
     "output_type": "stream",
     "text": [
      "File was created:  /export/b19/mpgill/BeatPD_predictions_tryingout//cis-real.dyskinesia.csv\n"
     ]
    }
   ],
   "source": [
    "# Merge submissionCisPDdyskinesia.csv and submissionRealPDdyskinesia.csv\n",
    "\n",
    "sCisFile = sDirOut+\"submissionCisPDdyskinesia.csv\"\n",
    "sRealFile = sDirOut+'submissionRealPDdyskinesia.csv'\n",
    "\n",
    "list_of_files = [sCisFile, sRealFile]\n",
    "file_out = sDirOut+\"/cis-real.dyskinesia.csv\"\n",
    "produceOneCSV(list_of_files, file_out)"
   ]
  },
  {
   "cell_type": "markdown",
   "metadata": {},
   "source": [
    "### Example on test folds"
   ]
  },
  {
   "cell_type": "code",
   "execution_count": null,
   "metadata": {},
   "outputs": [],
   "source": [
    "# tsfresh predictions file on test kfolds \n",
    "sFilePred1=sPathGithub+'/tsfresh/submit/submission/cis-pd.dyskinesia.perpatient.csv'\n",
    "\n",
    "# SVR predictions files on test kfolds \n",
    "sFilePred2=sPathKaldi+'/kaldi/egs/beatPDivec/dysk_noinact_auto30/exp/ivec_650/resiVecPerPatientSVR_Fold_all_goodparams/preds_per_patient.csv'\n",
    "\n",
    "lFilesPred=[sFilePred1,sFilePred2]\n",
    "\n",
    "# Path to labels on CIS-PD \n",
    "sFileLabels=sPathData+'/cis-pd.data_labels/CIS-PD_Training_Data_IDs_Labels.csv'\n",
    "\n",
    "# Folder where we want to save the csv file with the average results \n",
    "dest_dir=sDirOut \n",
    "\n",
    "# Name of the CSV file to be created with the average \n",
    "fileName =\"dysk_test\"\n",
    "\n",
    "sTypeLabel = \"dyskinesia\"\n",
    "\n",
    "# Flag to round to the nearest integer or not \n",
    "# BUG, FIXME: It doesn't seem like this changes anything? \n",
    "bRound=0\n",
    "\n",
    "\n",
    "# Fusion with average of predictions get_final_score(vPredictions, vParID, vTrueLabels)\n",
    "vRes1, vRes2, vAverage, vParID, vLabels = average_fusion(lFilesPred, dest_dir, fileName, bRound, sFileLabels, sTypeLabel)\n",
    "\n",
    "print('Overall MSE Classif. 1 - tsfresh: ', get_final_score(vRes1, np.array(vParID).astype(int), vLabels))\n",
    "print('Overall MSE Classif. 2 - ivec: ', get_final_score(vRes2, vParID, vLabels))\n",
    "print('Overall MSE Fusion - average : ', get_final_score(vAverage, vParID, vLabels))"
   ]
  },
  {
   "cell_type": "markdown",
   "metadata": {},
   "source": [
    "### Tremor - Test Folds - CIS-PD - Gridsearch + global norm"
   ]
  },
  {
   "cell_type": "code",
   "execution_count": 8,
   "metadata": {},
   "outputs": [
    {
     "name": "stdout",
     "output_type": "stream",
     "text": [
      "sFileLabels :  /home/sjoshi/codes/python/BeatPD/data/BeatPD//cis-pd.data_labels/CIS-PD_Training_Data_IDs_Labels.csv\n",
      "Number of analyzed file inputs: 2\n",
      "Submission file was created: /export/b19/mpgill/BeatPD_predictions_tryingout/submissionCisPDtremor.csv\n",
      "--- MSEscore ---\n",
      "Final score :  0.4425578721059196\n",
      "Overall MSE Classif. 1 - tsfresh:  None\n",
      "--- MSEscore ---\n",
      "Final score :  0.4425578721059196\n",
      "Overall MSE Classif. 2 - ivec:  None\n",
      "--- MSEscore ---\n",
      "Final score :  0.4425578721059196\n",
      "Overall MSE Fusion - average :  None\n"
     ]
    }
   ],
   "source": [
    "# tsfresh predictions file on test kfolds \n",
    "sFilePred1=sPathGithub+'/tsfresh/submit/kfold_prediction_cis-pd_tremor.csv'\n",
    "\n",
    "# SVR predictions files on test kfolds \n",
    "# sFilePred2=sPathKaldi+'/kaldi/egs/beatPDivec/dysk_noinact_auto30/exp/ivec_650/resiVecPerPatientSVR_Fold_all_goodparams/preds_per_patient.csv'\n",
    "\n",
    "lFilesPred=[sFilePred1,sFilePred1]\n",
    "\n",
    "# Path to labels on CIS-PD \n",
    "sFileLabels=sPathData+'/cis-pd.data_labels/CIS-PD_Training_Data_IDs_Labels.csv'\n",
    "\n",
    "# Folder where we want to save the csv file with the average results \n",
    "dest_dir=sDirOut \n",
    "\n",
    "# Name of the CSV file to be created with the average \n",
    "fileName =\"tremor_test\"\n",
    "\n",
    "sTypeLabel = \"tremor\"\n",
    "\n",
    "# Flag to round to the nearest integer or not \n",
    "# BUG, FIXME: It doesn't seem like this changes anything? \n",
    "bRound=0\n",
    "\n",
    "\n",
    "# Fusion with average of predictions get_final_score(vPredictions, vParID, vTrueLabels)\n",
    "vRes1, vRes2, vAverage, vParID, vLabels = average_fusion(lFilesPred, dest_dir, fileName, bRound, sFileLabels, sTypeLabel)\n",
    "\n",
    "print('Overall MSE Classif. 1 - tsfresh: ', get_final_score(vRes1, np.array(vParID).astype(int), vLabels))\n",
    "print('Overall MSE Classif. 2 - ivec: ', get_final_score(vRes2, vParID, vLabels))\n",
    "print('Overall MSE Fusion - average : ', get_final_score(vAverage, vParID, vLabels))"
   ]
  },
  {
   "cell_type": "markdown",
   "metadata": {},
   "source": [
    "### Dyskinesia - Gridsearch + global norm"
   ]
  },
  {
   "cell_type": "code",
   "execution_count": 9,
   "metadata": {},
   "outputs": [
    {
     "name": "stdout",
     "output_type": "stream",
     "text": [
      "sFileLabels :  /home/sjoshi/codes/python/BeatPD/data/BeatPD//cis-pd.data_labels/CIS-PD_Training_Data_IDs_Labels.csv\n",
      "Number of analyzed file inputs: 2\n",
      "Submission file was created: /export/b19/mpgill/BeatPD_predictions_tryingout/submissionCisPDdyskinesia.csv\n",
      "--- MSEscore ---\n",
      "Final score :  0.4896636009359452\n",
      "Overall MSE Classif. 1 - tsfresh:  None\n",
      "--- MSEscore ---\n",
      "Final score :  0.4896636009359452\n",
      "Overall MSE Classif. 2 - ivec:  None\n",
      "--- MSEscore ---\n",
      "Final score :  0.4896636009359452\n",
      "Overall MSE Fusion - average :  None\n"
     ]
    }
   ],
   "source": [
    "# tsfresh predictions file on test kfolds \n",
    "sFilePred1=sPathGithub+'/tsfresh/submit/kfold_prediction_cis-pd_dyskinesia.csv'\n",
    "\n",
    "# SVR predictions files on test kfolds \n",
    "# sFilePred2=sPathKaldi+'/kaldi/egs/beatPDivec/dysk_noinact_auto30/exp/ivec_650/resiVecPerPatientSVR_Fold_all_goodparams/preds_per_patient.csv'\n",
    "\n",
    "lFilesPred=[sFilePred1,sFilePred1]\n",
    "\n",
    "# Path to labels on CIS-PD \n",
    "sFileLabels=sPathData+'/cis-pd.data_labels/CIS-PD_Training_Data_IDs_Labels.csv'\n",
    "\n",
    "# Folder where we want to save the csv file with the average results \n",
    "dest_dir=sDirOut \n",
    "\n",
    "# Name of the CSV file to be created with the average \n",
    "fileName =\"dyskinesia_test\"\n",
    "\n",
    "sTypeLabel = \"dyskinesia\"\n",
    "\n",
    "# Flag to round to the nearest integer or not \n",
    "# BUG, FIXME: It doesn't seem like this changes anything? \n",
    "bRound=0\n",
    "\n",
    "\n",
    "# Fusion with average of predictions get_final_score(vPredictions, vParID, vTrueLabels)\n",
    "vRes1, vRes2, vAverage, vParID, vLabels = average_fusion(lFilesPred, dest_dir, fileName, bRound, sFileLabels, sTypeLabel)\n",
    "\n",
    "print('Overall MSE Classif. 1 - tsfresh: ', get_final_score(vRes1, np.array(vParID).astype(int), vLabels))\n",
    "print('Overall MSE Classif. 2 - ivec: ', get_final_score(vRes2, vParID, vLabels))\n",
    "print('Overall MSE Fusion - average : ', get_final_score(vAverage, vParID, vLabels))"
   ]
  },
  {
   "cell_type": "markdown",
   "metadata": {},
   "source": [
    "### On/Off - Gridsearch + global norm"
   ]
  },
  {
   "cell_type": "code",
   "execution_count": 10,
   "metadata": {},
   "outputs": [
    {
     "name": "stdout",
     "output_type": "stream",
     "text": [
      "sFileLabels :  /home/sjoshi/codes/python/BeatPD/data/BeatPD//cis-pd.data_labels/CIS-PD_Training_Data_IDs_Labels.csv\n",
      "Number of analyzed file inputs: 2\n",
      "Submission file was created: /export/b19/mpgill/BeatPD_predictions_tryingout/submissionCisPDon_off.csv\n",
      "--- MSEscore ---\n",
      "Final score :  1.156679002684981\n",
      "Overall MSE Classif. 1 - tsfresh:  None\n",
      "--- MSEscore ---\n",
      "Final score :  1.156679002684981\n",
      "Overall MSE Classif. 2 - ivec:  None\n",
      "--- MSEscore ---\n",
      "Final score :  1.156679002684981\n",
      "Overall MSE Fusion - average :  None\n"
     ]
    }
   ],
   "source": [
    "# tsfresh predictions file on test kfolds \n",
    "sFilePred1=sPathGithub+'/tsfresh/submit/kfold_prediction_cis-pd_on_off.csv'\n",
    "\n",
    "# SVR predictions files on test kfolds \n",
    "# sFilePred2=sPathKaldi+'/kaldi/egs/beatPDivec/dysk_noinact_auto30/exp/ivec_650/resiVecPerPatientSVR_Fold_all_goodparams/preds_per_patient.csv'\n",
    "\n",
    "lFilesPred=[sFilePred1,sFilePred1]\n",
    "\n",
    "# Path to labels on CIS-PD \n",
    "sFileLabels=sPathData+'/cis-pd.data_labels/CIS-PD_Training_Data_IDs_Labels.csv'\n",
    "\n",
    "# Folder where we want to save the csv file with the average results \n",
    "dest_dir=sDirOut \n",
    "\n",
    "# Name of the CSV file to be created with the average \n",
    "fileName =\"on_off_teeeest\"\n",
    "\n",
    "sTypeLabel = \"on_off\"\n",
    "\n",
    "# Flag to round to the nearest integer or not \n",
    "# BUG, FIXME: It doesn't seem like this changes anything? \n",
    "bRound=0\n",
    "\n",
    "\n",
    "# Fusion with average of predictions get_final_score(vPredictions, vParID, vTrueLabels)\n",
    "vRes1, vRes2, vAverage, vParID, vLabels = average_fusion(lFilesPred, dest_dir, fileName, bRound, sFileLabels, sTypeLabel)\n",
    "\n",
    "print('Overall MSE Classif. 1 - tsfresh: ', get_final_score(vRes1, np.array(vParID).astype(int), vLabels))\n",
    "print('Overall MSE Classif. 2 - ivec: ', get_final_score(vRes2, vParID, vLabels))\n",
    "print('Overall MSE Fusion - average : ', get_final_score(vAverage, vParID, vLabels))"
   ]
  },
  {
   "cell_type": "code",
   "execution_count": 24,
   "metadata": {},
   "outputs": [
    {
     "name": "stdout",
     "output_type": "stream",
     "text": [
      "sFileLabels :  /home/sjoshi/codes/python/BeatPD/data/BeatPD//cis-pd.data_labels/CIS-PD_Training_Data_IDs_Labels.csv\n",
      "Number of analyzed file inputs: 2\n",
      "Submission file was created: /export/b19/mpgill/BeatPD_predictions_tryingout/submissionCisPDon_off.csv\n",
      "--- MSEscore ---\n",
      "Final score :  1.1948072541641777\n",
      "Overall MSE Classif. 1 - tsfresh:  None\n",
      "--- MSEscore ---\n",
      "Final score :  1.1948072541641777\n",
      "Overall MSE Classif. 2 - ivec:  None\n",
      "--- MSEscore ---\n",
      "Final score :  1.1948072541641777\n",
      "Overall MSE Fusion - average :  None\n"
     ]
    }
   ],
   "source": [
    "# tsfresh predictions file on test kfolds \n",
    "sFilePred1=sPathGithub+'/tsfresh/submit/kfold_prediction_lambda_0.3_cis-pd_on_off.csv'\n",
    "\n",
    "# SVR predictions files on test kfolds \n",
    "# sFilePred2=sPathKaldi+'/kaldi/egs/beatPDivec/dysk_noinact_auto30/exp/ivec_650/resiVecPerPatientSVR_Fold_all_goodparams/preds_per_patient.csv'\n",
    "\n",
    "lFilesPred=[sFilePred1,sFilePred1]\n",
    "\n",
    "# Path to labels on CIS-PD \n",
    "sFileLabels=sPathData+'/cis-pd.data_labels/CIS-PD_Training_Data_IDs_Labels.csv'\n",
    "\n",
    "# Folder where we want to save the csv file with the average results \n",
    "dest_dir=sDirOut \n",
    "\n",
    "# Name of the CSV file to be created with the average \n",
    "fileName =\"dyskinesia_teeerrrest\"\n",
    "\n",
    "sTypeLabel = \"on_off\"\n",
    "\n",
    "# Flag to round to the nearest integer or not \n",
    "# BUG, FIXME: It doesn't seem like this changes anything? \n",
    "bRound=0\n",
    "\n",
    "\n",
    "# Fusion with average of predictions get_final_score(vPredictions, vParID, vTrueLabels)\n",
    "vRes1, vRes2, vAverage, vParID, vLabels = average_fusion(lFilesPred, dest_dir, fileName, bRound, sFileLabels, sTypeLabel)\n",
    "\n",
    "print('Overall MSE Classif. 1 - tsfresh: ', get_final_score(vRes1, np.array(vParID).astype(int), vLabels))\n",
    "print('Overall MSE Classif. 2 - ivec: ', get_final_score(vRes2, vParID, vLabels))\n",
    "print('Overall MSE Fusion - average : ', get_final_score(vAverage, vParID, vLabels))"
   ]
  },
  {
   "cell_type": "code",
   "execution_count": 9,
   "metadata": {},
   "outputs": [
    {
     "name": "stdout",
     "output_type": "stream",
     "text": [
      "sFileLabels :  /home/sjoshi/codes/python/BeatPD/data/BeatPD//cis-pd.data_labels/CIS-PD_Training_Data_IDs_Labels.csv\n",
      "Number of analyzed file inputs: 2\n",
      "Submission file was created: /export/b19/mpgill/BeatPD_predictions_tryingout/submissionCisPDon_off.csv\n",
      "--- MSEscore ---\n",
      "Final score :  1.1750855614237372\n",
      "Overall MSE Classif. 1 - tsfresh:  None\n",
      "--- MSEscore ---\n",
      "Final score :  1.1750855614237372\n",
      "Overall MSE Classif. 2 - ivec:  None\n",
      "--- MSEscore ---\n",
      "Final score :  1.1750855614237372\n",
      "Overall MSE Fusion - average :  None\n"
     ]
    }
   ],
   "source": [
    "# tsfresh predictions file on test kfolds \n",
    "sFilePred1=sPathGithub+'/tsfresh/submit/kfold_prediction_rf_cis-pd_on_off.csv'\n",
    "\n",
    "# SVR predictions files on test kfolds \n",
    "# sFilePred2=sPathKaldi+'/kaldi/egs/beatPDivec/dysk_noinact_auto30/exp/ivec_650/resiVecPerPatientSVR_Fold_all_goodparams/preds_per_patient.csv'\n",
    "\n",
    "lFilesPred=[sFilePred1,sFilePred1]\n",
    "\n",
    "# Path to labels on CIS-PD \n",
    "sFileLabels=sPathData+'/cis-pd.data_labels/CIS-PD_Training_Data_IDs_Labels.csv'\n",
    "\n",
    "# Folder where we want to save the csv file with the average results \n",
    "dest_dir=sDirOut \n",
    "\n",
    "# Name of the CSV file to be created with the average \n",
    "fileName =\"dyskinesia_teeerrrest\"\n",
    "\n",
    "sTypeLabel = \"on_off\"\n",
    "\n",
    "# Flag to round to the nearest integer or not \n",
    "# BUG, FIXME: It doesn't seem like this changes anything? \n",
    "bRound=0\n",
    "\n",
    "\n",
    "# Fusion with average of predictions get_final_score(vPredictions, vParID, vTrueLabels)\n",
    "vRes1, vRes2, vAverage, vParID, vLabels = average_fusion(lFilesPred, dest_dir, fileName, bRound, sFileLabels, sTypeLabel)\n",
    "\n",
    "print('Overall MSE Classif. 1 - tsfresh: ', get_final_score(vRes1, np.array(vParID).astype(int), vLabels))\n",
    "print('Overall MSE Classif. 2 - ivec: ', get_final_score(vRes2, vParID, vLabels))\n",
    "print('Overall MSE Fusion - average : ', get_final_score(vAverage, vParID, vLabels))"
   ]
  },
  {
   "cell_type": "code",
   "execution_count": 10,
   "metadata": {},
   "outputs": [
    {
     "name": "stdout",
     "output_type": "stream",
     "text": [
      "sFileLabels :  /home/sjoshi/codes/python/BeatPD/data/BeatPD//cis-pd.data_labels/CIS-PD_Training_Data_IDs_Labels.csv\n",
      "Number of analyzed file inputs: 2\n",
      "Submission file was created: /export/b19/mpgill/BeatPD_predictions_tryingout/submissionCisPDtremor.csv\n",
      "--- MSEscore ---\n",
      "Final score :  0.4503645126275858\n",
      "Overall MSE Classif. 1 - tsfresh:  None\n",
      "--- MSEscore ---\n",
      "Final score :  0.4503645126275858\n",
      "Overall MSE Classif. 2 - ivec:  None\n",
      "--- MSEscore ---\n",
      "Final score :  0.4503645126275858\n",
      "Overall MSE Fusion - average :  None\n"
     ]
    }
   ],
   "source": [
    "# tsfresh predictions file on test kfolds \n",
    "sFilePred1=sPathGithub+'/tsfresh/submit/kfold_prediction_rf_cis-pd_tremor.csv'\n",
    "\n",
    "# SVR predictions files on test kfolds \n",
    "# sFilePred2=sPathKaldi+'/kaldi/egs/beatPDivec/dysk_noinact_auto30/exp/ivec_650/resiVecPerPatientSVR_Fold_all_goodparams/preds_per_patient.csv'\n",
    "\n",
    "lFilesPred=[sFilePred1,sFilePred1]\n",
    "\n",
    "# Path to labels on CIS-PD \n",
    "sFileLabels=sPathData+'/cis-pd.data_labels/CIS-PD_Training_Data_IDs_Labels.csv'\n",
    "\n",
    "# Folder where we want to save the csv file with the average results \n",
    "dest_dir=sDirOut \n",
    "\n",
    "# Name of the CSV file to be created with the average \n",
    "fileName =\"dyskinesia_teeerrrest\"\n",
    "\n",
    "sTypeLabel = \"tremor\"\n",
    "\n",
    "# Flag to round to the nearest integer or not \n",
    "# BUG, FIXME: It doesn't seem like this changes anything? \n",
    "bRound=0\n",
    "\n",
    "\n",
    "# Fusion with average of predictions get_final_score(vPredictions, vParID, vTrueLabels)\n",
    "vRes1, vRes2, vAverage, vParID, vLabels = average_fusion(lFilesPred, dest_dir, fileName, bRound, sFileLabels, sTypeLabel)\n",
    "\n",
    "print('Overall MSE Classif. 1 - tsfresh: ', get_final_score(vRes1, np.array(vParID).astype(int), vLabels))\n",
    "print('Overall MSE Classif. 2 - ivec: ', get_final_score(vRes2, vParID, vLabels))\n",
    "print('Overall MSE Fusion - average : ', get_final_score(vAverage, vParID, vLabels))"
   ]
  },
  {
   "cell_type": "code",
   "execution_count": 26,
   "metadata": {},
   "outputs": [
    {
     "name": "stdout",
     "output_type": "stream",
     "text": [
      "sFileLabels :  /home/sjoshi/codes/python/BeatPD/data/BeatPD//cis-pd.data_labels/CIS-PD_Training_Data_IDs_Labels.csv\n",
      "Number of analyzed file inputs: 2\n",
      "Submission file was created: /export/b19/mpgill/BeatPD_predictions_tryingout/submissionCisPDtremor.csv\n",
      "--- MSEscore ---\n",
      "Final score :  0.45107914133573473\n",
      "Overall MSE Classif. 1 - tsfresh:  None\n",
      "--- MSEscore ---\n",
      "Final score :  0.45107914133573473\n",
      "Overall MSE Classif. 2 - ivec:  None\n",
      "--- MSEscore ---\n",
      "Final score :  0.45107914133573473\n",
      "Overall MSE Fusion - average :  None\n"
     ]
    }
   ],
   "source": [
    "# tsfresh predictions file on test kfolds \n",
    "sFilePred1=sPathGithub+'/tsfresh/submit/kfold_prediction_rf_cis-pd_tremor.csv'\n",
    "\n",
    "# SVR predictions files on test kfolds \n",
    "# sFilePred2=sPathKaldi+'/kaldi/egs/beatPDivec/dysk_noinact_auto30/exp/ivec_650/resiVecPerPatientSVR_Fold_all_goodparams/preds_per_patient.csv'\n",
    "\n",
    "lFilesPred=[sFilePred1,sFilePred1]\n",
    "\n",
    "# Path to labels on CIS-PD \n",
    "sFileLabels=sPathData+'/cis-pd.data_labels/CIS-PD_Training_Data_IDs_Labels.csv'\n",
    "\n",
    "# Folder where we want to save the csv file with the average results \n",
    "dest_dir=sDirOut \n",
    "\n",
    "# Name of the CSV file to be created with the average \n",
    "fileName =\"dyskinesia_teeerrrest\"\n",
    "\n",
    "sTypeLabel = \"tremor\"\n",
    "\n",
    "# Flag to round to the nearest integer or not \n",
    "# BUG, FIXME: It doesn't seem like this changes anything? \n",
    "bRound=0\n",
    "\n",
    "\n",
    "# Fusion with average of predictions get_final_score(vPredictions, vParID, vTrueLabels)\n",
    "vRes1, vRes2, vAverage, vParID, vLabels = average_fusion(lFilesPred, dest_dir, fileName, bRound, sFileLabels, sTypeLabel)\n",
    "\n",
    "print('Overall MSE Classif. 1 - tsfresh: ', get_final_score(vRes1, np.array(vParID).astype(int), vLabels))\n",
    "print('Overall MSE Classif. 2 - ivec: ', get_final_score(vRes2, vParID, vLabels))\n",
    "print('Overall MSE Fusion - average : ', get_final_score(vAverage, vParID, vLabels))"
   ]
  },
  {
   "cell_type": "code",
   "execution_count": 20,
   "metadata": {},
   "outputs": [
    {
     "name": "stdout",
     "output_type": "stream",
     "text": [
      "sFileLabels :  /home/sjoshi/codes/python/BeatPD/data/BeatPD//cis-pd.data_labels/CIS-PD_Training_Data_IDs_Labels.csv\n",
      "Number of analyzed file inputs: 2\n",
      "Submission file was created: /export/b19/mpgill/BeatPD_predictions_tryingout/submissionCisPDdyskinesia.csv\n",
      "--- MSEscore ---\n",
      "Final score :  0.5132973963760121\n",
      "Overall MSE Classif. 1 - tsfresh:  None\n",
      "--- MSEscore ---\n",
      "Final score :  0.5132973963760121\n",
      "Overall MSE Classif. 2 - ivec:  None\n",
      "--- MSEscore ---\n",
      "Final score :  0.5132973963760121\n",
      "Overall MSE Fusion - average :  None\n"
     ]
    }
   ],
   "source": [
    "# tsfresh predictions file on test kfolds \n",
    "sFilePred1=sPathGithub+'/tsfresh/submit/kfold_prediction_cis-pd_dyskinesia_lamb_1.0_2.csv'\n",
    "\n",
    "# SVR predictions files on test kfolds \n",
    "# sFilePred2=sPathKaldi+'/kaldi/egs/beatPDivec/dysk_noinact_auto30/exp/ivec_650/resiVecPerPatientSVR_Fold_all_goodparams/preds_per_patient.csv'\n",
    "\n",
    "lFilesPred=[sFilePred1,sFilePred1]\n",
    "\n",
    "# Path to labels on CIS-PD \n",
    "sFileLabels=sPathData+'/cis-pd.data_labels/CIS-PD_Training_Data_IDs_Labels.csv'\n",
    "\n",
    "# Folder where we want to save the csv file with the average results \n",
    "dest_dir=sDirOut \n",
    "\n",
    "# Name of the CSV file to be created with the average \n",
    "fileName =\"dyskinesia_teeerrrest\"\n",
    "\n",
    "sTypeLabel = \"dyskinesia\"\n",
    "\n",
    "# Flag to round to the nearest integer or not \n",
    "# BUG, FIXME: It doesn't seem like this changes anything? \n",
    "bRound=0\n",
    "\n",
    "\n",
    "# Fusion with average of predictions get_final_score(vPredictions, vParID, vTrueLabels)\n",
    "vRes1, vRes2, vAverage, vParID, vLabels = average_fusion(lFilesPred, dest_dir, fileName, bRound, sFileLabels, sTypeLabel)\n",
    "\n",
    "print('Overall MSE Classif. 1 - tsfresh: ', get_final_score(vRes1, np.array(vParID).astype(int), vLabels))\n",
    "print('Overall MSE Classif. 2 - ivec: ', get_final_score(vRes2, vParID, vLabels))\n",
    "print('Overall MSE Fusion - average : ', get_final_score(vAverage, vParID, vLabels))"
   ]
  },
  {
   "cell_type": "code",
   "execution_count": null,
   "metadata": {},
   "outputs": [],
   "source": []
  }
 ],
 "metadata": {
  "kernelspec": {
   "display_name": "Python 3",
   "language": "python",
   "name": "python3"
  },
  "language_info": {
   "codemirror_mode": {
    "name": "ipython",
    "version": 3
   },
   "file_extension": ".py",
   "mimetype": "text/x-python",
   "name": "python",
   "nbconvert_exporter": "python",
   "pygments_lexer": "ipython3",
   "version": "3.7.3"
  }
 },
 "nbformat": 4,
 "nbformat_minor": 4
}
