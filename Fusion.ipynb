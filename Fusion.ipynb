{
 "cells": [
  {
   "cell_type": "markdown",
   "metadata": {},
   "source": [
    "# Fusion"
   ]
  },
  {
   "cell_type": "markdown",
   "metadata": {},
   "source": [
    "Submission 2:\n",
    "    - Tremor : Gradient Boosting Regression\n",
    "    - Dyskinesia : Gradient Boosting Regression\n",
    "    \n",
    "Submission 4: \n",
    "    - Dyskinesia : Average of predictions "
   ]
  },
  {
   "cell_type": "code",
   "execution_count": 87,
   "metadata": {},
   "outputs": [
    {
     "name": "stdout",
     "output_type": "stream",
     "text": [
      "The autoreload extension is already loaded. To reload it, use:\n",
      "  %reload_ext autoreload\n"
     ]
    }
   ],
   "source": [
    "import numpy as np\n",
    "import os\n",
    "from sklearn.ensemble import RandomForestClassifier\n",
    "import csv\n",
    "from sklearn.model_selection import cross_val_score\n",
    "from sklearn.datasets import make_blobs\n",
    "from sklearn.ensemble import RandomForestRegressor\n",
    "from sklearn.ensemble import ExtraTreesClassifier\n",
    "from sklearn.tree import DecisionTreeClassifier\n",
    "from random import random\n",
    "from sklearn.metrics import mean_squared_error\n",
    "import pickle\n",
    "import pandas as pd\n",
    "from sklearn.metrics import mean_squared_error\n",
    "from sklearn.ensemble import GradientBoostingRegressor\n",
    "\n",
    "%load_ext autoreload\n",
    "%autoreload 2\n",
    "\n",
    "from transform_data import *\n",
    "from create_graphs import *\n",
    "from beatPDivec.default_data.v2_auto.local.get_final_scores_accuracy import *"
   ]
  },
  {
   "cell_type": "code",
   "execution_count": 88,
   "metadata": {},
   "outputs": [],
   "source": [
    "sDirOut = \"/export/b19/mpgill/BeatPD_predictions_tryingout/\""
   ]
  },
  {
   "cell_type": "markdown",
   "metadata": {},
   "source": [
    "## Submission 4 - Average of predictions "
   ]
  },
  {
   "cell_type": "code",
   "execution_count": 89,
   "metadata": {},
   "outputs": [],
   "source": [
    "def average_fusion(lFilesPred, sDirOut, fileName, bRound, sFileLabels, sTypeLabel, bTestSubset=False):\n",
    "    \n",
    "    # Read file labels (true labels)\n",
    "    if not bTestSubset:\n",
    "        print(\"sFileLabels : \", sFileLabels)\n",
    "        with open(sFileLabels, mode='r') as infile:\n",
    "            reader = csv.reader(infile)\n",
    "            dID = {rows[0]:rows[1] for rows in reader} #participant ID\n",
    "        with open(sFileLabels, mode='r') as infile:\n",
    "            reader = csv.reader(infile)\n",
    "            dOnOff= {rows[0]:rows[2] for rows in reader} #on-off label\n",
    "        with open(sFileLabels, mode='r') as infile:\n",
    "            reader = csv.reader(infile)\n",
    "            dDys={rows[0]:rows[3] for rows in reader} #dyskinesia label\n",
    "        with open(sFileLabels, mode='r') as infile:\n",
    "            reader = csv.reader(infile)\n",
    "            dTrem={rows[0]:rows[4] for rows in reader} #tremor label\n",
    "\n",
    "        #label selection\n",
    "        if sTypeLabel=='on_off':\n",
    "            dLabels=dOnOff\n",
    "        elif sTypeLabel=='tremor':\n",
    "            dLabels=dTrem\n",
    "        elif sTypeLabel=='dyskinesia':\n",
    "            dLabels=dDys\n",
    "        else:\n",
    "            print('sTypeLabel undefined')\n",
    "        \n",
    "    iNumFiles=len(lFilesPred)\n",
    "    print('Number of analyzed file inputs: '+ str(iNumFiles))\n",
    "    vPredIter=np.zeros((1,iNumFiles))\n",
    "    mPredictions=np.zeros((1,iNumFiles))\n",
    "    lID=[] # measurement_id \n",
    "    lDicts=[] \n",
    "    vLabels = [] # true label\n",
    "    vParID=[] # participant ID\n",
    "\n",
    "    for sFilePred in lFilesPred:\n",
    "        with open(sFilePred, mode='r') as infile:\n",
    "            reader = csv.reader(infile)\n",
    "            dPred = {rows[0]:rows[1] for rows in reader} #Prediction from the different classifiers (acoustic, w-embed)\n",
    "        lDicts.append(dPred)\n",
    "   \n",
    "    #creation of the matrix containing prediction from all classifiers\n",
    "    bEnter=1\n",
    "    for k in lDicts[0]: #first dictionary will be the lead\n",
    "        if k!='measurement_id':\n",
    "            lID.append(k) # measurement_id \n",
    "            if not bTestSubset:\n",
    "                vLabels.append(float(np.asarray(dLabels[k]))) #true labels\n",
    "                vParID.append(float(np.asarray(dID[k]))) #participant ID\n",
    "            vPredIter[0,0]=float(np.asarray(lDicts[0][k])) #first predicted value\n",
    "            # Go through the second and next predictions files\n",
    "            for j in range(1, iNumFiles):\n",
    "                # fPred will contain the prediction of the predictions file we're going through\n",
    "                fPred=lDicts[j].get(k)\n",
    "                if fPred: # if we found a prediction\n",
    "                    # we add it in the array\n",
    "                    vPredIter[0,j]=float(np.asarray(fPred))\n",
    "                else:\n",
    "                    print(['Unkwnown key:' + k])\n",
    "                    vPredIter[0,j]=float(np.asarray(lDicts[0][k]))\n",
    "            if bEnter==1:\n",
    "                # if it's the first prediction file, we initialize it\n",
    "                mPredictions=vPredIter.copy() # mPredictions initialization.\n",
    "                bEnter=0\n",
    "            else:\n",
    "                # We add the new predictions as a new column if it's not the first file we're going through\n",
    "                mPredictions=np.append(mPredictions,vPredIter,axis=0)\n",
    "\n",
    "    vAverage=np.mean(mPredictions,axis=1)\n",
    "    if bRound==1:\n",
    "        vPrediction=np.round(vAverage)\n",
    "    else:\n",
    "        vPrediction=vAverage\n",
    "    \n",
    "    vRes1=mPredictions[:,[0]]\n",
    "    vRes2=mPredictions[:,[1]]\n",
    "\n",
    "    lID, vPrediction=zip(*sorted(zip(lID, vPrediction)))\n",
    "    df = pd.DataFrame({'measurement_id': lID, sTypeLabel:vPrediction})\n",
    "    print('Submission file was created: '+sDirOut+\"submissionCisPD\"+sTypeLabel+\".csv\")\n",
    "    df.to_csv(sDirOut+'submissionCisPD'+sTypeLabel+'.csv', index=False)\n",
    "    \n",
    "    return vRes1, vRes2, vAverage, vParID, vLabels"
   ]
  },
  {
   "cell_type": "markdown",
   "metadata": {},
   "source": [
    "### Dyskinesia\n",
    "\n",
    "### Get predictions file on test subset "
   ]
  },
  {
   "cell_type": "code",
   "execution_count": null,
   "metadata": {},
   "outputs": [],
   "source": [
    "# tsfresh predictions file on test kfolds \n",
    "sFilePred1='<path-to-github-repo>/tsfresh/submit/submission/cis-pd.dyskinesia.perpatient.csv'\n",
    "\n",
    "# SVR predictions files on test kfolds \n",
    "sFilePred2='<path-to-kaldi>/kaldi/egs/beatPDivec/dysk_noinact_auto30/exp/ivec_650/resiVecPerPatientSVR_Fold_all/preds_per_patient.csv'\n",
    "\n",
    "lFilesPred=[sFilePred1,sFilePred2]\n",
    "\n",
    "# Folder where we want to save the csv file with the average results \n",
    "dest_dir=sDirOut \n",
    "\n",
    "# Name of the CSV file to be created with the average \n",
    "fileName =\"dysk_test\"\n",
    "\n",
    "sTypeLabel = \"dyskinesia\"\n",
    "\n",
    "# Flag to round to the nearest integer or not \n",
    "# BUG, FIXME: It doesn't seem like this changes anything? \n",
    "bRound=0\n",
    "\n",
    "# Fusion with average of predictions get_final_score(vPredictions, vParID, vTrueLabels)\n",
    "vRes1, vRes2, vAverage, vParID, vLabels = average_fusion(lFilesPred, dest_dir, fileName, bRound, sFileLabels, sTypeLabel, True)\n"
   ]
  },
  {
   "cell_type": "markdown",
   "metadata": {},
   "source": [
    "### Example on test folds"
   ]
  },
  {
   "cell_type": "code",
   "execution_count": null,
   "metadata": {},
   "outputs": [],
   "source": [
    "# tsfresh predictions file on test kfolds \n",
    "sFilePred1='<path-github-repo>/tsfresh/submit/submission/cis-pd.dyskinesia.perpatient.csv'\n",
    "\n",
    "# SVR predictions files on test kfolds \n",
    "sFilePred2='<path-to-kaldi>/kaldi/egs/beatPDivec/dysk_noinact_auto30/exp/ivec_650/resiVecPerPatientSVR_Fold_all_goodparams/preds_per_patient.csv'\n",
    "\n",
    "lFilesPred=[sFilePred1,sFilePred2]\n",
    "\n",
    "# Path to labels on CIS-PD \n",
    "sFileLabels='<path-to-data>/cis-pd.data_labels/CIS-PD_Training_Data_IDs_Labels.csv'\n",
    "\n",
    "# Folder where we want to save the csv file with the average results \n",
    "dest_dir=sDirOut \n",
    "\n",
    "# Name of the CSV file to be created with the average \n",
    "fileName =\"dysk_test\"\n",
    "\n",
    "sTypeLabel = \"dyskinesia\"\n",
    "\n",
    "# Flag to round to the nearest integer or not \n",
    "# BUG, FIXME: It doesn't seem like this changes anything? \n",
    "bRound=0\n",
    "\n",
    "\n",
    "# Fusion with average of predictions get_final_score(vPredictions, vParID, vTrueLabels)\n",
    "vRes1, vRes2, vAverage, vParID, vLabels = average_fusion(lFilesPred, dest_dir, fileName, bRound, sFileLabels, sTypeLabel)\n",
    "\n",
    "print('Overall MSE Classif. 1 - tsfresh: ', get_final_score(vRes1, np.array(vParID).astype(int), vLabels))\n",
    "print('Overall MSE Classif. 2 - ivec: ', get_final_score(vRes2, vParID, vLabels))\n",
    "print('Overall MSE Fusion - average : ', get_final_score(vAverage, vParID, vLabels))\n",
    "\n",
    "\n"
   ]
  }
 ],
 "metadata": {
  "kernelspec": {
   "display_name": "Python 3",
   "language": "python",
   "name": "python3"
  },
  "language_info": {
   "codemirror_mode": {
    "name": "ipython",
    "version": 3
   },
   "file_extension": ".py",
   "mimetype": "text/x-python",
   "name": "python",
   "nbconvert_exporter": "python",
   "pygments_lexer": "ipython3",
   "version": "3.7.3"
  }
 },
 "nbformat": 4,
 "nbformat_minor": 4
}
