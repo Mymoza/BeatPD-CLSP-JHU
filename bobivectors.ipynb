{
 "cells": [
  {
   "cell_type": "markdown",
   "metadata": {},
   "source": [
    "# i-vectors with bob package\n",
    "\n",
    "Documentation: \n",
    "- https://groups.google.com/forum/#!msg/bob-devel/ztz2TcTDH_Y/ISjzx6L1BQAJ\n",
    "- https://www.idiap.ch/software/bob/docs/bob/bob.learn.em/stable/guide.html#id29\n",
    "- https://www.idiap.ch/software/bob/docs/bob/bob.learn.em/stable/guide.html#session-variability-modeling-with-gaussian-mixture-models\n",
    "- https://groups.google.com/forum/#!topic/bob-devel/lFda64dmpjY\n",
    "\n",
    "\n",
    "Questions: \n",
    "- Which one to use `bob.learn.em.IVectorTrainer` or the one in `bob.bio.gmm.algorithm.IVector`?\n",
    "    - it depends. When you want to implement your own application for i-vector training and evaluation, the bob.learn.em classes should work for you. When you are implementing speaker recognition experiments, bob.bio.gmm is the better choice."
   ]
  },
  {
   "cell_type": "code",
   "execution_count": 30,
   "metadata": {},
   "outputs": [
    {
     "name": "stdout",
     "output_type": "stream",
     "text": [
      "/home/mpgill/anaconda3/bin/python\r\n",
      "Python 3.7.3\r\n"
     ]
    }
   ],
   "source": [
    "import bob.learn.em\n",
    "import bob.bio.gmm\n",
    "import numpy\n",
    "import pandas as pd \n",
    "import numpy as np\n",
    "!which python; python -V;"
   ]
  },
  {
   "cell_type": "markdown",
   "metadata": {},
   "source": [
    "```\n",
    "$ conda create --name bob_py3 --override-channels -c https://www.idiap.ch/software/bob/conda -c defaults bob\n",
    "$ conda activate bob_py3\n",
    "$ conda config --env --add channels https://www.idiap.ch/software/bob/conda/label/archive\n",
    "$ conda config --env --add channels defaults\n",
    "$ conda config --env --add channels https://www.idiap.ch/software/bob/conda\n",
    "$ conda install bob.bio.gmm\n",
    "$ conda install nb_conda_kernels\n",
    "```"
   ]
  },
  {
   "cell_type": "code",
   "execution_count": 1,
   "metadata": {},
   "outputs": [
    {
     "data": {
      "text/plain": [
       "['/home/mpgill/anaconda3/envs/bob_py3/lib/python36.zip',\n",
       " '/home/mpgill/anaconda3/envs/bob_py3/lib/python3.6',\n",
       " '/home/mpgill/anaconda3/envs/bob_py3/lib/python3.6/lib-dynload',\n",
       " '',\n",
       " '/home/mpgill/anaconda3/envs/bob_py3/lib/python3.6/site-packages',\n",
       " '/home/mpgill/anaconda3/envs/bob_py3/lib/python3.6/site-packages/IPython/extensions',\n",
       " '/home/mpgill/.ipython']"
      ]
     },
     "execution_count": 1,
     "metadata": {},
     "output_type": "execute_result"
    }
   ],
   "source": [
    "data_dir='/home/sjoshi/codes/python/BeatPD/data/BeatPD/'"
   ]
  },
  {
   "cell_type": "markdown",
   "metadata": {},
   "source": [
    "# TO be deleted when I can import function from other notebook "
   ]
  },
  {
   "cell_type": "code",
   "execution_count": 4,
   "metadata": {},
   "outputs": [],
   "source": [
    "def define_data_type(data_type):\n",
    "    # Setup file names\n",
    "\n",
    "    '''\n",
    "    data_type={cis , real}\n",
    "\n",
    "    If data_type is real, data_real_subtype \n",
    "    data_real_subtype={smartphone_accelerometer , smartwatch_accelerometer , smartwatch_gyroscope}\n",
    "    '''\n",
    "    if data_type=='cis':\n",
    "        path_train_labels=data_dir+data_type+'-pd.data_labels/'+data_type.upper()+'-PD_Training_Data_IDs_Labels.csv'\n",
    "        path_train_data=data_dir+data_type+'-pd.training_data/'\n",
    "\n",
    "    if data_type=='real':\n",
    "        path_train_labels=data_dir+data_type+'-pd.data_labels/'+data_type.upper()+'-PD_Training_Data_IDs_Labels.csv'\n",
    "        path_train_data=data_dir+data_type+'-pd.training_data/'+data_real_subtype+'/'\n",
    "\n",
    "    # Display labels\n",
    "    df_train_label=pd.read_csv(path_train_labels)\n",
    "    return path_train_data, df_train_label"
   ]
  },
  {
   "cell_type": "code",
   "execution_count": 5,
   "metadata": {},
   "outputs": [],
   "source": [
    "'''\n",
    "Filters df_train_label according to a list of measurement_id we are interested in analyzing\n",
    "\n",
    "Arguments:\n",
    "- df_train_label: dataframe with labels\n",
    "- list_measure_id: list of measurement_id \n",
    "\n",
    "Returns:\n",
    "- df_train_label: filtered df_train_label containing only the measurements_id we are interested in \n",
    "'''\n",
    "def interesting_patients(df_train_label, list_measurement_id):\n",
    "    filter_measurement_id = df_train_label.measurement_id.isin(list_measurement_id)\n",
    "\n",
    "    df_train_label = df_train_label[filter_measurement_id]\n",
    "    return df_train_label"
   ]
  },
  {
   "cell_type": "code",
   "execution_count": 7,
   "metadata": {},
   "outputs": [
    {
     "name": "stderr",
     "output_type": "stream",
     "text": [
      "DEBUG:root:test\n"
     ]
    }
   ],
   "source": [
    "import logging\n",
    "logger = logging.getLogger()\n",
    "logger.setLevel(logging.DEBUG)\n",
    "logging.debug(\"test\")"
   ]
  },
  {
   "cell_type": "code",
   "execution_count": 17,
   "metadata": {},
   "outputs": [
    {
     "name": "stdout",
     "output_type": "stream",
     "text": [
      "bob.bio.gmm@2020-02-20 14:18:43,497 -- DEBUG:  .... Training with 179820 feature vectors\n"
     ]
    },
    {
     "name": "stderr",
     "output_type": "stream",
     "text": [
      "DEBUG:bob.bio.gmm: .... Training with 179820 feature vectors\n"
     ]
    },
    {
     "name": "stdout",
     "output_type": "stream",
     "text": [
      "bob.bio.gmm@2020-02-20 14:18:43,498 -- DEBUG:  .... Creating machines\n"
     ]
    },
    {
     "name": "stderr",
     "output_type": "stream",
     "text": [
      "DEBUG:bob.bio.gmm: .... Creating machines\n"
     ]
    },
    {
     "name": "stdout",
     "output_type": "stream",
     "text": [
      "bob.bio.gmm@2020-02-20 14:18:43,500 -- INFO:   -> Training K-Means\n"
     ]
    },
    {
     "name": "stderr",
     "output_type": "stream",
     "text": [
      "INFO:bob.bio.gmm:  -> Training K-Means\n"
     ]
    },
    {
     "name": "stdout",
     "output_type": "stream",
     "text": [
      "bob.learn.em.train@2020-02-20 14:18:46,393 -- INFO: Iteration = 0/25\n"
     ]
    },
    {
     "name": "stderr",
     "output_type": "stream",
     "text": [
      "INFO:bob.learn.em.train:Iteration = 0/25\n"
     ]
    },
    {
     "name": "stdout",
     "output_type": "stream",
     "text": [
      "bob.learn.em.train@2020-02-20 14:18:49,143 -- INFO: average euclidean distance = 0.110828\n"
     ]
    },
    {
     "name": "stderr",
     "output_type": "stream",
     "text": [
      "INFO:bob.learn.em.train:average euclidean distance = 0.110828\n"
     ]
    },
    {
     "name": "stdout",
     "output_type": "stream",
     "text": [
      "bob.learn.em.train@2020-02-20 14:18:49,145 -- INFO: convergence value = 0.307497\n"
     ]
    },
    {
     "name": "stderr",
     "output_type": "stream",
     "text": [
      "INFO:bob.learn.em.train:convergence value = 0.307497\n"
     ]
    },
    {
     "name": "stdout",
     "output_type": "stream",
     "text": [
      "bob.learn.em.train@2020-02-20 14:18:49,146 -- INFO: Iteration = 1/25\n"
     ]
    },
    {
     "name": "stderr",
     "output_type": "stream",
     "text": [
      "INFO:bob.learn.em.train:Iteration = 1/25\n"
     ]
    },
    {
     "name": "stdout",
     "output_type": "stream",
     "text": [
      "bob.learn.em.train@2020-02-20 14:18:51,889 -- INFO: average euclidean distance = 0.091852\n"
     ]
    },
    {
     "name": "stderr",
     "output_type": "stream",
     "text": [
      "INFO:bob.learn.em.train:average euclidean distance = 0.091852\n"
     ]
    },
    {
     "name": "stdout",
     "output_type": "stream",
     "text": [
      "bob.learn.em.train@2020-02-20 14:18:51,891 -- INFO: convergence value = 0.171218\n"
     ]
    },
    {
     "name": "stderr",
     "output_type": "stream",
     "text": [
      "INFO:bob.learn.em.train:convergence value = 0.171218\n"
     ]
    },
    {
     "name": "stdout",
     "output_type": "stream",
     "text": [
      "bob.learn.em.train@2020-02-20 14:18:51,892 -- INFO: Iteration = 2/25\n"
     ]
    },
    {
     "name": "stderr",
     "output_type": "stream",
     "text": [
      "INFO:bob.learn.em.train:Iteration = 2/25\n"
     ]
    },
    {
     "name": "stdout",
     "output_type": "stream",
     "text": [
      "bob.learn.em.train@2020-02-20 14:18:54,657 -- INFO: average euclidean distance = 0.083633\n"
     ]
    },
    {
     "name": "stderr",
     "output_type": "stream",
     "text": [
      "INFO:bob.learn.em.train:average euclidean distance = 0.083633\n"
     ]
    },
    {
     "name": "stdout",
     "output_type": "stream",
     "text": [
      "bob.learn.em.train@2020-02-20 14:18:54,659 -- INFO: convergence value = 0.089482\n"
     ]
    },
    {
     "name": "stderr",
     "output_type": "stream",
     "text": [
      "INFO:bob.learn.em.train:convergence value = 0.089482\n"
     ]
    },
    {
     "name": "stdout",
     "output_type": "stream",
     "text": [
      "bob.learn.em.train@2020-02-20 14:18:54,660 -- INFO: Iteration = 3/25\n"
     ]
    },
    {
     "name": "stderr",
     "output_type": "stream",
     "text": [
      "INFO:bob.learn.em.train:Iteration = 3/25\n"
     ]
    },
    {
     "name": "stdout",
     "output_type": "stream",
     "text": [
      "bob.learn.em.train@2020-02-20 14:18:57,448 -- INFO: average euclidean distance = 0.079150\n"
     ]
    },
    {
     "name": "stderr",
     "output_type": "stream",
     "text": [
      "INFO:bob.learn.em.train:average euclidean distance = 0.079150\n"
     ]
    },
    {
     "name": "stdout",
     "output_type": "stream",
     "text": [
      "bob.learn.em.train@2020-02-20 14:18:57,450 -- INFO: convergence value = 0.053607\n"
     ]
    },
    {
     "name": "stderr",
     "output_type": "stream",
     "text": [
      "INFO:bob.learn.em.train:convergence value = 0.053607\n"
     ]
    },
    {
     "name": "stdout",
     "output_type": "stream",
     "text": [
      "bob.learn.em.train@2020-02-20 14:18:57,452 -- INFO: Iteration = 4/25\n"
     ]
    },
    {
     "name": "stderr",
     "output_type": "stream",
     "text": [
      "INFO:bob.learn.em.train:Iteration = 4/25\n"
     ]
    },
    {
     "name": "stdout",
     "output_type": "stream",
     "text": [
      "bob.learn.em.train@2020-02-20 14:19:00,359 -- INFO: average euclidean distance = 0.076309\n"
     ]
    },
    {
     "name": "stderr",
     "output_type": "stream",
     "text": [
      "INFO:bob.learn.em.train:average euclidean distance = 0.076309\n"
     ]
    },
    {
     "name": "stdout",
     "output_type": "stream",
     "text": [
      "bob.learn.em.train@2020-02-20 14:19:00,361 -- INFO: convergence value = 0.035889\n"
     ]
    },
    {
     "name": "stderr",
     "output_type": "stream",
     "text": [
      "INFO:bob.learn.em.train:convergence value = 0.035889\n"
     ]
    },
    {
     "name": "stdout",
     "output_type": "stream",
     "text": [
      "bob.learn.em.train@2020-02-20 14:19:00,363 -- INFO: Iteration = 5/25\n"
     ]
    },
    {
     "name": "stderr",
     "output_type": "stream",
     "text": [
      "INFO:bob.learn.em.train:Iteration = 5/25\n"
     ]
    },
    {
     "name": "stdout",
     "output_type": "stream",
     "text": [
      "bob.learn.em.train@2020-02-20 14:19:03,253 -- INFO: average euclidean distance = 0.074168\n"
     ]
    },
    {
     "name": "stderr",
     "output_type": "stream",
     "text": [
      "INFO:bob.learn.em.train:average euclidean distance = 0.074168\n"
     ]
    },
    {
     "name": "stdout",
     "output_type": "stream",
     "text": [
      "bob.learn.em.train@2020-02-20 14:19:03,254 -- INFO: convergence value = 0.028056\n"
     ]
    },
    {
     "name": "stderr",
     "output_type": "stream",
     "text": [
      "INFO:bob.learn.em.train:convergence value = 0.028056\n"
     ]
    },
    {
     "name": "stdout",
     "output_type": "stream",
     "text": [
      "bob.learn.em.train@2020-02-20 14:19:03,255 -- INFO: Iteration = 6/25\n"
     ]
    },
    {
     "name": "stderr",
     "output_type": "stream",
     "text": [
      "INFO:bob.learn.em.train:Iteration = 6/25\n"
     ]
    },
    {
     "name": "stdout",
     "output_type": "stream",
     "text": [
      "bob.learn.em.train@2020-02-20 14:19:06,100 -- INFO: average euclidean distance = 0.072628\n"
     ]
    },
    {
     "name": "stderr",
     "output_type": "stream",
     "text": [
      "INFO:bob.learn.em.train:average euclidean distance = 0.072628\n"
     ]
    },
    {
     "name": "stdout",
     "output_type": "stream",
     "text": [
      "bob.learn.em.train@2020-02-20 14:19:06,102 -- INFO: convergence value = 0.020775\n"
     ]
    },
    {
     "name": "stderr",
     "output_type": "stream",
     "text": [
      "INFO:bob.learn.em.train:convergence value = 0.020775\n"
     ]
    },
    {
     "name": "stdout",
     "output_type": "stream",
     "text": [
      "bob.learn.em.train@2020-02-20 14:19:06,103 -- INFO: Iteration = 7/25\n"
     ]
    },
    {
     "name": "stderr",
     "output_type": "stream",
     "text": [
      "INFO:bob.learn.em.train:Iteration = 7/25\n"
     ]
    },
    {
     "name": "stdout",
     "output_type": "stream",
     "text": [
      "bob.learn.em.train@2020-02-20 14:19:08,847 -- INFO: average euclidean distance = 0.071405\n"
     ]
    },
    {
     "name": "stderr",
     "output_type": "stream",
     "text": [
      "INFO:bob.learn.em.train:average euclidean distance = 0.071405\n"
     ]
    },
    {
     "name": "stdout",
     "output_type": "stream",
     "text": [
      "bob.learn.em.train@2020-02-20 14:19:08,848 -- INFO: convergence value = 0.016838\n"
     ]
    },
    {
     "name": "stderr",
     "output_type": "stream",
     "text": [
      "INFO:bob.learn.em.train:convergence value = 0.016838\n"
     ]
    },
    {
     "name": "stdout",
     "output_type": "stream",
     "text": [
      "bob.learn.em.train@2020-02-20 14:19:08,850 -- INFO: Iteration = 8/25\n"
     ]
    },
    {
     "name": "stderr",
     "output_type": "stream",
     "text": [
      "INFO:bob.learn.em.train:Iteration = 8/25\n"
     ]
    },
    {
     "name": "stdout",
     "output_type": "stream",
     "text": [
      "bob.learn.em.train@2020-02-20 14:19:11,610 -- INFO: average euclidean distance = 0.070524\n"
     ]
    },
    {
     "name": "stderr",
     "output_type": "stream",
     "text": [
      "INFO:bob.learn.em.train:average euclidean distance = 0.070524\n"
     ]
    },
    {
     "name": "stdout",
     "output_type": "stream",
     "text": [
      "bob.learn.em.train@2020-02-20 14:19:11,612 -- INFO: convergence value = 0.012326\n"
     ]
    },
    {
     "name": "stderr",
     "output_type": "stream",
     "text": [
      "INFO:bob.learn.em.train:convergence value = 0.012326\n"
     ]
    },
    {
     "name": "stdout",
     "output_type": "stream",
     "text": [
      "bob.learn.em.train@2020-02-20 14:19:11,613 -- INFO: Iteration = 9/25\n"
     ]
    },
    {
     "name": "stderr",
     "output_type": "stream",
     "text": [
      "INFO:bob.learn.em.train:Iteration = 9/25\n"
     ]
    },
    {
     "name": "stdout",
     "output_type": "stream",
     "text": [
      "bob.learn.em.train@2020-02-20 14:19:14,348 -- INFO: average euclidean distance = 0.069807\n"
     ]
    },
    {
     "name": "stderr",
     "output_type": "stream",
     "text": [
      "INFO:bob.learn.em.train:average euclidean distance = 0.069807\n"
     ]
    },
    {
     "name": "stdout",
     "output_type": "stream",
     "text": [
      "bob.learn.em.train@2020-02-20 14:19:14,349 -- INFO: convergence value = 0.010177\n"
     ]
    },
    {
     "name": "stderr",
     "output_type": "stream",
     "text": [
      "INFO:bob.learn.em.train:convergence value = 0.010177\n"
     ]
    },
    {
     "name": "stdout",
     "output_type": "stream",
     "text": [
      "bob.learn.em.train@2020-02-20 14:19:14,351 -- INFO: Iteration = 10/25\n"
     ]
    },
    {
     "name": "stderr",
     "output_type": "stream",
     "text": [
      "INFO:bob.learn.em.train:Iteration = 10/25\n"
     ]
    },
    {
     "name": "stdout",
     "output_type": "stream",
     "text": [
      "bob.learn.em.train@2020-02-20 14:19:17,217 -- INFO: average euclidean distance = 0.069237\n"
     ]
    },
    {
     "name": "stderr",
     "output_type": "stream",
     "text": [
      "INFO:bob.learn.em.train:average euclidean distance = 0.069237\n"
     ]
    },
    {
     "name": "stdout",
     "output_type": "stream",
     "text": [
      "bob.learn.em.train@2020-02-20 14:19:17,219 -- INFO: convergence value = 0.008164\n"
     ]
    },
    {
     "name": "stderr",
     "output_type": "stream",
     "text": [
      "INFO:bob.learn.em.train:convergence value = 0.008164\n"
     ]
    },
    {
     "name": "stdout",
     "output_type": "stream",
     "text": [
      "bob.learn.em.train@2020-02-20 14:19:17,220 -- INFO: Iteration = 11/25\n"
     ]
    },
    {
     "name": "stderr",
     "output_type": "stream",
     "text": [
      "INFO:bob.learn.em.train:Iteration = 11/25\n"
     ]
    },
    {
     "name": "stdout",
     "output_type": "stream",
     "text": [
      "bob.learn.em.train@2020-02-20 14:19:19,982 -- INFO: average euclidean distance = 0.068443\n"
     ]
    },
    {
     "name": "stderr",
     "output_type": "stream",
     "text": [
      "INFO:bob.learn.em.train:average euclidean distance = 0.068443\n"
     ]
    },
    {
     "name": "stdout",
     "output_type": "stream",
     "text": [
      "bob.learn.em.train@2020-02-20 14:19:19,984 -- INFO: convergence value = 0.011468\n"
     ]
    },
    {
     "name": "stderr",
     "output_type": "stream",
     "text": [
      "INFO:bob.learn.em.train:convergence value = 0.011468\n"
     ]
    },
    {
     "name": "stdout",
     "output_type": "stream",
     "text": [
      "bob.learn.em.train@2020-02-20 14:19:19,985 -- INFO: Iteration = 12/25\n"
     ]
    },
    {
     "name": "stderr",
     "output_type": "stream",
     "text": [
      "INFO:bob.learn.em.train:Iteration = 12/25\n"
     ]
    },
    {
     "name": "stdout",
     "output_type": "stream",
     "text": [
      "bob.learn.em.train@2020-02-20 14:19:22,735 -- INFO: average euclidean distance = 0.068019\n"
     ]
    },
    {
     "name": "stderr",
     "output_type": "stream",
     "text": [
      "INFO:bob.learn.em.train:average euclidean distance = 0.068019\n"
     ]
    },
    {
     "name": "stdout",
     "output_type": "stream",
     "text": [
      "bob.learn.em.train@2020-02-20 14:19:22,736 -- INFO: convergence value = 0.006188\n"
     ]
    },
    {
     "name": "stderr",
     "output_type": "stream",
     "text": [
      "INFO:bob.learn.em.train:convergence value = 0.006188\n"
     ]
    },
    {
     "name": "stdout",
     "output_type": "stream",
     "text": [
      "bob.learn.em.train@2020-02-20 14:19:22,738 -- INFO: Iteration = 13/25\n"
     ]
    },
    {
     "name": "stderr",
     "output_type": "stream",
     "text": [
      "INFO:bob.learn.em.train:Iteration = 13/25\n"
     ]
    },
    {
     "name": "stdout",
     "output_type": "stream",
     "text": [
      "bob.learn.em.train@2020-02-20 14:19:25,482 -- INFO: average euclidean distance = 0.067702\n"
     ]
    },
    {
     "name": "stderr",
     "output_type": "stream",
     "text": [
      "INFO:bob.learn.em.train:average euclidean distance = 0.067702\n"
     ]
    },
    {
     "name": "stdout",
     "output_type": "stream",
     "text": [
      "bob.learn.em.train@2020-02-20 14:19:25,483 -- INFO: convergence value = 0.004666\n"
     ]
    },
    {
     "name": "stderr",
     "output_type": "stream",
     "text": [
      "INFO:bob.learn.em.train:convergence value = 0.004666\n"
     ]
    },
    {
     "name": "stdout",
     "output_type": "stream",
     "text": [
      "bob.learn.em.train@2020-02-20 14:19:25,485 -- INFO: Iteration = 14/25\n"
     ]
    },
    {
     "name": "stderr",
     "output_type": "stream",
     "text": [
      "INFO:bob.learn.em.train:Iteration = 14/25\n"
     ]
    },
    {
     "name": "stdout",
     "output_type": "stream",
     "text": [
      "bob.learn.em.train@2020-02-20 14:19:28,337 -- INFO: average euclidean distance = 0.067386\n"
     ]
    },
    {
     "name": "stderr",
     "output_type": "stream",
     "text": [
      "INFO:bob.learn.em.train:average euclidean distance = 0.067386\n"
     ]
    },
    {
     "name": "stdout",
     "output_type": "stream",
     "text": [
      "bob.learn.em.train@2020-02-20 14:19:28,339 -- INFO: convergence value = 0.004669\n"
     ]
    },
    {
     "name": "stderr",
     "output_type": "stream",
     "text": [
      "INFO:bob.learn.em.train:convergence value = 0.004669\n"
     ]
    },
    {
     "name": "stdout",
     "output_type": "stream",
     "text": [
      "bob.learn.em.train@2020-02-20 14:19:28,340 -- INFO: Iteration = 15/25\n"
     ]
    },
    {
     "name": "stderr",
     "output_type": "stream",
     "text": [
      "INFO:bob.learn.em.train:Iteration = 15/25\n"
     ]
    },
    {
     "name": "stdout",
     "output_type": "stream",
     "text": [
      "bob.learn.em.train@2020-02-20 14:19:31,086 -- INFO: average euclidean distance = 0.067074\n"
     ]
    },
    {
     "name": "stderr",
     "output_type": "stream",
     "text": [
      "INFO:bob.learn.em.train:average euclidean distance = 0.067074\n"
     ]
    },
    {
     "name": "stdout",
     "output_type": "stream",
     "text": [
      "bob.learn.em.train@2020-02-20 14:19:31,087 -- INFO: convergence value = 0.004634\n"
     ]
    },
    {
     "name": "stderr",
     "output_type": "stream",
     "text": [
      "INFO:bob.learn.em.train:convergence value = 0.004634\n"
     ]
    },
    {
     "name": "stdout",
     "output_type": "stream",
     "text": [
      "bob.learn.em.train@2020-02-20 14:19:31,088 -- INFO: Iteration = 16/25\n"
     ]
    },
    {
     "name": "stderr",
     "output_type": "stream",
     "text": [
      "INFO:bob.learn.em.train:Iteration = 16/25\n"
     ]
    },
    {
     "name": "stdout",
     "output_type": "stream",
     "text": [
      "bob.learn.em.train@2020-02-20 14:19:33,850 -- INFO: average euclidean distance = 0.066787\n"
     ]
    },
    {
     "name": "stderr",
     "output_type": "stream",
     "text": [
      "INFO:bob.learn.em.train:average euclidean distance = 0.066787\n"
     ]
    },
    {
     "name": "stdout",
     "output_type": "stream",
     "text": [
      "bob.learn.em.train@2020-02-20 14:19:33,852 -- INFO: convergence value = 0.004278\n"
     ]
    },
    {
     "name": "stderr",
     "output_type": "stream",
     "text": [
      "INFO:bob.learn.em.train:convergence value = 0.004278\n"
     ]
    },
    {
     "name": "stdout",
     "output_type": "stream",
     "text": [
      "bob.learn.em.train@2020-02-20 14:19:33,854 -- INFO: Iteration = 17/25\n"
     ]
    },
    {
     "name": "stderr",
     "output_type": "stream",
     "text": [
      "INFO:bob.learn.em.train:Iteration = 17/25\n"
     ]
    },
    {
     "name": "stdout",
     "output_type": "stream",
     "text": [
      "bob.learn.em.train@2020-02-20 14:19:36,609 -- INFO: average euclidean distance = 0.066500\n"
     ]
    },
    {
     "name": "stderr",
     "output_type": "stream",
     "text": [
      "INFO:bob.learn.em.train:average euclidean distance = 0.066500\n"
     ]
    },
    {
     "name": "stdout",
     "output_type": "stream",
     "text": [
      "bob.learn.em.train@2020-02-20 14:19:36,610 -- INFO: convergence value = 0.004294\n"
     ]
    },
    {
     "name": "stderr",
     "output_type": "stream",
     "text": [
      "INFO:bob.learn.em.train:convergence value = 0.004294\n"
     ]
    },
    {
     "name": "stdout",
     "output_type": "stream",
     "text": [
      "bob.learn.em.train@2020-02-20 14:19:36,612 -- INFO: Iteration = 18/25\n"
     ]
    },
    {
     "name": "stderr",
     "output_type": "stream",
     "text": [
      "INFO:bob.learn.em.train:Iteration = 18/25\n"
     ]
    },
    {
     "name": "stdout",
     "output_type": "stream",
     "text": [
      "bob.learn.em.train@2020-02-20 14:19:39,484 -- INFO: average euclidean distance = 0.066152\n"
     ]
    },
    {
     "name": "stderr",
     "output_type": "stream",
     "text": [
      "INFO:bob.learn.em.train:average euclidean distance = 0.066152\n"
     ]
    },
    {
     "name": "stdout",
     "output_type": "stream",
     "text": [
      "bob.learn.em.train@2020-02-20 14:19:39,485 -- INFO: convergence value = 0.005227\n"
     ]
    },
    {
     "name": "stderr",
     "output_type": "stream",
     "text": [
      "INFO:bob.learn.em.train:convergence value = 0.005227\n"
     ]
    },
    {
     "name": "stdout",
     "output_type": "stream",
     "text": [
      "bob.learn.em.train@2020-02-20 14:19:39,487 -- INFO: Iteration = 19/25\n"
     ]
    },
    {
     "name": "stderr",
     "output_type": "stream",
     "text": [
      "INFO:bob.learn.em.train:Iteration = 19/25\n"
     ]
    },
    {
     "name": "stdout",
     "output_type": "stream",
     "text": [
      "bob.learn.em.train@2020-02-20 14:19:42,231 -- INFO: average euclidean distance = 0.065816\n"
     ]
    },
    {
     "name": "stderr",
     "output_type": "stream",
     "text": [
      "INFO:bob.learn.em.train:average euclidean distance = 0.065816\n"
     ]
    },
    {
     "name": "stdout",
     "output_type": "stream",
     "text": [
      "bob.learn.em.train@2020-02-20 14:19:42,233 -- INFO: convergence value = 0.005078\n"
     ]
    },
    {
     "name": "stderr",
     "output_type": "stream",
     "text": [
      "INFO:bob.learn.em.train:convergence value = 0.005078\n"
     ]
    },
    {
     "name": "stdout",
     "output_type": "stream",
     "text": [
      "bob.learn.em.train@2020-02-20 14:19:42,234 -- INFO: Iteration = 20/25\n"
     ]
    },
    {
     "name": "stderr",
     "output_type": "stream",
     "text": [
      "INFO:bob.learn.em.train:Iteration = 20/25\n"
     ]
    },
    {
     "name": "stdout",
     "output_type": "stream",
     "text": [
      "bob.learn.em.train@2020-02-20 14:19:44,990 -- INFO: average euclidean distance = 0.065498\n"
     ]
    },
    {
     "name": "stderr",
     "output_type": "stream",
     "text": [
      "INFO:bob.learn.em.train:average euclidean distance = 0.065498\n"
     ]
    },
    {
     "name": "stdout",
     "output_type": "stream",
     "text": [
      "bob.learn.em.train@2020-02-20 14:19:44,991 -- INFO: convergence value = 0.004843\n"
     ]
    },
    {
     "name": "stderr",
     "output_type": "stream",
     "text": [
      "INFO:bob.learn.em.train:convergence value = 0.004843\n"
     ]
    },
    {
     "name": "stdout",
     "output_type": "stream",
     "text": [
      "bob.learn.em.train@2020-02-20 14:19:44,992 -- INFO: Iteration = 21/25\n"
     ]
    },
    {
     "name": "stderr",
     "output_type": "stream",
     "text": [
      "INFO:bob.learn.em.train:Iteration = 21/25\n"
     ]
    },
    {
     "name": "stdout",
     "output_type": "stream",
     "text": [
      "bob.learn.em.train@2020-02-20 14:19:47,864 -- INFO: average euclidean distance = 0.065191\n"
     ]
    },
    {
     "name": "stderr",
     "output_type": "stream",
     "text": [
      "INFO:bob.learn.em.train:average euclidean distance = 0.065191\n"
     ]
    },
    {
     "name": "stdout",
     "output_type": "stream",
     "text": [
      "bob.learn.em.train@2020-02-20 14:19:47,866 -- INFO: convergence value = 0.004685\n"
     ]
    },
    {
     "name": "stderr",
     "output_type": "stream",
     "text": [
      "INFO:bob.learn.em.train:convergence value = 0.004685\n"
     ]
    },
    {
     "name": "stdout",
     "output_type": "stream",
     "text": [
      "bob.learn.em.train@2020-02-20 14:19:47,867 -- INFO: Iteration = 22/25\n"
     ]
    },
    {
     "name": "stderr",
     "output_type": "stream",
     "text": [
      "INFO:bob.learn.em.train:Iteration = 22/25\n"
     ]
    },
    {
     "name": "stdout",
     "output_type": "stream",
     "text": [
      "bob.learn.em.train@2020-02-20 14:19:50,616 -- INFO: average euclidean distance = 0.064866\n"
     ]
    },
    {
     "name": "stderr",
     "output_type": "stream",
     "text": [
      "INFO:bob.learn.em.train:average euclidean distance = 0.064866\n"
     ]
    },
    {
     "name": "stdout",
     "output_type": "stream",
     "text": [
      "bob.learn.em.train@2020-02-20 14:19:50,617 -- INFO: convergence value = 0.004976\n"
     ]
    },
    {
     "name": "stderr",
     "output_type": "stream",
     "text": [
      "INFO:bob.learn.em.train:convergence value = 0.004976\n"
     ]
    },
    {
     "name": "stdout",
     "output_type": "stream",
     "text": [
      "bob.learn.em.train@2020-02-20 14:19:50,619 -- INFO: Iteration = 23/25\n"
     ]
    },
    {
     "name": "stderr",
     "output_type": "stream",
     "text": [
      "INFO:bob.learn.em.train:Iteration = 23/25\n"
     ]
    },
    {
     "name": "stdout",
     "output_type": "stream",
     "text": [
      "bob.learn.em.train@2020-02-20 14:19:53,359 -- INFO: average euclidean distance = 0.064415\n"
     ]
    },
    {
     "name": "stderr",
     "output_type": "stream",
     "text": [
      "INFO:bob.learn.em.train:average euclidean distance = 0.064415\n"
     ]
    },
    {
     "name": "stdout",
     "output_type": "stream",
     "text": [
      "bob.learn.em.train@2020-02-20 14:19:53,360 -- INFO: convergence value = 0.006961\n"
     ]
    },
    {
     "name": "stderr",
     "output_type": "stream",
     "text": [
      "INFO:bob.learn.em.train:convergence value = 0.006961\n"
     ]
    },
    {
     "name": "stdout",
     "output_type": "stream",
     "text": [
      "bob.learn.em.train@2020-02-20 14:19:53,362 -- INFO: Iteration = 24/25\n"
     ]
    },
    {
     "name": "stderr",
     "output_type": "stream",
     "text": [
      "INFO:bob.learn.em.train:Iteration = 24/25\n"
     ]
    },
    {
     "name": "stdout",
     "output_type": "stream",
     "text": [
      "bob.learn.em.train@2020-02-20 14:19:56,118 -- INFO: average euclidean distance = 0.064066\n"
     ]
    },
    {
     "name": "stderr",
     "output_type": "stream",
     "text": [
      "INFO:bob.learn.em.train:average euclidean distance = 0.064066\n"
     ]
    },
    {
     "name": "stdout",
     "output_type": "stream",
     "text": [
      "bob.learn.em.train@2020-02-20 14:19:56,120 -- INFO: convergence value = 0.005421\n"
     ]
    },
    {
     "name": "stderr",
     "output_type": "stream",
     "text": [
      "INFO:bob.learn.em.train:convergence value = 0.005421\n"
     ]
    },
    {
     "name": "stdout",
     "output_type": "stream",
     "text": [
      "bob.bio.gmm@2020-02-20 14:19:58,887 -- INFO:   -> Training GMM\n"
     ]
    },
    {
     "name": "stderr",
     "output_type": "stream",
     "text": [
      "INFO:bob.bio.gmm:  -> Training GMM\n"
     ]
    },
    {
     "name": "stdout",
     "output_type": "stream",
     "text": [
      "bob.learn.em.train@2020-02-20 14:20:01,866 -- INFO: Iteration = 0/25\n"
     ]
    },
    {
     "name": "stderr",
     "output_type": "stream",
     "text": [
      "INFO:bob.learn.em.train:Iteration = 0/25\n"
     ]
    },
    {
     "name": "stdout",
     "output_type": "stream",
     "text": [
      "bob.learn.em.train@2020-02-20 14:20:04,895 -- INFO: log likelihood = 0.975454\n"
     ]
    },
    {
     "name": "stderr",
     "output_type": "stream",
     "text": [
      "INFO:bob.learn.em.train:log likelihood = 0.975454\n"
     ]
    },
    {
     "name": "stdout",
     "output_type": "stream",
     "text": [
      "bob.learn.em.train@2020-02-20 14:20:04,896 -- INFO: convergence value = 0.108927\n"
     ]
    },
    {
     "name": "stderr",
     "output_type": "stream",
     "text": [
      "INFO:bob.learn.em.train:convergence value = 0.108927\n"
     ]
    },
    {
     "name": "stdout",
     "output_type": "stream",
     "text": [
      "bob.learn.em.train@2020-02-20 14:20:04,898 -- INFO: Iteration = 1/25\n"
     ]
    },
    {
     "name": "stderr",
     "output_type": "stream",
     "text": [
      "INFO:bob.learn.em.train:Iteration = 1/25\n"
     ]
    },
    {
     "name": "stdout",
     "output_type": "stream",
     "text": [
      "bob.learn.em.train@2020-02-20 14:20:07,915 -- INFO: log likelihood = 1.013527\n"
     ]
    },
    {
     "name": "stderr",
     "output_type": "stream",
     "text": [
      "INFO:bob.learn.em.train:log likelihood = 1.013527\n"
     ]
    },
    {
     "name": "stdout",
     "output_type": "stream",
     "text": [
      "bob.learn.em.train@2020-02-20 14:20:07,916 -- INFO: convergence value = 0.039031\n"
     ]
    },
    {
     "name": "stderr",
     "output_type": "stream",
     "text": [
      "INFO:bob.learn.em.train:convergence value = 0.039031\n"
     ]
    },
    {
     "name": "stdout",
     "output_type": "stream",
     "text": [
      "bob.learn.em.train@2020-02-20 14:20:07,918 -- INFO: Iteration = 2/25\n"
     ]
    },
    {
     "name": "stderr",
     "output_type": "stream",
     "text": [
      "INFO:bob.learn.em.train:Iteration = 2/25\n"
     ]
    },
    {
     "name": "stdout",
     "output_type": "stream",
     "text": [
      "bob.learn.em.train@2020-02-20 14:20:10,955 -- INFO: log likelihood = 1.036755\n"
     ]
    },
    {
     "name": "stderr",
     "output_type": "stream",
     "text": [
      "INFO:bob.learn.em.train:log likelihood = 1.036755\n"
     ]
    },
    {
     "name": "stdout",
     "output_type": "stream",
     "text": [
      "bob.learn.em.train@2020-02-20 14:20:10,957 -- INFO: convergence value = 0.022917\n"
     ]
    },
    {
     "name": "stderr",
     "output_type": "stream",
     "text": [
      "INFO:bob.learn.em.train:convergence value = 0.022917\n"
     ]
    },
    {
     "name": "stdout",
     "output_type": "stream",
     "text": [
      "bob.learn.em.train@2020-02-20 14:20:10,958 -- INFO: Iteration = 3/25\n"
     ]
    },
    {
     "name": "stderr",
     "output_type": "stream",
     "text": [
      "INFO:bob.learn.em.train:Iteration = 3/25\n"
     ]
    },
    {
     "name": "stdout",
     "output_type": "stream",
     "text": [
      "bob.learn.em.train@2020-02-20 14:20:14,089 -- INFO: log likelihood = 1.052488\n"
     ]
    },
    {
     "name": "stderr",
     "output_type": "stream",
     "text": [
      "INFO:bob.learn.em.train:log likelihood = 1.052488\n"
     ]
    },
    {
     "name": "stdout",
     "output_type": "stream",
     "text": [
      "bob.learn.em.train@2020-02-20 14:20:14,091 -- INFO: convergence value = 0.015175\n"
     ]
    },
    {
     "name": "stderr",
     "output_type": "stream",
     "text": [
      "INFO:bob.learn.em.train:convergence value = 0.015175\n"
     ]
    },
    {
     "name": "stdout",
     "output_type": "stream",
     "text": [
      "bob.learn.em.train@2020-02-20 14:20:14,092 -- INFO: Iteration = 4/25\n"
     ]
    },
    {
     "name": "stderr",
     "output_type": "stream",
     "text": [
      "INFO:bob.learn.em.train:Iteration = 4/25\n"
     ]
    },
    {
     "name": "stdout",
     "output_type": "stream",
     "text": [
      "bob.learn.em.train@2020-02-20 14:20:17,346 -- INFO: log likelihood = 1.064272\n"
     ]
    },
    {
     "name": "stderr",
     "output_type": "stream",
     "text": [
      "INFO:bob.learn.em.train:log likelihood = 1.064272\n"
     ]
    },
    {
     "name": "stdout",
     "output_type": "stream",
     "text": [
      "bob.learn.em.train@2020-02-20 14:20:17,348 -- INFO: convergence value = 0.011197\n"
     ]
    },
    {
     "name": "stderr",
     "output_type": "stream",
     "text": [
      "INFO:bob.learn.em.train:convergence value = 0.011197\n"
     ]
    },
    {
     "name": "stdout",
     "output_type": "stream",
     "text": [
      "bob.learn.em.train@2020-02-20 14:20:17,349 -- INFO: Iteration = 5/25\n"
     ]
    },
    {
     "name": "stderr",
     "output_type": "stream",
     "text": [
      "INFO:bob.learn.em.train:Iteration = 5/25\n"
     ]
    },
    {
     "name": "stdout",
     "output_type": "stream",
     "text": [
      "bob.learn.em.train@2020-02-20 14:20:20,709 -- INFO: log likelihood = 1.072756\n"
     ]
    },
    {
     "name": "stderr",
     "output_type": "stream",
     "text": [
      "INFO:bob.learn.em.train:log likelihood = 1.072756\n"
     ]
    },
    {
     "name": "stdout",
     "output_type": "stream",
     "text": [
      "bob.learn.em.train@2020-02-20 14:20:20,711 -- INFO: convergence value = 0.007972\n"
     ]
    },
    {
     "name": "stderr",
     "output_type": "stream",
     "text": [
      "INFO:bob.learn.em.train:convergence value = 0.007972\n"
     ]
    },
    {
     "name": "stdout",
     "output_type": "stream",
     "text": [
      "bob.learn.em.train@2020-02-20 14:20:20,712 -- INFO: Iteration = 6/25\n"
     ]
    },
    {
     "name": "stderr",
     "output_type": "stream",
     "text": [
      "INFO:bob.learn.em.train:Iteration = 6/25\n"
     ]
    },
    {
     "name": "stdout",
     "output_type": "stream",
     "text": [
      "bob.learn.em.train@2020-02-20 14:20:24,109 -- INFO: log likelihood = 1.080183\n"
     ]
    },
    {
     "name": "stderr",
     "output_type": "stream",
     "text": [
      "INFO:bob.learn.em.train:log likelihood = 1.080183\n"
     ]
    },
    {
     "name": "stdout",
     "output_type": "stream",
     "text": [
      "bob.learn.em.train@2020-02-20 14:20:24,111 -- INFO: convergence value = 0.006923\n"
     ]
    },
    {
     "name": "stderr",
     "output_type": "stream",
     "text": [
      "INFO:bob.learn.em.train:convergence value = 0.006923\n"
     ]
    },
    {
     "name": "stdout",
     "output_type": "stream",
     "text": [
      "bob.learn.em.train@2020-02-20 14:20:24,113 -- INFO: Iteration = 7/25\n"
     ]
    },
    {
     "name": "stderr",
     "output_type": "stream",
     "text": [
      "INFO:bob.learn.em.train:Iteration = 7/25\n"
     ]
    },
    {
     "name": "stdout",
     "output_type": "stream",
     "text": [
      "bob.learn.em.train@2020-02-20 14:20:27,514 -- INFO: log likelihood = 1.087263\n"
     ]
    },
    {
     "name": "stderr",
     "output_type": "stream",
     "text": [
      "INFO:bob.learn.em.train:log likelihood = 1.087263\n"
     ]
    },
    {
     "name": "stdout",
     "output_type": "stream",
     "text": [
      "bob.learn.em.train@2020-02-20 14:20:27,515 -- INFO: convergence value = 0.006554\n"
     ]
    },
    {
     "name": "stderr",
     "output_type": "stream",
     "text": [
      "INFO:bob.learn.em.train:convergence value = 0.006554\n"
     ]
    },
    {
     "name": "stdout",
     "output_type": "stream",
     "text": [
      "bob.learn.em.train@2020-02-20 14:20:27,517 -- INFO: Iteration = 8/25\n"
     ]
    },
    {
     "name": "stderr",
     "output_type": "stream",
     "text": [
      "INFO:bob.learn.em.train:Iteration = 8/25\n"
     ]
    },
    {
     "name": "stdout",
     "output_type": "stream",
     "text": [
      "bob.learn.em.train@2020-02-20 14:20:30,544 -- INFO: log likelihood = 1.092064\n"
     ]
    },
    {
     "name": "stderr",
     "output_type": "stream",
     "text": [
      "INFO:bob.learn.em.train:log likelihood = 1.092064\n"
     ]
    },
    {
     "name": "stdout",
     "output_type": "stream",
     "text": [
      "bob.learn.em.train@2020-02-20 14:20:30,546 -- INFO: convergence value = 0.004415\n"
     ]
    },
    {
     "name": "stderr",
     "output_type": "stream",
     "text": [
      "INFO:bob.learn.em.train:convergence value = 0.004415\n"
     ]
    },
    {
     "name": "stdout",
     "output_type": "stream",
     "text": [
      "bob.learn.em.train@2020-02-20 14:20:30,547 -- INFO: Iteration = 9/25\n"
     ]
    },
    {
     "name": "stderr",
     "output_type": "stream",
     "text": [
      "INFO:bob.learn.em.train:Iteration = 9/25\n"
     ]
    },
    {
     "name": "stdout",
     "output_type": "stream",
     "text": [
      "bob.learn.em.train@2020-02-20 14:20:33,693 -- INFO: log likelihood = 1.095451\n"
     ]
    },
    {
     "name": "stderr",
     "output_type": "stream",
     "text": [
      "INFO:bob.learn.em.train:log likelihood = 1.095451\n"
     ]
    },
    {
     "name": "stdout",
     "output_type": "stream",
     "text": [
      "bob.learn.em.train@2020-02-20 14:20:33,695 -- INFO: convergence value = 0.003102\n"
     ]
    },
    {
     "name": "stderr",
     "output_type": "stream",
     "text": [
      "INFO:bob.learn.em.train:convergence value = 0.003102\n"
     ]
    },
    {
     "name": "stdout",
     "output_type": "stream",
     "text": [
      "bob.learn.em.train@2020-02-20 14:20:33,696 -- INFO: Iteration = 10/25\n"
     ]
    },
    {
     "name": "stderr",
     "output_type": "stream",
     "text": [
      "INFO:bob.learn.em.train:Iteration = 10/25\n"
     ]
    },
    {
     "name": "stdout",
     "output_type": "stream",
     "text": [
      "bob.learn.em.train@2020-02-20 14:20:37,007 -- INFO: log likelihood = 1.098185\n"
     ]
    },
    {
     "name": "stderr",
     "output_type": "stream",
     "text": [
      "INFO:bob.learn.em.train:log likelihood = 1.098185\n"
     ]
    },
    {
     "name": "stdout",
     "output_type": "stream",
     "text": [
      "bob.learn.em.train@2020-02-20 14:20:37,009 -- INFO: convergence value = 0.002495\n"
     ]
    },
    {
     "name": "stderr",
     "output_type": "stream",
     "text": [
      "INFO:bob.learn.em.train:convergence value = 0.002495\n"
     ]
    },
    {
     "name": "stdout",
     "output_type": "stream",
     "text": [
      "bob.learn.em.train@2020-02-20 14:20:37,010 -- INFO: Iteration = 11/25\n"
     ]
    },
    {
     "name": "stderr",
     "output_type": "stream",
     "text": [
      "INFO:bob.learn.em.train:Iteration = 11/25\n"
     ]
    },
    {
     "name": "stdout",
     "output_type": "stream",
     "text": [
      "bob.learn.em.train@2020-02-20 14:20:40,122 -- INFO: log likelihood = 1.100533\n"
     ]
    },
    {
     "name": "stderr",
     "output_type": "stream",
     "text": [
      "INFO:bob.learn.em.train:log likelihood = 1.100533\n"
     ]
    },
    {
     "name": "stdout",
     "output_type": "stream",
     "text": [
      "bob.learn.em.train@2020-02-20 14:20:40,124 -- INFO: convergence value = 0.002138\n"
     ]
    },
    {
     "name": "stderr",
     "output_type": "stream",
     "text": [
      "INFO:bob.learn.em.train:convergence value = 0.002138\n"
     ]
    },
    {
     "name": "stdout",
     "output_type": "stream",
     "text": [
      "bob.learn.em.train@2020-02-20 14:20:40,125 -- INFO: Iteration = 12/25\n"
     ]
    },
    {
     "name": "stderr",
     "output_type": "stream",
     "text": [
      "INFO:bob.learn.em.train:Iteration = 12/25\n"
     ]
    },
    {
     "name": "stdout",
     "output_type": "stream",
     "text": [
      "bob.learn.em.train@2020-02-20 14:20:43,218 -- INFO: log likelihood = 1.102643\n"
     ]
    },
    {
     "name": "stderr",
     "output_type": "stream",
     "text": [
      "INFO:bob.learn.em.train:log likelihood = 1.102643\n"
     ]
    },
    {
     "name": "stdout",
     "output_type": "stream",
     "text": [
      "bob.learn.em.train@2020-02-20 14:20:43,219 -- INFO: convergence value = 0.001917\n"
     ]
    },
    {
     "name": "stderr",
     "output_type": "stream",
     "text": [
      "INFO:bob.learn.em.train:convergence value = 0.001917\n"
     ]
    },
    {
     "name": "stdout",
     "output_type": "stream",
     "text": [
      "bob.learn.em.train@2020-02-20 14:20:43,221 -- INFO: Iteration = 13/25\n"
     ]
    },
    {
     "name": "stderr",
     "output_type": "stream",
     "text": [
      "INFO:bob.learn.em.train:Iteration = 13/25\n"
     ]
    },
    {
     "name": "stdout",
     "output_type": "stream",
     "text": [
      "bob.learn.em.train@2020-02-20 14:20:46,232 -- INFO: log likelihood = 1.104564\n"
     ]
    },
    {
     "name": "stderr",
     "output_type": "stream",
     "text": [
      "INFO:bob.learn.em.train:log likelihood = 1.104564\n"
     ]
    },
    {
     "name": "stdout",
     "output_type": "stream",
     "text": [
      "bob.learn.em.train@2020-02-20 14:20:46,233 -- INFO: convergence value = 0.001742\n"
     ]
    },
    {
     "name": "stderr",
     "output_type": "stream",
     "text": [
      "INFO:bob.learn.em.train:convergence value = 0.001742\n"
     ]
    },
    {
     "name": "stdout",
     "output_type": "stream",
     "text": [
      "bob.learn.em.train@2020-02-20 14:20:46,235 -- INFO: Iteration = 14/25\n"
     ]
    },
    {
     "name": "stderr",
     "output_type": "stream",
     "text": [
      "INFO:bob.learn.em.train:Iteration = 14/25\n"
     ]
    },
    {
     "name": "stdout",
     "output_type": "stream",
     "text": [
      "bob.learn.em.train@2020-02-20 14:20:49,281 -- INFO: log likelihood = 1.106340\n"
     ]
    },
    {
     "name": "stderr",
     "output_type": "stream",
     "text": [
      "INFO:bob.learn.em.train:log likelihood = 1.106340\n"
     ]
    },
    {
     "name": "stdout",
     "output_type": "stream",
     "text": [
      "bob.learn.em.train@2020-02-20 14:20:49,282 -- INFO: convergence value = 0.001608\n"
     ]
    },
    {
     "name": "stderr",
     "output_type": "stream",
     "text": [
      "INFO:bob.learn.em.train:convergence value = 0.001608\n"
     ]
    },
    {
     "name": "stdout",
     "output_type": "stream",
     "text": [
      "bob.learn.em.train@2020-02-20 14:20:49,284 -- INFO: Iteration = 15/25\n"
     ]
    },
    {
     "name": "stderr",
     "output_type": "stream",
     "text": [
      "INFO:bob.learn.em.train:Iteration = 15/25\n"
     ]
    },
    {
     "name": "stdout",
     "output_type": "stream",
     "text": [
      "bob.learn.em.train@2020-02-20 14:20:52,676 -- INFO: log likelihood = 1.108019\n"
     ]
    },
    {
     "name": "stderr",
     "output_type": "stream",
     "text": [
      "INFO:bob.learn.em.train:log likelihood = 1.108019\n"
     ]
    },
    {
     "name": "stdout",
     "output_type": "stream",
     "text": [
      "bob.learn.em.train@2020-02-20 14:20:52,677 -- INFO: convergence value = 0.001518\n"
     ]
    },
    {
     "name": "stderr",
     "output_type": "stream",
     "text": [
      "INFO:bob.learn.em.train:convergence value = 0.001518\n"
     ]
    },
    {
     "name": "stdout",
     "output_type": "stream",
     "text": [
      "bob.learn.em.train@2020-02-20 14:20:52,679 -- INFO: Iteration = 16/25\n"
     ]
    },
    {
     "name": "stderr",
     "output_type": "stream",
     "text": [
      "INFO:bob.learn.em.train:Iteration = 16/25\n"
     ]
    },
    {
     "name": "stdout",
     "output_type": "stream",
     "text": [
      "bob.learn.em.train@2020-02-20 14:20:55,782 -- INFO: log likelihood = 1.109576\n"
     ]
    },
    {
     "name": "stderr",
     "output_type": "stream",
     "text": [
      "INFO:bob.learn.em.train:log likelihood = 1.109576\n"
     ]
    },
    {
     "name": "stdout",
     "output_type": "stream",
     "text": [
      "bob.learn.em.train@2020-02-20 14:20:55,783 -- INFO: convergence value = 0.001405\n"
     ]
    },
    {
     "name": "stderr",
     "output_type": "stream",
     "text": [
      "INFO:bob.learn.em.train:convergence value = 0.001405\n"
     ]
    },
    {
     "name": "stdout",
     "output_type": "stream",
     "text": [
      "bob.learn.em.train@2020-02-20 14:20:55,785 -- INFO: Iteration = 17/25\n"
     ]
    },
    {
     "name": "stderr",
     "output_type": "stream",
     "text": [
      "INFO:bob.learn.em.train:Iteration = 17/25\n"
     ]
    },
    {
     "name": "stdout",
     "output_type": "stream",
     "text": [
      "bob.learn.em.train@2020-02-20 14:20:58,825 -- INFO: log likelihood = 1.111009\n"
     ]
    },
    {
     "name": "stderr",
     "output_type": "stream",
     "text": [
      "INFO:bob.learn.em.train:log likelihood = 1.111009\n"
     ]
    },
    {
     "name": "stdout",
     "output_type": "stream",
     "text": [
      "bob.learn.em.train@2020-02-20 14:20:58,826 -- INFO: convergence value = 0.001292\n"
     ]
    },
    {
     "name": "stderr",
     "output_type": "stream",
     "text": [
      "INFO:bob.learn.em.train:convergence value = 0.001292\n"
     ]
    },
    {
     "name": "stdout",
     "output_type": "stream",
     "text": [
      "bob.learn.em.train@2020-02-20 14:20:58,827 -- INFO: Iteration = 18/25\n"
     ]
    },
    {
     "name": "stderr",
     "output_type": "stream",
     "text": [
      "INFO:bob.learn.em.train:Iteration = 18/25\n"
     ]
    },
    {
     "name": "stdout",
     "output_type": "stream",
     "text": [
      "bob.learn.em.train@2020-02-20 14:21:01,864 -- INFO: log likelihood = 1.112335\n"
     ]
    },
    {
     "name": "stderr",
     "output_type": "stream",
     "text": [
      "INFO:bob.learn.em.train:log likelihood = 1.112335\n"
     ]
    },
    {
     "name": "stdout",
     "output_type": "stream",
     "text": [
      "bob.learn.em.train@2020-02-20 14:21:01,865 -- INFO: convergence value = 0.001194\n"
     ]
    },
    {
     "name": "stderr",
     "output_type": "stream",
     "text": [
      "INFO:bob.learn.em.train:convergence value = 0.001194\n"
     ]
    },
    {
     "name": "stdout",
     "output_type": "stream",
     "text": [
      "bob.learn.em.train@2020-02-20 14:21:01,867 -- INFO: Iteration = 19/25\n"
     ]
    },
    {
     "name": "stderr",
     "output_type": "stream",
     "text": [
      "INFO:bob.learn.em.train:Iteration = 19/25\n"
     ]
    },
    {
     "name": "stdout",
     "output_type": "stream",
     "text": [
      "bob.learn.em.train@2020-02-20 14:21:05,097 -- INFO: log likelihood = 1.113581\n"
     ]
    },
    {
     "name": "stderr",
     "output_type": "stream",
     "text": [
      "INFO:bob.learn.em.train:log likelihood = 1.113581\n"
     ]
    },
    {
     "name": "stdout",
     "output_type": "stream",
     "text": [
      "bob.learn.em.train@2020-02-20 14:21:05,098 -- INFO: convergence value = 0.001120\n"
     ]
    },
    {
     "name": "stderr",
     "output_type": "stream",
     "text": [
      "INFO:bob.learn.em.train:convergence value = 0.001120\n"
     ]
    },
    {
     "name": "stdout",
     "output_type": "stream",
     "text": [
      "bob.learn.em.train@2020-02-20 14:21:05,100 -- INFO: Iteration = 20/25\n"
     ]
    },
    {
     "name": "stderr",
     "output_type": "stream",
     "text": [
      "INFO:bob.learn.em.train:Iteration = 20/25\n"
     ]
    },
    {
     "name": "stdout",
     "output_type": "stream",
     "text": [
      "bob.learn.em.train@2020-02-20 14:21:08,194 -- INFO: log likelihood = 1.114779\n"
     ]
    },
    {
     "name": "stderr",
     "output_type": "stream",
     "text": [
      "INFO:bob.learn.em.train:log likelihood = 1.114779\n"
     ]
    },
    {
     "name": "stdout",
     "output_type": "stream",
     "text": [
      "bob.learn.em.train@2020-02-20 14:21:08,195 -- INFO: convergence value = 0.001075\n"
     ]
    },
    {
     "name": "stderr",
     "output_type": "stream",
     "text": [
      "INFO:bob.learn.em.train:convergence value = 0.001075\n"
     ]
    },
    {
     "name": "stdout",
     "output_type": "stream",
     "text": [
      "bob.learn.em.train@2020-02-20 14:21:08,196 -- INFO: Iteration = 21/25\n"
     ]
    },
    {
     "name": "stderr",
     "output_type": "stream",
     "text": [
      "INFO:bob.learn.em.train:Iteration = 21/25\n"
     ]
    },
    {
     "name": "stdout",
     "output_type": "stream",
     "text": [
      "bob.learn.em.train@2020-02-20 14:21:11,232 -- INFO: log likelihood = 1.115994\n"
     ]
    },
    {
     "name": "stderr",
     "output_type": "stream",
     "text": [
      "INFO:bob.learn.em.train:log likelihood = 1.115994\n"
     ]
    },
    {
     "name": "stdout",
     "output_type": "stream",
     "text": [
      "bob.learn.em.train@2020-02-20 14:21:11,233 -- INFO: convergence value = 0.001090\n"
     ]
    },
    {
     "name": "stderr",
     "output_type": "stream",
     "text": [
      "INFO:bob.learn.em.train:convergence value = 0.001090\n"
     ]
    },
    {
     "name": "stdout",
     "output_type": "stream",
     "text": [
      "bob.learn.em.train@2020-02-20 14:21:11,234 -- INFO: Iteration = 22/25\n"
     ]
    },
    {
     "name": "stderr",
     "output_type": "stream",
     "text": [
      "INFO:bob.learn.em.train:Iteration = 22/25\n"
     ]
    },
    {
     "name": "stdout",
     "output_type": "stream",
     "text": [
      "bob.learn.em.train@2020-02-20 14:21:14,250 -- INFO: log likelihood = 1.117286\n"
     ]
    },
    {
     "name": "stderr",
     "output_type": "stream",
     "text": [
      "INFO:bob.learn.em.train:log likelihood = 1.117286\n"
     ]
    },
    {
     "name": "stdout",
     "output_type": "stream",
     "text": [
      "bob.learn.em.train@2020-02-20 14:21:14,251 -- INFO: convergence value = 0.001158\n"
     ]
    },
    {
     "name": "stderr",
     "output_type": "stream",
     "text": [
      "INFO:bob.learn.em.train:convergence value = 0.001158\n"
     ]
    },
    {
     "name": "stdout",
     "output_type": "stream",
     "text": [
      "bob.learn.em.train@2020-02-20 14:21:14,253 -- INFO: Iteration = 23/25\n"
     ]
    },
    {
     "name": "stderr",
     "output_type": "stream",
     "text": [
      "INFO:bob.learn.em.train:Iteration = 23/25\n"
     ]
    },
    {
     "name": "stdout",
     "output_type": "stream",
     "text": [
      "bob.learn.em.train@2020-02-20 14:21:17,290 -- INFO: log likelihood = 1.118549\n"
     ]
    },
    {
     "name": "stderr",
     "output_type": "stream",
     "text": [
      "INFO:bob.learn.em.train:log likelihood = 1.118549\n"
     ]
    },
    {
     "name": "stdout",
     "output_type": "stream",
     "text": [
      "bob.learn.em.train@2020-02-20 14:21:17,291 -- INFO: convergence value = 0.001130\n"
     ]
    },
    {
     "name": "stderr",
     "output_type": "stream",
     "text": [
      "INFO:bob.learn.em.train:convergence value = 0.001130\n"
     ]
    },
    {
     "name": "stdout",
     "output_type": "stream",
     "text": [
      "bob.learn.em.train@2020-02-20 14:21:17,293 -- INFO: Iteration = 24/25\n"
     ]
    },
    {
     "name": "stderr",
     "output_type": "stream",
     "text": [
      "INFO:bob.learn.em.train:Iteration = 24/25\n"
     ]
    },
    {
     "name": "stdout",
     "output_type": "stream",
     "text": [
      "bob.learn.em.train@2020-02-20 14:21:20,412 -- INFO: log likelihood = 1.119717\n"
     ]
    },
    {
     "name": "stderr",
     "output_type": "stream",
     "text": [
      "INFO:bob.learn.em.train:log likelihood = 1.119717\n"
     ]
    },
    {
     "name": "stdout",
     "output_type": "stream",
     "text": [
      "bob.learn.em.train@2020-02-20 14:21:20,414 -- INFO: convergence value = 0.001044\n"
     ]
    },
    {
     "name": "stderr",
     "output_type": "stream",
     "text": [
      "INFO:bob.learn.em.train:convergence value = 0.001044\n"
     ]
    },
    {
     "name": "stdout",
     "output_type": "stream",
     "text": [
      "bob.bio.gmm@2020-02-20 14:21:20,416 -- DEBUG:  .... Projecting 179820 feature vectors\n"
     ]
    },
    {
     "name": "stderr",
     "output_type": "stream",
     "text": [
      "DEBUG:bob.bio.gmm: .... Projecting 179820 feature vectors\n"
     ]
    },
    {
     "name": "stdout",
     "output_type": "stream",
     "text": [
      "bob.learn.em.train@2020-02-20 14:22:07,714 -- INFO: Iteration = 0/500\n"
     ]
    },
    {
     "name": "stderr",
     "output_type": "stream",
     "text": [
      "INFO:bob.learn.em.train:Iteration = 0/500\n"
     ]
    },
    {
     "name": "stdout",
     "output_type": "stream",
     "text": [
      "bob.learn.em.train@2020-02-20 14:22:45,818 -- INFO: Iteration = 1/500\n"
     ]
    },
    {
     "name": "stderr",
     "output_type": "stream",
     "text": [
      "INFO:bob.learn.em.train:Iteration = 1/500\n"
     ]
    },
    {
     "name": "stdout",
     "output_type": "stream",
     "text": [
      "bob.learn.em.train@2020-02-20 14:23:23,736 -- INFO: Iteration = 2/500\n"
     ]
    },
    {
     "name": "stderr",
     "output_type": "stream",
     "text": [
      "INFO:bob.learn.em.train:Iteration = 2/500\n"
     ]
    },
    {
     "name": "stdout",
     "output_type": "stream",
     "text": [
      "bob.learn.em.train@2020-02-20 14:24:02,505 -- INFO: Iteration = 3/500\n"
     ]
    },
    {
     "name": "stderr",
     "output_type": "stream",
     "text": [
      "INFO:bob.learn.em.train:Iteration = 3/500\n"
     ]
    },
    {
     "name": "stdout",
     "output_type": "stream",
     "text": [
      "bob.learn.em.train@2020-02-20 14:24:40,450 -- INFO: Iteration = 4/500\n"
     ]
    },
    {
     "name": "stderr",
     "output_type": "stream",
     "text": [
      "INFO:bob.learn.em.train:Iteration = 4/500\n"
     ]
    },
    {
     "name": "stdout",
     "output_type": "stream",
     "text": [
      "bob.learn.em.train@2020-02-20 14:25:18,103 -- INFO: Iteration = 5/500\n"
     ]
    },
    {
     "name": "stderr",
     "output_type": "stream",
     "text": [
      "INFO:bob.learn.em.train:Iteration = 5/500\n"
     ]
    },
    {
     "name": "stdout",
     "output_type": "stream",
     "text": [
      "bob.learn.em.train@2020-02-20 14:25:56,750 -- INFO: Iteration = 6/500\n"
     ]
    },
    {
     "name": "stderr",
     "output_type": "stream",
     "text": [
      "INFO:bob.learn.em.train:Iteration = 6/500\n"
     ]
    },
    {
     "name": "stdout",
     "output_type": "stream",
     "text": [
      "bob.learn.em.train@2020-02-20 14:26:35,435 -- INFO: Iteration = 7/500\n"
     ]
    },
    {
     "name": "stderr",
     "output_type": "stream",
     "text": [
      "INFO:bob.learn.em.train:Iteration = 7/500\n"
     ]
    },
    {
     "name": "stdout",
     "output_type": "stream",
     "text": [
      "bob.learn.em.train@2020-02-20 14:27:14,185 -- INFO: Iteration = 8/500\n"
     ]
    },
    {
     "name": "stderr",
     "output_type": "stream",
     "text": [
      "INFO:bob.learn.em.train:Iteration = 8/500\n"
     ]
    },
    {
     "name": "stdout",
     "output_type": "stream",
     "text": [
      "bob.learn.em.train@2020-02-20 14:27:52,115 -- INFO: Iteration = 9/500\n"
     ]
    },
    {
     "name": "stderr",
     "output_type": "stream",
     "text": [
      "INFO:bob.learn.em.train:Iteration = 9/500\n"
     ]
    },
    {
     "name": "stdout",
     "output_type": "stream",
     "text": [
      "bob.learn.em.train@2020-02-20 14:28:32,076 -- INFO: Iteration = 10/500\n"
     ]
    },
    {
     "name": "stderr",
     "output_type": "stream",
     "text": [
      "INFO:bob.learn.em.train:Iteration = 10/500\n"
     ]
    },
    {
     "name": "stdout",
     "output_type": "stream",
     "text": [
      "bob.learn.em.train@2020-02-20 14:29:10,976 -- INFO: Iteration = 11/500\n"
     ]
    },
    {
     "name": "stderr",
     "output_type": "stream",
     "text": [
      "INFO:bob.learn.em.train:Iteration = 11/500\n"
     ]
    },
    {
     "name": "stdout",
     "output_type": "stream",
     "text": [
      "bob.learn.em.train@2020-02-20 14:29:50,072 -- INFO: Iteration = 12/500\n"
     ]
    },
    {
     "name": "stderr",
     "output_type": "stream",
     "text": [
      "INFO:bob.learn.em.train:Iteration = 12/500\n"
     ]
    },
    {
     "name": "stdout",
     "output_type": "stream",
     "text": [
      "bob.learn.em.train@2020-02-20 14:30:28,740 -- INFO: Iteration = 13/500\n"
     ]
    },
    {
     "name": "stderr",
     "output_type": "stream",
     "text": [
      "INFO:bob.learn.em.train:Iteration = 13/500\n"
     ]
    },
    {
     "name": "stdout",
     "output_type": "stream",
     "text": [
      "bob.learn.em.train@2020-02-20 14:31:07,978 -- INFO: Iteration = 14/500\n"
     ]
    },
    {
     "name": "stderr",
     "output_type": "stream",
     "text": [
      "INFO:bob.learn.em.train:Iteration = 14/500\n"
     ]
    },
    {
     "name": "stdout",
     "output_type": "stream",
     "text": [
      "bob.learn.em.train@2020-02-20 14:31:46,759 -- INFO: Iteration = 15/500\n"
     ]
    },
    {
     "name": "stderr",
     "output_type": "stream",
     "text": [
      "INFO:bob.learn.em.train:Iteration = 15/500\n"
     ]
    },
    {
     "name": "stdout",
     "output_type": "stream",
     "text": [
      "bob.learn.em.train@2020-02-20 14:32:26,191 -- INFO: Iteration = 16/500\n"
     ]
    },
    {
     "name": "stderr",
     "output_type": "stream",
     "text": [
      "INFO:bob.learn.em.train:Iteration = 16/500\n"
     ]
    },
    {
     "name": "stdout",
     "output_type": "stream",
     "text": [
      "bob.learn.em.train@2020-02-20 14:33:05,359 -- INFO: Iteration = 17/500\n"
     ]
    },
    {
     "name": "stderr",
     "output_type": "stream",
     "text": [
      "INFO:bob.learn.em.train:Iteration = 17/500\n"
     ]
    },
    {
     "name": "stdout",
     "output_type": "stream",
     "text": [
      "bob.learn.em.train@2020-02-20 14:33:43,827 -- INFO: Iteration = 18/500\n"
     ]
    },
    {
     "name": "stderr",
     "output_type": "stream",
     "text": [
      "INFO:bob.learn.em.train:Iteration = 18/500\n"
     ]
    },
    {
     "name": "stdout",
     "output_type": "stream",
     "text": [
      "bob.learn.em.train@2020-02-20 14:34:22,454 -- INFO: Iteration = 19/500\n"
     ]
    },
    {
     "name": "stderr",
     "output_type": "stream",
     "text": [
      "INFO:bob.learn.em.train:Iteration = 19/500\n"
     ]
    },
    {
     "name": "stdout",
     "output_type": "stream",
     "text": [
      "bob.learn.em.train@2020-02-20 14:35:01,446 -- INFO: Iteration = 20/500\n"
     ]
    },
    {
     "name": "stderr",
     "output_type": "stream",
     "text": [
      "INFO:bob.learn.em.train:Iteration = 20/500\n"
     ]
    },
    {
     "name": "stdout",
     "output_type": "stream",
     "text": [
      "bob.learn.em.train@2020-02-20 14:35:41,889 -- INFO: Iteration = 21/500\n"
     ]
    },
    {
     "name": "stderr",
     "output_type": "stream",
     "text": [
      "INFO:bob.learn.em.train:Iteration = 21/500\n"
     ]
    },
    {
     "name": "stdout",
     "output_type": "stream",
     "text": [
      "bob.learn.em.train@2020-02-20 14:36:23,795 -- INFO: Iteration = 22/500\n"
     ]
    },
    {
     "name": "stderr",
     "output_type": "stream",
     "text": [
      "INFO:bob.learn.em.train:Iteration = 22/500\n"
     ]
    },
    {
     "name": "stdout",
     "output_type": "stream",
     "text": [
      "bob.learn.em.train@2020-02-20 14:37:01,891 -- INFO: Iteration = 23/500\n"
     ]
    },
    {
     "name": "stderr",
     "output_type": "stream",
     "text": [
      "INFO:bob.learn.em.train:Iteration = 23/500\n"
     ]
    },
    {
     "name": "stdout",
     "output_type": "stream",
     "text": [
      "bob.learn.em.train@2020-02-20 14:37:39,826 -- INFO: Iteration = 24/500\n"
     ]
    },
    {
     "name": "stderr",
     "output_type": "stream",
     "text": [
      "INFO:bob.learn.em.train:Iteration = 24/500\n"
     ]
    },
    {
     "name": "stdout",
     "output_type": "stream",
     "text": [
      "bob.learn.em.train@2020-02-20 14:38:18,031 -- INFO: Iteration = 25/500\n"
     ]
    },
    {
     "name": "stderr",
     "output_type": "stream",
     "text": [
      "INFO:bob.learn.em.train:Iteration = 25/500\n"
     ]
    },
    {
     "name": "stdout",
     "output_type": "stream",
     "text": [
      "bob.learn.em.train@2020-02-20 14:38:55,989 -- INFO: Iteration = 26/500\n"
     ]
    },
    {
     "name": "stderr",
     "output_type": "stream",
     "text": [
      "INFO:bob.learn.em.train:Iteration = 26/500\n"
     ]
    },
    {
     "name": "stdout",
     "output_type": "stream",
     "text": [
      "bob.learn.em.train@2020-02-20 14:39:34,168 -- INFO: Iteration = 27/500\n"
     ]
    },
    {
     "name": "stderr",
     "output_type": "stream",
     "text": [
      "INFO:bob.learn.em.train:Iteration = 27/500\n"
     ]
    },
    {
     "name": "stdout",
     "output_type": "stream",
     "text": [
      "bob.learn.em.train@2020-02-20 14:40:12,365 -- INFO: Iteration = 28/500\n"
     ]
    },
    {
     "name": "stderr",
     "output_type": "stream",
     "text": [
      "INFO:bob.learn.em.train:Iteration = 28/500\n"
     ]
    },
    {
     "name": "stdout",
     "output_type": "stream",
     "text": [
      "bob.learn.em.train@2020-02-20 14:40:50,167 -- INFO: Iteration = 29/500\n"
     ]
    },
    {
     "name": "stderr",
     "output_type": "stream",
     "text": [
      "INFO:bob.learn.em.train:Iteration = 29/500\n"
     ]
    },
    {
     "name": "stdout",
     "output_type": "stream",
     "text": [
      "bob.learn.em.train@2020-02-20 14:41:29,329 -- INFO: Iteration = 30/500\n"
     ]
    },
    {
     "name": "stderr",
     "output_type": "stream",
     "text": [
      "INFO:bob.learn.em.train:Iteration = 30/500\n"
     ]
    },
    {
     "name": "stdout",
     "output_type": "stream",
     "text": [
      "bob.learn.em.train@2020-02-20 14:42:06,987 -- INFO: Iteration = 31/500\n"
     ]
    },
    {
     "name": "stderr",
     "output_type": "stream",
     "text": [
      "INFO:bob.learn.em.train:Iteration = 31/500\n"
     ]
    },
    {
     "name": "stdout",
     "output_type": "stream",
     "text": [
      "bob.learn.em.train@2020-02-20 14:42:44,788 -- INFO: Iteration = 32/500\n"
     ]
    },
    {
     "name": "stderr",
     "output_type": "stream",
     "text": [
      "INFO:bob.learn.em.train:Iteration = 32/500\n"
     ]
    },
    {
     "name": "stdout",
     "output_type": "stream",
     "text": [
      "bob.learn.em.train@2020-02-20 14:43:23,438 -- INFO: Iteration = 33/500\n"
     ]
    },
    {
     "name": "stderr",
     "output_type": "stream",
     "text": [
      "INFO:bob.learn.em.train:Iteration = 33/500\n"
     ]
    },
    {
     "name": "stdout",
     "output_type": "stream",
     "text": [
      "bob.learn.em.train@2020-02-20 14:44:01,912 -- INFO: Iteration = 34/500\n"
     ]
    },
    {
     "name": "stderr",
     "output_type": "stream",
     "text": [
      "INFO:bob.learn.em.train:Iteration = 34/500\n"
     ]
    },
    {
     "name": "stdout",
     "output_type": "stream",
     "text": [
      "bob.learn.em.train@2020-02-20 14:44:40,756 -- INFO: Iteration = 35/500\n"
     ]
    },
    {
     "name": "stderr",
     "output_type": "stream",
     "text": [
      "INFO:bob.learn.em.train:Iteration = 35/500\n"
     ]
    },
    {
     "name": "stdout",
     "output_type": "stream",
     "text": [
      "bob.learn.em.train@2020-02-20 14:45:19,262 -- INFO: Iteration = 36/500\n"
     ]
    },
    {
     "name": "stderr",
     "output_type": "stream",
     "text": [
      "INFO:bob.learn.em.train:Iteration = 36/500\n"
     ]
    },
    {
     "name": "stdout",
     "output_type": "stream",
     "text": [
      "bob.learn.em.train@2020-02-20 14:45:58,971 -- INFO: Iteration = 37/500\n"
     ]
    },
    {
     "name": "stderr",
     "output_type": "stream",
     "text": [
      "INFO:bob.learn.em.train:Iteration = 37/500\n"
     ]
    },
    {
     "name": "stdout",
     "output_type": "stream",
     "text": [
      "bob.learn.em.train@2020-02-20 14:46:37,215 -- INFO: Iteration = 38/500\n"
     ]
    },
    {
     "name": "stderr",
     "output_type": "stream",
     "text": [
      "INFO:bob.learn.em.train:Iteration = 38/500\n"
     ]
    },
    {
     "name": "stdout",
     "output_type": "stream",
     "text": [
      "bob.learn.em.train@2020-02-20 14:47:15,792 -- INFO: Iteration = 39/500\n"
     ]
    },
    {
     "name": "stderr",
     "output_type": "stream",
     "text": [
      "INFO:bob.learn.em.train:Iteration = 39/500\n"
     ]
    },
    {
     "name": "stdout",
     "output_type": "stream",
     "text": [
      "bob.learn.em.train@2020-02-20 14:47:54,344 -- INFO: Iteration = 40/500\n"
     ]
    },
    {
     "name": "stderr",
     "output_type": "stream",
     "text": [
      "INFO:bob.learn.em.train:Iteration = 40/500\n"
     ]
    },
    {
     "name": "stdout",
     "output_type": "stream",
     "text": [
      "bob.learn.em.train@2020-02-20 14:48:32,785 -- INFO: Iteration = 41/500\n"
     ]
    },
    {
     "name": "stderr",
     "output_type": "stream",
     "text": [
      "INFO:bob.learn.em.train:Iteration = 41/500\n"
     ]
    },
    {
     "name": "stdout",
     "output_type": "stream",
     "text": [
      "bob.learn.em.train@2020-02-20 14:49:11,190 -- INFO: Iteration = 42/500\n"
     ]
    },
    {
     "name": "stderr",
     "output_type": "stream",
     "text": [
      "INFO:bob.learn.em.train:Iteration = 42/500\n"
     ]
    },
    {
     "name": "stdout",
     "output_type": "stream",
     "text": [
      "bob.learn.em.train@2020-02-20 14:49:49,634 -- INFO: Iteration = 43/500\n"
     ]
    },
    {
     "name": "stderr",
     "output_type": "stream",
     "text": [
      "INFO:bob.learn.em.train:Iteration = 43/500\n"
     ]
    },
    {
     "name": "stdout",
     "output_type": "stream",
     "text": [
      "bob.learn.em.train@2020-02-20 14:50:28,815 -- INFO: Iteration = 44/500\n"
     ]
    },
    {
     "name": "stderr",
     "output_type": "stream",
     "text": [
      "INFO:bob.learn.em.train:Iteration = 44/500\n"
     ]
    },
    {
     "name": "stdout",
     "output_type": "stream",
     "text": [
      "bob.learn.em.train@2020-02-20 14:51:07,871 -- INFO: Iteration = 45/500\n"
     ]
    },
    {
     "name": "stderr",
     "output_type": "stream",
     "text": [
      "INFO:bob.learn.em.train:Iteration = 45/500\n"
     ]
    },
    {
     "name": "stdout",
     "output_type": "stream",
     "text": [
      "bob.learn.em.train@2020-02-20 14:51:47,017 -- INFO: Iteration = 46/500\n"
     ]
    },
    {
     "name": "stderr",
     "output_type": "stream",
     "text": [
      "INFO:bob.learn.em.train:Iteration = 46/500\n"
     ]
    },
    {
     "name": "stdout",
     "output_type": "stream",
     "text": [
      "bob.learn.em.train@2020-02-20 14:52:31,258 -- INFO: Iteration = 47/500\n"
     ]
    },
    {
     "name": "stderr",
     "output_type": "stream",
     "text": [
      "INFO:bob.learn.em.train:Iteration = 47/500\n"
     ]
    },
    {
     "name": "stdout",
     "output_type": "stream",
     "text": [
      "bob.learn.em.train@2020-02-20 14:53:19,760 -- INFO: Iteration = 48/500\n"
     ]
    },
    {
     "name": "stderr",
     "output_type": "stream",
     "text": [
      "INFO:bob.learn.em.train:Iteration = 48/500\n"
     ]
    },
    {
     "name": "stdout",
     "output_type": "stream",
     "text": [
      "bob.learn.em.train@2020-02-20 14:54:06,303 -- INFO: Iteration = 49/500\n"
     ]
    },
    {
     "name": "stderr",
     "output_type": "stream",
     "text": [
      "INFO:bob.learn.em.train:Iteration = 49/500\n"
     ]
    },
    {
     "name": "stdout",
     "output_type": "stream",
     "text": [
      "bob.learn.em.train@2020-02-20 14:54:45,588 -- INFO: Iteration = 50/500\n"
     ]
    },
    {
     "name": "stderr",
     "output_type": "stream",
     "text": [
      "INFO:bob.learn.em.train:Iteration = 50/500\n"
     ]
    },
    {
     "name": "stdout",
     "output_type": "stream",
     "text": [
      "bob.learn.em.train@2020-02-20 14:55:25,022 -- INFO: Iteration = 51/500\n"
     ]
    },
    {
     "name": "stderr",
     "output_type": "stream",
     "text": [
      "INFO:bob.learn.em.train:Iteration = 51/500\n"
     ]
    },
    {
     "name": "stdout",
     "output_type": "stream",
     "text": [
      "bob.learn.em.train@2020-02-20 14:56:03,553 -- INFO: Iteration = 52/500\n"
     ]
    },
    {
     "name": "stderr",
     "output_type": "stream",
     "text": [
      "INFO:bob.learn.em.train:Iteration = 52/500\n"
     ]
    },
    {
     "name": "stdout",
     "output_type": "stream",
     "text": [
      "bob.learn.em.train@2020-02-20 14:56:43,328 -- INFO: Iteration = 53/500\n"
     ]
    },
    {
     "name": "stderr",
     "output_type": "stream",
     "text": [
      "INFO:bob.learn.em.train:Iteration = 53/500\n"
     ]
    },
    {
     "name": "stdout",
     "output_type": "stream",
     "text": [
      "bob.learn.em.train@2020-02-20 14:57:26,098 -- INFO: Iteration = 54/500\n"
     ]
    },
    {
     "name": "stderr",
     "output_type": "stream",
     "text": [
      "INFO:bob.learn.em.train:Iteration = 54/500\n"
     ]
    },
    {
     "name": "stdout",
     "output_type": "stream",
     "text": [
      "bob.learn.em.train@2020-02-20 14:58:05,810 -- INFO: Iteration = 55/500\n"
     ]
    },
    {
     "name": "stderr",
     "output_type": "stream",
     "text": [
      "INFO:bob.learn.em.train:Iteration = 55/500\n"
     ]
    },
    {
     "name": "stdout",
     "output_type": "stream",
     "text": [
      "bob.learn.em.train@2020-02-20 14:58:44,211 -- INFO: Iteration = 56/500\n"
     ]
    },
    {
     "name": "stderr",
     "output_type": "stream",
     "text": [
      "INFO:bob.learn.em.train:Iteration = 56/500\n"
     ]
    },
    {
     "name": "stdout",
     "output_type": "stream",
     "text": [
      "bob.learn.em.train@2020-02-20 14:59:23,297 -- INFO: Iteration = 57/500\n"
     ]
    },
    {
     "name": "stderr",
     "output_type": "stream",
     "text": [
      "INFO:bob.learn.em.train:Iteration = 57/500\n"
     ]
    },
    {
     "name": "stdout",
     "output_type": "stream",
     "text": [
      "bob.learn.em.train@2020-02-20 15:00:01,681 -- INFO: Iteration = 58/500\n"
     ]
    },
    {
     "name": "stderr",
     "output_type": "stream",
     "text": [
      "INFO:bob.learn.em.train:Iteration = 58/500\n"
     ]
    },
    {
     "name": "stdout",
     "output_type": "stream",
     "text": [
      "bob.learn.em.train@2020-02-20 15:00:39,820 -- INFO: Iteration = 59/500\n"
     ]
    },
    {
     "name": "stderr",
     "output_type": "stream",
     "text": [
      "INFO:bob.learn.em.train:Iteration = 59/500\n"
     ]
    },
    {
     "name": "stdout",
     "output_type": "stream",
     "text": [
      "bob.learn.em.train@2020-02-20 15:01:18,341 -- INFO: Iteration = 60/500\n"
     ]
    },
    {
     "name": "stderr",
     "output_type": "stream",
     "text": [
      "INFO:bob.learn.em.train:Iteration = 60/500\n"
     ]
    },
    {
     "name": "stdout",
     "output_type": "stream",
     "text": [
      "bob.learn.em.train@2020-02-20 15:01:59,864 -- INFO: Iteration = 61/500\n"
     ]
    },
    {
     "name": "stderr",
     "output_type": "stream",
     "text": [
      "INFO:bob.learn.em.train:Iteration = 61/500\n"
     ]
    },
    {
     "name": "stdout",
     "output_type": "stream",
     "text": [
      "bob.learn.em.train@2020-02-20 15:02:49,712 -- INFO: Iteration = 62/500\n"
     ]
    },
    {
     "name": "stderr",
     "output_type": "stream",
     "text": [
      "INFO:bob.learn.em.train:Iteration = 62/500\n"
     ]
    },
    {
     "name": "stdout",
     "output_type": "stream",
     "text": [
      "bob.learn.em.train@2020-02-20 15:03:37,782 -- INFO: Iteration = 63/500\n"
     ]
    },
    {
     "name": "stderr",
     "output_type": "stream",
     "text": [
      "INFO:bob.learn.em.train:Iteration = 63/500\n"
     ]
    },
    {
     "name": "stdout",
     "output_type": "stream",
     "text": [
      "bob.learn.em.train@2020-02-20 15:04:26,506 -- INFO: Iteration = 64/500\n"
     ]
    },
    {
     "name": "stderr",
     "output_type": "stream",
     "text": [
      "INFO:bob.learn.em.train:Iteration = 64/500\n"
     ]
    },
    {
     "name": "stdout",
     "output_type": "stream",
     "text": [
      "bob.learn.em.train@2020-02-20 15:05:16,429 -- INFO: Iteration = 65/500\n"
     ]
    },
    {
     "name": "stderr",
     "output_type": "stream",
     "text": [
      "INFO:bob.learn.em.train:Iteration = 65/500\n"
     ]
    },
    {
     "name": "stdout",
     "output_type": "stream",
     "text": [
      "bob.learn.em.train@2020-02-20 15:06:06,753 -- INFO: Iteration = 66/500\n"
     ]
    },
    {
     "name": "stderr",
     "output_type": "stream",
     "text": [
      "INFO:bob.learn.em.train:Iteration = 66/500\n"
     ]
    },
    {
     "name": "stdout",
     "output_type": "stream",
     "text": [
      "bob.learn.em.train@2020-02-20 15:06:56,391 -- INFO: Iteration = 67/500\n"
     ]
    },
    {
     "name": "stderr",
     "output_type": "stream",
     "text": [
      "INFO:bob.learn.em.train:Iteration = 67/500\n"
     ]
    },
    {
     "name": "stdout",
     "output_type": "stream",
     "text": [
      "bob.learn.em.train@2020-02-20 15:07:45,122 -- INFO: Iteration = 68/500\n"
     ]
    },
    {
     "name": "stderr",
     "output_type": "stream",
     "text": [
      "INFO:bob.learn.em.train:Iteration = 68/500\n"
     ]
    },
    {
     "name": "stdout",
     "output_type": "stream",
     "text": [
      "bob.learn.em.train@2020-02-20 15:08:29,861 -- INFO: Iteration = 69/500\n"
     ]
    },
    {
     "name": "stderr",
     "output_type": "stream",
     "text": [
      "INFO:bob.learn.em.train:Iteration = 69/500\n"
     ]
    },
    {
     "name": "stdout",
     "output_type": "stream",
     "text": [
      "bob.learn.em.train@2020-02-20 15:09:26,230 -- INFO: Iteration = 70/500\n"
     ]
    },
    {
     "name": "stderr",
     "output_type": "stream",
     "text": [
      "INFO:bob.learn.em.train:Iteration = 70/500\n"
     ]
    },
    {
     "name": "stdout",
     "output_type": "stream",
     "text": [
      "bob.learn.em.train@2020-02-20 15:10:13,951 -- INFO: Iteration = 71/500\n"
     ]
    },
    {
     "name": "stderr",
     "output_type": "stream",
     "text": [
      "INFO:bob.learn.em.train:Iteration = 71/500\n"
     ]
    },
    {
     "name": "stdout",
     "output_type": "stream",
     "text": [
      "bob.learn.em.train@2020-02-20 15:10:58,320 -- INFO: Iteration = 72/500\n"
     ]
    },
    {
     "name": "stderr",
     "output_type": "stream",
     "text": [
      "INFO:bob.learn.em.train:Iteration = 72/500\n"
     ]
    },
    {
     "name": "stdout",
     "output_type": "stream",
     "text": [
      "bob.learn.em.train@2020-02-20 15:11:43,567 -- INFO: Iteration = 73/500\n"
     ]
    },
    {
     "name": "stderr",
     "output_type": "stream",
     "text": [
      "INFO:bob.learn.em.train:Iteration = 73/500\n"
     ]
    },
    {
     "name": "stdout",
     "output_type": "stream",
     "text": [
      "bob.learn.em.train@2020-02-20 15:12:28,408 -- INFO: Iteration = 74/500\n"
     ]
    },
    {
     "name": "stderr",
     "output_type": "stream",
     "text": [
      "INFO:bob.learn.em.train:Iteration = 74/500\n"
     ]
    },
    {
     "name": "stdout",
     "output_type": "stream",
     "text": [
      "bob.learn.em.train@2020-02-20 15:13:10,083 -- INFO: Iteration = 75/500\n"
     ]
    },
    {
     "name": "stderr",
     "output_type": "stream",
     "text": [
      "INFO:bob.learn.em.train:Iteration = 75/500\n"
     ]
    },
    {
     "name": "stdout",
     "output_type": "stream",
     "text": [
      "bob.learn.em.train@2020-02-20 15:13:50,180 -- INFO: Iteration = 76/500\n"
     ]
    },
    {
     "name": "stderr",
     "output_type": "stream",
     "text": [
      "INFO:bob.learn.em.train:Iteration = 76/500\n"
     ]
    },
    {
     "name": "stdout",
     "output_type": "stream",
     "text": [
      "bob.learn.em.train@2020-02-20 15:14:30,551 -- INFO: Iteration = 77/500\n"
     ]
    },
    {
     "name": "stderr",
     "output_type": "stream",
     "text": [
      "INFO:bob.learn.em.train:Iteration = 77/500\n"
     ]
    },
    {
     "name": "stdout",
     "output_type": "stream",
     "text": [
      "bob.learn.em.train@2020-02-20 15:15:10,074 -- INFO: Iteration = 78/500\n"
     ]
    },
    {
     "name": "stderr",
     "output_type": "stream",
     "text": [
      "INFO:bob.learn.em.train:Iteration = 78/500\n"
     ]
    },
    {
     "name": "stdout",
     "output_type": "stream",
     "text": [
      "bob.learn.em.train@2020-02-20 15:15:49,204 -- INFO: Iteration = 79/500\n"
     ]
    },
    {
     "name": "stderr",
     "output_type": "stream",
     "text": [
      "INFO:bob.learn.em.train:Iteration = 79/500\n"
     ]
    },
    {
     "name": "stdout",
     "output_type": "stream",
     "text": [
      "bob.learn.em.train@2020-02-20 15:16:30,159 -- INFO: Iteration = 80/500\n"
     ]
    },
    {
     "name": "stderr",
     "output_type": "stream",
     "text": [
      "INFO:bob.learn.em.train:Iteration = 80/500\n"
     ]
    },
    {
     "name": "stdout",
     "output_type": "stream",
     "text": [
      "bob.learn.em.train@2020-02-20 15:17:09,819 -- INFO: Iteration = 81/500\n"
     ]
    },
    {
     "name": "stderr",
     "output_type": "stream",
     "text": [
      "INFO:bob.learn.em.train:Iteration = 81/500\n"
     ]
    },
    {
     "name": "stdout",
     "output_type": "stream",
     "text": [
      "bob.learn.em.train@2020-02-20 15:17:51,617 -- INFO: Iteration = 82/500\n"
     ]
    },
    {
     "name": "stderr",
     "output_type": "stream",
     "text": [
      "INFO:bob.learn.em.train:Iteration = 82/500\n"
     ]
    },
    {
     "name": "stdout",
     "output_type": "stream",
     "text": [
      "bob.learn.em.train@2020-02-20 15:18:31,305 -- INFO: Iteration = 83/500\n"
     ]
    },
    {
     "name": "stderr",
     "output_type": "stream",
     "text": [
      "INFO:bob.learn.em.train:Iteration = 83/500\n"
     ]
    },
    {
     "name": "stdout",
     "output_type": "stream",
     "text": [
      "bob.learn.em.train@2020-02-20 15:19:12,469 -- INFO: Iteration = 84/500\n"
     ]
    },
    {
     "name": "stderr",
     "output_type": "stream",
     "text": [
      "INFO:bob.learn.em.train:Iteration = 84/500\n"
     ]
    },
    {
     "name": "stdout",
     "output_type": "stream",
     "text": [
      "bob.learn.em.train@2020-02-20 15:19:53,571 -- INFO: Iteration = 85/500\n"
     ]
    },
    {
     "name": "stderr",
     "output_type": "stream",
     "text": [
      "INFO:bob.learn.em.train:Iteration = 85/500\n"
     ]
    },
    {
     "name": "stdout",
     "output_type": "stream",
     "text": [
      "bob.learn.em.train@2020-02-20 15:20:34,984 -- INFO: Iteration = 86/500\n"
     ]
    },
    {
     "name": "stderr",
     "output_type": "stream",
     "text": [
      "INFO:bob.learn.em.train:Iteration = 86/500\n"
     ]
    },
    {
     "ename": "KeyboardInterrupt",
     "evalue": "",
     "output_type": "error",
     "traceback": [
      "\u001b[0;31m----------------------------------------------------------------\u001b[0m",
      "\u001b[0;31mKeyboardInterrupt\u001b[0m              Traceback (most recent call last)",
      "\u001b[0;32m<ipython-input-17-1228b26910b1>\u001b[0m in \u001b[0;36m<module>\u001b[0;34m\u001b[0m\n\u001b[1;32m     64\u001b[0m \u001b[0;31m# train IVector model\u001b[0m\u001b[0;34m\u001b[0m\u001b[0;34m\u001b[0m\u001b[0;34m\u001b[0m\u001b[0m\n\u001b[1;32m     65\u001b[0m bob.learn.em.train(ivector_trainer, ivector_machine,\n\u001b[0;32m---> 66\u001b[0;31m                         gmm_stats_per_class, 500)\n\u001b[0m\u001b[1;32m     67\u001b[0m \u001b[0;34m\u001b[0m\u001b[0m\n\u001b[1;32m     68\u001b[0m \u001b[0;31m# Printing the session offset w.r.t each Gaussian component\u001b[0m\u001b[0;34m\u001b[0m\u001b[0;34m\u001b[0m\u001b[0;34m\u001b[0m\u001b[0m\n",
      "\u001b[0;32m~/anaconda3/envs/bob_py3/lib/python3.6/site-packages/bob/learn/em/train.py\u001b[0m in \u001b[0;36mtrain\u001b[0;34m(trainer, machine, data, max_iterations, convergence_threshold, initialize, rng, check_inputs, pool, trainer_type)\u001b[0m\n\u001b[1;32m    178\u001b[0m     \u001b[0maverage_output_previous\u001b[0m \u001b[0;34m=\u001b[0m \u001b[0maverage_output\u001b[0m\u001b[0;34m\u001b[0m\u001b[0;34m\u001b[0m\u001b[0m\n\u001b[1;32m    179\u001b[0m     \u001b[0mtrainer\u001b[0m\u001b[0;34m.\u001b[0m\u001b[0mm_step\u001b[0m\u001b[0;34m(\u001b[0m\u001b[0mmachine\u001b[0m\u001b[0;34m,\u001b[0m \u001b[0mdata\u001b[0m\u001b[0;34m)\u001b[0m\u001b[0;34m\u001b[0m\u001b[0;34m\u001b[0m\u001b[0m\n\u001b[0;32m--> 180\u001b[0;31m     \u001b[0m_e_step\u001b[0m\u001b[0;34m(\u001b[0m\u001b[0mtrainer\u001b[0m\u001b[0;34m,\u001b[0m \u001b[0mmachine\u001b[0m\u001b[0;34m,\u001b[0m\u001b[0mdata\u001b[0m\u001b[0;34m)\u001b[0m\u001b[0;34m\u001b[0m\u001b[0;34m\u001b[0m\u001b[0m\n\u001b[0m\u001b[1;32m    181\u001b[0m \u001b[0;34m\u001b[0m\u001b[0m\n\u001b[1;32m    182\u001b[0m     \u001b[0;32mif\u001b[0m \u001b[0mhasattr\u001b[0m\u001b[0;34m(\u001b[0m\u001b[0mtrainer\u001b[0m\u001b[0;34m,\u001b[0m\u001b[0;34m\"compute_likelihood\"\u001b[0m\u001b[0;34m)\u001b[0m\u001b[0;34m:\u001b[0m\u001b[0;34m\u001b[0m\u001b[0;34m\u001b[0m\u001b[0m\n",
      "\u001b[0;32m~/anaconda3/envs/bob_py3/lib/python3.6/site-packages/bob/learn/em/train.py\u001b[0m in \u001b[0;36m_e_step\u001b[0;34m(trainer, machine, data)\u001b[0m\n\u001b[1;32m    130\u001b[0m     \u001b[0;32mif\u001b[0m \u001b[0mpool\u001b[0m \u001b[0;32mis\u001b[0m \u001b[0;32mNone\u001b[0m\u001b[0;34m:\u001b[0m\u001b[0;34m\u001b[0m\u001b[0;34m\u001b[0m\u001b[0m\n\u001b[1;32m    131\u001b[0m       \u001b[0;31m# use only one core\u001b[0m\u001b[0;34m\u001b[0m\u001b[0;34m\u001b[0m\u001b[0;34m\u001b[0m\u001b[0m\n\u001b[0;32m--> 132\u001b[0;31m       \u001b[0mtrainer\u001b[0m\u001b[0;34m.\u001b[0m\u001b[0me_step\u001b[0m\u001b[0;34m(\u001b[0m\u001b[0mmachine\u001b[0m\u001b[0;34m,\u001b[0m \u001b[0mdata\u001b[0m\u001b[0;34m)\u001b[0m\u001b[0;34m\u001b[0m\u001b[0;34m\u001b[0m\u001b[0m\n\u001b[0m\u001b[1;32m    133\u001b[0m     \u001b[0;32melse\u001b[0m\u001b[0;34m:\u001b[0m\u001b[0;34m\u001b[0m\u001b[0;34m\u001b[0m\u001b[0m\n\u001b[1;32m    134\u001b[0m \u001b[0;34m\u001b[0m\u001b[0m\n",
      "\u001b[0;31mKeyboardInterrupt\u001b[0m: "
     ]
    }
   ],
   "source": [
    "data_type='cis'\n",
    "\n",
    "path_train_data, df_train_label = define_data_type(data_type=data_type)\n",
    "\n",
    "# Filter df_train_label according to the measurement_id we are most interested in\n",
    "df_train_label = interesting_patients(df_train_label=df_train_label, list_measurement_id=list_measurement_id)\n",
    "\n",
    "# Array concatenating the training data so we can train the ubm with everything\n",
    "nd_train_data = np.empty((0,3), float)\n",
    "list_train_data = []\n",
    "for idx in df_train_label.index:\n",
    "    df_train_data=pd.read_csv(path_train_data+df_train_label[\"measurement_id\"][idx]+'.csv')\n",
    "    x = df_train_data.iloc[:,-3:]\n",
    "    normed_x = (x - x.mean(axis=0)) / x.std(axis=0)\n",
    "    list_train_data.append(normed_x.to_numpy())\n",
    "    nd_train_data = np.append(nd_train_data, normed_x.to_numpy(), axis=0)\n",
    "\n",
    "\n",
    "# replace the prior gmm with a code that trains a ubm?\n",
    "# https://groups.google.com/forum/#!searchin/bob-devel/prior%7Csort:date/bob-devel/WLk1t8ixr0A/RyhfiC0ICAAJ\n",
    "\n",
    "# Creating a fake prior with 256 gaussians of dimension 3\n",
    "g = 256\n",
    "#prior_gmm = bob.learn.em.GMMMachine(g, 3)\n",
    "\n",
    "# Training UBM\n",
    "gmm = bob.bio.gmm.algorithm.GMM(number_of_gaussians=g)\n",
    "gmm.train_ubm(nd_train_data)\n",
    "gmm.project_ubm(nd_train_data)\n",
    "prior_gmm = gmm.ubm \n",
    "\n",
    "# SAVE THE UBM \n",
    "\n",
    "# The input the the TV Training is the statistics of the GMM\n",
    "gmm_stats_per_class = []\n",
    "for d in list_train_data:\n",
    "    for i in d:\n",
    "        gmm_stats_container = bob.learn.em.GMMStats(g, 3)\n",
    "        prior_gmm.acc_statistics(i, gmm_stats_container)\n",
    "        gmm_stats_per_class.append(gmm_stats_container)\n",
    "\n",
    "\n",
    "### Finally doing the TV training\n",
    "subspace_dimension_of_t = 2\n",
    "ivector_trainer = bob.learn.em.IVectorTrainer(update_sigma=True)\n",
    "# IVectorMachine: Statistical model for the Total Variability training for more\n",
    "ivector_machine = bob.learn.em.IVectorMachine(\n",
    "        prior_gmm, subspace_dimension_of_t, 10e-5)\n",
    "\n",
    "import multiprocessing.pool\n",
    "pool = multiprocessing.ThreadPool(4)\n",
    " \n",
    "# train IVector model\n",
    "bob.learn.em.train(ivector_trainer, ivector_machine,\n",
    "                        gmm_stats_per_class, 500, pool=pool)\n",
    "\n",
    "# Printing the session offset w.r.t each Gaussian component\n",
    "# Returns the Total Variability matrix, T\n",
    "print(ivector_machine.t)\n",
    "\n",
    "print(ivector_machine.ubm)\n",
    "\n",
    "ivector_machine.save(data_dir+'bob.hdf5')"
   ]
  },
  {
   "cell_type": "code",
   "execution_count": null,
   "metadata": {},
   "outputs": [],
   "source": []
  },
  {
   "cell_type": "code",
   "execution_count": null,
   "metadata": {},
   "outputs": [],
   "source": [
    "# ivectors projected \n",
    "ivector_machine.project(gmm_stats_per_class)"
   ]
  }
 ],
 "metadata": {
  "kernelspec": {
   "display_name": "bob_py3",
   "language": "python",
   "name": "bob_py3"
  },
  "language_info": {
   "codemirror_mode": {
    "name": "ipython",
    "version": 3
   },
   "file_extension": ".py",
   "mimetype": "text/x-python",
   "name": "python",
   "nbconvert_exporter": "python",
   "pygments_lexer": "ipython3",
   "version": "3.6.9"
  }
 },
 "nbformat": 4,
 "nbformat_minor": 2
}
