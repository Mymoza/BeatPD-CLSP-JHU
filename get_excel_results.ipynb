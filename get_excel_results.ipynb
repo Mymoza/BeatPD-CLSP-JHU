{
 "cells": [
  {
   "cell_type": "markdown",
   "metadata": {},
   "source": [
    "# Get Excel Results "
   ]
  },
  {
   "cell_type": "code",
   "execution_count": 2,
   "metadata": {},
   "outputs": [],
   "source": [
    "import pandas as pd \n",
    "import re\n",
    "\n",
    "\n",
    "def read_log_results_to_excel(folders, fileName,liVecDim,path=\"/export/c08/lmorove1/kaldi/egs/beatPDivec/\"):\n",
    "    for folder in folders:#'trem_noinact_auto30']:#,'trem_noinact_auto30_320fl','trem_noinact_auto30_240fl','trem_noinact_auto60_400fl']:\n",
    "        print(folder)\n",
    "        value = []\n",
    "        for ivecDim in liVecDim:\n",
    "            sFilePath=path+folder+'/exp/ivec_'+str(ivecDim)+'/'\n",
    "            print('Opening : ', sFilePath+fileName)\n",
    "            textfile = open(sFilePath+fileName)\n",
    "            filetext = textfile.read()\n",
    "            textfile.close()\n",
    "            \n",
    "            \n",
    "            result = re.findall(r\"Test Final score\\s[:| ]\\s*(\\d*.\\d*)\",filetext)\n",
    "#             print(result[len(result)-1])\n",
    "            value.append(result[len(result)-1])\n",
    "            \n",
    "        value = pd.DataFrame(value)\n",
    "        value = value.T\n",
    "        value.columns = liVecDim\n",
    "        display(value)"
   ]
  },
  {
   "cell_type": "markdown",
   "metadata": {},
   "source": [
    "# SVR - Example"
   ]
  },
  {
   "cell_type": "code",
   "execution_count": 15,
   "metadata": {},
   "outputs": [
    {
     "name": "stdout",
     "output_type": "stream",
     "text": [
      "dysk_hpf_auto30\n",
      "Opening :  /export/b19/mpgill/kaldi/egs/beatPDivec/dysk_hpf_auto30/exp/ivec_450/globalAccuSVR_Test.log\n",
      "Opening :  /export/b19/mpgill/kaldi/egs/beatPDivec/dysk_hpf_auto30/exp/ivec_500/globalAccuSVR_Test.log\n",
      "Opening :  /export/b19/mpgill/kaldi/egs/beatPDivec/dysk_hpf_auto30/exp/ivec_550/globalAccuSVR_Test.log\n",
      "Opening :  /export/b19/mpgill/kaldi/egs/beatPDivec/dysk_hpf_auto30/exp/ivec_600/globalAccuSVR_Test.log\n",
      "Opening :  /export/b19/mpgill/kaldi/egs/beatPDivec/dysk_hpf_auto30/exp/ivec_650/globalAccuSVR_Test.log\n",
      "Opening :  /export/b19/mpgill/kaldi/egs/beatPDivec/dysk_hpf_auto30/exp/ivec_700/globalAccuSVR_Test.log\n"
     ]
    },
    {
     "data": {
      "text/html": [
       "<div>\n",
       "<style scoped>\n",
       "    .dataframe tbody tr th:only-of-type {\n",
       "        vertical-align: middle;\n",
       "    }\n",
       "\n",
       "    .dataframe tbody tr th {\n",
       "        vertical-align: top;\n",
       "    }\n",
       "\n",
       "    .dataframe thead th {\n",
       "        text-align: right;\n",
       "    }\n",
       "</style>\n",
       "<table border=\"1\" class=\"dataframe\">\n",
       "  <thead>\n",
       "    <tr style=\"text-align: right;\">\n",
       "      <th></th>\n",
       "      <th>450</th>\n",
       "      <th>500</th>\n",
       "      <th>550</th>\n",
       "      <th>600</th>\n",
       "      <th>650</th>\n",
       "      <th>700</th>\n",
       "    </tr>\n",
       "  </thead>\n",
       "  <tbody>\n",
       "    <tr>\n",
       "      <th>0</th>\n",
       "      <td>0.503945</td>\n",
       "      <td>0.503035</td>\n",
       "      <td>0.502589</td>\n",
       "      <td>0.500938</td>\n",
       "      <td>0.499961</td>\n",
       "      <td>0.498389</td>\n",
       "    </tr>\n",
       "  </tbody>\n",
       "</table>\n",
       "</div>"
      ],
      "text/plain": [
       "        450       500       550       600       650       700\n",
       "0  0.503945  0.503035  0.502589  0.500938  0.499961  0.498389"
      ]
     },
     "metadata": {},
     "output_type": "display_data"
    }
   ],
   "source": [
    "path=\"/export/b19/mpgill/kaldi/egs/beatPDivec/\"\n",
    "\n",
    "folders=['dysk_hpf_auto30']\n",
    "fileName='globalAccuSVR_Test.log'\n",
    "liVecDim = [450,500,550,600,650,700]\n",
    "\n",
    "read_log_results_to_excel(folders, fileName, liVecDim, path)"
   ]
  },
  {
   "cell_type": "markdown",
   "metadata": {},
   "source": [
    "## Per Patient - Example "
   ]
  },
  {
   "cell_type": "code",
   "execution_count": null,
   "metadata": {},
   "outputs": [],
   "source": [
    "# on_off_orig_auto60_320fl DONE \n",
    "# on_off_hpf_auto30 DONE \n",
    "\n",
    "# dysk_combhpfnoinact_auto60_400fl DONE \n",
    "# dysk_hpf_auto60_400fl\n",
    "\n",
    "# trem_combhpfnoinact_auto30 Per patient error \n",
    "# trem_hpf_auto30 DONE \n",
    "# trem_orig_auto30_400fl DONE \n",
    "# trem_combhpfnoinact_auto30 TODO "
   ]
  },
  {
   "cell_type": "code",
   "execution_count": 103,
   "metadata": {},
   "outputs": [
    {
     "name": "stdout",
     "output_type": "stream",
     "text": [
      "v1_dysk_auto\n",
      "Opening :  /export/c08/lmorove1/kaldi/egs/beatPDivec/v1_dysk_auto/exp/ivec_500/globalAccuPerPatientSVR_Test.log\n",
      "Opening :  /export/c08/lmorove1/kaldi/egs/beatPDivec/v1_dysk_auto/exp/ivec_550/globalAccuPerPatientSVR_Test.log\n",
      "Opening :  /export/c08/lmorove1/kaldi/egs/beatPDivec/v1_dysk_auto/exp/ivec_600/globalAccuPerPatientSVR_Test.log\n",
      "Opening :  /export/c08/lmorove1/kaldi/egs/beatPDivec/v1_dysk_auto/exp/ivec_650/globalAccuPerPatientSVR_Test.log\n",
      "Opening :  /export/c08/lmorove1/kaldi/egs/beatPDivec/v1_dysk_auto/exp/ivec_700/globalAccuPerPatientSVR_Test.log\n"
     ]
    },
    {
     "data": {
      "text/html": [
       "<div>\n",
       "<style scoped>\n",
       "    .dataframe tbody tr th:only-of-type {\n",
       "        vertical-align: middle;\n",
       "    }\n",
       "\n",
       "    .dataframe tbody tr th {\n",
       "        vertical-align: top;\n",
       "    }\n",
       "\n",
       "    .dataframe thead th {\n",
       "        text-align: right;\n",
       "    }\n",
       "</style>\n",
       "<table border=\"1\" class=\"dataframe\">\n",
       "  <thead>\n",
       "    <tr style=\"text-align: right;\">\n",
       "      <th></th>\n",
       "      <th>500</th>\n",
       "      <th>550</th>\n",
       "      <th>600</th>\n",
       "      <th>650</th>\n",
       "      <th>700</th>\n",
       "    </tr>\n",
       "  </thead>\n",
       "  <tbody>\n",
       "    <tr>\n",
       "      <th>0</th>\n",
       "      <td>0.47765620054179414</td>\n",
       "      <td>0.4802455810062333</td>\n",
       "      <td>0.4770895422796798</td>\n",
       "      <td>0.47968198214088975</td>\n",
       "      <td>0.47850054709962064</td>\n",
       "    </tr>\n",
       "  </tbody>\n",
       "</table>\n",
       "</div>"
      ],
      "text/plain": [
       "                   500                 550                 600  \\\n",
       "0  0.47765620054179414  0.4802455810062333  0.4770895422796798   \n",
       "\n",
       "                   650                  700  \n",
       "0  0.47968198214088975  0.47850054709962064  "
      ]
     },
     "metadata": {},
     "output_type": "display_data"
    }
   ],
   "source": [
    "# path=\"/export/b19/mpgill/kaldi/egs/beatPDivec/\"\n",
    "path=\"/export/c08/lmorove1/kaldi/egs/beatPDivec/\"\n",
    "folders=['v1_dysk_auto']\n",
    "fileName='globalAccuPerPatientSVR_Test.log'\n",
    "liVecDim = [500,550,600,650,700]\n",
    "\n",
    "read_log_results_to_excel(folders, fileName, liVecDim, path)"
   ]
  },
  {
   "cell_type": "markdown",
   "metadata": {},
   "source": [
    "## Everyone SVR - Example "
   ]
  },
  {
   "cell_type": "code",
   "execution_count": 17,
   "metadata": {},
   "outputs": [
    {
     "name": "stdout",
     "output_type": "stream",
     "text": [
      "dysk_hpf_auto30\n",
      "Opening :  /export/b19/mpgill/kaldi/egs/beatPDivec/dysk_hpf_auto30/exp/ivec_450/globalAccuEveryoneSVR_Test.log\n",
      "Opening :  /export/b19/mpgill/kaldi/egs/beatPDivec/dysk_hpf_auto30/exp/ivec_500/globalAccuEveryoneSVR_Test.log\n",
      "Opening :  /export/b19/mpgill/kaldi/egs/beatPDivec/dysk_hpf_auto30/exp/ivec_550/globalAccuEveryoneSVR_Test.log\n",
      "Opening :  /export/b19/mpgill/kaldi/egs/beatPDivec/dysk_hpf_auto30/exp/ivec_600/globalAccuEveryoneSVR_Test.log\n",
      "Opening :  /export/b19/mpgill/kaldi/egs/beatPDivec/dysk_hpf_auto30/exp/ivec_650/globalAccuEveryoneSVR_Test.log\n",
      "Opening :  /export/b19/mpgill/kaldi/egs/beatPDivec/dysk_hpf_auto30/exp/ivec_700/globalAccuEveryoneSVR_Test.log\n"
     ]
    },
    {
     "data": {
      "text/html": [
       "<div>\n",
       "<style scoped>\n",
       "    .dataframe tbody tr th:only-of-type {\n",
       "        vertical-align: middle;\n",
       "    }\n",
       "\n",
       "    .dataframe tbody tr th {\n",
       "        vertical-align: top;\n",
       "    }\n",
       "\n",
       "    .dataframe thead th {\n",
       "        text-align: right;\n",
       "    }\n",
       "</style>\n",
       "<table border=\"1\" class=\"dataframe\">\n",
       "  <thead>\n",
       "    <tr style=\"text-align: right;\">\n",
       "      <th></th>\n",
       "      <th>450</th>\n",
       "      <th>500</th>\n",
       "      <th>550</th>\n",
       "      <th>600</th>\n",
       "      <th>650</th>\n",
       "      <th>700</th>\n",
       "    </tr>\n",
       "  </thead>\n",
       "  <tbody>\n",
       "    <tr>\n",
       "      <th>0</th>\n",
       "      <td>0.529532</td>\n",
       "      <td>0.514828</td>\n",
       "      <td>0.521587</td>\n",
       "      <td>0.517576</td>\n",
       "      <td>0.524004</td>\n",
       "      <td>0.519363</td>\n",
       "    </tr>\n",
       "  </tbody>\n",
       "</table>\n",
       "</div>"
      ],
      "text/plain": [
       "        450       500       550       600       650       700\n",
       "0  0.529532  0.514828  0.521587  0.517576  0.524004  0.519363"
      ]
     },
     "metadata": {},
     "output_type": "display_data"
    }
   ],
   "source": [
    "path=\"/export/b19/mpgill/kaldi/egs/beatPDivec/\"\n",
    "\n",
    "folders=['dysk_hpf_auto30']\n",
    "fileName='globalAccuEveryoneSVR_Test.log'\n",
    "liVecDim = [450,500,550,600,650,700]\n",
    "\n",
    "read_log_results_to_excel(folders, fileName, liVecDim, path)"
   ]
  },
  {
   "cell_type": "markdown",
   "metadata": {},
   "source": [
    "# KNN"
   ]
  },
  {
   "cell_type": "code",
   "execution_count": 22,
   "metadata": {},
   "outputs": [
    {
     "name": "stdout",
     "output_type": "stream",
     "text": [
      "on_off_hpf_auto30\n",
      "Opening :  /export/b19/mpgill/kaldi/egs/beatPDivec/on_off_hpf_auto30/exp/ivec_350/globalAccuKNN.log\n",
      "Opening :  /export/b19/mpgill/kaldi/egs/beatPDivec/on_off_hpf_auto30/exp/ivec_400/globalAccuKNN.log\n",
      "Opening :  /export/b19/mpgill/kaldi/egs/beatPDivec/on_off_hpf_auto30/exp/ivec_450/globalAccuKNN.log\n",
      "Opening :  /export/b19/mpgill/kaldi/egs/beatPDivec/on_off_hpf_auto30/exp/ivec_500/globalAccuKNN.log\n",
      "Opening :  /export/b19/mpgill/kaldi/egs/beatPDivec/on_off_hpf_auto30/exp/ivec_550/globalAccuKNN.log\n",
      "Opening :  /export/b19/mpgill/kaldi/egs/beatPDivec/on_off_hpf_auto30/exp/ivec_600/globalAccuKNN.log\n",
      "Opening :  /export/b19/mpgill/kaldi/egs/beatPDivec/on_off_hpf_auto30/exp/ivec_650/globalAccuKNN.log\n",
      "Opening :  /export/b19/mpgill/kaldi/egs/beatPDivec/on_off_hpf_auto30/exp/ivec_700/globalAccuKNN.log\n"
     ]
    },
    {
     "data": {
      "text/html": [
       "<div>\n",
       "<style scoped>\n",
       "    .dataframe tbody tr th:only-of-type {\n",
       "        vertical-align: middle;\n",
       "    }\n",
       "\n",
       "    .dataframe tbody tr th {\n",
       "        vertical-align: top;\n",
       "    }\n",
       "\n",
       "    .dataframe thead th {\n",
       "        text-align: right;\n",
       "    }\n",
       "</style>\n",
       "<table border=\"1\" class=\"dataframe\">\n",
       "  <thead>\n",
       "    <tr style=\"text-align: right;\">\n",
       "      <th></th>\n",
       "      <th>350</th>\n",
       "      <th>400</th>\n",
       "      <th>450</th>\n",
       "      <th>500</th>\n",
       "      <th>550</th>\n",
       "      <th>600</th>\n",
       "      <th>650</th>\n",
       "      <th>700</th>\n",
       "    </tr>\n",
       "  </thead>\n",
       "  <tbody>\n",
       "    <tr>\n",
       "      <th>0</th>\n",
       "      <td>1.94074</td>\n",
       "      <td>1.90327</td>\n",
       "      <td>1.91882</td>\n",
       "      <td>1.89324</td>\n",
       "      <td>1.92872</td>\n",
       "      <td>1.9249</td>\n",
       "      <td>1.89681</td>\n",
       "      <td>1.86576</td>\n",
       "    </tr>\n",
       "  </tbody>\n",
       "</table>\n",
       "</div>"
      ],
      "text/plain": [
       "       350      400      450      500      550     600      650      700\n",
       "0  1.94074  1.90327  1.91882  1.89324  1.92872  1.9249  1.89681  1.86576"
      ]
     },
     "metadata": {},
     "output_type": "display_data"
    }
   ],
   "source": [
    "path=\"/export/b19/mpgill/kaldi/egs/beatPDivec/\"\n",
    "\n",
    "folders=['on_off_hpf_auto30']\n",
    "fileName='globalAccuKNN.log'\n",
    "liVecDim = [350,400,450,500,550,600,650,700]\n",
    "\n",
    "read_log_results_to_excel(folders, fileName, liVecDim, path)"
   ]
  },
  {
   "cell_type": "markdown",
   "metadata": {},
   "source": [
    "# PLDA "
   ]
  },
  {
   "cell_type": "code",
   "execution_count": 24,
   "metadata": {},
   "outputs": [
    {
     "name": "stdout",
     "output_type": "stream",
     "text": [
      "dysk_hpf_auto30\n",
      "Opening :  /export/b19/mpgill/kaldi/egs/beatPDivec/dysk_hpf_auto30/exp/ivec_450/globalAccuPLDA.log\n",
      "Opening :  /export/b19/mpgill/kaldi/egs/beatPDivec/dysk_hpf_auto30/exp/ivec_500/globalAccuPLDA.log\n",
      "Opening :  /export/b19/mpgill/kaldi/egs/beatPDivec/dysk_hpf_auto30/exp/ivec_550/globalAccuPLDA.log\n",
      "Opening :  /export/b19/mpgill/kaldi/egs/beatPDivec/dysk_hpf_auto30/exp/ivec_600/globalAccuPLDA.log\n",
      "Opening :  /export/b19/mpgill/kaldi/egs/beatPDivec/dysk_hpf_auto30/exp/ivec_650/globalAccuPLDA.log\n",
      "Opening :  /export/b19/mpgill/kaldi/egs/beatPDivec/dysk_hpf_auto30/exp/ivec_700/globalAccuPLDA.log\n"
     ]
    },
    {
     "data": {
      "text/html": [
       "<div>\n",
       "<style scoped>\n",
       "    .dataframe tbody tr th:only-of-type {\n",
       "        vertical-align: middle;\n",
       "    }\n",
       "\n",
       "    .dataframe tbody tr th {\n",
       "        vertical-align: top;\n",
       "    }\n",
       "\n",
       "    .dataframe thead th {\n",
       "        text-align: right;\n",
       "    }\n",
       "</style>\n",
       "<table border=\"1\" class=\"dataframe\">\n",
       "  <thead>\n",
       "    <tr style=\"text-align: right;\">\n",
       "      <th></th>\n",
       "      <th>450</th>\n",
       "      <th>500</th>\n",
       "      <th>550</th>\n",
       "      <th>600</th>\n",
       "      <th>650</th>\n",
       "      <th>700</th>\n",
       "    </tr>\n",
       "  </thead>\n",
       "  <tbody>\n",
       "    <tr>\n",
       "      <th>0</th>\n",
       "      <td>0.829572</td>\n",
       "      <td>0.782835</td>\n",
       "      <td>0.856173</td>\n",
       "      <td>0.82206</td>\n",
       "      <td>0.87735</td>\n",
       "      <td>0.787288</td>\n",
       "    </tr>\n",
       "  </tbody>\n",
       "</table>\n",
       "</div>"
      ],
      "text/plain": [
       "        450       500       550      600      650       700\n",
       "0  0.829572  0.782835  0.856173  0.82206  0.87735  0.787288"
      ]
     },
     "metadata": {},
     "output_type": "display_data"
    }
   ],
   "source": [
    "path=\"/export/b19/mpgill/kaldi/egs/beatPDivec/\"\n",
    "\n",
    "folders=['dysk_hpf_auto30']\n",
    "fileName='globalAccuPLDA.log'\n",
    "liVecDim = [450,500,550,600,650,700]\n",
    "\n",
    "read_log_results_to_excel(folders, fileName, liVecDim, path)"
   ]
  },
  {
   "cell_type": "markdown",
   "metadata": {},
   "source": [
    "# Make sure all the files are created - and no empty files "
   ]
  },
  {
   "cell_type": "markdown",
   "metadata": {},
   "source": [
    "This is a work and progress and isn't completed."
   ]
  },
  {
   "cell_type": "code",
   "execution_count": 52,
   "metadata": {},
   "outputs": [],
   "source": [
    "#data_dir=\"/home/sjoshi/codes/python/BeatPD/data/BeatPD/\"\n",
    "data_dir=\"/export/b19/mpgill/BeatPD_data/\""
   ]
  },
  {
   "cell_type": "markdown",
   "metadata": {},
   "source": [
    "## CIS-PD Database"
   ]
  },
  {
   "cell_type": "code",
   "execution_count": null,
   "metadata": {},
   "outputs": [],
   "source": [
    "!echo \"training_data\"\n",
    "\n",
    "!cd {data_dir}cis-pd.training_data/; ls -1 | wc -l\n",
    "!cd {data_dir}cis-pd.training_data.high_pass/; ls -1 | wc -l\n",
    "!cd {data_dir}cis-pd.training_data.high_pass_mask/; ls -1 | wc -l\n",
    "!cd {data_dir}cis-pd.training_data.derivative_original_data/; ls -1 | wc -l\n",
    "\n",
    "!echo \"ancillary_data\"\n",
    "\n",
    "!cd {data_dir}cis-pd.ancillary_data/; ls -1 | wc -l\n",
    "!cd {data_dir}cis-pd.ancillary_data.high_pass/; ls -1 | wc -l\n",
    "!cd {data_dir}cis-pd.ancillary_data.high_pass_mask/; ls -1 | wc -l\n",
    "!cd {data_dir}cis-pd.ancillary_data.derivative_original_data/; ls -1 | wc -l\n",
    "\n",
    "!echo \"testing_data\"\n",
    "\n",
    "!cd {data_dir}cis-pd.testing_data/; ls -1 | wc -l\n",
    "!cd {data_dir}cis-pd.testing_data.high_pass/; ls -1 | wc -l\n",
    "!cd {data_dir}cis-pd.testing_data.high_pass_mask/; ls -1 | wc -l\n",
    "!cd {data_dir}cis-pd.testing_data.derivative_original_data/; ls -1 | wc -l\n",
    "\n"
   ]
  },
  {
   "cell_type": "code",
   "execution_count": null,
   "metadata": {},
   "outputs": [],
   "source": [
    "for data_real_subtype in ['smartphone_accelerometer','smartwatch_accelerometer','smartwatch_gyroscope']:\n",
    "    !echo {data_real_subtype}\n",
    "    !echo \"training_data\"\n",
    "\n",
    "    !cd {data_dir}real-pd.training_data/{data_real_subtype}; ls -1 | wc -l\n",
    "    !cd {data_dir}real-pd.training_data.high_pass/{data_real_subtype}; ls -1 | wc -l\n",
    "    !cd {data_dir}real-pd.training_data.high_pass_mask/{data_real_subtype}; ls -1 | wc -l\n",
    "#     !cd {data_dir}real-pd.training_data.derivative_original_data/{data_real_subtype}; ls -1 | wc -l\n",
    "\n",
    "    !echo \"ancillary_data\"\n",
    "\n",
    "    !cd {data_dir}real-pd.ancillary_data/{data_real_subtype}; ls -1 | wc -l\n",
    "    !cd {data_dir}real-pd.ancillary_data.high_pass/{data_real_subtype}; ls -1 | wc -l\n",
    "    !cd {data_dir}real-pd.ancillary_data.high_pass_mask/{data_real_subtype}; ls -1 | wc -l\n",
    "#     !cd {data_dir}real-pd.ancillary_data.derivative_original_data/{data_real_subtype}; ls -1 | wc -l\n",
    "\n",
    "    !echo \"testing_data\"\n",
    "\n",
    "    !cd {data_dir}real-pd.testing_data/{data_real_subtype}; ls -1 | wc -l\n",
    "    !cd {data_dir}real-pd.testing_data.high_pass/{data_real_subtype}; ls -1 | wc -l\n",
    "    !cd {data_dir}real-pd.testing_data.high_pass_mask/{data_real_subtype}; ls -1 | wc -l\n",
    "#     !cd {data_dir}real-pd.testing_data.derivative_original_data/{data_real_subtype}; ls -1 | wc -l\n",
    "\n",
    "\n",
    "\n",
    "\n",
    "\n",
    "# !cd {data_dir}real-pd.training_data.high_pass_mask.wav_X/smartphone_accelerometer/; ls -1 | wc -l\n",
    "# !cd {data_dir}real-pd.training_data.high_pass_mask.wav_X/smartwatch_accelerometer/; ls -1 | wc -l\n",
    "# !cd {data_dir}real-pd.training_data.high_pass_mask.wav_X/smartwatch_gyroscope/; ls -1 | wc -l\n",
    "\n",
    "\n",
    "\n",
    "# !cd {data_dir}real-pd.testing_data.high_pass_mask.wav_X/smartphone_accelerometer/; ls -1 | wc -l\n",
    "# !cd {data_dir}real-pd.testing_data.high_pass_mask.wav_X/smartwatch_accelerometer/; ls -1 | wc -l\n",
    "# !cd {data_dir}real-pd.testing_data.high_pass_mask.wav_X/smartwatch_gyroscope/; ls -1 | wc -l\n"
   ]
  },
  {
   "cell_type": "code",
   "execution_count": 65,
   "metadata": {},
   "outputs": [],
   "source": [
    "!cd {data_dir}; find . -empty -type f"
   ]
  },
  {
   "cell_type": "code",
   "execution_count": null,
   "metadata": {},
   "outputs": [],
   "source": []
  }
 ],
 "metadata": {
  "kernelspec": {
   "display_name": "Python 3",
   "language": "python",
   "name": "python3"
  },
  "language_info": {
   "codemirror_mode": {
    "name": "ipython",
    "version": 3
   },
   "file_extension": ".py",
   "mimetype": "text/x-python",
   "name": "python",
   "nbconvert_exporter": "python",
   "pygments_lexer": "ipython3",
   "version": "3.7.3"
  }
 },
 "nbformat": 4,
 "nbformat_minor": 2
}
