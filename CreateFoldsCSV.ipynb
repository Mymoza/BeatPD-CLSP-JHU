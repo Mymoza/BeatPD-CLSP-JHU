{
 "cells": [
  {
   "cell_type": "markdown",
   "metadata": {},
   "source": [
    "# Create CSV from Folds"
   ]
  },
  {
   "cell_type": "code",
   "execution_count": 4,
   "metadata": {},
   "outputs": [],
   "source": [
    "import numpy as np\n",
    "import pickle\n",
    "import pandas as pd\n",
    "import os"
   ]
  },
  {
   "cell_type": "markdown",
   "metadata": {},
   "source": [
    "## Generate CSV from the training/testing folds"
   ]
  },
  {
   "cell_type": "markdown",
   "metadata": {},
   "source": [
    "### SVR"
   ]
  },
  {
   "cell_type": "code",
   "execution_count": null,
   "metadata": {},
   "outputs": [],
   "source": [
    "def generateCSVresults(src_dir, dest_dir, C_in, E_in, P_in):\n",
    "    \"\"\"\n",
    "    Generate a CSV file with measurement_id and predictions from the provided source directory. \n",
    "    \n",
    "    Keyword arguments: \n",
    "    - src_dir: String. Absolute path to the *_Fold folders to generate the CSV predictions from.\n",
    "               Example: /export/c08/lmorove1/kaldi/egs/beatPDivec/on_off_noinact_auto30/exp/ivec_450/resiVecSVR_Fold\n",
    "    - dest_dir: String. Absolute path to where you want the CSV file to be saved. \n",
    "                Example: /export/c08/lmorove1/kaldi/egs/beatPDivec/on_off_noinact_auto30/exp/ivec_450/resiVecSVR_Fold_all/\n",
    "    - C_in: List with string values. C value for the SVR. \n",
    "            Example: ['0.2']\n",
    "    - E_in: List with string values. Epsilon value for the SVR.\n",
    "            Example: ['0.1']\n",
    "    - P_in: List with string values. Number of components for PCA. \n",
    "            Example: ['400']\n",
    "    \"\"\"\n",
    "    if not os.path.exists(dest_dir):\n",
    "        os.makedirs(dest_dir)\n",
    "    for nPCA in P_in:\n",
    "        for kernelType in ['linear']:\n",
    "            for c in C_in:#['0.002', '0.2', '20.0', '2e-05', '2e-07' , '2e-09' , '2e-11' , '2e-13']:\n",
    "                for epsilon in E_in:\n",
    "                    fileName='objs_'+str(nPCA)+'_kernel_'+str(kernelType)+'_c_'+str(c)+'_eps_'+str(epsilon)\n",
    "                    pooled_glob_test_pred=[]\n",
    "                    pooled_glob_test_mesID=[]\n",
    "                    for kfold in range(5):\n",
    "                        pkl_file=[]\n",
    "                        print(['Kfold: ' + str(kfold)])\n",
    "                        file_path=src_dir+str(kfold)+'/'+fileName+'.pkl'\n",
    "                        print(file_path)\n",
    "                        pickle_in = open(file_path,\"rb\")\n",
    "                        pkl_file = pickle.load(pickle_in)\n",
    "                        #print(pkl_file)\n",
    "                        pickle_in.close\n",
    "                        #print(type(pkl_file))\n",
    "                        #print(len(pkl_file))\n",
    "                        glob_test_pred=pkl_file[2]\n",
    "                        glob_test_mesID=pkl_file[-1]\n",
    "                        #print('New:')\n",
    "                        #print(len(glob_test_mesID))\n",
    "                        #print(len(np.unique(glob_test_mesID)))\n",
    "                        pooled_glob_test_pred.append(glob_test_pred)\n",
    "                        pooled_glob_test_mesID.extend(glob_test_mesID)\n",
    "                        #print('Pooled:')\n",
    "                        #print(len(pooled_glob_test_mesID))\n",
    "                        #print(len(np.unique(pooled_glob_test_mesID)))\n",
    "\n",
    "                    pooled_glob_test_pred=np.hstack(pooled_glob_test_pred)\n",
    "                    #pooled_glob_test_mesID=np.concatenate(pooled_glob_test_mesID,axis=0)\n",
    "                    #print(pooled_glob_test_mesID)\n",
    "                    df = pd.DataFrame({'measurement_id': pooled_glob_test_mesID, 'prediction':pooled_glob_test_pred})\n",
    "                    df.to_csv(dest_dir+fileName+'.csv', index=False)\n",
    "    print(dest_dir+fileName+'.csv')"
   ]
  },
  {
   "cell_type": "markdown",
   "metadata": {},
   "source": [
    "### On/Off"
   ]
  },
  {
   "cell_type": "code",
   "execution_count": null,
   "metadata": {},
   "outputs": [],
   "source": [
    "src_dir='/export/c08/lmorove1/kaldi/egs/beatPDivec/on_off_noinact_auto30/exp/ivec_450/resiVecSVR_Fold'\n",
    "dest_dir='/export/c08/lmorove1/kaldi/egs/beatPDivec/on_off_noinact_auto30/exp/ivec_450/resiVecSVR_Fold_all/'\n",
    "P_in=['400']\n",
    "C_in=['0.2']\n",
    "E_in=['0.1']\n",
    "\n",
    "generateCSVresults(src_dir, dest_dir, C_in, E_in, P_in)"
   ]
  },
  {
   "cell_type": "markdown",
   "metadata": {},
   "source": [
    "### Tremor"
   ]
  },
  {
   "cell_type": "code",
   "execution_count": null,
   "metadata": {},
   "outputs": [],
   "source": [
    "dest_dir='/export/c08/lmorove1/kaldi/egs/beatPDivec/trem_noinact_auto30/exp/ivec_450/resiVecSVR_Fold_all/'\n",
    "src_dir='/export/c08/lmorove1/kaldi/egs/beatPDivec/trem_noinact_auto30/exp/ivec_450/resiVecSVR_Fold'\n",
    "P_in=['450']\n",
    "C_in=['0.02']\n",
    "E_in=['0.1']\n",
    "\n",
    "generateCSVresults(src_dir, dest_dir, C_in, E_in, P_in)"
   ]
  },
  {
   "cell_type": "markdown",
   "metadata": {},
   "source": [
    "### Dyskinesia"
   ]
  },
  {
   "cell_type": "code",
   "execution_count": null,
   "metadata": {},
   "outputs": [],
   "source": [
    "dest_dir='/export/c08/lmorove1/kaldi/egs/beatPDivec/v1_dysk_auto/exp/ivec_500/resiVecSVR_Fold_all/'\n",
    "src_dir='/export/c08/lmorove1/kaldi/egs/beatPDivec/v1_dysk_auto/exp/ivec_500/resiVecSVR_Fold'\n",
    "P_in=['500']\n",
    "C_in=['0.002']\n",
    "E_in=['0.1']\n",
    "\n",
    "generateCSVresults(src_dir, dest_dir, C_in, E_in, P_in)"
   ]
  },
  {
   "cell_type": "markdown",
   "metadata": {},
   "source": [
    "### Dyskinesia newivectors"
   ]
  },
  {
   "cell_type": "code",
   "execution_count": null,
   "metadata": {},
   "outputs": [],
   "source": [
    "dest_dir='/export/c08/lmorove1/kaldi/egs/beatPDivec/dysk_auto30_400fl_dD/exp/ivec_550/resiVecSVR_Fold_all/'\n",
    "src_dir='/export/c08/lmorove1/kaldi/egs/beatPDivec/dysk_auto30_400fl_dD/exp/ivec_550/resiVecSVR_Fold'\n",
    "P_in=['500']\n",
    "C_in=['0.002']\n",
    "E_in=['0.1']\n",
    "\n",
    "generateCSVresults(src_dir, dest_dir, C_in, E_in, P_in)"
   ]
  },
  {
   "cell_type": "markdown",
   "metadata": {},
   "source": [
    "## SVR Per Patient"
   ]
  },
  {
   "cell_type": "code",
   "execution_count": 2,
   "metadata": {},
   "outputs": [],
   "source": [
    "def generateCSVresults_per_patient(dest_dir, src_dir, best_config):\n",
    "    \"\"\"\n",
    "    TODO \n",
    "    \n",
    "    Keyword Arguments: \n",
    "    - dest_dir: \n",
    "    - src_dir: \n",
    "    - best_config: \n",
    "    \"\"\"\n",
    "    if not os.path.exists(dest_dir):\n",
    "            os.makedirs(dest_dir)\n",
    "\n",
    "    pooled_glob_test_pred=[]\n",
    "    pooled_glob_test_mesID=[]\n",
    "        \n",
    "    # For all subject_ids \n",
    "    for pid in best_config.keys():\n",
    "        # Merge la key et le nom de objs\n",
    "        fileName = str(pid)+\"_\"+best_config[pid][0].strip('/').strip('.pkl')\n",
    "        \n",
    "        \n",
    "        for kfold in range(5):\n",
    "            pkl_file=[]\n",
    "            print(['Kfold: ' + str(kfold)])\n",
    "            file_path=src_dir+str(kfold)+'/'+fileName+'.pkl'\n",
    "            print(file_path)\n",
    "            pickle_in = open(file_path,\"rb\")\n",
    "            pkl_file = pickle.load(pickle_in)\n",
    "            #print(pkl_file)\n",
    "            pickle_in.close\n",
    "            #print(type(pkl_file))\n",
    "            #print(len(pkl_file))\n",
    "            glob_test_pred=pkl_file[2]\n",
    "            glob_test_mesID=pkl_file[-1]\n",
    "            #print('New:')\n",
    "            #print(len(glob_test_mesID))\n",
    "            #print(len(np.unique(glob_test_mesID)))\n",
    "\n",
    "            pooled_glob_test_pred.append(glob_test_pred)\n",
    "            pooled_glob_test_mesID.extend(glob_test_mesID)\n",
    "            #print('Pooled:')\n",
    "            #print(len(pooled_glob_test_mesID))\n",
    "            #print(len(np.unique(pooled_glob_test_mesID)))\n",
    "\n",
    "        pooled_glob_test_pred=np.hstack(pooled_glob_test_pred).tolist()\n",
    "\n",
    "        #pooled_glob_test_mesID=np.concatenate(pooled_glob_test_mesID,axis=0)\n",
    "        #print(pooled_glob_test_mesID)\n",
    "    df = pd.DataFrame({'measurement_id': pooled_glob_test_mesID, 'prediction':pooled_glob_test_pred})\n",
    "    df.to_csv(dest_dir+'preds_per_patient'+'.csv', index=False)\n",
    "    \n",
    "    print(dest_dir+'preds_per_patient'+'.csv')"
   ]
  },
  {
   "cell_type": "markdown",
   "metadata": {},
   "source": [
    "### On / Off"
   ]
  },
  {
   "cell_type": "markdown",
   "metadata": {},
   "source": [
    "On/Off was not done because it wasn't providing better results in our cross-validation."
   ]
  },
  {
   "cell_type": "code",
   "execution_count": null,
   "metadata": {},
   "outputs": [],
   "source": [
    "best_config = {1004: ['/objs_300_kernel_linear_c_0.002_eps_0.1.pkl', 1.0827976194111284],\n",
    " 1006: ['/objs_50_kernel_linear_c_20.0_eps_0.1.pkl', 0.2329153271765446],\n",
    " 1007: ['/objs_450_kernel_linear_c_0.2_eps_0.1.pkl', 1.4714460909882974],\n",
    " 1019: ['/objs_200_kernel_linear_c_20.0_eps_0.1.pkl', 1.8918060269492412],\n",
    " 1020: ['/objs_550_kernel_linear_c_0.002_eps_0.1.pkl', 0.886905471524307],\n",
    " 1023: ['/objs_350_kernel_linear_c_0.2_eps_0.1.pkl', 1.1596042294033257],\n",
    " 1032: ['/objs_400_kernel_linear_c_20.0_eps_0.1.pkl', 0.7281204208927649],\n",
    " 1034: ['/objs_250_kernel_linear_c_0.2_eps_0.1.pkl', 1.1144152234028197],\n",
    " 1038: ['/objs_450_kernel_linear_c_20.0_eps_0.1.pkl', 2.4487567296461563],\n",
    " 1039: ['/objs_350_kernel_linear_c_0.2_eps_0.1.pkl', 1.0717793502196455],\n",
    " 1043: ['/objs_300_kernel_linear_c_0.2_eps_0.1.pkl', 1.4289922466877871],\n",
    " 1044: ['/objs_600_kernel_linear_c_0.002_eps_0.1.pkl', 0.2380464610221433],\n",
    " 1048: ['/objs_600_kernel_linear_c_20.0_eps_0.1.pkl', 0.6105293829179457],\n",
    " 1049: ['/objs_350_kernel_linear_c_0.002_eps_0.1.pkl', 0.8740733515064113],\n",
    " 1051: ['/objs_350_kernel_linear_c_0.2_eps_0.1.pkl', 1.0917628255815726]}\n",
    "\n",
    "dest_dir='/export/b19/mpgill/kaldi/egs/beatPDivec/on_off_hpf_auto30/exp/ivec_600/resiVecPerPatientSVR_Fold_all/'\n",
    "src_dir='/export/b19/mpgill/kaldi/egs/beatPDivec/on_off_hpf_auto30/exp/ivec_600/resiVecSVR_Fold'\n",
    "\n",
    "generateCSVresults_per_patient(dest_dir, src_dir, best_config)"
   ]
  },
  {
   "cell_type": "markdown",
   "metadata": {},
   "source": [
    "### Tremor "
   ]
  },
  {
   "cell_type": "code",
   "execution_count": null,
   "metadata": {
    "scrolled": true
   },
   "outputs": [],
   "source": [
    "best_config = {1004: ['/objs_100_kernel_linear_c_0.2_eps_0.1.pkl', 1.4680014190555721],\n",
    " 1006: ['/objs_50_kernel_linear_c_2e-13_eps_0.1.pkl', 0.5181408183640623],\n",
    " 1007: ['/objs_500_kernel_linear_c_0.002_eps_0.1.pkl', 0.28865246352999413],\n",
    " 1019: ['/objs_150_kernel_linear_c_0.002_eps_0.1.pkl', 0.4394132869651092],\n",
    " 1020: ['/objs_250_kernel_linear_c_20.0_eps_0.1.pkl', 0.20200962304387957],\n",
    " 1023: ['/objs_450_kernel_linear_c_0.002_eps_0.1.pkl', 0.33852971133060844],\n",
    " 1032: ['/objs_550_kernel_linear_c_0.2_eps_0.1.pkl', 0.3050677687016101],\n",
    " 1034: ['/objs_200_kernel_linear_c_20.0_eps_0.1.pkl', 0.3368693259856197],\n",
    " 1038: ['/objs_500_kernel_linear_c_0.002_eps_0.1.pkl', 0.24267448339760042],\n",
    " 1043: ['/objs_350_kernel_linear_c_0.002_eps_0.1.pkl', 1.268591016460198],\n",
    " 1046: ['/objs_350_kernel_linear_c_0.002_eps_0.1.pkl', 0.2396070476537261],\n",
    " 1048: ['/objs_450_kernel_linear_c_2e-07_eps_0.1.pkl', 0.35171361722889516],\n",
    " 1049: ['/objs_250_kernel_linear_c_0.2_eps_0.1.pkl', 0.6654219633016787]}\n",
    "\n",
    "dest_dir='/export/c08/lmorove1/kaldi/egs/beatPDivec/trem_noinact_auto30/exp/ivec_550/resiVecPerPatientSVR_Fold_all/'\n",
    "src_dir='/export/c08/lmorove1/kaldi/egs/beatPDivec/trem_noinact_auto30/exp/ivec_550/resiVecPerPatientSVR_Fold'\n",
    "\n",
    "\n",
    "generateCSVresults_per_patient(dest_dir, src_dir, best_config)"
   ]
  },
  {
   "cell_type": "markdown",
   "metadata": {},
   "source": [
    "### New best tremor i-vector results "
   ]
  },
  {
   "cell_type": "code",
   "execution_count": null,
   "metadata": {},
   "outputs": [],
   "source": [
    "best_config = {1004: ['/objs_700_kernel_linear_c_0.002_eps_0.1.pkl', 1.531657964416419],\n",
    " 1006: ['/objs_150_kernel_linear_c_20.0_eps_0.1.pkl', 0.49171222508197227],\n",
    " 1007: ['/objs_550_kernel_linear_c_0.002_eps_0.1.pkl', 0.2995683053848717],\n",
    " 1019: ['/objs_150_kernel_linear_c_0.002_eps_0.1.pkl', 0.4495979629768781],\n",
    " 1020: ['/objs_50_kernel_linear_c_0.2_eps_0.1.pkl', 0.1958384033190276],\n",
    " 1023: ['/objs_450_kernel_linear_c_0.002_eps_0.1.pkl', 0.3492860938493334],\n",
    " 1032: ['/objs_600_kernel_linear_c_0.002_eps_0.1.pkl', 0.3071304458845056],\n",
    " 1034: ['/objs_50_kernel_linear_c_0.2_eps_0.1.pkl', 0.3220335225867783],\n",
    " 1038: ['/objs_600_kernel_linear_c_0.2_eps_0.1.pkl', 0.23897503018219704],\n",
    " 1043: ['/objs_150_kernel_linear_c_20.0_eps_0.1.pkl', 1.1227755525400551],\n",
    " 1046: ['/objs_250_kernel_linear_c_0.2_eps_0.1.pkl', 0.2349490529829686],\n",
    " 1048: ['/objs_700_kernel_linear_c_2e-07_eps_0.1.pkl', 0.3517114737593213],\n",
    " 1049: ['/objs_700_kernel_linear_c_0.002_eps_0.1.pkl', 0.6536079323072791]}\n",
    "\n",
    "dest_dir='/export/b19/mpgill/kaldi/egs/beatPDivec/trem_hpf_auto30/exp/ivec_700/resiVecSVR_Fold_all/'\n",
    "src_dir='/export/b19/mpgill/kaldi/egs/beatPDivec/trem_hpf_auto30/exp/ivec_700/resiVecSVR_Fold'\n",
    "\n",
    "\n",
    "generateCSVresults_per_patient(dest_dir, src_dir, best_config)"
   ]
  },
  {
   "cell_type": "markdown",
   "metadata": {},
   "source": [
    "### Dyskinesia"
   ]
  },
  {
   "cell_type": "code",
   "execution_count": null,
   "metadata": {},
   "outputs": [],
   "source": [
    "best_config = {1004: ['/objs_450_kernel_linear_c_0.002_eps_0.1.pkl', 1.1469489658686098],\n",
    " 1007: ['/objs_100_kernel_linear_c_0.002_eps_0.1.pkl', 0.09115239389591206],\n",
    " 1019: ['/objs_400_kernel_linear_c_0.2_eps_0.1.pkl', 0.686931370820251],\n",
    " 1023: ['/objs_300_kernel_linear_c_0.2_eps_0.1.pkl', 0.8462093717280431],\n",
    " 1034: ['/objs_100_kernel_linear_c_20.0_eps_0.1.pkl', 0.7961188257851409],\n",
    " 1038: ['/objs_450_kernel_linear_c_0.002_eps_0.1.pkl', 0.3530848340426855],\n",
    " 1039: ['/objs_450_kernel_linear_c_0.2_eps_0.1.pkl', 0.3826339325882311],\n",
    " 1043: ['/objs_300_kernel_linear_c_0.2_eps_0.1.pkl', 0.5525085362997469],\n",
    " 1044: ['/objs_50_kernel_linear_c_0.002_eps_0.1.pkl', 0.09694768640213237],\n",
    " 1048: ['/objs_650_kernel_linear_c_0.2_eps_0.1.pkl', 0.4505302952804157],\n",
    " 1049: ['/objs_250_kernel_linear_c_0.2_eps_0.1.pkl', 0.4001809543831368]}\n",
    "\n",
    "dest_dir='/export/c08/lmorove1/kaldi/egs/beatPDivec/dysk_orig_auto60_400fl/exp/ivec_650/resiVecPerPatientSVR_Fold_all/'\n",
    "src_dir='/export/c08/lmorove1/kaldi/egs/beatPDivec/dysk_orig_auto60_400fl/exp/ivec_650/resiVecPerPatientSVR_Fold'\n",
    "\n",
    "generateCSVresults_per_patient(dest_dir, src_dir, best_config)\n"
   ]
  },
  {
   "cell_type": "code",
   "execution_count": null,
   "metadata": {},
   "outputs": [],
   "source": [
    "best_config = {1004: ['/objs_450_kernel_linear_c_0.002_eps_0.1.pkl', 1.1469489658686098],\n",
    " 1007: ['/objs_100_kernel_linear_c_0.002_eps_0.1.pkl', 0.09115239389591206],\n",
    " 1019: ['/objs_400_kernel_linear_c_0.2_eps_0.1.pkl', 0.686931370820251],\n",
    " 1023: ['/objs_300_kernel_linear_c_0.2_eps_0.1.pkl', 0.8462093717280431],\n",
    " 1034: ['/objs_100_kernel_linear_c_20.0_eps_0.1.pkl', 0.7961188257851409],\n",
    " 1038: ['/objs_450_kernel_linear_c_0.002_eps_0.1.pkl', 0.3530848340426855],\n",
    " 1039: ['/objs_450_kernel_linear_c_0.2_eps_0.1.pkl', 0.3826339325882311],\n",
    " 1043: ['/objs_300_kernel_linear_c_0.2_eps_0.1.pkl', 0.5525085362997469],\n",
    " 1044: ['/objs_50_kernel_linear_c_0.002_eps_0.1.pkl', 0.09694768640213237],\n",
    " 1048: ['/objs_650_kernel_linear_c_0.2_eps_0.1.pkl', 0.4505302952804157],\n",
    " 1049: ['/objs_250_kernel_linear_c_0.2_eps_0.1.pkl', 0.4001809543831368]}\n",
    "\n",
    "dest_dir='/export/b19/mpgill/kaldi/egs/beatPDivec/dysk_orig_auto60_400fl_scratch/exp/ivec_650/resiVecSVR_Fold/'\n",
    "src_dir='/export/b19/mpgill/kaldi/egs/beatPDivec/dysk_orig_auto60_400fl_scratch/exp/ivec_650/resiVecSVR_Fold'\n",
    "\n",
    "generateCSVresults_per_patient(dest_dir, src_dir, best_config)\n"
   ]
  },
  {
   "cell_type": "markdown",
   "metadata": {},
   "source": [
    "## Dyskinesia - What was sent in the 4th submission - Params from dysk_orig_auto60 but applied on dysk_noinact_auto30 features"
   ]
  },
  {
   "cell_type": "code",
   "execution_count": null,
   "metadata": {},
   "outputs": [],
   "source": [
    "# Best config found on dysk_auto60_orig \n",
    "best_config = {1004: ['/objs_450_kernel_linear_c_0.002_eps_0.1.pkl', 1.1469489658686098],\n",
    " 1007: ['/objs_100_kernel_linear_c_0.002_eps_0.1.pkl', 0.09115239389591206],\n",
    " 1019: ['/objs_400_kernel_linear_c_0.2_eps_0.1.pkl', 0.686931370820251],\n",
    " 1023: ['/objs_300_kernel_linear_c_0.2_eps_0.1.pkl', 0.8462093717280431],\n",
    " 1034: ['/objs_100_kernel_linear_c_20.0_eps_0.1.pkl', 0.7961188257851409],\n",
    " 1038: ['/objs_450_kernel_linear_c_0.002_eps_0.1.pkl', 0.3530848340426855],\n",
    " 1039: ['/objs_450_kernel_linear_c_0.2_eps_0.1.pkl', 0.3826339325882311],\n",
    " 1043: ['/objs_300_kernel_linear_c_0.2_eps_0.1.pkl', 0.5525085362997469],\n",
    " 1044: ['/objs_50_kernel_linear_c_0.002_eps_0.1.pkl', 0.09694768640213237],\n",
    " 1048: ['/objs_650_kernel_linear_c_0.2_eps_0.1.pkl', 0.4505302952804157],\n",
    " 1049: ['/objs_250_kernel_linear_c_0.2_eps_0.1.pkl', 0.4001809543831368]}\n",
    "\n",
    "# But by mistake, we applied it on dysk_noinact_auto30 features in the 4th submission\n",
    "dest_dir='/export/c08/lmorove1/kaldi/egs/beatPDivec/dysk_noinact_auto30/exp/ivec_650/resiVecPerPatientSVR_Fold_all/'\n",
    "src_dir='/export/c08/lmorove1/kaldi/egs/beatPDivec/dysk_noinact_auto30/exp/ivec_650/resiVecSVR_Fold'\n",
    "\n",
    "generateCSVresults_per_patient(dest_dir, src_dir, best_config)\n"
   ]
  },
  {
   "cell_type": "markdown",
   "metadata": {},
   "source": [
    "## Dyskinesia - Dysk_noinact_auto30"
   ]
  },
  {
   "cell_type": "code",
   "execution_count": null,
   "metadata": {},
   "outputs": [],
   "source": [
    "# best config found on dysk_noinact_auto30\n",
    "best_config = {1004: ['/objs_550_kernel_linear_c_0.002_eps_0.1.pkl', 1.1259629967845186],\n",
    " 1007: ['/objs_150_kernel_linear_c_0.002_eps_0.1.pkl', 0.09008666568311713],\n",
    " 1019: ['/objs_500_kernel_linear_c_0.2_eps_0.1.pkl', 0.728239058772483],\n",
    " 1023: ['/objs_50_kernel_linear_c_2e-13_eps_0.1.pkl', 0.8626402821439083],\n",
    " 1034: ['/objs_100_kernel_linear_c_20.0_eps_0.1.pkl', 0.7901250257399929],\n",
    " 1038: ['/objs_500_kernel_linear_c_0.2_eps_0.1.pkl', 0.3434269008454658],\n",
    " 1039: ['/objs_650_kernel_linear_c_0.2_eps_0.1.pkl', 0.3869949731338493],\n",
    " 1043: ['/objs_400_kernel_linear_c_0.2_eps_0.1.pkl', 0.5469210567758267],\n",
    " 1044: ['/objs_100_kernel_linear_c_2e-05_eps_0.1.pkl', 0.09707586142487289],\n",
    " 1048: ['/objs_500_kernel_linear_c_20.0_eps_0.1.pkl', 0.4618833361455122],\n",
    " 1049: ['/objs_350_kernel_linear_c_0.2_eps_0.1.pkl', 0.40809179112164407]}\n",
    "\n",
    "dest_dir='/export/c08/lmorove1/kaldi/egs/beatPDivec/dysk_noinact_auto30/exp/ivec_650/resiVecPerPatientSVR_Fold_all_goodparams/'\n",
    "src_dir='/export/c08/lmorove1/kaldi/egs/beatPDivec/dysk_noinact_auto30/exp/ivec_650/resiVecSVR_Fold'\n",
    "\n",
    "generateCSVresults_per_patient(dest_dir, src_dir, best_config)\n"
   ]
  },
  {
   "cell_type": "code",
   "execution_count": null,
   "metadata": {},
   "outputs": [],
   "source": []
  }
 ],
 "metadata": {
  "kernelspec": {
   "display_name": "Python 3",
   "language": "python",
   "name": "python3"
  },
  "language_info": {
   "codemirror_mode": {
    "name": "ipython",
    "version": 3
   },
   "file_extension": ".py",
   "mimetype": "text/x-python",
   "name": "python",
   "nbconvert_exporter": "python",
   "pygments_lexer": "ipython3",
   "version": "3.7.3"
  }
 },
 "nbformat": 4,
 "nbformat_minor": 4
}
